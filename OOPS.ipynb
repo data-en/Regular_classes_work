{
 "cells": [
  {
   "cell_type": "markdown",
   "id": "0b2796c6",
   "metadata": {},
   "source": [
    "# Object-Oriented Programming "
   ]
  },
  {
   "cell_type": "code",
   "execution_count": 1,
   "id": "d1063622",
   "metadata": {},
   "outputs": [],
   "source": [
    "a = 1"
   ]
  },
  {
   "cell_type": "code",
   "execution_count": 2,
   "id": "ee9d9460",
   "metadata": {},
   "outputs": [
    {
     "name": "stdout",
     "output_type": "stream",
     "text": [
      "<class 'int'>\n"
     ]
    }
   ],
   "source": [
    "print(type(a))"
   ]
  },
  {
   "cell_type": "code",
   "execution_count": 4,
   "id": "011c6297",
   "metadata": {},
   "outputs": [
    {
     "name": "stdout",
     "output_type": "stream",
     "text": [
      "<class 'str'>\n"
     ]
    }
   ],
   "source": [
    "print(type('pwskills'))"
   ]
  },
  {
   "cell_type": "code",
   "execution_count": 5,
   "id": "9498dbdc",
   "metadata": {},
   "outputs": [],
   "source": [
    "class test:\n",
    "    pass"
   ]
  },
  {
   "cell_type": "code",
   "execution_count": 6,
   "id": "88eb640a",
   "metadata": {},
   "outputs": [
    {
     "name": "stdout",
     "output_type": "stream",
     "text": [
      "<class 'type'>\n"
     ]
    }
   ],
   "source": [
    "print(type(test))"
   ]
  },
  {
   "cell_type": "code",
   "execution_count": 7,
   "id": "6c04bc86",
   "metadata": {},
   "outputs": [],
   "source": [
    "a = test()"
   ]
  },
  {
   "cell_type": "code",
   "execution_count": 8,
   "id": "bc707384",
   "metadata": {},
   "outputs": [
    {
     "name": "stdout",
     "output_type": "stream",
     "text": [
      "<class '__main__.test'>\n"
     ]
    }
   ],
   "source": [
    "print(type(a))"
   ]
  },
  {
   "cell_type": "code",
   "execution_count": 12,
   "id": "fad80da5",
   "metadata": {},
   "outputs": [],
   "source": [
    "class pwskills:\n",
    "    def welcome_msg(self):\n",
    "        print(\"Welcome to pwskills\")"
   ]
  },
  {
   "cell_type": "code",
   "execution_count": 13,
   "id": "1c856e84",
   "metadata": {},
   "outputs": [],
   "source": [
    "rohan = pwskills()"
   ]
  },
  {
   "cell_type": "code",
   "execution_count": 14,
   "id": "32cb2cae",
   "metadata": {},
   "outputs": [
    {
     "name": "stdout",
     "output_type": "stream",
     "text": [
      "Welcome to pwskills\n"
     ]
    }
   ],
   "source": [
    "rohan.welcome_msg()"
   ]
  },
  {
   "cell_type": "markdown",
   "id": "400662d1",
   "metadata": {},
   "source": [
    "> Whenever we are creating a function inside class, we have to give one compulsory parameter that represents the instance of class as 'self'"
   ]
  },
  {
   "cell_type": "code",
   "execution_count": 15,
   "id": "e2e86959",
   "metadata": {},
   "outputs": [],
   "source": [
    "radha = pwskills()"
   ]
  },
  {
   "cell_type": "code",
   "execution_count": 16,
   "id": "7989bba9",
   "metadata": {},
   "outputs": [
    {
     "name": "stdout",
     "output_type": "stream",
     "text": [
      "Welcome to pwskills\n"
     ]
    }
   ],
   "source": [
    "radha.welcome_msg()"
   ]
  },
  {
   "cell_type": "markdown",
   "id": "e0cb7cfa",
   "metadata": {},
   "source": [
    "> It is not compulsory to name the 'self' as \"self\" all the time, it could be anything but it is preserved for the instance of class"
   ]
  },
  {
   "cell_type": "code",
   "execution_count": 25,
   "id": "66ddcb85",
   "metadata": {},
   "outputs": [],
   "source": [
    "class pwskills:\n",
    "    def welcome_msg(self,name):\n",
    "        self.name = name\n",
    "        print(\"Welcome to pwskills,{}\".format(self.name))"
   ]
  },
  {
   "cell_type": "code",
   "execution_count": 26,
   "id": "c47a8154",
   "metadata": {},
   "outputs": [],
   "source": [
    "rohan = pwskills()"
   ]
  },
  {
   "cell_type": "code",
   "execution_count": 27,
   "id": "ddc29427",
   "metadata": {},
   "outputs": [
    {
     "name": "stdout",
     "output_type": "stream",
     "text": [
      "Welcome to pwskills,Rohan\n"
     ]
    }
   ],
   "source": [
    "rohan.welcome_msg('Rohan')"
   ]
  },
  {
   "cell_type": "code",
   "execution_count": 28,
   "id": "cfdbb9aa",
   "metadata": {},
   "outputs": [],
   "source": [
    "class pwskills:\n",
    "    def __init__(self,phone_number,email_id,student_id):\n",
    "        self.phone_no = phone_number\n",
    "        self.email_id = email_id\n",
    "        self.student_id = student_id\n",
    "    def return_student_details(self):\n",
    "        print('Phone number = {}'.format(self.phone_no))\n",
    "        print('Email Id = {}'.format(self.email_id))\n",
    "        print('Student Id = {}'.format(self.student_id))"
   ]
  },
  {
   "cell_type": "code",
   "execution_count": 29,
   "id": "3ba8345e",
   "metadata": {},
   "outputs": [],
   "source": [
    "rohan = pwskills(9494859999,'rohan@gmail.com',1001)"
   ]
  },
  {
   "cell_type": "code",
   "execution_count": 30,
   "id": "7da329c6",
   "metadata": {},
   "outputs": [
    {
     "name": "stdout",
     "output_type": "stream",
     "text": [
      "Phone number = 9494859999\n",
      "Email Id = rohan@gmail.com\n",
      "Student Id = 1001\n"
     ]
    }
   ],
   "source": [
    "rohan.return_student_details()"
   ]
  },
  {
   "cell_type": "code",
   "execution_count": 32,
   "id": "c8d3a028",
   "metadata": {},
   "outputs": [
    {
     "data": {
      "text/plain": [
       "9494859999"
      ]
     },
     "execution_count": 32,
     "metadata": {},
     "output_type": "execute_result"
    }
   ],
   "source": [
    "rohan.phone_no"
   ]
  },
  {
   "cell_type": "code",
   "execution_count": 33,
   "id": "a7596449",
   "metadata": {},
   "outputs": [
    {
     "data": {
      "text/plain": [
       "'rohan@gmail.com'"
      ]
     },
     "execution_count": 33,
     "metadata": {},
     "output_type": "execute_result"
    }
   ],
   "source": [
    "rohan.email_id"
   ]
  },
  {
   "cell_type": "code",
   "execution_count": 34,
   "id": "381f7d8f",
   "metadata": {},
   "outputs": [
    {
     "data": {
      "text/plain": [
       "1001"
      ]
     },
     "execution_count": 34,
     "metadata": {},
     "output_type": "execute_result"
    }
   ],
   "source": [
    "rohan.student_id"
   ]
  },
  {
   "cell_type": "code",
   "execution_count": null,
   "id": "bfaccd09",
   "metadata": {},
   "outputs": [],
   "source": []
  }
 ],
 "metadata": {
  "kernelspec": {
   "display_name": "Python 3 (ipykernel)",
   "language": "python",
   "name": "python3"
  },
  "language_info": {
   "codemirror_mode": {
    "name": "ipython",
    "version": 3
   },
   "file_extension": ".py",
   "mimetype": "text/x-python",
   "name": "python",
   "nbconvert_exporter": "python",
   "pygments_lexer": "ipython3",
   "version": "3.10.9"
  }
 },
 "nbformat": 4,
 "nbformat_minor": 5
}
