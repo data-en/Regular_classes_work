{
 "cells": [
  {
   "cell_type": "markdown",
   "id": "025fbb65",
   "metadata": {},
   "source": [
    "# Object-Oriented Programming "
   ]
  },
  {
   "cell_type": "code",
   "execution_count": 1,
   "id": "28dbb371",
   "metadata": {},
   "outputs": [],
   "source": [
    "a = 1"
   ]
  },
  {
   "cell_type": "code",
   "execution_count": 2,
   "id": "6623dc3a",
   "metadata": {},
   "outputs": [
    {
     "name": "stdout",
     "output_type": "stream",
     "text": [
      "<class 'int'>\n"
     ]
    }
   ],
   "source": [
    "print(type(a))"
   ]
  },
  {
   "cell_type": "code",
   "execution_count": 3,
   "id": "d91386ed",
   "metadata": {},
   "outputs": [
    {
     "name": "stdout",
     "output_type": "stream",
     "text": [
      "<class 'str'>\n"
     ]
    }
   ],
   "source": [
    "print(type('pwskills'))"
   ]
  },
  {
   "cell_type": "code",
   "execution_count": 4,
   "id": "b798b083",
   "metadata": {},
   "outputs": [],
   "source": [
    "class test:\n",
    "    pass"
   ]
  },
  {
   "cell_type": "code",
   "execution_count": 5,
   "id": "655295b6",
   "metadata": {},
   "outputs": [
    {
     "name": "stdout",
     "output_type": "stream",
     "text": [
      "<class 'type'>\n"
     ]
    }
   ],
   "source": [
    "print(type(test))"
   ]
  },
  {
   "cell_type": "code",
   "execution_count": 6,
   "id": "61b08b95",
   "metadata": {},
   "outputs": [],
   "source": [
    "a = test()"
   ]
  },
  {
   "cell_type": "code",
   "execution_count": 7,
   "id": "7ce85b2e",
   "metadata": {},
   "outputs": [
    {
     "name": "stdout",
     "output_type": "stream",
     "text": [
      "<class '__main__.test'>\n"
     ]
    }
   ],
   "source": [
    "print(type(a))"
   ]
  },
  {
   "cell_type": "code",
   "execution_count": 8,
   "id": "c7d2ca81",
   "metadata": {},
   "outputs": [],
   "source": [
    "class pwskills:\n",
    "    def welcome_msg(self):\n",
    "        print(\"Welcome to pwskills\")"
   ]
  },
  {
   "cell_type": "code",
   "execution_count": 9,
   "id": "b5751ec3",
   "metadata": {},
   "outputs": [],
   "source": [
    "rohan = pwskills()"
   ]
  },
  {
   "cell_type": "code",
   "execution_count": 10,
   "id": "32b4a09e",
   "metadata": {},
   "outputs": [
    {
     "name": "stdout",
     "output_type": "stream",
     "text": [
      "Welcome to pwskills\n"
     ]
    }
   ],
   "source": [
    "rohan.welcome_msg()"
   ]
  },
  {
   "cell_type": "markdown",
   "id": "b71642fc",
   "metadata": {},
   "source": [
    "> Whenever we are creating a function inside class, we have to give one compulsory parameter that represents the instance of class as 'self'"
   ]
  },
  {
   "cell_type": "code",
   "execution_count": 11,
   "id": "370684db",
   "metadata": {},
   "outputs": [],
   "source": [
    "radha = pwskills()"
   ]
  },
  {
   "cell_type": "code",
   "execution_count": 12,
   "id": "821636b7",
   "metadata": {},
   "outputs": [
    {
     "name": "stdout",
     "output_type": "stream",
     "text": [
      "Welcome to pwskills\n"
     ]
    }
   ],
   "source": [
    "radha.welcome_msg()"
   ]
  },
  {
   "cell_type": "markdown",
   "id": "7fe0ddc6",
   "metadata": {},
   "source": [
    "> It is not compulsory to name the 'self' as \"self\" all the time, it could be anything but it is preserved for the instance of class"
   ]
  },
  {
   "cell_type": "code",
   "execution_count": 13,
   "id": "e10ce475",
   "metadata": {},
   "outputs": [],
   "source": [
    "class pwskills:\n",
    "    def welcome_msg(self,name):\n",
    "        self.name = name\n",
    "        print(\"Welcome to pwskills,{}\".format(self.name))"
   ]
  },
  {
   "cell_type": "code",
   "execution_count": 14,
   "id": "44f8f8fe",
   "metadata": {},
   "outputs": [],
   "source": [
    "rohan = pwskills()"
   ]
  },
  {
   "cell_type": "code",
   "execution_count": 15,
   "id": "181a4a4a",
   "metadata": {},
   "outputs": [
    {
     "name": "stdout",
     "output_type": "stream",
     "text": [
      "Welcome to pwskills,Rohan\n"
     ]
    }
   ],
   "source": [
    "rohan.welcome_msg('Rohan')"
   ]
  },
  {
   "cell_type": "code",
   "execution_count": 16,
   "id": "55be79df",
   "metadata": {},
   "outputs": [],
   "source": [
    "class pwskills:\n",
    "    def __init__(self,phone_number,email_id,student_id):\n",
    "        self.phone_no = phone_number # This self is taken in consideration whenever we try to access any particular information\n",
    "        self.email_id = email_id\n",
    "        self.student_id = student_id\n",
    "    def return_student_details(self):\n",
    "        print('Phone number = {}'.format(self.phone_no))#(This should be equal to above self)\n",
    "        print('Email Id = {}'.format(self.email_id))\n",
    "        print('Student Id = {}'.format(self.student_id))"
   ]
  },
  {
   "cell_type": "code",
   "execution_count": 17,
   "id": "e007a539",
   "metadata": {},
   "outputs": [],
   "source": [
    "rohan = pwskills(9494859999,'rohan@gmail.com',1001)"
   ]
  },
  {
   "cell_type": "code",
   "execution_count": 18,
   "id": "0b1c594e",
   "metadata": {},
   "outputs": [
    {
     "name": "stdout",
     "output_type": "stream",
     "text": [
      "Phone number = 9494859999\n",
      "Email Id = rohan@gmail.com\n",
      "Student Id = 1001\n"
     ]
    }
   ],
   "source": [
    "rohan.return_student_details()"
   ]
  },
  {
   "cell_type": "code",
   "execution_count": 19,
   "id": "3de62d07",
   "metadata": {},
   "outputs": [
    {
     "data": {
      "text/plain": [
       "9494859999"
      ]
     },
     "execution_count": 19,
     "metadata": {},
     "output_type": "execute_result"
    }
   ],
   "source": [
    "rohan.phone_no"
   ]
  },
  {
   "cell_type": "code",
   "execution_count": 20,
   "id": "cbf31b65",
   "metadata": {},
   "outputs": [
    {
     "data": {
      "text/plain": [
       "'rohan@gmail.com'"
      ]
     },
     "execution_count": 20,
     "metadata": {},
     "output_type": "execute_result"
    }
   ],
   "source": [
    "rohan.email_id"
   ]
  },
  {
   "cell_type": "code",
   "execution_count": 21,
   "id": "f55e3d70",
   "metadata": {},
   "outputs": [
    {
     "data": {
      "text/plain": [
       "1001"
      ]
     },
     "execution_count": 21,
     "metadata": {},
     "output_type": "execute_result"
    }
   ],
   "source": [
    "rohan.student_id"
   ]
  },
  {
   "cell_type": "code",
   "execution_count": 22,
   "id": "41420d1b",
   "metadata": {},
   "outputs": [],
   "source": [
    "class course:\n",
    "    def __init__(self,course_name,start_date,start_month,start_yr,support_email):\n",
    "        self.course_nm = course_name\n",
    "        self.start_dt = start_date\n",
    "        self.month = start_month\n",
    "        self.yr = start_yr\n",
    "        self.email = support_email\n",
    "\n",
    "    def return_course_details(self):\n",
    "        return self.course_nm,self.start_dt,self.month,self.yr,self.email"
   ]
  },
  {
   "cell_type": "code",
   "execution_count": 23,
   "id": "416a9476",
   "metadata": {},
   "outputs": [],
   "source": [
    "Manish = course('Data Science Masters 2.0',6,'June',2023,'manish@gmail.com')"
   ]
  },
  {
   "cell_type": "code",
   "execution_count": 24,
   "id": "d9e5f96a",
   "metadata": {},
   "outputs": [
    {
     "data": {
      "text/plain": [
       "('Data Science Masters 2.0', 6, 'June', 2023, 'manish@gmail.com')"
      ]
     },
     "execution_count": 24,
     "metadata": {},
     "output_type": "execute_result"
    }
   ],
   "source": [
    "Manish.return_course_details()"
   ]
  },
  {
   "cell_type": "code",
   "execution_count": 25,
   "id": "7be5cc67",
   "metadata": {},
   "outputs": [],
   "source": [
    "class add:\n",
    "    def __init__(self,a,b):\n",
    "        self.a = a\n",
    "        self.b = b\n",
    "    def addition(self):\n",
    "        return self.a+self.b"
   ]
  },
  {
   "cell_type": "code",
   "execution_count": 26,
   "id": "a0c4a891",
   "metadata": {},
   "outputs": [],
   "source": [
    "p = add(3456,7890)"
   ]
  },
  {
   "cell_type": "code",
   "execution_count": 27,
   "id": "052f1e0f",
   "metadata": {},
   "outputs": [
    {
     "data": {
      "text/plain": [
       "11346"
      ]
     },
     "execution_count": 27,
     "metadata": {},
     "output_type": "execute_result"
    }
   ],
   "source": [
    "p.addition()"
   ]
  },
  {
   "cell_type": "code",
   "execution_count": 28,
   "id": "9cd3b89b",
   "metadata": {},
   "outputs": [
    {
     "data": {
      "text/plain": [
       "11346"
      ]
     },
     "execution_count": 28,
     "metadata": {},
     "output_type": "execute_result"
    }
   ],
   "source": [
    "3456+7890"
   ]
  },
  {
   "cell_type": "code",
   "execution_count": 29,
   "id": "2d9dfc16",
   "metadata": {},
   "outputs": [],
   "source": [
    "class Rectangle:\n",
    "    def __init__(self,breadth,height):\n",
    "        self.b = breadth\n",
    "        self.h = height\n",
    "    def area(self):\n",
    "        area_of_rectangle = self.b * self.h\n",
    "        print(\"Area of Rectangle of breadth {} and height {} is {}\".format(self.b,self.h,area_of_rectangle))"
   ]
  },
  {
   "cell_type": "code",
   "execution_count": 30,
   "id": "db1103d6",
   "metadata": {},
   "outputs": [],
   "source": [
    "a = Rectangle(2,4)"
   ]
  },
  {
   "cell_type": "code",
   "execution_count": 31,
   "id": "1c062eaf",
   "metadata": {},
   "outputs": [
    {
     "name": "stdout",
     "output_type": "stream",
     "text": [
      "Area of Rectangle of breadth 2 and height 4 is 8\n"
     ]
    }
   ],
   "source": [
    "a.area()"
   ]
  },
  {
   "cell_type": "markdown",
   "id": "6150ebfc",
   "metadata": {},
   "source": [
    "# Polymorphishm"
   ]
  },
  {
   "cell_type": "markdown",
   "id": "a0275325",
   "metadata": {},
   "source": [
    "> Polymorphishm --> many forms/states"
   ]
  },
  {
   "cell_type": "code",
   "execution_count": 32,
   "id": "28b85f3d",
   "metadata": {},
   "outputs": [],
   "source": [
    "def test(a,b):\n",
    "    return a+b"
   ]
  },
  {
   "cell_type": "code",
   "execution_count": 33,
   "id": "46002df7",
   "metadata": {},
   "outputs": [
    {
     "data": {
      "text/plain": [
       "3"
      ]
     },
     "execution_count": 33,
     "metadata": {},
     "output_type": "execute_result"
    }
   ],
   "source": [
    "test(1,2)"
   ]
  },
  {
   "cell_type": "code",
   "execution_count": 34,
   "id": "b429827c",
   "metadata": {},
   "outputs": [
    {
     "data": {
      "text/plain": [
       "'pwskillsdata science course'"
      ]
     },
     "execution_count": 34,
     "metadata": {},
     "output_type": "execute_result"
    }
   ],
   "source": [
    "test('pwskills','data science course')"
   ]
  },
  {
   "cell_type": "code",
   "execution_count": 35,
   "id": "d087800e",
   "metadata": {},
   "outputs": [
    {
     "data": {
      "text/plain": [
       "'PWSkills'"
      ]
     },
     "execution_count": 35,
     "metadata": {},
     "output_type": "execute_result"
    }
   ],
   "source": [
    "test('PW','Skills') # Concatenation Operation"
   ]
  },
  {
   "cell_type": "code",
   "execution_count": 36,
   "id": "3fcdd530",
   "metadata": {},
   "outputs": [
    {
     "data": {
      "text/plain": [
       "[1, 2, 3, 4, 5, 6, 7, 8]"
      ]
     },
     "execution_count": 36,
     "metadata": {},
     "output_type": "execute_result"
    }
   ],
   "source": [
    "test([1,2,3,4],[5,6,7,8])"
   ]
  },
  {
   "cell_type": "markdown",
   "id": "19debcc3",
   "metadata": {},
   "source": [
    "> Above user defined test(a,b) function is, we can say it as Polymorphism."
   ]
  },
  {
   "cell_type": "code",
   "execution_count": 37,
   "id": "48020edc",
   "metadata": {},
   "outputs": [],
   "source": [
    "class Datascience:\n",
    "    def syllabus(self):\n",
    "        print(\"This is my function for DataScience\")"
   ]
  },
  {
   "cell_type": "code",
   "execution_count": 38,
   "id": "06d82b8f",
   "metadata": {},
   "outputs": [],
   "source": [
    "class web_dev:\n",
    "    def syllabus(self):\n",
    "        print(\"This is my function for WebDev\")"
   ]
  },
  {
   "cell_type": "code",
   "execution_count": 39,
   "id": "51c6a689",
   "metadata": {},
   "outputs": [],
   "source": [
    "obj_data_science = Datascience()"
   ]
  },
  {
   "cell_type": "code",
   "execution_count": 40,
   "id": "8c8bbd13",
   "metadata": {},
   "outputs": [],
   "source": [
    "def class_parcer(class_obj):\n",
    "    for i in class_obj:\n",
    "        i.syllabus()"
   ]
  },
  {
   "cell_type": "code",
   "execution_count": 41,
   "id": "4209822e",
   "metadata": {},
   "outputs": [],
   "source": [
    "obj_web_dev = web_dev()"
   ]
  },
  {
   "cell_type": "code",
   "execution_count": 42,
   "id": "b2f80fe5",
   "metadata": {},
   "outputs": [],
   "source": [
    "class_obj = [obj_data_science,obj_web_dev]"
   ]
  },
  {
   "cell_type": "code",
   "execution_count": 43,
   "id": "0fc22741",
   "metadata": {},
   "outputs": [
    {
     "name": "stdout",
     "output_type": "stream",
     "text": [
      "This is my function for DataScience\n",
      "This is my function for WebDev\n"
     ]
    }
   ],
   "source": [
    "class_parcer(class_obj)"
   ]
  },
  {
   "cell_type": "markdown",
   "id": "bc87ecac",
   "metadata": {},
   "source": [
    "#### Another example of Polymorphism -->"
   ]
  },
  {
   "cell_type": "code",
   "execution_count": 44,
   "id": "600be494",
   "metadata": {},
   "outputs": [],
   "source": [
    "class Rectangle:\n",
    "    def __init__(self,b,h):\n",
    "        self.b = b\n",
    "        self.h = h\n",
    "    def area(self):\n",
    "        area = self.b * self.h\n",
    "        print(\"Area of Rectangle is {}\".format(area))"
   ]
  },
  {
   "cell_type": "code",
   "execution_count": 45,
   "id": "6ce8bc1a",
   "metadata": {},
   "outputs": [],
   "source": [
    "class Circle : \n",
    "    def __init__(self,radius):\n",
    "        self.r = radius\n",
    "    \n",
    "    def area(self):\n",
    "        area = 3.14*(self.r**2)\n",
    "        print(\"Area of Circle is {}\".format(area))"
   ]
  },
  {
   "cell_type": "code",
   "execution_count": 46,
   "id": "6100b7c0",
   "metadata": {},
   "outputs": [],
   "source": [
    "obj_rectangle = Rectangle(3,4)"
   ]
  },
  {
   "cell_type": "code",
   "execution_count": 47,
   "id": "d1a89eb6",
   "metadata": {},
   "outputs": [],
   "source": [
    "obj_circle = Circle(2)"
   ]
  },
  {
   "cell_type": "code",
   "execution_count": 48,
   "id": "d3630acd",
   "metadata": {},
   "outputs": [],
   "source": [
    "def class_parser(class_obj):\n",
    "    for i in class_obj:\n",
    "        i.area()\n",
    "      # i.circumference"
   ]
  },
  {
   "cell_type": "code",
   "execution_count": 49,
   "id": "ceee88d9",
   "metadata": {},
   "outputs": [],
   "source": [
    "class_obj = [obj_rectangle,obj_circle]"
   ]
  },
  {
   "cell_type": "code",
   "execution_count": 50,
   "id": "f9b2bc0b",
   "metadata": {},
   "outputs": [
    {
     "name": "stdout",
     "output_type": "stream",
     "text": [
      "Area of Rectangle is 12\n",
      "Area of Circle is 12.56\n"
     ]
    }
   ],
   "source": [
    "class_parser(class_obj)"
   ]
  },
  {
   "cell_type": "markdown",
   "id": "fe968447",
   "metadata": {},
   "source": [
    "# ENCAPSULATION"
   ]
  },
  {
   "cell_type": "markdown",
   "id": "517e855e",
   "metadata": {},
   "source": [
    "> Encapsulation --> It is an idea which will allow you to prevent direct access of data or direct modication of data in OOPS programming concept."
   ]
  },
  {
   "cell_type": "markdown",
   "id": "ddb64408",
   "metadata": {},
   "source": [
    "> For privacy purpose,Encapsulation comes into a Picture."
   ]
  },
  {
   "cell_type": "code",
   "execution_count": 51,
   "id": "4edaea32",
   "metadata": {},
   "outputs": [],
   "source": [
    "class test:\n",
    "    def __init__(self,a,b):\n",
    "        self.a = a \n",
    "        self.b = b"
   ]
  },
  {
   "cell_type": "code",
   "execution_count": 52,
   "id": "eecd901f",
   "metadata": {},
   "outputs": [],
   "source": [
    "p = test(56,77)"
   ]
  },
  {
   "cell_type": "code",
   "execution_count": 53,
   "id": "fb696b96",
   "metadata": {},
   "outputs": [
    {
     "data": {
      "text/plain": [
       "56"
      ]
     },
     "execution_count": 53,
     "metadata": {},
     "output_type": "execute_result"
    }
   ],
   "source": [
    "p.a"
   ]
  },
  {
   "cell_type": "code",
   "execution_count": 54,
   "id": "f4dcf3b2",
   "metadata": {},
   "outputs": [
    {
     "data": {
      "text/plain": [
       "77"
      ]
     },
     "execution_count": 54,
     "metadata": {},
     "output_type": "execute_result"
    }
   ],
   "source": [
    "p.b"
   ]
  },
  {
   "cell_type": "code",
   "execution_count": 55,
   "id": "90da44a9",
   "metadata": {},
   "outputs": [],
   "source": [
    "p.a = 85"
   ]
  },
  {
   "cell_type": "code",
   "execution_count": 56,
   "id": "b2dffa8c",
   "metadata": {},
   "outputs": [
    {
     "data": {
      "text/plain": [
       "85"
      ]
     },
     "execution_count": 56,
     "metadata": {},
     "output_type": "execute_result"
    }
   ],
   "source": [
    "p.a"
   ]
  },
  {
   "cell_type": "markdown",
   "id": "751468e9",
   "metadata": {},
   "source": [
    "> Direct access and direct modification is allowed in the class by anyone, but sometimes it could harm our data also."
   ]
  },
  {
   "cell_type": "code",
   "execution_count": 57,
   "id": "2844b9c3",
   "metadata": {},
   "outputs": [],
   "source": [
    "class car : \n",
    "    def __init__(self,bought_yr,colour,no_of_cylinders,variant):\n",
    "        self.__yr = bought_yr\n",
    "        self.__color = colour\n",
    "        self.__cylinders = no_of_cylinders\n",
    "        self.__variant = variant\n",
    "    def set_bought_yr(self,bought_yr):\n",
    "        self.__bought_yr = 2022 if bought_yr==2022 else 2023\n",
    "    def get_bought_yr(self):\n",
    "        return self.__bought_yr\n",
    "    def set_colour(self,color):\n",
    "        self.__color = 'White' if color == 'w' else color\n",
    "    def get_colour(self):\n",
    "        return self.__color\n",
    "    def set_variant(self,variant):\n",
    "        self.__variant = 'petrol' if variant=='petrol' else variant\n",
    "    def get_variant(self):\n",
    "        return self.__variant\n",
    "    "
   ]
  },
  {
   "cell_type": "code",
   "execution_count": 58,
   "id": "ccda16ac",
   "metadata": {},
   "outputs": [],
   "source": [
    "obj_car = car(2022,'White',3,'petrol')"
   ]
  },
  {
   "cell_type": "code",
   "execution_count": 59,
   "id": "508fb5c6",
   "metadata": {},
   "outputs": [
    {
     "ename": "AttributeError",
     "evalue": "'car' object has no attribute '__yr'",
     "output_type": "error",
     "traceback": [
      "\u001b[1;31m---------------------------------------------------------------------------\u001b[0m",
      "\u001b[1;31mAttributeError\u001b[0m                            Traceback (most recent call last)",
      "Cell \u001b[1;32mIn[59], line 1\u001b[0m\n\u001b[1;32m----> 1\u001b[0m \u001b[43mobj_car\u001b[49m\u001b[38;5;241;43m.\u001b[39;49m\u001b[43m__yr\u001b[49m\n",
      "\u001b[1;31mAttributeError\u001b[0m: 'car' object has no attribute '__yr'"
     ]
    }
   ],
   "source": [
    "obj_car.__yr"
   ]
  },
  {
   "cell_type": "code",
   "execution_count": null,
   "id": "b485b66f",
   "metadata": {},
   "outputs": [],
   "source": [
    "obj_car._car__yr"
   ]
  },
  {
   "cell_type": "markdown",
   "id": "c3502b35",
   "metadata": {},
   "source": [
    "> __(double underscore) makes that specific method as private, it is not public, we can access it only with some special features like _car before providing the method to the object after dot(.)"
   ]
  },
  {
   "cell_type": "markdown",
   "id": "3bded011",
   "metadata": {},
   "source": [
    "> Only manufacturer can access this private variables"
   ]
  },
  {
   "cell_type": "code",
   "execution_count": null,
   "id": "f0b8f346",
   "metadata": {},
   "outputs": [],
   "source": [
    "obj_car.set_variant('diesel')"
   ]
  },
  {
   "cell_type": "code",
   "execution_count": null,
   "id": "ff94c539",
   "metadata": {},
   "outputs": [],
   "source": [
    "obj_car._car__variant"
   ]
  },
  {
   "cell_type": "code",
   "execution_count": null,
   "id": "4e37e13b",
   "metadata": {},
   "outputs": [],
   "source": [
    "obj_car.get_variant()"
   ]
  },
  {
   "cell_type": "code",
   "execution_count": null,
   "id": "d4112b24",
   "metadata": {},
   "outputs": [],
   "source": [
    "obj_car.get_colour()"
   ]
  },
  {
   "cell_type": "code",
   "execution_count": null,
   "id": "7273dc25",
   "metadata": {},
   "outputs": [],
   "source": [
    "obj_car.set_colour('Blue')"
   ]
  },
  {
   "cell_type": "code",
   "execution_count": null,
   "id": "3f7c0fa8",
   "metadata": {},
   "outputs": [],
   "source": [
    "obj_car.get_colour()"
   ]
  },
  {
   "cell_type": "code",
   "execution_count": null,
   "id": "46b3574b",
   "metadata": {},
   "outputs": [],
   "source": [
    "print('manyog')"
   ]
  },
  {
   "cell_type": "code",
   "execution_count": null,
   "id": "f0d4f48a",
   "metadata": {},
   "outputs": [],
   "source": [
    "# Bank_details\n",
    "class Bank:\n",
    "    def __init__(self,balance):\n",
    "        self.__bal = balance\n",
    "    def deposit(self,amount):\n",
    "        self.__bal = self.__bal + amount \n",
    "        print(\"Amount deposited\")\n",
    "    def withdraw(self,amount):\n",
    "        if self.__bal>=amount:\n",
    "            self.__bal = self.__bal - amount\n",
    "            print(\"Amount withdrawn\")\n",
    "        else : \n",
    "            print(\"Amound can't be withdrawn\")\n",
    "    def get_balance(self):\n",
    "        return self.__bal"
   ]
  },
  {
   "cell_type": "code",
   "execution_count": null,
   "id": "4047447d",
   "metadata": {},
   "outputs": [],
   "source": [
    "a = Bank(60000)"
   ]
  },
  {
   "cell_type": "code",
   "execution_count": null,
   "id": "db788967",
   "metadata": {},
   "outputs": [],
   "source": [
    "a._Bank__bal # This is only for manufacturer"
   ]
  },
  {
   "cell_type": "code",
   "execution_count": null,
   "id": "586f5514",
   "metadata": {},
   "outputs": [],
   "source": [
    "a.get_balance()"
   ]
  },
  {
   "cell_type": "code",
   "execution_count": null,
   "id": "6024b252",
   "metadata": {},
   "outputs": [],
   "source": [
    "a.deposit(8500)"
   ]
  },
  {
   "cell_type": "code",
   "execution_count": null,
   "id": "e7acfc21",
   "metadata": {},
   "outputs": [],
   "source": [
    "a.withdraw(2500)"
   ]
  },
  {
   "cell_type": "code",
   "execution_count": null,
   "id": "9c912a58",
   "metadata": {},
   "outputs": [],
   "source": [
    "a.get_balance()"
   ]
  },
  {
   "cell_type": "markdown",
   "id": "51dbfea2",
   "metadata": {},
   "source": [
    "# Inheritance"
   ]
  },
  {
   "cell_type": "code",
   "execution_count": null,
   "id": "3587d227",
   "metadata": {},
   "outputs": [],
   "source": [
    "class parent : \n",
    "    def test1(self):\n",
    "        print('This is the parent class')"
   ]
  },
  {
   "cell_type": "code",
   "execution_count": null,
   "id": "ad1ccb23",
   "metadata": {},
   "outputs": [],
   "source": [
    "class child(parent):\n",
    "    def test(self):\n",
    "        print(\"This is the child class\")"
   ]
  },
  {
   "cell_type": "code",
   "execution_count": null,
   "id": "06e71322",
   "metadata": {},
   "outputs": [],
   "source": [
    "obj_parent = parent()"
   ]
  },
  {
   "cell_type": "code",
   "execution_count": null,
   "id": "2efc328f",
   "metadata": {},
   "outputs": [],
   "source": [
    "obj_child = child()"
   ]
  },
  {
   "cell_type": "code",
   "execution_count": null,
   "id": "87340d6f",
   "metadata": {},
   "outputs": [],
   "source": [
    "obj_parent.test1()"
   ]
  },
  {
   "cell_type": "code",
   "execution_count": null,
   "id": "b02cb93d",
   "metadata": {},
   "outputs": [],
   "source": [
    "obj_child.test1()\n",
    "obj_child.test()"
   ]
  },
  {
   "cell_type": "markdown",
   "id": "b1c82f1c",
   "metadata": {},
   "source": [
    "## MULTILEVEL INHERITANCE"
   ]
  },
  {
   "cell_type": "code",
   "execution_count": null,
   "id": "0c0d3f59",
   "metadata": {},
   "outputs": [],
   "source": [
    "class class1:\n",
    "    def test_class1(self):\n",
    "        print(\"This is class1\")"
   ]
  },
  {
   "cell_type": "code",
   "execution_count": null,
   "id": "8b028349",
   "metadata": {},
   "outputs": [],
   "source": [
    "class class2(class1):\n",
    "    def test_class2(self):\n",
    "        print(\"This is class2\")"
   ]
  },
  {
   "cell_type": "code",
   "execution_count": null,
   "id": "5c6ce854",
   "metadata": {},
   "outputs": [],
   "source": [
    "class class3(class2):\n",
    "    def test_class3(self):\n",
    "        print(\"This is class3\")"
   ]
  },
  {
   "cell_type": "code",
   "execution_count": null,
   "id": "82a3dbf2",
   "metadata": {},
   "outputs": [],
   "source": [
    "obj_class1 = class1()\n",
    "obj_class2 = class2()\n",
    "obj_class3 = class3()"
   ]
  },
  {
   "cell_type": "code",
   "execution_count": null,
   "id": "9aefdf66",
   "metadata": {},
   "outputs": [],
   "source": [
    "obj_class1.test_class1()"
   ]
  },
  {
   "cell_type": "code",
   "execution_count": null,
   "id": "1f137e3c",
   "metadata": {},
   "outputs": [],
   "source": [
    "obj_class2.test_class1()\n",
    "obj_class2.test_class2()"
   ]
  },
  {
   "cell_type": "code",
   "execution_count": null,
   "id": "b08a8e96",
   "metadata": {},
   "outputs": [],
   "source": [
    "obj_class3.test_class1()\n",
    "obj_class3.test_class2()\n",
    "obj_class3.test_class3()"
   ]
  },
  {
   "cell_type": "markdown",
   "id": "7da897f5",
   "metadata": {},
   "source": [
    "## MULTIPLE INHERITANCE"
   ]
  },
  {
   "cell_type": "code",
   "execution_count": null,
   "id": "36678150",
   "metadata": {},
   "outputs": [],
   "source": [
    "class class1:\n",
    "    def test_class1(self):\n",
    "        print(\"This is my class 1\")"
   ]
  },
  {
   "cell_type": "code",
   "execution_count": null,
   "id": "9cfbfc5d",
   "metadata": {},
   "outputs": [],
   "source": [
    "class class2:\n",
    "    def test_class2(self):\n",
    "        print(\"This is my class 2\")"
   ]
  },
  {
   "cell_type": "code",
   "execution_count": null,
   "id": "3017f4db",
   "metadata": {},
   "outputs": [],
   "source": [
    "class class3(class1,class2):\n",
    "    def test_class3(self):\n",
    "        print(\"This is the class which inherits the property of 'class1' and 'class2',which then decides according to the output that this is a multiple inheritance or not.\")"
   ]
  },
  {
   "cell_type": "code",
   "execution_count": null,
   "id": "56dbd590",
   "metadata": {},
   "outputs": [],
   "source": [
    "obj_class1 = class1()\n",
    "obj_class2 = class2()\n",
    "obj_class3 = class3()"
   ]
  },
  {
   "cell_type": "code",
   "execution_count": null,
   "id": "1b578255",
   "metadata": {},
   "outputs": [],
   "source": [
    "obj_class1.test_class1()"
   ]
  },
  {
   "cell_type": "code",
   "execution_count": null,
   "id": "2d48988d",
   "metadata": {},
   "outputs": [],
   "source": [
    "obj_class2.test_class2()"
   ]
  },
  {
   "cell_type": "code",
   "execution_count": null,
   "id": "ff168586",
   "metadata": {},
   "outputs": [],
   "source": [
    "obj_class3.test_class1()\n",
    "obj_class3.test_class2()\n",
    "obj_class3.test_class3()"
   ]
  },
  {
   "cell_type": "markdown",
   "id": "0b82d9cb",
   "metadata": {},
   "source": [
    "# ABSTRACTION"
   ]
  },
  {
   "cell_type": "markdown",
   "id": "e5d0fc4a",
   "metadata": {},
   "source": [
    "> Abstraction --> Abstraction is nothing but a blueprint that is used to create a structure for a particular class "
   ]
  },
  {
   "cell_type": "code",
   "execution_count": null,
   "id": "2eafa5fe",
   "metadata": {},
   "outputs": [],
   "source": [
    "import abc\n",
    "class pwskills: \n",
    "    \n",
    "    @abc.abstractmethod\n",
    "    def student_details(self):\n",
    "        pass\n",
    "    \n",
    "    @abc.abstractmethod\n",
    "    def student_assignments(self):\n",
    "        pass\n",
    "    \n",
    "    @abc.abstractmethod\n",
    "    def student_marks(self):\n",
    "        pass"
   ]
  },
  {
   "cell_type": "code",
   "execution_count": null,
   "id": "a202db66",
   "metadata": {},
   "outputs": [],
   "source": [
    "class DataScience(pwskills):\n",
    "    def student_details(self):\n",
    "        print(\"This is a section for student details of class DSM\")\n",
    "    def student_assignments(self):\n",
    "        print(\"This is the section for student assignment details of class DSM\")"
   ]
  },
  {
   "cell_type": "code",
   "execution_count": null,
   "id": "dba810a9",
   "metadata": {},
   "outputs": [],
   "source": [
    "class WebDev(pwskills):\n",
    "    def student_details(self):\n",
    "        return \" This is a section for student details of web-dev class\"\n",
    "    def student_marks(self):\n",
    "        print(\"This is a section for student's marks details of web-dev class\")"
   ]
  },
  {
   "cell_type": "code",
   "execution_count": null,
   "id": "9ac8176d",
   "metadata": {},
   "outputs": [],
   "source": [
    "obj_ds = DataScience()"
   ]
  },
  {
   "cell_type": "code",
   "execution_count": null,
   "id": "7be76554",
   "metadata": {},
   "outputs": [],
   "source": [
    "obj_ds.student_details()"
   ]
  },
  {
   "cell_type": "code",
   "execution_count": null,
   "id": "3edd147d",
   "metadata": {},
   "outputs": [],
   "source": [
    "obj_ds.student_assignments()"
   ]
  },
  {
   "cell_type": "code",
   "execution_count": null,
   "id": "c7f1be6f",
   "metadata": {},
   "outputs": [],
   "source": [
    "wd = WebDev()"
   ]
  },
  {
   "cell_type": "code",
   "execution_count": null,
   "id": "0864787a",
   "metadata": {},
   "outputs": [],
   "source": [
    "wd.student_details()"
   ]
  },
  {
   "cell_type": "code",
   "execution_count": null,
   "id": "db4d1e83",
   "metadata": {},
   "outputs": [],
   "source": [
    "wd.student_marks()"
   ]
  },
  {
   "cell_type": "code",
   "execution_count": null,
   "id": "e77f7708",
   "metadata": {},
   "outputs": [],
   "source": [
    "# Decorators "
   ]
  },
  {
   "cell_type": "code",
   "execution_count": null,
   "id": "103358f9",
   "metadata": {},
   "outputs": [],
   "source": [
    "def test():\n",
    "    print(\"This is the start of my function\")\n",
    "    print(4+6)\n",
    "    print(\"This is the end of my function\")\n",
    "    "
   ]
  },
  {
   "cell_type": "code",
   "execution_count": null,
   "id": "f85e3218",
   "metadata": {},
   "outputs": [],
   "source": [
    "test()"
   ]
  },
  {
   "cell_type": "code",
   "execution_count": null,
   "id": "f71475b4",
   "metadata": {},
   "outputs": [],
   "source": [
    "def deco(func):\n",
    "    def inner_deco():\n",
    "        print(\"This is the start of my function\")\n",
    "        print(\"---------------------------------\")\n",
    "        func()\n",
    "        print(\"---------------------------------\")\n",
    "        print(\"This is the end of my function\")\n",
    "    return inner_deco"
   ]
  },
  {
   "cell_type": "code",
   "execution_count": null,
   "id": "342436c1",
   "metadata": {},
   "outputs": [],
   "source": [
    "@deco\n",
    "def test1():\n",
    "    print(\"Here we use our first deco function\")"
   ]
  },
  {
   "cell_type": "code",
   "execution_count": null,
   "id": "4c058803",
   "metadata": {},
   "outputs": [],
   "source": [
    "test1()"
   ]
  },
  {
   "cell_type": "code",
   "execution_count": null,
   "id": "86868fd4",
   "metadata": {},
   "outputs": [],
   "source": [
    "test1()"
   ]
  },
  {
   "cell_type": "code",
   "execution_count": null,
   "id": "37a7eb85",
   "metadata": {},
   "outputs": [],
   "source": [
    "@deco\n",
    "def test2():\n",
    "    print(\"I love Coding in Python\")"
   ]
  },
  {
   "cell_type": "code",
   "execution_count": null,
   "id": "9a18d3ed",
   "metadata": {},
   "outputs": [],
   "source": [
    "test2()"
   ]
  },
  {
   "cell_type": "code",
   "execution_count": null,
   "id": "8357dbb3",
   "metadata": {},
   "outputs": [],
   "source": [
    "@deco\n",
    "def test3():\n",
    "    print('''This is \n",
    "    a Multiline \n",
    "    String''')"
   ]
  },
  {
   "cell_type": "code",
   "execution_count": null,
   "id": "fdb7f8ba",
   "metadata": {},
   "outputs": [],
   "source": [
    "test3()"
   ]
  },
  {
   "cell_type": "code",
   "execution_count": null,
   "id": "bae72fd2",
   "metadata": {},
   "outputs": [],
   "source": [
    "# For letting know execution time\n",
    "import time\n",
    "def timer_test(func):\n",
    "    def timer_test_inner():\n",
    "        start = time.time()\n",
    "        func()\n",
    "        end = time.time()\n",
    "        print(end-start)\n",
    "    return timer_test_inner"
   ]
  },
  {
   "cell_type": "code",
   "execution_count": null,
   "id": "6cd39af5",
   "metadata": {},
   "outputs": [],
   "source": [
    "@timer_test\n",
    "def test2():\n",
    "    print(\"I love Coding in Python\")"
   ]
  },
  {
   "cell_type": "code",
   "execution_count": null,
   "id": "9fafff4a",
   "metadata": {},
   "outputs": [],
   "source": [
    "test2()"
   ]
  },
  {
   "cell_type": "code",
   "execution_count": null,
   "id": "ccced4f6",
   "metadata": {},
   "outputs": [],
   "source": [
    "@timer_test\n",
    "def test3():\n",
    "    print('''This is \n",
    "    a Multiline \n",
    "    String''')"
   ]
  },
  {
   "cell_type": "code",
   "execution_count": null,
   "id": "afc80e6e",
   "metadata": {},
   "outputs": [],
   "source": [
    "test3()"
   ]
  },
  {
   "cell_type": "code",
   "execution_count": null,
   "id": "52e72f0f",
   "metadata": {},
   "outputs": [],
   "source": [
    "@timer_test\n",
    "def test4():\n",
    "    print(45+67)\n",
    "    "
   ]
  },
  {
   "cell_type": "code",
   "execution_count": null,
   "id": "736e72d6",
   "metadata": {},
   "outputs": [],
   "source": [
    "test4()"
   ]
  },
  {
   "cell_type": "code",
   "execution_count": null,
   "id": "75161c70",
   "metadata": {},
   "outputs": [],
   "source": [
    "import time\n",
    "def timer_test(function):\n",
    "    def timer_test_inner():\n",
    "        start = time.time()\n",
    "        function()\n",
    "        end = time.time()\n",
    "        print(end)\n",
    "    return timer_test_inner"
   ]
  },
  {
   "cell_type": "code",
   "execution_count": null,
   "id": "a6efb351",
   "metadata": {},
   "outputs": [],
   "source": [
    "@timer_test\n",
    "def test_final():\n",
    "    print(45+67)\n",
    "    "
   ]
  },
  {
   "cell_type": "code",
   "execution_count": null,
   "id": "e761876e",
   "metadata": {},
   "outputs": [],
   "source": [
    "test_final()"
   ]
  },
  {
   "cell_type": "code",
   "execution_count": 63,
   "id": "e01a7d81",
   "metadata": {},
   "outputs": [
    {
     "ename": "IndentationError",
     "evalue": "expected an indented block after 'else' statement on line 15 (881418674.py, line 17)",
     "output_type": "error",
     "traceback": [
      "\u001b[1;36m  Cell \u001b[1;32mIn[63], line 17\u001b[1;36m\u001b[0m\n\u001b[1;33m    return False\u001b[0m\n\u001b[1;37m    ^\u001b[0m\n\u001b[1;31mIndentationError\u001b[0m\u001b[1;31m:\u001b[0m expected an indented block after 'else' statement on line 15\n"
     ]
    }
   ],
   "source": [
    "while True:\n",
    "    print({\n",
    "        1: 'Arjit Singh',\n",
    "        2: 'Lata Mangeshkar',\n",
    "        3: 'Darshan Raval', \n",
    "        4: 'Jubin Nautiyal',\n",
    "        5: 'Sachet-Parampara',\n",
    "        6: 'Armaan Malik',\n",
    "        7: 'Atif Aslam'\n",
    "    })\n",
    "    artist_choice = int(input(\"Enter a choice to continue to get a list of top 5 songs of a particular artist\"))\n",
    "    if artist_choice == 1:\n",
    "        print(['Agar Tum Saath Ho','Pal Pal dil Ke Pass','Shayad','Aaj Se Teri','Tose Naina'])\n",
    "        \n",
    "else : \n",
    "    \n",
    "return False"
   ]
  },
  {
   "cell_type": "code",
   "execution_count": null,
   "id": "f58b6dc0",
   "metadata": {},
   "outputs": [],
   "source": [
    "print({1:'Arjit Singh'})"
   ]
  },
  {
   "cell_type": "markdown",
   "id": "d752a5eb",
   "metadata": {},
   "source": [
    "# Class Methods"
   ]
  },
  {
   "cell_type": "code",
   "execution_count": 1,
   "id": "38d507f9",
   "metadata": {},
   "outputs": [],
   "source": [
    "class pwskills:\n",
    "    def __init__(self,name,email):\n",
    "        self.name = name \n",
    "        self.email = email\n",
    "        \n",
    "    def return_student_details(self):\n",
    "        print(self.name,self.email)"
   ]
  },
  {
   "cell_type": "code",
   "execution_count": 2,
   "id": "9316e1ec",
   "metadata": {},
   "outputs": [],
   "source": [
    "pw = pwskills('Rohan','rohan@gmail.com')"
   ]
  },
  {
   "cell_type": "code",
   "execution_count": 3,
   "id": "ec673985",
   "metadata": {},
   "outputs": [
    {
     "name": "stdout",
     "output_type": "stream",
     "text": [
      "Rohan rohan@gmail.com\n"
     ]
    }
   ],
   "source": [
    "pw.return_student_details()"
   ]
  },
  {
   "cell_type": "code",
   "execution_count": 4,
   "id": "d3041ff3",
   "metadata": {},
   "outputs": [
    {
     "data": {
      "text/plain": [
       "'Rohan'"
      ]
     },
     "execution_count": 4,
     "metadata": {},
     "output_type": "execute_result"
    }
   ],
   "source": [
    "pw.name"
   ]
  },
  {
   "cell_type": "code",
   "execution_count": 5,
   "id": "935f3c08",
   "metadata": {},
   "outputs": [
    {
     "data": {
      "text/plain": [
       "'rohan@gmail.com'"
      ]
     },
     "execution_count": 5,
     "metadata": {},
     "output_type": "execute_result"
    }
   ],
   "source": [
    "pw.email"
   ]
  },
  {
   "cell_type": "code",
   "execution_count": 12,
   "id": "05d7a24b",
   "metadata": {},
   "outputs": [],
   "source": [
    "class pwskills1:\n",
    "    def __init__(self,name,email):\n",
    "        self.name = name \n",
    "        self.email = email\n",
    "    \n",
    "    @classmethod\n",
    "    def details(cls,name,email):\n",
    "        return cls(name,email)\n",
    "    def return_student_details(self):\n",
    "        print(self.name,self.email)"
   ]
  },
  {
   "cell_type": "code",
   "execution_count": 17,
   "id": "bdf553ba",
   "metadata": {},
   "outputs": [
    {
     "data": {
      "text/plain": [
       "<__main__.pwskills1 at 0x211015b3d60>"
      ]
     },
     "execution_count": 17,
     "metadata": {},
     "output_type": "execute_result"
    }
   ],
   "source": [
    "pwskills1.details('rohan','rohan@gmail.com')"
   ]
  },
  {
   "cell_type": "code",
   "execution_count": 18,
   "id": "1b7badb1",
   "metadata": {},
   "outputs": [],
   "source": [
    "pw1 = pwskills.details('sohan','sohan@gmail.com')"
   ]
  },
  {
   "cell_type": "code",
   "execution_count": 19,
   "id": "7181fe5c",
   "metadata": {},
   "outputs": [
    {
     "name": "stdout",
     "output_type": "stream",
     "text": [
      "sohan sohan@gmail.com\n"
     ]
    }
   ],
   "source": [
    "pw1.return_student_details()"
   ]
  },
  {
   "cell_type": "markdown",
   "id": "cedd920a",
   "metadata": {},
   "source": [
    "> This is known as function overloading "
   ]
  },
  {
   "cell_type": "code",
   "execution_count": 32,
   "id": "f8982814",
   "metadata": {},
   "outputs": [],
   "source": [
    "class pwskills3:\n",
    "    \n",
    "    mobile_number = 9989876787\n",
    "    \n",
    "    def __init__(self,name,email):\n",
    "        self.name = name \n",
    "        self.email = email\n",
    "        \n",
    "    def change_mobile_no(cls,mobile_no):\n",
    "        pwskills3.mobile_number = mobile_no\n",
    "    \n",
    "    @classmethod\n",
    "    def details(cls,name,email):\n",
    "        return cls(name,email)\n",
    "    \n",
    "    def return_student_details(self):\n",
    "        print(self.name,self.email,pwskills3.mobile_number)"
   ]
  },
  {
   "cell_type": "code",
   "execution_count": 33,
   "id": "fea3df58",
   "metadata": {},
   "outputs": [
    {
     "data": {
      "text/plain": [
       "9989876787"
      ]
     },
     "execution_count": 33,
     "metadata": {},
     "output_type": "execute_result"
    }
   ],
   "source": [
    "pwskills3.mobile_number "
   ]
  },
  {
   "cell_type": "code",
   "execution_count": 39,
   "id": "29f47ad1",
   "metadata": {},
   "outputs": [],
   "source": [
    "pwskills3.change_mobile_no(3456,8987887889)"
   ]
  },
  {
   "cell_type": "code",
   "execution_count": 40,
   "id": "5514375d",
   "metadata": {},
   "outputs": [
    {
     "data": {
      "text/plain": [
       "8987887889"
      ]
     },
     "execution_count": 40,
     "metadata": {},
     "output_type": "execute_result"
    }
   ],
   "source": [
    "pwskills3.mobile_number"
   ]
  },
  {
   "cell_type": "code",
   "execution_count": 23,
   "id": "815b5fe9",
   "metadata": {},
   "outputs": [
    {
     "data": {
      "text/plain": [
       "9989876787"
      ]
     },
     "execution_count": 23,
     "metadata": {},
     "output_type": "execute_result"
    }
   ],
   "source": [
    "pwskills3.mobile_number"
   ]
  },
  {
   "cell_type": "code",
   "execution_count": 41,
   "id": "19e40ee5",
   "metadata": {},
   "outputs": [],
   "source": [
    "pw3_obj = pwskills3('sahil','sahil@gmail.com')"
   ]
  },
  {
   "cell_type": "code",
   "execution_count": 42,
   "id": "6d761000",
   "metadata": {},
   "outputs": [
    {
     "name": "stdout",
     "output_type": "stream",
     "text": [
      "sahil sahil@gmail.com 8987887889\n"
     ]
    }
   ],
   "source": [
    "pw3_obj.return_student_details()"
   ]
  },
  {
   "cell_type": "code",
   "execution_count": 43,
   "id": "dfcc861b",
   "metadata": {},
   "outputs": [
    {
     "data": {
      "text/plain": [
       "<__main__.pwskills3 at 0x21102af49d0>"
      ]
     },
     "execution_count": 43,
     "metadata": {},
     "output_type": "execute_result"
    }
   ],
   "source": [
    "pw3_obj.details('madhura','madhura@gmail.com')"
   ]
  },
  {
   "cell_type": "code",
   "execution_count": 44,
   "id": "5d5c9c74",
   "metadata": {},
   "outputs": [
    {
     "name": "stdout",
     "output_type": "stream",
     "text": [
      "sahil sahil@gmail.com 8987887889\n"
     ]
    }
   ],
   "source": [
    "pw3_obj.return_student_details()"
   ]
  },
  {
   "cell_type": "code",
   "execution_count": 46,
   "id": "c67de0fd",
   "metadata": {},
   "outputs": [],
   "source": [
    "pw3_obj.change_mobile_no(8898786756)"
   ]
  },
  {
   "cell_type": "code",
   "execution_count": 47,
   "id": "7d855821",
   "metadata": {},
   "outputs": [
    {
     "data": {
      "text/plain": [
       "8898786756"
      ]
     },
     "execution_count": 47,
     "metadata": {},
     "output_type": "execute_result"
    }
   ],
   "source": [
    "pw3_obj.mobile_number"
   ]
  },
  {
   "cell_type": "code",
   "execution_count": 24,
   "id": "488c44a2",
   "metadata": {},
   "outputs": [],
   "source": [
    "pw3 = pwskills3.details('mohan','mohan@gmail.com')"
   ]
  },
  {
   "cell_type": "code",
   "execution_count": 25,
   "id": "8ec06d13",
   "metadata": {},
   "outputs": [
    {
     "name": "stdout",
     "output_type": "stream",
     "text": [
      "mohan mohan@gmail.com 9989876787\n"
     ]
    }
   ],
   "source": [
    "pw3.return_student_details()"
   ]
  },
  {
   "cell_type": "code",
   "execution_count": 26,
   "id": "255bf00f",
   "metadata": {},
   "outputs": [],
   "source": [
    "pws3 = pwskills3('soham','soham@gmail.com')"
   ]
  },
  {
   "cell_type": "code",
   "execution_count": 27,
   "id": "0d86c666",
   "metadata": {},
   "outputs": [
    {
     "name": "stdout",
     "output_type": "stream",
     "text": [
      "soham soham@gmail.com 9989876787\n"
     ]
    }
   ],
   "source": [
    "pws3.return_student_details()"
   ]
  },
  {
   "cell_type": "code",
   "execution_count": 29,
   "id": "aa953311",
   "metadata": {},
   "outputs": [],
   "source": [
    "pws33 = pws3.details('mohini','mohini@gmail.com')"
   ]
  },
  {
   "cell_type": "code",
   "execution_count": 30,
   "id": "b51ab4fb",
   "metadata": {},
   "outputs": [
    {
     "name": "stdout",
     "output_type": "stream",
     "text": [
      "mohini mohini@gmail.com 9989876787\n"
     ]
    }
   ],
   "source": [
    "pws33.return_student_details()"
   ]
  },
  {
   "cell_type": "markdown",
   "id": "f4acfc71",
   "metadata": {},
   "source": [
    "> Class method is global method"
   ]
  },
  {
   "cell_type": "markdown",
   "id": "bbdcc41e",
   "metadata": {},
   "source": [
    "> Class mehtod always try to create one instance whereas the instance method is created as per the no. of objects is increasing "
   ]
  },
  {
   "cell_type": "markdown",
   "id": "0487fa5b",
   "metadata": {},
   "source": [
    "> Instance method belongs to various objects but Class method is representing only that single class"
   ]
  },
  {
   "cell_type": "markdown",
   "id": "f3e049cd",
   "metadata": {},
   "source": [
    "1. Rather than passing parameters to Class while creating a object, we can directly pass the data to class method with the following syntax : \n",
    "> class_name.class_method"
   ]
  },
  {
   "cell_type": "markdown",
   "id": "cb7f87dd",
   "metadata": {},
   "source": [
    "## HOW TO ADD THE EXTERNAL FUNCTION TO ANY CLASS"
   ]
  },
  {
   "cell_type": "code",
   "execution_count": 57,
   "id": "46ca21d8",
   "metadata": {},
   "outputs": [],
   "source": [
    "class pwskills4:\n",
    "    \n",
    "    mobile_number = 9989876787\n",
    "    \n",
    "    def __init__(self,name,email):\n",
    "        self.name = name \n",
    "        self.email = email\n",
    "        \n",
    "    def change_mobile_no(cls,mobile_no):\n",
    "        pwskills3.mobile_number = mobile_no\n",
    "    \n",
    "    @classmethod\n",
    "    def details(cls,name,email):\n",
    "        return cls(name,email)\n",
    "    \n",
    "    def return_student_details(self):\n",
    "        print(self.name,self.email,pwskills4.mobile_number,pwskills4.course_details)"
   ]
  },
  {
   "cell_type": "code",
   "execution_count": 58,
   "id": "4d60ac26",
   "metadata": {},
   "outputs": [],
   "source": [
    "def course_details(cls,course_name):\n",
    "    print('Course Name : {}'.format(course_name))"
   ]
  },
  {
   "cell_type": "code",
   "execution_count": 59,
   "id": "bf722a8e",
   "metadata": {},
   "outputs": [],
   "source": [
    "pwskills4.course_details = classmethod(course_details)"
   ]
  },
  {
   "cell_type": "code",
   "execution_count": 60,
   "id": "c4666a24",
   "metadata": {},
   "outputs": [
    {
     "name": "stdout",
     "output_type": "stream",
     "text": [
      "Course Name : Data Science Masters\n"
     ]
    }
   ],
   "source": [
    "pwskills4.course_details('Data Science Masters')"
   ]
  },
  {
   "cell_type": "code",
   "execution_count": 61,
   "id": "18920739",
   "metadata": {},
   "outputs": [],
   "source": [
    "pw4 = pwskills4('Aman','aman@gmail.com')"
   ]
  },
  {
   "cell_type": "code",
   "execution_count": 64,
   "id": "6cd63571",
   "metadata": {},
   "outputs": [
    {
     "name": "stdout",
     "output_type": "stream",
     "text": [
      "Course Name : Data Science Masters\n"
     ]
    }
   ],
   "source": [
    "pw4.course_details('Data Science Masters')"
   ]
  },
  {
   "cell_type": "code",
   "execution_count": 65,
   "id": "9bc97c8a",
   "metadata": {},
   "outputs": [
    {
     "name": "stdout",
     "output_type": "stream",
     "text": [
      "Aman aman@gmail.com 9989876787 <bound method course_details of <class '__main__.pwskills4'>>\n"
     ]
    }
   ],
   "source": [
    "pw4.return_student_details()"
   ]
  },
  {
   "cell_type": "markdown",
   "id": "745460ef",
   "metadata": {},
   "source": [
    "## HOW TO DELETE A METHOD IN A CLASS"
   ]
  },
  {
   "cell_type": "code",
   "execution_count": 66,
   "id": "4b40db9c",
   "metadata": {},
   "outputs": [],
   "source": [
    "del pwskills4.course_details"
   ]
  },
  {
   "cell_type": "code",
   "execution_count": 67,
   "id": "13e83ef7",
   "metadata": {},
   "outputs": [],
   "source": [
    "del pwskills4.change_mobile_no"
   ]
  },
  {
   "cell_type": "code",
   "execution_count": 69,
   "id": "7178f1ba",
   "metadata": {},
   "outputs": [],
   "source": [
    "delattr(pwskills4,'details')"
   ]
  },
  {
   "cell_type": "code",
   "execution_count": 70,
   "id": "adbf71ce",
   "metadata": {},
   "outputs": [
    {
     "data": {
      "text/plain": [
       "9989876787"
      ]
     },
     "execution_count": 70,
     "metadata": {},
     "output_type": "execute_result"
    }
   ],
   "source": [
    "pwskills4.mobile_number"
   ]
  },
  {
   "cell_type": "code",
   "execution_count": 71,
   "id": "85a25731",
   "metadata": {},
   "outputs": [],
   "source": [
    "delattr(pwskills4,\"mobile_number\")"
   ]
  },
  {
   "cell_type": "code",
   "execution_count": 72,
   "id": "61aca6d0",
   "metadata": {},
   "outputs": [
    {
     "ename": "AttributeError",
     "evalue": "type object 'pwskills4' has no attribute 'mobile_number'",
     "output_type": "error",
     "traceback": [
      "\u001b[1;31m---------------------------------------------------------------------------\u001b[0m",
      "\u001b[1;31mAttributeError\u001b[0m                            Traceback (most recent call last)",
      "Cell \u001b[1;32mIn[72], line 1\u001b[0m\n\u001b[1;32m----> 1\u001b[0m \u001b[43mpwskills4\u001b[49m\u001b[38;5;241;43m.\u001b[39;49m\u001b[43mmobile_number\u001b[49m\n",
      "\u001b[1;31mAttributeError\u001b[0m: type object 'pwskills4' has no attribute 'mobile_number'"
     ]
    }
   ],
   "source": [
    "pwskills4.mobile_number"
   ]
  },
  {
   "cell_type": "code",
   "execution_count": 75,
   "id": "32f2975a",
   "metadata": {},
   "outputs": [],
   "source": [
    "delattr(pwskills4,'return_student_details')"
   ]
  },
  {
   "cell_type": "markdown",
   "id": "4bf1559a",
   "metadata": {},
   "source": [
    "# STATIC METHOD"
   ]
  },
  {
   "cell_type": "code",
   "execution_count": 76,
   "id": "57244c4f",
   "metadata": {},
   "outputs": [],
   "source": [
    "class pwskills : \n",
    "    def student_details(self,name,mail_id,number):\n",
    "        print(name,mail_id,number)"
   ]
  },
  {
   "cell_type": "code",
   "execution_count": 77,
   "id": "29d46de2",
   "metadata": {},
   "outputs": [],
   "source": [
    "pw = pwskills()"
   ]
  },
  {
   "cell_type": "code",
   "execution_count": 79,
   "id": "2ab74ed0",
   "metadata": {},
   "outputs": [
    {
     "name": "stdout",
     "output_type": "stream",
     "text": [
      "Aaradhya aaradhya@gmail.com 9878996756\n"
     ]
    }
   ],
   "source": [
    "pw.student_details('Aaradhya','aaradhya@gmail.com',9878996756)"
   ]
  },
  {
   "cell_type": "code",
   "execution_count": 89,
   "id": "7c8afedb",
   "metadata": {},
   "outputs": [],
   "source": [
    "class pwskills1: \n",
    "    def student_details(self,name,mail_id,number):\n",
    "        print(name,mail_id,number)\n",
    "        \n",
    "    @staticmethod\n",
    "    def mentor_class(list_mentor):\n",
    "        print(list_mentor)\n",
    "    \n",
    "    def mentor(self,list_mentor):\n",
    "        print(list_mentor)"
   ]
  },
  {
   "cell_type": "markdown",
   "id": "a6c14600",
   "metadata": {},
   "source": [
    "> We can access static methods directly by class_name, there is no need to create an object"
   ]
  },
  {
   "cell_type": "code",
   "execution_count": 90,
   "id": "686f5d96",
   "metadata": {},
   "outputs": [
    {
     "name": "stdout",
     "output_type": "stream",
     "text": [
      "['Sudhanshu Kumar', 'Krish Naik']\n"
     ]
    }
   ],
   "source": [
    "pwskills1.mentor_class(['Sudhanshu Kumar','Krish Naik'])"
   ]
  },
  {
   "cell_type": "code",
   "execution_count": 91,
   "id": "307b1ec7",
   "metadata": {},
   "outputs": [],
   "source": [
    "pw1 = pwskills1()"
   ]
  },
  {
   "cell_type": "code",
   "execution_count": 92,
   "id": "47506428",
   "metadata": {},
   "outputs": [
    {
     "name": "stdout",
     "output_type": "stream",
     "text": [
      "Aman aman@gmail.com 9989484877\n"
     ]
    }
   ],
   "source": [
    "pw1.student_details('Aman','aman@gmail.com',9989484877)"
   ]
  },
  {
   "cell_type": "code",
   "execution_count": 93,
   "id": "74a5c0d7",
   "metadata": {},
   "outputs": [
    {
     "name": "stdout",
     "output_type": "stream",
     "text": [
      "['Sudh', 'Krish']\n"
     ]
    }
   ],
   "source": [
    "pw1.mentor_class(['Sudh','Krish'])"
   ]
  },
  {
   "cell_type": "code",
   "execution_count": 94,
   "id": "570deba2",
   "metadata": {},
   "outputs": [
    {
     "name": "stdout",
     "output_type": "stream",
     "text": [
      "['Sudh', 'Krish']\n"
     ]
    }
   ],
   "source": [
    "pw1.mentor(['Sudh', 'Krish'])"
   ]
  },
  {
   "cell_type": "code",
   "execution_count": 111,
   "id": "18a8cc0b",
   "metadata": {},
   "outputs": [],
   "source": [
    "class pwskills2: \n",
    "    def student_details(self,name,mail_id,number):\n",
    "        print(name,mail_id,number)\n",
    "    \n",
    "        \n",
    "    @staticmethod\n",
    "    def mentor_mail_id(mentor_mail_id):\n",
    "        print(mentor_mail_id)\n",
    "        \n",
    "    @staticmethod\n",
    "    def mentor_class(list_mentor):\n",
    "        print(list_mentor)\n",
    "        pwskills2.mentor_mail_id(['krish@gmail.com','sudh@gmail.com'])\n",
    "        \n",
    "    @classmethod\n",
    "    def class_name(cls,class_name):\n",
    "        print(cls.class_name)\n",
    "        cls.mentor_class(['Krish','Sudh'])\n",
    "    \n",
    "    def mentor(self,mentor_list):\n",
    "        print(list_mentor)\n",
    "        self.mentor_class(['Sudh','Krish'])"
   ]
  },
  {
   "cell_type": "code",
   "execution_count": 112,
   "id": "a5cf2dab",
   "metadata": {},
   "outputs": [
    {
     "name": "stdout",
     "output_type": "stream",
     "text": [
      "['Krish', 'Sudh']\n",
      "['krish@gmail.com', 'sudh@gmail.com']\n"
     ]
    }
   ],
   "source": [
    "pwskills2.mentor_class(['Krish','Sudh'])"
   ]
  },
  {
   "cell_type": "markdown",
   "id": "9ced7bb2",
   "metadata": {},
   "source": [
    "> Static method can be called inside another static method, class method and instance method but it should be at the top of the mehtod where we want to call that particular static method"
   ]
  },
  {
   "cell_type": "code",
   "execution_count": 113,
   "id": "7e4611ec",
   "metadata": {},
   "outputs": [],
   "source": [
    "pw2 = pwskills2()"
   ]
  },
  {
   "cell_type": "code",
   "execution_count": 116,
   "id": "289f6490",
   "metadata": {},
   "outputs": [
    {
     "name": "stdout",
     "output_type": "stream",
     "text": [
      "<bound method pwskills2.class_name of <class '__main__.pwskills2'>>\n",
      "['Krish', 'Sudh']\n",
      "['krish@gmail.com', 'sudh@gmail.com']\n"
     ]
    }
   ],
   "source": [
    "pw2.class_name('Data Science Masters')"
   ]
  },
  {
   "cell_type": "markdown",
   "id": "9fa98c8e",
   "metadata": {},
   "source": [
    "> All the methods i.e. instance method,static method and class method with object"
   ]
  },
  {
   "cell_type": "markdown",
   "id": "d844d638",
   "metadata": {},
   "source": [
    "# SPECIAL (MAGIC/DUNDER) MEHTODS"
   ]
  },
  {
   "cell_type": "code",
   "execution_count": 117,
   "id": "997935f1",
   "metadata": {},
   "outputs": [
    {
     "data": {
      "text/plain": [
       "['__abs__',\n",
       " '__add__',\n",
       " '__and__',\n",
       " '__bool__',\n",
       " '__ceil__',\n",
       " '__class__',\n",
       " '__delattr__',\n",
       " '__dir__',\n",
       " '__divmod__',\n",
       " '__doc__',\n",
       " '__eq__',\n",
       " '__float__',\n",
       " '__floor__',\n",
       " '__floordiv__',\n",
       " '__format__',\n",
       " '__ge__',\n",
       " '__getattribute__',\n",
       " '__getnewargs__',\n",
       " '__gt__',\n",
       " '__hash__',\n",
       " '__index__',\n",
       " '__init__',\n",
       " '__init_subclass__',\n",
       " '__int__',\n",
       " '__invert__',\n",
       " '__le__',\n",
       " '__lshift__',\n",
       " '__lt__',\n",
       " '__mod__',\n",
       " '__mul__',\n",
       " '__ne__',\n",
       " '__neg__',\n",
       " '__new__',\n",
       " '__or__',\n",
       " '__pos__',\n",
       " '__pow__',\n",
       " '__radd__',\n",
       " '__rand__',\n",
       " '__rdivmod__',\n",
       " '__reduce__',\n",
       " '__reduce_ex__',\n",
       " '__repr__',\n",
       " '__rfloordiv__',\n",
       " '__rlshift__',\n",
       " '__rmod__',\n",
       " '__rmul__',\n",
       " '__ror__',\n",
       " '__round__',\n",
       " '__rpow__',\n",
       " '__rrshift__',\n",
       " '__rshift__',\n",
       " '__rsub__',\n",
       " '__rtruediv__',\n",
       " '__rxor__',\n",
       " '__setattr__',\n",
       " '__sizeof__',\n",
       " '__str__',\n",
       " '__sub__',\n",
       " '__subclasshook__',\n",
       " '__truediv__',\n",
       " '__trunc__',\n",
       " '__xor__',\n",
       " 'as_integer_ratio',\n",
       " 'bit_count',\n",
       " 'bit_length',\n",
       " 'conjugate',\n",
       " 'denominator',\n",
       " 'from_bytes',\n",
       " 'imag',\n",
       " 'numerator',\n",
       " 'real',\n",
       " 'to_bytes']"
      ]
     },
     "execution_count": 117,
     "metadata": {},
     "output_type": "execute_result"
    }
   ],
   "source": [
    "dir(int) # Returns all the functions associated with that particular function"
   ]
  },
  {
   "cell_type": "markdown",
   "id": "20b44b27",
   "metadata": {},
   "source": [
    "> The above method has 2__before and after 2__, so therefore it is known as magic/dunder method."
   ]
  },
  {
   "cell_type": "code",
   "execution_count": 118,
   "id": "8479a60a",
   "metadata": {},
   "outputs": [],
   "source": [
    "a = 10"
   ]
  },
  {
   "cell_type": "code",
   "execution_count": 119,
   "id": "c7bf0dd9",
   "metadata": {},
   "outputs": [
    {
     "data": {
      "text/plain": [
       "16"
      ]
     },
     "execution_count": 119,
     "metadata": {},
     "output_type": "execute_result"
    }
   ],
   "source": [
    "a + 6"
   ]
  },
  {
   "cell_type": "code",
   "execution_count": 120,
   "id": "32fb285c",
   "metadata": {},
   "outputs": [
    {
     "data": {
      "text/plain": [
       "16"
      ]
     },
     "execution_count": 120,
     "metadata": {},
     "output_type": "execute_result"
    }
   ],
   "source": [
    "a.__add__(6)"
   ]
  },
  {
   "cell_type": "code",
   "execution_count": 121,
   "id": "7f880009",
   "metadata": {},
   "outputs": [
    {
     "name": "stdout",
     "output_type": "stream",
     "text": [
      "10\n"
     ]
    }
   ],
   "source": [
    "print(a)"
   ]
  },
  {
   "cell_type": "markdown",
   "id": "1b2a5e72",
   "metadata": {},
   "source": [
    "> Whenever we call + operation, the system always call the __add__ function."
   ]
  },
  {
   "cell_type": "code",
   "execution_count": 122,
   "id": "48b6aea2",
   "metadata": {},
   "outputs": [
    {
     "data": {
      "text/plain": [
       "['__add__',\n",
       " '__class__',\n",
       " '__contains__',\n",
       " '__delattr__',\n",
       " '__dir__',\n",
       " '__doc__',\n",
       " '__eq__',\n",
       " '__format__',\n",
       " '__ge__',\n",
       " '__getattribute__',\n",
       " '__getitem__',\n",
       " '__getnewargs__',\n",
       " '__gt__',\n",
       " '__hash__',\n",
       " '__init__',\n",
       " '__init_subclass__',\n",
       " '__iter__',\n",
       " '__le__',\n",
       " '__len__',\n",
       " '__lt__',\n",
       " '__mod__',\n",
       " '__mul__',\n",
       " '__ne__',\n",
       " '__new__',\n",
       " '__reduce__',\n",
       " '__reduce_ex__',\n",
       " '__repr__',\n",
       " '__rmod__',\n",
       " '__rmul__',\n",
       " '__setattr__',\n",
       " '__sizeof__',\n",
       " '__str__',\n",
       " '__subclasshook__',\n",
       " 'capitalize',\n",
       " 'casefold',\n",
       " 'center',\n",
       " 'count',\n",
       " 'encode',\n",
       " 'endswith',\n",
       " 'expandtabs',\n",
       " 'find',\n",
       " 'format',\n",
       " 'format_map',\n",
       " 'index',\n",
       " 'isalnum',\n",
       " 'isalpha',\n",
       " 'isascii',\n",
       " 'isdecimal',\n",
       " 'isdigit',\n",
       " 'isidentifier',\n",
       " 'islower',\n",
       " 'isnumeric',\n",
       " 'isprintable',\n",
       " 'isspace',\n",
       " 'istitle',\n",
       " 'isupper',\n",
       " 'join',\n",
       " 'ljust',\n",
       " 'lower',\n",
       " 'lstrip',\n",
       " 'maketrans',\n",
       " 'partition',\n",
       " 'removeprefix',\n",
       " 'removesuffix',\n",
       " 'replace',\n",
       " 'rfind',\n",
       " 'rindex',\n",
       " 'rjust',\n",
       " 'rpartition',\n",
       " 'rsplit',\n",
       " 'rstrip',\n",
       " 'split',\n",
       " 'splitlines',\n",
       " 'startswith',\n",
       " 'strip',\n",
       " 'swapcase',\n",
       " 'title',\n",
       " 'translate',\n",
       " 'upper',\n",
       " 'zfill']"
      ]
     },
     "execution_count": 122,
     "metadata": {},
     "output_type": "execute_result"
    }
   ],
   "source": [
    "dir(str)"
   ]
  },
  {
   "cell_type": "code",
   "execution_count": 133,
   "id": "76ebc32a",
   "metadata": {},
   "outputs": [],
   "source": [
    "class pwskills : \n",
    "    \n",
    "    def __new__(cls):\n",
    "        print(\"This is my new\")\n",
    "    def __init__(self): # This is also a dunder method,in which the system calls the __new__ function\n",
    "        print(\"This is my init\")"
   ]
  },
  {
   "cell_type": "code",
   "execution_count": 134,
   "id": "e39013ac",
   "metadata": {},
   "outputs": [
    {
     "name": "stdout",
     "output_type": "stream",
     "text": [
      "This is my new\n"
     ]
    }
   ],
   "source": [
    "pw = pwskills()"
   ]
  },
  {
   "cell_type": "code",
   "execution_count": 135,
   "id": "e211fcdd",
   "metadata": {},
   "outputs": [],
   "source": [
    "class pwskills : \n",
    "    \n",
    "    def __init__(self): # This is also a dunder method,in which the system calls the __new__ function\n",
    "        print(\"This is my init\")\n",
    "        \n",
    "    def __new__(cls): # This is also one magic method\n",
    "        print(\"This is my new\")"
   ]
  },
  {
   "cell_type": "code",
   "execution_count": 136,
   "id": "4a7385e2",
   "metadata": {},
   "outputs": [
    {
     "name": "stdout",
     "output_type": "stream",
     "text": [
      "This is my new\n"
     ]
    }
   ],
   "source": [
    "pw1 = pwskills()"
   ]
  },
  {
   "cell_type": "markdown",
   "id": "d329363d",
   "metadata": {},
   "source": [
    "> The system always execute the __new__ whether it is before or after init"
   ]
  },
  {
   "cell_type": "code",
   "execution_count": 138,
   "id": "9bb4c3f0",
   "metadata": {},
   "outputs": [],
   "source": [
    "class pwskills:\n",
    "    \n",
    "    def __init__(self):\n",
    "        self.mobile_number = 8767889587"
   ]
  },
  {
   "cell_type": "code",
   "execution_count": 139,
   "id": "c73abed4",
   "metadata": {},
   "outputs": [],
   "source": [
    "pw1 = pwskills()"
   ]
  },
  {
   "cell_type": "code",
   "execution_count": 140,
   "id": "d65cf440",
   "metadata": {},
   "outputs": [
    {
     "data": {
      "text/plain": [
       "<__main__.pwskills at 0x21103352a70>"
      ]
     },
     "execution_count": 140,
     "metadata": {},
     "output_type": "execute_result"
    }
   ],
   "source": [
    "pw1"
   ]
  },
  {
   "cell_type": "code",
   "execution_count": 141,
   "id": "745ce3cd",
   "metadata": {},
   "outputs": [
    {
     "ename": "AttributeError",
     "evalue": "'pwskills' object has no attribute 'mobiile_number'",
     "output_type": "error",
     "traceback": [
      "\u001b[1;31m---------------------------------------------------------------------------\u001b[0m",
      "\u001b[1;31mAttributeError\u001b[0m                            Traceback (most recent call last)",
      "Cell \u001b[1;32mIn[141], line 1\u001b[0m\n\u001b[1;32m----> 1\u001b[0m \u001b[43mpw1\u001b[49m\u001b[38;5;241;43m.\u001b[39;49m\u001b[43mmobiile_number\u001b[49m\n",
      "\u001b[1;31mAttributeError\u001b[0m: 'pwskills' object has no attribute 'mobiile_number'"
     ]
    }
   ],
   "source": [
    "pw1.mobiile_number"
   ]
  },
  {
   "cell_type": "code",
   "execution_count": 146,
   "id": "68644c40",
   "metadata": {},
   "outputs": [],
   "source": [
    "class pwskills:\n",
    "    \n",
    "    def __init__(self):\n",
    "        self.mobile_number = 8767889587\n",
    "        \n",
    "    def __str__(cls):\n",
    "        return \"Thisis the magic method which will print something for my object\""
   ]
  },
  {
   "cell_type": "code",
   "execution_count": 147,
   "id": "c4f5ceeb",
   "metadata": {},
   "outputs": [],
   "source": [
    "pw = pwskills()"
   ]
  },
  {
   "cell_type": "code",
   "execution_count": 148,
   "id": "4142dab8",
   "metadata": {},
   "outputs": [
    {
     "data": {
      "text/plain": [
       "<__main__.pwskills at 0x21102fc7640>"
      ]
     },
     "execution_count": 148,
     "metadata": {},
     "output_type": "execute_result"
    }
   ],
   "source": [
    "pw"
   ]
  },
  {
   "cell_type": "code",
   "execution_count": 149,
   "id": "ce650b22",
   "metadata": {},
   "outputs": [
    {
     "name": "stdout",
     "output_type": "stream",
     "text": [
      "Thisis the magic method which will print something for my object\n"
     ]
    }
   ],
   "source": [
    "print(pw)"
   ]
  },
  {
   "cell_type": "markdown",
   "id": "7a61d1ec",
   "metadata": {},
   "source": [
    "> This will overwrite the outcome"
   ]
  },
  {
   "cell_type": "code",
   "execution_count": 150,
   "id": "605d5c85",
   "metadata": {},
   "outputs": [
    {
     "data": {
      "text/plain": [
       "['__class__',\n",
       " '__class_getitem__',\n",
       " '__contains__',\n",
       " '__delattr__',\n",
       " '__delitem__',\n",
       " '__dir__',\n",
       " '__doc__',\n",
       " '__eq__',\n",
       " '__format__',\n",
       " '__ge__',\n",
       " '__getattribute__',\n",
       " '__getitem__',\n",
       " '__gt__',\n",
       " '__hash__',\n",
       " '__init__',\n",
       " '__init_subclass__',\n",
       " '__ior__',\n",
       " '__iter__',\n",
       " '__le__',\n",
       " '__len__',\n",
       " '__lt__',\n",
       " '__ne__',\n",
       " '__new__',\n",
       " '__or__',\n",
       " '__reduce__',\n",
       " '__reduce_ex__',\n",
       " '__repr__',\n",
       " '__reversed__',\n",
       " '__ror__',\n",
       " '__setattr__',\n",
       " '__setitem__',\n",
       " '__sizeof__',\n",
       " '__str__',\n",
       " '__subclasshook__',\n",
       " 'clear',\n",
       " 'copy',\n",
       " 'fromkeys',\n",
       " 'get',\n",
       " 'items',\n",
       " 'keys',\n",
       " 'pop',\n",
       " 'popitem',\n",
       " 'setdefault',\n",
       " 'update',\n",
       " 'values']"
      ]
     },
     "execution_count": 150,
     "metadata": {},
     "output_type": "execute_result"
    }
   ],
   "source": [
    "dir(dict)"
   ]
  },
  {
   "cell_type": "code",
   "execution_count": 151,
   "id": "02489324",
   "metadata": {},
   "outputs": [
    {
     "data": {
      "text/plain": [
       "['__add__',\n",
       " '__class__',\n",
       " '__class_getitem__',\n",
       " '__contains__',\n",
       " '__delattr__',\n",
       " '__dir__',\n",
       " '__doc__',\n",
       " '__eq__',\n",
       " '__format__',\n",
       " '__ge__',\n",
       " '__getattribute__',\n",
       " '__getitem__',\n",
       " '__getnewargs__',\n",
       " '__gt__',\n",
       " '__hash__',\n",
       " '__init__',\n",
       " '__init_subclass__',\n",
       " '__iter__',\n",
       " '__le__',\n",
       " '__len__',\n",
       " '__lt__',\n",
       " '__mul__',\n",
       " '__ne__',\n",
       " '__new__',\n",
       " '__reduce__',\n",
       " '__reduce_ex__',\n",
       " '__repr__',\n",
       " '__rmul__',\n",
       " '__setattr__',\n",
       " '__sizeof__',\n",
       " '__str__',\n",
       " '__subclasshook__',\n",
       " 'count',\n",
       " 'index']"
      ]
     },
     "execution_count": 151,
     "metadata": {},
     "output_type": "execute_result"
    }
   ],
   "source": [
    "dir(tuple)"
   ]
  },
  {
   "cell_type": "code",
   "execution_count": 152,
   "id": "45db218b",
   "metadata": {},
   "outputs": [
    {
     "data": {
      "text/plain": [
       "['__add__',\n",
       " '__class__',\n",
       " '__class_getitem__',\n",
       " '__contains__',\n",
       " '__delattr__',\n",
       " '__delitem__',\n",
       " '__dir__',\n",
       " '__doc__',\n",
       " '__eq__',\n",
       " '__format__',\n",
       " '__ge__',\n",
       " '__getattribute__',\n",
       " '__getitem__',\n",
       " '__gt__',\n",
       " '__hash__',\n",
       " '__iadd__',\n",
       " '__imul__',\n",
       " '__init__',\n",
       " '__init_subclass__',\n",
       " '__iter__',\n",
       " '__le__',\n",
       " '__len__',\n",
       " '__lt__',\n",
       " '__mul__',\n",
       " '__ne__',\n",
       " '__new__',\n",
       " '__reduce__',\n",
       " '__reduce_ex__',\n",
       " '__repr__',\n",
       " '__reversed__',\n",
       " '__rmul__',\n",
       " '__setattr__',\n",
       " '__setitem__',\n",
       " '__sizeof__',\n",
       " '__str__',\n",
       " '__subclasshook__',\n",
       " 'append',\n",
       " 'clear',\n",
       " 'copy',\n",
       " 'count',\n",
       " 'extend',\n",
       " 'index',\n",
       " 'insert',\n",
       " 'pop',\n",
       " 'remove',\n",
       " 'reverse',\n",
       " 'sort']"
      ]
     },
     "execution_count": 152,
     "metadata": {},
     "output_type": "execute_result"
    }
   ],
   "source": [
    "dir(list)"
   ]
  },
  {
   "cell_type": "markdown",
   "id": "b65e7b21",
   "metadata": {},
   "source": [
    "## PROPERTY DECORATORS : GETTERS,SETTERS AND DELETES"
   ]
  },
  {
   "cell_type": "code",
   "execution_count": 185,
   "id": "23c23d80",
   "metadata": {},
   "outputs": [],
   "source": [
    "class pwskills:\n",
    "    def __init__(self,course_name,course_price):\n",
    "        self.__course_nm = course_name\n",
    "        self.__course_pr = course_price\n",
    "        \n",
    "    @property\n",
    "    def course_price_access(self):\n",
    "        return self.__course_pr\n",
    "    \n",
    "    # To modify course price\n",
    "    @course_price_access.setter\n",
    "    def course_price_set(self,price):\n",
    "        if price <= 3500:\n",
    "            pass\n",
    "        else : \n",
    "            self.__course_pr = price\n",
    "        \n",
    "    @course_price_access.deleter\n",
    "    def course_price_del(self):\n",
    "        del self.__course_pr"
   ]
  },
  {
   "cell_type": "code",
   "execution_count": 186,
   "id": "55e72292",
   "metadata": {},
   "outputs": [],
   "source": [
    "pw = pwskills(\"Data Science Masters\",3500)"
   ]
  },
  {
   "cell_type": "code",
   "execution_count": 167,
   "id": "aa1fc0d0",
   "metadata": {},
   "outputs": [
    {
     "ename": "AttributeError",
     "evalue": "'pwskills' object has no attribute 'course_nm'",
     "output_type": "error",
     "traceback": [
      "\u001b[1;31m---------------------------------------------------------------------------\u001b[0m",
      "\u001b[1;31mAttributeError\u001b[0m                            Traceback (most recent call last)",
      "Cell \u001b[1;32mIn[167], line 1\u001b[0m\n\u001b[1;32m----> 1\u001b[0m \u001b[43mpw\u001b[49m\u001b[38;5;241;43m.\u001b[39;49m\u001b[43mcourse_nm\u001b[49m()\n",
      "\u001b[1;31mAttributeError\u001b[0m: 'pwskills' object has no attribute 'course_nm'"
     ]
    }
   ],
   "source": [
    "pw.course_nm()"
   ]
  },
  {
   "cell_type": "code",
   "execution_count": 187,
   "id": "bd75344a",
   "metadata": {},
   "outputs": [
    {
     "data": {
      "text/plain": [
       "3500"
      ]
     },
     "execution_count": 187,
     "metadata": {},
     "output_type": "execute_result"
    }
   ],
   "source": [
    "del pw.course_price_del"
   ]
  },
  {
   "cell_type": "code",
   "execution_count": 188,
   "id": "8e30d6e0",
   "metadata": {},
   "outputs": [
    {
     "data": {
      "text/plain": [
       "3500"
      ]
     },
     "execution_count": 188,
     "metadata": {},
     "output_type": "execute_result"
    }
   ],
   "source": [
    "pw.course_price_access"
   ]
  },
  {
   "cell_type": "code",
   "execution_count": 168,
   "id": "082bc2a7",
   "metadata": {},
   "outputs": [
    {
     "data": {
      "text/plain": [
       "'Data Science Masters'"
      ]
     },
     "execution_count": 168,
     "metadata": {},
     "output_type": "execute_result"
    }
   ],
   "source": [
    "pw._pwskills__course_nm"
   ]
  },
  {
   "cell_type": "code",
   "execution_count": 171,
   "id": "6e7ecdc3",
   "metadata": {},
   "outputs": [
    {
     "ename": "TypeError",
     "evalue": "'int' object is not callable",
     "output_type": "error",
     "traceback": [
      "\u001b[1;31m---------------------------------------------------------------------------\u001b[0m",
      "\u001b[1;31mTypeError\u001b[0m                                 Traceback (most recent call last)",
      "Cell \u001b[1;32mIn[171], line 1\u001b[0m\n\u001b[1;32m----> 1\u001b[0m \u001b[43mpw\u001b[49m\u001b[38;5;241;43m.\u001b[39;49m\u001b[43mcourse_price_access\u001b[49m\u001b[43m(\u001b[49m\u001b[43m)\u001b[49m\n",
      "\u001b[1;31mTypeError\u001b[0m: 'int' object is not callable"
     ]
    }
   ],
   "source": [
    "pw.course_price_access()"
   ]
  },
  {
   "cell_type": "code",
   "execution_count": 172,
   "id": "1e409b8e",
   "metadata": {},
   "outputs": [
    {
     "data": {
      "text/plain": [
       "3500"
      ]
     },
     "execution_count": 172,
     "metadata": {},
     "output_type": "execute_result"
    }
   ],
   "source": [
    "pw.course_price_access"
   ]
  },
  {
   "cell_type": "code",
   "execution_count": 179,
   "id": "c8616e03",
   "metadata": {},
   "outputs": [],
   "source": [
    "pw.course_price_set = 3200"
   ]
  },
  {
   "cell_type": "code",
   "execution_count": 180,
   "id": "4bcc1888",
   "metadata": {},
   "outputs": [
    {
     "data": {
      "text/plain": [
       "3500"
      ]
     },
     "execution_count": 180,
     "metadata": {},
     "output_type": "execute_result"
    }
   ],
   "source": [
    "pw.course_price_access"
   ]
  },
  {
   "cell_type": "code",
   "execution_count": 181,
   "id": "cbebd797",
   "metadata": {},
   "outputs": [],
   "source": [
    "pw.course_price_set = 7000"
   ]
  },
  {
   "cell_type": "code",
   "execution_count": 182,
   "id": "576df4bb",
   "metadata": {},
   "outputs": [
    {
     "data": {
      "text/plain": [
       "7000"
      ]
     },
     "execution_count": 182,
     "metadata": {},
     "output_type": "execute_result"
    }
   ],
   "source": [
    "pw.course_price_access"
   ]
  },
  {
   "cell_type": "markdown",
   "id": "3a2e1215",
   "metadata": {},
   "source": [
    "> This decorators are only for private variables"
   ]
  }
 ],
 "metadata": {
  "kernelspec": {
   "display_name": "Python 3 (ipykernel)",
   "language": "python",
   "name": "python3"
  },
  "language_info": {
   "codemirror_mode": {
    "name": "ipython",
    "version": 3
   },
   "file_extension": ".py",
   "mimetype": "text/x-python",
   "name": "python",
   "nbconvert_exporter": "python",
   "pygments_lexer": "ipython3",
   "version": "3.10.9"
  }
 },
 "nbformat": 4,
 "nbformat_minor": 5
}
