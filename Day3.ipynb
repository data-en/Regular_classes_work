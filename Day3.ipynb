{
 "cells": [
  {
   "cell_type": "markdown",
   "id": "47a4bfba",
   "metadata": {},
   "source": [
    "# Day3"
   ]
  },
  {
   "cell_type": "code",
   "execution_count": 1,
   "id": "ac4a2728",
   "metadata": {},
   "outputs": [],
   "source": [
    "course_name = 'Data Science Masters 2.0'"
   ]
  },
  {
   "cell_type": "code",
   "execution_count": 2,
   "id": "faf35509",
   "metadata": {},
   "outputs": [
    {
     "data": {
      "text/plain": [
       "'DATA SCIENCE MASTERS 2.0'"
      ]
     },
     "execution_count": 2,
     "metadata": {},
     "output_type": "execute_result"
    }
   ],
   "source": [
    "course_name.upper()"
   ]
  },
  {
   "cell_type": "code",
   "execution_count": 3,
   "id": "8b9001c4",
   "metadata": {},
   "outputs": [
    {
     "data": {
      "text/plain": [
       "'Data science masters 2.0'"
      ]
     },
     "execution_count": 3,
     "metadata": {},
     "output_type": "execute_result"
    }
   ],
   "source": [
    "course_name.capitalize()"
   ]
  },
  {
   "cell_type": "code",
   "execution_count": 4,
   "id": "106a1aab",
   "metadata": {},
   "outputs": [
    {
     "data": {
      "text/plain": [
       "'data science masters 2.0'"
      ]
     },
     "execution_count": 4,
     "metadata": {},
     "output_type": "execute_result"
    }
   ],
   "source": [
    "course_name.lower()"
   ]
  },
  {
   "cell_type": "code",
   "execution_count": 6,
   "id": "8deee442",
   "metadata": {},
   "outputs": [
    {
     "data": {
      "text/plain": [
       "'dATA sCIENCE mASTERS 2.0'"
      ]
     },
     "execution_count": 6,
     "metadata": {},
     "output_type": "execute_result"
    }
   ],
   "source": [
    "course_name.swapcase()"
   ]
  },
  {
   "cell_type": "code",
   "execution_count": 7,
   "id": "163066a2",
   "metadata": {},
   "outputs": [
    {
     "data": {
      "text/plain": [
       "['Data', 'Science', 'Masters', '2.0']"
      ]
     },
     "execution_count": 7,
     "metadata": {},
     "output_type": "execute_result"
    }
   ],
   "source": [
    "course_name.split(\" \")"
   ]
  },
  {
   "cell_type": "code",
   "execution_count": 8,
   "id": "719c3df2",
   "metadata": {},
   "outputs": [
    {
     "data": {
      "text/plain": [
       "['Data Science Ma', 'ter', ' 2.0']"
      ]
     },
     "execution_count": 8,
     "metadata": {},
     "output_type": "execute_result"
    }
   ],
   "source": [
    "course_name.split(\"s\")"
   ]
  },
  {
   "cell_type": "code",
   "execution_count": 9,
   "id": "794c43ca",
   "metadata": {},
   "outputs": [
    {
     "data": {
      "text/plain": [
       "('Data Science Ma', 's', 'ters 2.0')"
      ]
     },
     "execution_count": 9,
     "metadata": {},
     "output_type": "execute_result"
    }
   ],
   "source": [
    "course_name.partition('s')"
   ]
  },
  {
   "cell_type": "code",
   "execution_count": 10,
   "id": "f43b214e",
   "metadata": {},
   "outputs": [
    {
     "data": {
      "text/plain": [
       "'Data Science Masters 2.0'"
      ]
     },
     "execution_count": 10,
     "metadata": {},
     "output_type": "execute_result"
    }
   ],
   "source": [
    "course_name.title()"
   ]
  },
  {
   "cell_type": "code",
   "execution_count": 11,
   "id": "d00c957c",
   "metadata": {},
   "outputs": [
    {
     "data": {
      "text/plain": [
       "'Data science masters 2.0'"
      ]
     },
     "execution_count": 11,
     "metadata": {},
     "output_type": "execute_result"
    }
   ],
   "source": [
    "course_name.capitalize()"
   ]
  },
  {
   "cell_type": "markdown",
   "id": "fe48e7f1",
   "metadata": {},
   "source": [
    "> The main difference between title() and capitalize() is title() makes first letter of every word in that string to capital and\n",
    "capitalize() makes only the first letter of first word or the word present at the starting capital"
   ]
  },
  {
   "cell_type": "code",
   "execution_count": 12,
   "id": "0eaf020f",
   "metadata": {},
   "outputs": [
    {
     "data": {
      "text/plain": [
       "<reversed at 0x2c962012050>"
      ]
     },
     "execution_count": 12,
     "metadata": {},
     "output_type": "execute_result"
    }
   ],
   "source": [
    "reversed(course_name)"
   ]
  },
  {
   "cell_type": "code",
   "execution_count": 14,
   "id": "daf0647c",
   "metadata": {},
   "outputs": [],
   "source": [
    "a = reversed(course_name)"
   ]
  },
  {
   "cell_type": "code",
   "execution_count": 15,
   "id": "8b198703",
   "metadata": {},
   "outputs": [
    {
     "name": "stdout",
     "output_type": "stream",
     "text": [
      "<reversed object at 0x000002C962011EA0>\n"
     ]
    }
   ],
   "source": [
    "print(a)"
   ]
  },
  {
   "cell_type": "code",
   "execution_count": 16,
   "id": "cdb1443e",
   "metadata": {},
   "outputs": [
    {
     "data": {
      "text/plain": [
       "'0 . 2   s r e t s a M   e c n e i c S   a t a D'"
      ]
     },
     "execution_count": 16,
     "metadata": {},
     "output_type": "execute_result"
    }
   ],
   "source": [
    "' '.join(reversed(course_name))"
   ]
  },
  {
   "cell_type": "code",
   "execution_count": 17,
   "id": "3ea1f86f",
   "metadata": {},
   "outputs": [
    {
     "data": {
      "text/plain": [
       "'0.2 sretsaM ecneicS ataD'"
      ]
     },
     "execution_count": 17,
     "metadata": {},
     "output_type": "execute_result"
    }
   ],
   "source": [
    "''.join(reversed(course_name))"
   ]
  },
  {
   "cell_type": "code",
   "execution_count": 18,
   "id": "a1e12d41",
   "metadata": {},
   "outputs": [
    {
     "data": {
      "text/plain": [
       "'SDatacDataiDataeDatanDatacDatae'"
      ]
     },
     "execution_count": 18,
     "metadata": {},
     "output_type": "execute_result"
    }
   ],
   "source": [
    "'Data'.join('Science')"
   ]
  },
  {
   "cell_type": "code",
   "execution_count": 19,
   "id": "643f10b6",
   "metadata": {},
   "outputs": [
    {
     "data": {
      "text/plain": [
       "'a b c d'"
      ]
     },
     "execution_count": 19,
     "metadata": {},
     "output_type": "execute_result"
    }
   ],
   "source": [
    "\" \".join('abcd')"
   ]
  },
  {
   "cell_type": "code",
   "execution_count": 20,
   "id": "2f8dc6fc",
   "metadata": {},
   "outputs": [
    {
     "data": {
      "text/plain": [
       "['S', 'L', 'L', 'I', 'K', 'S', 'W', 'P']"
      ]
     },
     "execution_count": 20,
     "metadata": {},
     "output_type": "execute_result"
    }
   ],
   "source": [
    "list(reversed('PWSKILLS'))"
   ]
  },
  {
   "cell_type": "code",
   "execution_count": 21,
   "id": "4ee17634",
   "metadata": {},
   "outputs": [
    {
     "data": {
      "text/plain": [
       "['P', 'W', 'S', 'K', 'I', 'L', 'L', 'S']"
      ]
     },
     "execution_count": 21,
     "metadata": {},
     "output_type": "execute_result"
    }
   ],
   "source": [
    "list('PWSKILLS')"
   ]
  },
  {
   "cell_type": "code",
   "execution_count": 22,
   "id": "d731f07c",
   "metadata": {},
   "outputs": [],
   "source": [
    "str1 = \" pwskills \""
   ]
  },
  {
   "cell_type": "code",
   "execution_count": 23,
   "id": "709b6696",
   "metadata": {},
   "outputs": [
    {
     "data": {
      "text/plain": [
       "'pwskills'"
      ]
     },
     "execution_count": 23,
     "metadata": {},
     "output_type": "execute_result"
    }
   ],
   "source": [
    "str1.strip(' ')"
   ]
  },
  {
   "cell_type": "code",
   "execution_count": 26,
   "id": "9f18f602",
   "metadata": {},
   "outputs": [
    {
     "data": {
      "text/plain": [
       "' pwskills '"
      ]
     },
     "execution_count": 26,
     "metadata": {},
     "output_type": "execute_result"
    }
   ],
   "source": [
    "str1.strip('l')"
   ]
  },
  {
   "cell_type": "code",
   "execution_count": 25,
   "id": "dc16e6fe",
   "metadata": {},
   "outputs": [
    {
     "data": {
      "text/plain": [
       "'pwskills '"
      ]
     },
     "execution_count": 25,
     "metadata": {},
     "output_type": "execute_result"
    }
   ],
   "source": [
    "str1.lstrip(' ') # Removes left whitespace if any"
   ]
  },
  {
   "cell_type": "code",
   "execution_count": 27,
   "id": "f822f212",
   "metadata": {},
   "outputs": [
    {
     "data": {
      "text/plain": [
       "' pwskills'"
      ]
     },
     "execution_count": 27,
     "metadata": {},
     "output_type": "execute_result"
    }
   ],
   "source": [
    "str1.rstrip(' ') # Removes right whitespace if any"
   ]
  },
  {
   "cell_type": "code",
   "execution_count": 37,
   "id": "b370be06",
   "metadata": {},
   "outputs": [
    {
     "name": "stdout",
     "output_type": "stream",
     "text": [
      "The corrected string is Greeting from PWSkills\n"
     ]
    }
   ],
   "source": [
    "str2 = \"Greeting to PWSkills\"\n",
    "str2c = str2.replace('to','from')\n",
    "print(f\"The corrected string is {str2c}\")"
   ]
  },
  {
   "cell_type": "code",
   "execution_count": 31,
   "id": "117d110f",
   "metadata": {},
   "outputs": [
    {
     "data": {
      "text/plain": [
       "'It is for sure for my sister'"
      ]
     },
     "execution_count": 31,
     "metadata": {},
     "output_type": "execute_result"
    }
   ],
   "source": [
    "str3 = \"It is to sure to my sister\"\n",
    "str3.replace('to','for')"
   ]
  },
  {
   "cell_type": "code",
   "execution_count": 34,
   "id": "6d19e40d",
   "metadata": {},
   "outputs": [
    {
     "data": {
      "text/plain": [
       "'It is for sure for my sister'"
      ]
     },
     "execution_count": 34,
     "metadata": {},
     "output_type": "execute_result"
    }
   ],
   "source": [
    "str3 = \"It is for sure to my sister\"\n",
    "str3.replace('to','for',2) # Only second for is replaced here because we mentioned here count = 2"
   ]
  },
  {
   "cell_type": "code",
   "execution_count": 35,
   "id": "96036996",
   "metadata": {},
   "outputs": [
    {
     "data": {
      "text/plain": [
       "'My name is ABC'"
      ]
     },
     "execution_count": 35,
     "metadata": {},
     "output_type": "execute_result"
    }
   ],
   "source": [
    "str4 = \"Sy name is ABC\"\n",
    "str4.replace('S','M')"
   ]
  },
  {
   "cell_type": "code",
   "execution_count": 36,
   "id": "c4dc3548",
   "metadata": {},
   "outputs": [
    {
     "data": {
      "text/plain": [
       "'Sy name is ABC'"
      ]
     },
     "execution_count": 36,
     "metadata": {},
     "output_type": "execute_result"
    }
   ],
   "source": [
    "str4"
   ]
  },
  {
   "cell_type": "markdown",
   "id": "fc048aab",
   "metadata": {},
   "source": [
    "## It only returns copy, the original one remains as it is "
   ]
  },
  {
   "cell_type": "code",
   "execution_count": 39,
   "id": "c6a077ae",
   "metadata": {},
   "outputs": [
    {
     "name": "stdout",
     "output_type": "stream",
     "text": [
      "3063981866592\n",
      "3063935680096\n"
     ]
    }
   ],
   "source": [
    "print(id(str2))\n",
    "print(id(str2c))"
   ]
  },
  {
   "cell_type": "code",
   "execution_count": 41,
   "id": "453bc3b0",
   "metadata": {},
   "outputs": [
    {
     "name": "stdout",
     "output_type": "stream",
     "text": [
      "The corrected mail is pwskills@gmail.com\n"
     ]
    }
   ],
   "source": [
    "str5 = 'pwskills#gmail.com'\n",
    "str5c = str5.replace('#','@')\n",
    "print(\"The corrected mail is {}\".format(str5c))"
   ]
  },
  {
   "cell_type": "code",
   "execution_count": 42,
   "id": "2f7feae0",
   "metadata": {},
   "outputs": [
    {
     "data": {
      "text/plain": [
       "'table\\tchair'"
      ]
     },
     "execution_count": 42,
     "metadata": {},
     "output_type": "execute_result"
    }
   ],
   "source": [
    "'table\\tchair'"
   ]
  },
  {
   "cell_type": "code",
   "execution_count": 43,
   "id": "faee68d2",
   "metadata": {},
   "outputs": [
    {
     "data": {
      "text/plain": [
       "'table   chair'"
      ]
     },
     "execution_count": 43,
     "metadata": {},
     "output_type": "execute_result"
    }
   ],
   "source": [
    "'table\\tchair'.expandtabs()"
   ]
  },
  {
   "cell_type": "code",
   "execution_count": 52,
   "id": "6f56fe69",
   "metadata": {},
   "outputs": [],
   "source": [
    "strr = \"Hello\""
   ]
  },
  {
   "cell_type": "code",
   "execution_count": 54,
   "id": "a44f0e47",
   "metadata": {},
   "outputs": [
    {
     "data": {
      "text/plain": [
       "'  Hello   '"
      ]
     },
     "execution_count": 54,
     "metadata": {},
     "output_type": "execute_result"
    }
   ],
   "source": [
    "strr.center(10)"
   ]
  },
  {
   "cell_type": "code",
   "execution_count": 63,
   "id": "07ba853e",
   "metadata": {},
   "outputs": [],
   "source": [
    "str1 = \"Welcome to pwskills.Welcome to Dat cience Masters\""
   ]
  },
  {
   "cell_type": "code",
   "execution_count": 64,
   "id": "720488e1",
   "metadata": {},
   "outputs": [],
   "source": [
    "str1 = str1.replace('Dat','Data').replace('cience','Science')"
   ]
  },
  {
   "cell_type": "code",
   "execution_count": 65,
   "id": "82bf5736",
   "metadata": {},
   "outputs": [
    {
     "name": "stdout",
     "output_type": "stream",
     "text": [
      "Welcome to pwskills.Welcome to Data Science Masters\n"
     ]
    }
   ],
   "source": [
    "print(str1)"
   ]
  },
  {
   "cell_type": "code",
   "execution_count": 66,
   "id": "b0a2e86c",
   "metadata": {},
   "outputs": [],
   "source": [
    "str1 = 'pwskills'"
   ]
  },
  {
   "cell_type": "code",
   "execution_count": 67,
   "id": "c0d9f724",
   "metadata": {},
   "outputs": [
    {
     "data": {
      "text/plain": [
       "False"
      ]
     },
     "execution_count": 67,
     "metadata": {},
     "output_type": "execute_result"
    }
   ],
   "source": [
    "str1.isupper()"
   ]
  },
  {
   "cell_type": "code",
   "execution_count": 69,
   "id": "4dd20e91",
   "metadata": {},
   "outputs": [
    {
     "data": {
      "text/plain": [
       "True"
      ]
     },
     "execution_count": 69,
     "metadata": {},
     "output_type": "execute_result"
    }
   ],
   "source": [
    "str1.islower()"
   ]
  },
  {
   "cell_type": "code",
   "execution_count": 70,
   "id": "a7df185b",
   "metadata": {},
   "outputs": [
    {
     "data": {
      "text/plain": [
       "False"
      ]
     },
     "execution_count": 70,
     "metadata": {},
     "output_type": "execute_result"
    }
   ],
   "source": [
    "str1.isspace()"
   ]
  },
  {
   "cell_type": "code",
   "execution_count": 71,
   "id": "fb0ef340",
   "metadata": {},
   "outputs": [
    {
     "data": {
      "text/plain": [
       "True"
      ]
     },
     "execution_count": 71,
     "metadata": {},
     "output_type": "execute_result"
    }
   ],
   "source": [
    "\" \".isspace()"
   ]
  },
  {
   "cell_type": "code",
   "execution_count": 72,
   "id": "dae2b717",
   "metadata": {},
   "outputs": [
    {
     "name": "stdout",
     "output_type": "stream",
     "text": [
      "Hello World\n"
     ]
    }
   ],
   "source": [
    "if str1.isspace():\n",
    "    print(\"hello\")\n",
    "else : print('Hello World')"
   ]
  },
  {
   "cell_type": "code",
   "execution_count": 76,
   "id": "29a6ce0a",
   "metadata": {},
   "outputs": [
    {
     "name": "stdout",
     "output_type": "stream",
     "text": [
      "PWskills\n"
     ]
    }
   ],
   "source": [
    "if str1.isspace() == False:\n",
    "    str1 = str1.replace('pw','PW')\n",
    "    print(str1)"
   ]
  },
  {
   "cell_type": "code",
   "execution_count": 77,
   "id": "d9e19079",
   "metadata": {},
   "outputs": [
    {
     "data": {
      "text/plain": [
       "True"
      ]
     },
     "execution_count": 77,
     "metadata": {},
     "output_type": "execute_result"
    }
   ],
   "source": [
    "str1.endswith('s')"
   ]
  },
  {
   "cell_type": "code",
   "execution_count": 78,
   "id": "d014e481",
   "metadata": {},
   "outputs": [
    {
     "data": {
      "text/plain": [
       "False"
      ]
     },
     "execution_count": 78,
     "metadata": {},
     "output_type": "execute_result"
    }
   ],
   "source": [
    "str1.endswith('\\n')"
   ]
  },
  {
   "cell_type": "code",
   "execution_count": 82,
   "id": "5b9ade4c",
   "metadata": {},
   "outputs": [
    {
     "name": "stdout",
     "output_type": "stream",
     "text": [
      "Success\n"
     ]
    }
   ],
   "source": [
    "stra = \"Hello123 \\t\"\n",
    "if stra.endswith('\\t') and stra.startswith('H'):\n",
    "    print(\"Success\")    "
   ]
  },
  {
   "cell_type": "code",
   "execution_count": 83,
   "id": "c0c19a23",
   "metadata": {},
   "outputs": [
    {
     "data": {
      "text/plain": [
       "False"
      ]
     },
     "execution_count": 83,
     "metadata": {},
     "output_type": "execute_result"
    }
   ],
   "source": [
    "stra.isalnum()"
   ]
  },
  {
   "cell_type": "code",
   "execution_count": 86,
   "id": "85a044ad",
   "metadata": {},
   "outputs": [
    {
     "data": {
      "text/plain": [
       "True"
      ]
     },
     "execution_count": 86,
     "metadata": {},
     "output_type": "execute_result"
    }
   ],
   "source": [
    "strb = 'Hello1234'\n",
    "strb.isalnum()"
   ]
  },
  {
   "cell_type": "markdown",
   "id": "6be44013",
   "metadata": {},
   "source": [
    "> To count the length of a string the user defined function is as follows : "
   ]
  },
  {
   "cell_type": "code",
   "execution_count": 89,
   "id": "d81787e2",
   "metadata": {},
   "outputs": [
    {
     "name": "stdout",
     "output_type": "stream",
     "text": [
      "Length of string Hello1234 identified by user defined function is 9\n"
     ]
    }
   ],
   "source": [
    "count = 0\n",
    "for i in strb:\n",
    "    count = count+1\n",
    "print(\"Length of string {} identified by user defined function is {}\".format(strb,count))"
   ]
  },
  {
   "cell_type": "code",
   "execution_count": 90,
   "id": "2bec6bc9",
   "metadata": {},
   "outputs": [
    {
     "data": {
      "text/plain": [
       "9"
      ]
     },
     "execution_count": 90,
     "metadata": {},
     "output_type": "execute_result"
    }
   ],
   "source": [
    "len(strb)"
   ]
  },
  {
   "cell_type": "code",
   "execution_count": 91,
   "id": "cf3eb28d",
   "metadata": {},
   "outputs": [
    {
     "name": "stdout",
     "output_type": "stream",
     "text": [
      "H\n",
      "e\n",
      "l\n",
      "l\n",
      "o\n",
      "1\n",
      "2\n",
      "3\n",
      "4\n"
     ]
    }
   ],
   "source": [
    "for i in strb:\n",
    "    print(i)"
   ]
  },
  {
   "cell_type": "code",
   "execution_count": 92,
   "id": "ce01a601",
   "metadata": {},
   "outputs": [
    {
     "name": "stdout",
     "output_type": "stream",
     "text": [
      "H\n",
      "e\n",
      "l\n",
      "l\n",
      "o\n",
      "1\n",
      "2\n",
      "3\n",
      "4\n"
     ]
    }
   ],
   "source": [
    "for i in range(len(strb)):\n",
    "    print(strb[i])"
   ]
  },
  {
   "cell_type": "code",
   "execution_count": 93,
   "id": "2ff76095",
   "metadata": {},
   "outputs": [
    {
     "data": {
      "text/plain": [
       "range(0, 9)"
      ]
     },
     "execution_count": 93,
     "metadata": {},
     "output_type": "execute_result"
    }
   ],
   "source": [
    "range(len(strb))"
   ]
  },
  {
   "cell_type": "code",
   "execution_count": 94,
   "id": "daae93ff",
   "metadata": {},
   "outputs": [
    {
     "name": "stdout",
     "output_type": "stream",
     "text": [
      "0 = H\n",
      "1 = e\n",
      "2 = l\n",
      "3 = l\n",
      "4 = o\n",
      "5 = 1\n",
      "6 = 2\n",
      "7 = 3\n",
      "8 = 4\n"
     ]
    }
   ],
   "source": [
    "for i in range(len(strb)):\n",
    "    print(i,'=',strb[i])"
   ]
  },
  {
   "cell_type": "code",
   "execution_count": 100,
   "id": "5df87474",
   "metadata": {},
   "outputs": [
    {
     "name": "stdout",
     "output_type": "stream",
     "text": [
      "str[0] = H\n",
      "str[1] = e\n",
      "str[2] = l\n",
      "str[3] = l\n",
      "str[4] = o\n",
      "str[5] = 1\n",
      "str[6] = 2\n",
      "str[7] = 3\n",
      "str[8] = 4\n"
     ]
    }
   ],
   "source": [
    "for i in range(len(strb)):\n",
    "    print(f\"str[{i}]\",'=',strb[i])"
   ]
  },
  {
   "cell_type": "code",
   "execution_count": 108,
   "id": "1bcdc10e",
   "metadata": {},
   "outputs": [
    {
     "name": "stdout",
     "output_type": "stream",
     "text": [
      "str[8] = 4\n",
      "str[7] = 3\n",
      "str[6] = 2\n",
      "str[5] = 1\n",
      "str[4] = o\n",
      "str[3] = l\n",
      "str[2] = l\n",
      "str[1] = e\n",
      "str[0] = H\n"
     ]
    }
   ],
   "source": [
    "# We can use index to iterate string in reverse direction \n",
    "for i in range(len(strb)-1,-1,-1):\n",
    "    print(f\"str[{i}]\",'=',strb[i]) # With for loop"
   ]
  },
  {
   "cell_type": "code",
   "execution_count": 110,
   "id": "9b7391c9",
   "metadata": {},
   "outputs": [
    {
     "data": {
      "text/plain": [
       "8"
      ]
     },
     "execution_count": 110,
     "metadata": {},
     "output_type": "execute_result"
    }
   ],
   "source": [
    "len(strb)-1"
   ]
  },
  {
   "cell_type": "code",
   "execution_count": 113,
   "id": "feef4fec",
   "metadata": {},
   "outputs": [
    {
     "name": "stdout",
     "output_type": "stream",
     "text": [
      "str[7] = s\n",
      "str[6] = l\n",
      "str[5] = l\n",
      "str[4] = i\n",
      "str[3] = k\n",
      "str[2] = s\n",
      "str[1] = w\n",
      "str[0] = p\n"
     ]
    }
   ],
   "source": [
    "# We can use index to iterate string in reverse direction but now using while loop \n",
    "string = 'pwskills'\n",
    "ch = len(string)-1\n",
    "while ch>=0:\n",
    "    print(f\"str[{ch}]\",\"=\",string[ch])\n",
    "    ch = ch-1\n",
    "    "
   ]
  },
  {
   "cell_type": "code",
   "execution_count": 121,
   "id": "4bafee28",
   "metadata": {},
   "outputs": [
    {
     "name": "stdout",
     "output_type": "stream",
     "text": [
      "String ends with 's' \n"
     ]
    }
   ],
   "source": [
    "# endswith('s')\n",
    "string = 'pwskills'\n",
    "for i in range(len(string)-1,-1,-1):\n",
    "    if string[i] == \"s\":\n",
    "        print(\"String ends with 's' \")\n",
    "        break"
   ]
  },
  {
   "cell_type": "code",
   "execution_count": 120,
   "id": "832b4276",
   "metadata": {},
   "outputs": [
    {
     "name": "stdout",
     "output_type": "stream",
     "text": [
      "String ends with e\n"
     ]
    }
   ],
   "source": [
    "string = \"Data Science\"\n",
    "for i in range(len(string)-1,-1,-1):\n",
    "    if string[i] == 'e':\n",
    "        print(\"String ends with e\")\n",
    "        break"
   ]
  },
  {
   "cell_type": "code",
   "execution_count": 122,
   "id": "f614a723",
   "metadata": {},
   "outputs": [
    {
     "data": {
      "text/plain": [
       "('s', 'l', 'l')"
      ]
     },
     "execution_count": 122,
     "metadata": {},
     "output_type": "execute_result"
    }
   ],
   "source": [
    "string[7],string[6],string[5]"
   ]
  },
  {
   "cell_type": "code",
   "execution_count": 123,
   "id": "bf2efb24",
   "metadata": {},
   "outputs": [
    {
     "name": "stdout",
     "output_type": "stream",
     "text": [
      "s\n",
      "l\n",
      "l\n",
      "i\n",
      "k\n",
      "s\n",
      "w\n",
      "p\n"
     ]
    }
   ],
   "source": [
    "ch = len(string)-1\n",
    "while ch>=0:\n",
    "    print(string[ch])\n",
    "    ch = ch-1"
   ]
  },
  {
   "cell_type": "code",
   "execution_count": 124,
   "id": "ddf1d959",
   "metadata": {},
   "outputs": [
    {
     "data": {
      "text/plain": [
       "8"
      ]
     },
     "execution_count": 124,
     "metadata": {},
     "output_type": "execute_result"
    }
   ],
   "source": [
    "len(string)"
   ]
  },
  {
   "cell_type": "code",
   "execution_count": 127,
   "id": "60de6630",
   "metadata": {},
   "outputs": [
    {
     "name": "stdout",
     "output_type": "stream",
     "text": [
      "sllikswp"
     ]
    }
   ],
   "source": [
    "string = 'pwskills'\n",
    "for i in range(len(string)):\n",
    "    print(string[len(string) - (i+1)],end = \"\")"
   ]
  },
  {
   "cell_type": "code",
   "execution_count": 131,
   "id": "55f872f4",
   "metadata": {},
   "outputs": [
    {
     "data": {
      "text/plain": [
       "'for i in range(len(Name)):\\n    if Name[i] == vowels[i]:\\n        print(string[i])'"
      ]
     },
     "execution_count": 131,
     "metadata": {},
     "output_type": "execute_result"
    }
   ],
   "source": [
    "Name = \"pwskills\"\n",
    "vowels = \"AaEeIiOoUu\"\n",
    "'''for i in range(len(Name)):\n",
    "    if Name[i] == vowels[i]:\n",
    "        print(string[i])'''"
   ]
  },
  {
   "cell_type": "code",
   "execution_count": 135,
   "id": "293198b1",
   "metadata": {},
   "outputs": [
    {
     "name": "stdout",
     "output_type": "stream",
     "text": [
      "p is not a vowel\n",
      "w is not a vowel\n",
      "s is not a vowel\n",
      "k is not a vowel\n",
      "i is a vowel\n",
      "l is not a vowel\n",
      "l is not a vowel\n",
      "s is not a vowel\n"
     ]
    }
   ],
   "source": [
    "for character in Name:\n",
    "    if character in vowels:\n",
    "        print(\"{} is a vowel\".format(character))\n",
    "    else : \n",
    "        print(\"{} is not a vowel\".format(character))"
   ]
  },
  {
   "cell_type": "markdown",
   "id": "a8bfb9e8",
   "metadata": {},
   "source": [
    "# List"
   ]
  },
  {
   "cell_type": "code",
   "execution_count": 136,
   "id": "84705b2a",
   "metadata": {},
   "outputs": [
    {
     "data": {
      "text/plain": [
       "list"
      ]
     },
     "execution_count": 136,
     "metadata": {},
     "output_type": "execute_result"
    }
   ],
   "source": [
    "type([])"
   ]
  },
  {
   "cell_type": "markdown",
   "id": "f24dc256",
   "metadata": {},
   "source": [
    "## List \n",
    ">If no argument is given, the constructor creates a new empty list.\n",
    "The argument must be an iterable if specified.\n",
    "1. iterable --> string,list\n",
    "2. List constructor --> list()"
   ]
  },
  {
   "cell_type": "code",
   "execution_count": 137,
   "id": "8fcb94b0",
   "metadata": {},
   "outputs": [
    {
     "data": {
      "text/plain": [
       "'PWskills'"
      ]
     },
     "execution_count": 137,
     "metadata": {},
     "output_type": "execute_result"
    }
   ],
   "source": [
    "str1"
   ]
  },
  {
   "cell_type": "code",
   "execution_count": 138,
   "id": "9ec40e49",
   "metadata": {},
   "outputs": [
    {
     "data": {
      "text/plain": [
       "['P', 'W', 's', 'k', 'i', 'l', 'l', 's']"
      ]
     },
     "execution_count": 138,
     "metadata": {},
     "output_type": "execute_result"
    }
   ],
   "source": [
    "list(str1)"
   ]
  },
  {
   "cell_type": "code",
   "execution_count": 139,
   "id": "b11e58ba",
   "metadata": {},
   "outputs": [],
   "source": [
    "str1 = \"PW Skills Data Science Masters 2.0\""
   ]
  },
  {
   "cell_type": "code",
   "execution_count": 144,
   "id": "5b90313f",
   "metadata": {},
   "outputs": [],
   "source": [
    "list1 = str1.split(\" \")"
   ]
  },
  {
   "cell_type": "code",
   "execution_count": 141,
   "id": "84209889",
   "metadata": {},
   "outputs": [
    {
     "data": {
      "text/plain": [
       "['PW', 'Skills', 'Data', 'Science', 'Masters', '2.0']"
      ]
     },
     "execution_count": 141,
     "metadata": {},
     "output_type": "execute_result"
    }
   ],
   "source": [
    "list(str1.split(\" \"))"
   ]
  },
  {
   "cell_type": "markdown",
   "id": "c37859b0",
   "metadata": {},
   "source": [
    "> Return type of split function used in string is \"list\""
   ]
  },
  {
   "cell_type": "code",
   "execution_count": 145,
   "id": "14c15879",
   "metadata": {},
   "outputs": [
    {
     "data": {
      "text/plain": [
       "['Skills', 'Data', 'Science', 'Masters', '2.0']"
      ]
     },
     "execution_count": 145,
     "metadata": {},
     "output_type": "execute_result"
    }
   ],
   "source": [
    "list1[1:]"
   ]
  },
  {
   "cell_type": "code",
   "execution_count": 147,
   "id": "7c88bb34",
   "metadata": {},
   "outputs": [],
   "source": [
    "list1[0] = 'pw'"
   ]
  },
  {
   "cell_type": "code",
   "execution_count": 148,
   "id": "78ef3c9e",
   "metadata": {
    "scrolled": true
   },
   "outputs": [
    {
     "data": {
      "text/plain": [
       "['pw', 'Skills', 'Data', 'Science', 'Masters', '2.0']"
      ]
     },
     "execution_count": 148,
     "metadata": {},
     "output_type": "execute_result"
    }
   ],
   "source": [
    "list1"
   ]
  },
  {
   "cell_type": "code",
   "execution_count": 150,
   "id": "71c6eff9",
   "metadata": {},
   "outputs": [],
   "source": [
    "list1[0] = 'PW'"
   ]
  },
  {
   "cell_type": "code",
   "execution_count": 151,
   "id": "b73ed8e1",
   "metadata": {},
   "outputs": [
    {
     "name": "stdout",
     "output_type": "stream",
     "text": [
      "['PW', 'Skills', 'Data', 'Science', 'Masters', '2.0']\n"
     ]
    }
   ],
   "source": [
    "print(list1)"
   ]
  },
  {
   "cell_type": "code",
   "execution_count": 154,
   "id": "31459ef6",
   "metadata": {},
   "outputs": [
    {
     "name": "stdout",
     "output_type": "stream",
     "text": [
      "Present\n"
     ]
    }
   ],
   "source": [
    "for char in list1:\n",
    "    if char == 'Science':\n",
    "        print(\"Present\")\n",
    "        break"
   ]
  },
  {
   "cell_type": "code",
   "execution_count": 156,
   "id": "ed1a346a",
   "metadata": {},
   "outputs": [
    {
     "data": {
      "text/plain": [
       "['PW',\n",
       " 'Skills',\n",
       " 'Data',\n",
       " 'Science',\n",
       " 'Masters',\n",
       " '2.0',\n",
       " 'PW',\n",
       " 'Skills',\n",
       " 'Data',\n",
       " 'Science',\n",
       " 'Masters',\n",
       " '2.0']"
      ]
     },
     "execution_count": 156,
     "metadata": {},
     "output_type": "execute_result"
    }
   ],
   "source": [
    "list1 + list1"
   ]
  },
  {
   "cell_type": "code",
   "execution_count": 158,
   "id": "ef3a0406",
   "metadata": {},
   "outputs": [
    {
     "data": {
      "text/plain": [
       "['PW',\n",
       " 'Skills',\n",
       " 'Data',\n",
       " 'Science',\n",
       " 'Masters',\n",
       " '2.0',\n",
       " 'PW',\n",
       " 'Skills',\n",
       " 'Data',\n",
       " 'Science',\n",
       " 'Masters',\n",
       " '2.0']"
      ]
     },
     "execution_count": 158,
     "metadata": {},
     "output_type": "execute_result"
    }
   ],
   "source": [
    "list1 *2"
   ]
  },
  {
   "cell_type": "code",
   "execution_count": 159,
   "id": "265081fc",
   "metadata": {},
   "outputs": [
    {
     "name": "stdout",
     "output_type": "stream",
     "text": [
      "Skills\n"
     ]
    }
   ],
   "source": [
    "print(max(list1))"
   ]
  },
  {
   "cell_type": "code",
   "execution_count": 160,
   "id": "a2634b2a",
   "metadata": {},
   "outputs": [
    {
     "name": "stdout",
     "output_type": "stream",
     "text": [
      "['PW', 'Skills', 'Data', 'Science', 'Masters', '2.0']\n"
     ]
    }
   ],
   "source": [
    "print(list1)"
   ]
  },
  {
   "cell_type": "code",
   "execution_count": 161,
   "id": "197d9096",
   "metadata": {},
   "outputs": [
    {
     "name": "stdout",
     "output_type": "stream",
     "text": [
      "2.0\n"
     ]
    }
   ],
   "source": [
    "print(min(list1))"
   ]
  },
  {
   "cell_type": "code",
   "execution_count": 162,
   "id": "53b21631",
   "metadata": {},
   "outputs": [
    {
     "data": {
      "text/plain": [
       "'2.0'"
      ]
     },
     "execution_count": 162,
     "metadata": {},
     "output_type": "execute_result"
    }
   ],
   "source": [
    "removed_element = list1.pop()\n",
    "removed_element"
   ]
  },
  {
   "cell_type": "code",
   "execution_count": 168,
   "id": "81be803e",
   "metadata": {},
   "outputs": [
    {
     "data": {
      "text/plain": [
       "['2.0', 'Data', 'Masters', 'PW', 'Science', 'Skills']"
      ]
     },
     "execution_count": 168,
     "metadata": {},
     "output_type": "execute_result"
    }
   ],
   "source": [
    "list1"
   ]
  },
  {
   "cell_type": "code",
   "execution_count": 164,
   "id": "d5094120",
   "metadata": {},
   "outputs": [],
   "source": [
    "list1.append(removed_element)"
   ]
  },
  {
   "cell_type": "code",
   "execution_count": 165,
   "id": "479a6fed",
   "metadata": {},
   "outputs": [
    {
     "name": "stdout",
     "output_type": "stream",
     "text": [
      "['PW', 'Skills', 'Data', 'Science', 'Masters', '2.0']\n"
     ]
    }
   ],
   "source": [
    "print(list1)"
   ]
  },
  {
   "cell_type": "code",
   "execution_count": 167,
   "id": "949397f1",
   "metadata": {},
   "outputs": [],
   "source": [
    "list1.sort()"
   ]
  },
  {
   "cell_type": "markdown",
   "id": "ff46e5e9",
   "metadata": {},
   "source": [
    "list1 "
   ]
  },
  {
   "cell_type": "code",
   "execution_count": 169,
   "id": "fa9eb4c8",
   "metadata": {},
   "outputs": [
    {
     "data": {
      "text/plain": [
       "['2.0', 'Data', 'Masters', 'PW', 'Science', 'Skills']"
      ]
     },
     "execution_count": 169,
     "metadata": {},
     "output_type": "execute_result"
    }
   ],
   "source": [
    "list1"
   ]
  },
  {
   "cell_type": "code",
   "execution_count": 170,
   "id": "f4b1d474",
   "metadata": {},
   "outputs": [],
   "source": [
    "list1.sort(reverse=True)"
   ]
  },
  {
   "cell_type": "code",
   "execution_count": 171,
   "id": "9efa6e4b",
   "metadata": {},
   "outputs": [
    {
     "data": {
      "text/plain": [
       "['Skills', 'Science', 'PW', 'Masters', 'Data', '2.0']"
      ]
     },
     "execution_count": 171,
     "metadata": {},
     "output_type": "execute_result"
    }
   ],
   "source": [
    "list1"
   ]
  },
  {
   "cell_type": "code",
   "execution_count": 176,
   "id": "7c9d26b9",
   "metadata": {},
   "outputs": [
    {
     "name": "stdout",
     "output_type": "stream",
     "text": [
      "Sum of even numbers and odd numbers in a list is 20 and 16 respectively\n"
     ]
    }
   ],
   "source": [
    "# Summesion of even and odd number\n",
    "lst = [1,2,3,4,5,6,7,8]\n",
    "even_sum = 0\n",
    "odd_sum = 0\n",
    "for i in range(len(lst)+1):\n",
    "    if i%2 == 0:\n",
    "        even_sum += i\n",
    "    else:\n",
    "        odd_sum += i\n",
    "print(\"Sum of even numbers and odd numbers in a list is {} and {} respectively\".format(even_sum,odd_sum))"
   ]
  },
  {
   "cell_type": "code",
   "execution_count": 184,
   "id": "ed800d6f",
   "metadata": {},
   "outputs": [
    {
     "data": {
      "text/plain": [
       "20"
      ]
     },
     "execution_count": 184,
     "metadata": {},
     "output_type": "execute_result"
    }
   ],
   "source": [
    "even_sum = sum([num for num in lst if num%2==0])\n",
    "even_sum"
   ]
  },
  {
   "cell_type": "code",
   "execution_count": 187,
   "id": "d7f76de7",
   "metadata": {},
   "outputs": [
    {
     "data": {
      "text/plain": [
       "16"
      ]
     },
     "execution_count": 187,
     "metadata": {},
     "output_type": "execute_result"
    }
   ],
   "source": [
    "odd_sum = sum([num for num in lst if num%2!=0])\n",
    "odd_sum"
   ]
  },
  {
   "cell_type": "code",
   "execution_count": 201,
   "id": "2ec08740",
   "metadata": {},
   "outputs": [
    {
     "name": "stdout",
     "output_type": "stream",
     "text": [
      "[1, 4, 9, 16, 25, 36, 49, 64, 81, 100]\n"
     ]
    }
   ],
   "source": [
    "lst = [1,2,3,4,5,6,7,8,9,10]\n",
    "lst_appended_items = []\n",
    "for num in lst:\n",
    "    num = num**2 \n",
    "    lst_appended_items.append(num)\n",
    "    \n",
    "print(lst_appended_items)"
   ]
  },
  {
   "cell_type": "code",
   "execution_count": 197,
   "id": "5c2eea29",
   "metadata": {},
   "outputs": [
    {
     "data": {
      "text/plain": [
       "[1, 4, 9, 16, 25, 36, 49, 64, 81, 100]"
      ]
     },
     "execution_count": 197,
     "metadata": {},
     "output_type": "execute_result"
    }
   ],
   "source": [
    "[num**2 for num in lst]"
   ]
  },
  {
   "cell_type": "code",
   "execution_count": 198,
   "id": "69696732",
   "metadata": {},
   "outputs": [
    {
     "data": {
      "text/plain": [
       "[1, 2, 3, 4, 5, 6, 7, 8, 9, 10]"
      ]
     },
     "execution_count": 198,
     "metadata": {},
     "output_type": "execute_result"
    }
   ],
   "source": [
    "lst"
   ]
  },
  {
   "cell_type": "code",
   "execution_count": 213,
   "id": "186e7662",
   "metadata": {},
   "outputs": [
    {
     "name": "stdout",
     "output_type": "stream",
     "text": [
      "1 2 3 4 "
     ]
    }
   ],
   "source": [
    "# Create a list of only positive number from a given list\n",
    "lsta = [-2,-1,0,1,2,3,4]\n",
    "for num in lsta:\n",
    "    if num>0:\n",
    "        print(num,end=\" \")"
   ]
  },
  {
   "cell_type": "code",
   "execution_count": 211,
   "id": "a3758d90",
   "metadata": {},
   "outputs": [
    {
     "data": {
      "text/plain": [
       "[1, 2, 3, 4]"
      ]
     },
     "execution_count": 211,
     "metadata": {},
     "output_type": "execute_result"
    }
   ],
   "source": [
    "[num for num in lsta if num>0]"
   ]
  },
  {
   "cell_type": "code",
   "execution_count": 217,
   "id": "bf395f8e",
   "metadata": {},
   "outputs": [
    {
     "data": {
      "text/plain": [
       "['a', 'b', 'c', 'd']"
      ]
     },
     "execution_count": 217,
     "metadata": {},
     "output_type": "execute_result"
    }
   ],
   "source": [
    "# Create a list of only first letters of the word in a list\n",
    "words = ['apple','banana','cherry','dates']\n",
    "[word[0] for word in words]"
   ]
  },
  {
   "cell_type": "code",
   "execution_count": 218,
   "id": "b11cc0b1",
   "metadata": {},
   "outputs": [
    {
     "data": {
      "text/plain": [
       "['e', 'a', 'y', 's']"
      ]
     },
     "execution_count": 218,
     "metadata": {},
     "output_type": "execute_result"
    }
   ],
   "source": [
    "# Create a list of only first letters of the word in a list\n",
    "words = ['apple','banana','cherry','dates']\n",
    "[word[-1] for word in words]"
   ]
  },
  {
   "cell_type": "markdown",
   "id": "05eefec6",
   "metadata": {},
   "source": [
    "## Temp to Fahrenheit formula\n",
    ">(9/5)*temp+32"
   ]
  },
  {
   "cell_type": "code",
   "execution_count": 224,
   "id": "a5888d9c",
   "metadata": {},
   "outputs": [
    {
     "data": {
      "text/plain": [
       "[32.0, 50.0, 68.0, 86.0, 104.0, 122.0]"
      ]
     },
     "execution_count": 224,
     "metadata": {},
     "output_type": "execute_result"
    }
   ],
   "source": [
    "# Convert a list of temperature from Celcius to Fahrenheit using list comprehension\n",
    "celcius_temperature = [0,10,20,30,40,50]\n",
    "[((9/5)*temp +32) for temp in celcius_temperature]"
   ]
  },
  {
   "cell_type": "code",
   "execution_count": 225,
   "id": "42a080a0",
   "metadata": {},
   "outputs": [
    {
     "data": {
      "text/plain": [
       "[32, 50, 68, 86, 104, 122]"
      ]
     },
     "execution_count": 225,
     "metadata": {},
     "output_type": "execute_result"
    }
   ],
   "source": [
    "# Convert a list of temperature from Celcius to Fahrenheit using list comprehension\n",
    "celcius_temperature = [0,10,20,30,40,50]\n",
    "[int((9/5)*temp +32) for temp in celcius_temperature]"
   ]
  },
  {
   "cell_type": "code",
   "execution_count": 234,
   "id": "f5b9e92f",
   "metadata": {},
   "outputs": [
    {
     "data": {
      "text/plain": [
       "[1, 2, 3, 4, 5, 6, 7, 8, 9]"
      ]
     },
     "execution_count": 234,
     "metadata": {},
     "output_type": "execute_result"
    }
   ],
   "source": [
    "# Flatten a lsit of lists into a single list\n",
    "lists = [[1,2,3],[4,5,6],[7,8,9]]\n",
    "[num for sublist in lists for num in sublist]"
   ]
  },
  {
   "cell_type": "code",
   "execution_count": null,
   "id": "f4b89ac1",
   "metadata": {},
   "outputs": [],
   "source": [
    "# Create a list of only the prime numbers in a given list\n",
    "# Using both code and list comprehension\n",
    "lst = [1,2,3,4,5,6,7,8,9,10]\n",
    "for num in lst:\n",
    "    "
   ]
  },
  {
   "cell_type": "code",
   "execution_count": null,
   "id": "1e839df1",
   "metadata": {},
   "outputs": [],
   "source": [
    "# Create a list of all possible combinations of 2 elements from a list\n",
    "lst = [1,2,3,4,5]"
   ]
  },
  {
   "cell_type": "code",
   "execution_count": 236,
   "id": "b00a1e8a",
   "metadata": {},
   "outputs": [],
   "source": [
    "# AI is something which performs tasks without human intervention"
   ]
  },
  {
   "cell_type": "markdown",
   "id": "794755af",
   "metadata": {},
   "source": [
    "1. Supervised Learning --> has output label\n",
    "2. Unsupervised learning --> do not have output label \n",
    "3. Reinforcement learning --> machine learns by itself\n",
    "> e.g. You are said that if you top in 10th class, you will get a surprise gift. So, for that you will try to acheive it by giving your best. "
   ]
  },
  {
   "cell_type": "code",
   "execution_count": null,
   "id": "375b46b7",
   "metadata": {},
   "outputs": [],
   "source": []
  }
 ],
 "metadata": {
  "kernelspec": {
   "display_name": "Python 3 (ipykernel)",
   "language": "python",
   "name": "python3"
  },
  "language_info": {
   "codemirror_mode": {
    "name": "ipython",
    "version": 3
   },
   "file_extension": ".py",
   "mimetype": "text/x-python",
   "name": "python",
   "nbconvert_exporter": "python",
   "pygments_lexer": "ipython3",
   "version": "3.10.9"
  }
 },
 "nbformat": 4,
 "nbformat_minor": 5
}
