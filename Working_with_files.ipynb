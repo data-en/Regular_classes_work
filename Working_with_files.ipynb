{
 "cells": [
  {
   "cell_type": "markdown",
   "id": "4d9dc2ae",
   "metadata": {},
   "source": [
    "## Files and Exceptional Handling and Memory Management "
   ]
  },
  {
   "cell_type": "markdown",
   "id": "17984fdf",
   "metadata": {},
   "source": [
    "### Working with Files"
   ]
  },
  {
   "cell_type": "code",
   "execution_count": 8,
   "id": "1020619e",
   "metadata": {},
   "outputs": [],
   "source": [
    "file0 = open('test.txt','w')"
   ]
  },
  {
   "cell_type": "code",
   "execution_count": 2,
   "id": "fcd6e516",
   "metadata": {},
   "outputs": [
    {
     "data": {
      "text/plain": [
       "'C:\\\\Users\\\\yashg'"
      ]
     },
     "execution_count": 2,
     "metadata": {},
     "output_type": "execute_result"
    }
   ],
   "source": [
    "pwd"
   ]
  },
  {
   "cell_type": "code",
   "execution_count": 3,
   "id": "661104cd",
   "metadata": {},
   "outputs": [
    {
     "name": "stdout",
     "output_type": "stream",
     "text": [
      " Volume in drive C is Windows\n",
      " Volume Serial Number is 7804-EB2C\n",
      "\n",
      " Directory of C:\\Users\\yashg\n",
      "\n",
      "26-06-2023  15:49    <DIR>          .\n",
      "20-05-2023  17:24    <DIR>          ..\n",
      "24-06-2023  09:39    <DIR>          .conda\n",
      "20-05-2023  23:10                25 .condarc\n",
      "20-05-2023  23:09    <DIR>          .continuum\n",
      "26-06-2023  15:17    <DIR>          .ipynb_checkpoints\n",
      "20-05-2023  23:18    <DIR>          .ipython\n",
      "24-06-2023  09:38    <DIR>          .jupyter\n",
      "23-06-2023  23:53    <DIR>          .matplotlib\n",
      "24-06-2023  08:55    <DIR>          .vscode\n",
      "20-05-2023  23:09    <DIR>          anaconda3\n",
      "08-06-2023  01:13             3,642 Calculator.ipynb\n",
      "11-06-2023  12:34             1,561 class_student.ipynb\n",
      "10-06-2023  12:14             7,044 Complex Calculator.ipynb\n",
      "20-05-2023  17:06    <DIR>          Contacts\n",
      "21-06-2023  23:22             6,719 Data_Structures_Assignment.ipynb\n",
      "21-06-2023  23:32             6,635 Data_Structures_Assignment-Copy1.ipynb\n",
      "20-06-2023  00:47            22,094 Day2.ipynb\n",
      "21-06-2023  07:52            41,812 Day3.ipynb\n",
      "21-06-2023  21:58            21,687 Dictionary.ipynb\n",
      "20-05-2023  17:09    <DIR>          Documents\n",
      "26-06-2023  06:53    <DIR>          Downloads\n",
      "20-05-2023  17:06    <DIR>          Favorites\n",
      "23-06-2023  09:38            13,489 Functions assignment .ipynb\n",
      "23-06-2023  09:19            49,526 Functions.ipynb\n",
      "23-06-2023  11:43            11,383 Functions_Assignment.ipynb\n",
      "10-06-2023  01:07             4,845 If Else Statement.ipynb\n",
      "24-06-2023  09:22             7,234 install.log\n",
      "20-05-2023  17:06    <DIR>          Links\n",
      "20-05-2023  17:06    <DIR>          Music\n",
      "25-06-2023  15:22    <DIR>          OneDrive\n",
      "23-06-2023  14:05             6,851 OOPS.ipynb\n",
      "26-06-2023  08:09            11,392 OOPS_Assignment.ipynb\n",
      "26-06-2023  12:09            76,661 OOPS_DSM.ipynb\n",
      "26-06-2023  12:13            12,830 OOPS_Task_Assignment.ipynb\n",
      "21-05-2023  14:04             5,769 Python Strings.ipynb\n",
      "23-06-2023  12:41             5,555 Python_Assignment_1.ipynb\n",
      "20-05-2023  17:06    <DIR>          Saved Games\n",
      "03-06-2023  15:44    <DIR>          Searches\n",
      "21-06-2023  19:50            14,029 Set.ipynb\n",
      "10-06-2023  01:09             8,831 SI & CI calculator.ipynb\n",
      "26-06-2023  15:48                 0 test.txt\n",
      "22-05-2023  01:21            13,116 Tuple & List.ipynb\n",
      "21-06-2023  08:16             8,523 Tuple.ipynb\n",
      "21-05-2023  00:18             6,779 Untitled.ipynb\n",
      "21-05-2023  00:36             4,005 Untitled1.ipynb\n",
      "21-06-2023  07:52            41,674 Untitled10.ipynb\n",
      "21-06-2023  08:16             8,523 Untitled11.ipynb\n",
      "21-06-2023  19:50            14,029 Untitled12.ipynb\n",
      "21-06-2023  19:50                72 Untitled13.ipynb\n",
      "21-06-2023  21:58                72 Untitled14.ipynb\n",
      "22-06-2023  09:39                72 Untitled15.ipynb\n",
      "23-06-2023  09:24               589 Untitled16.ipynb\n",
      "23-06-2023  09:50                72 Untitled17.ipynb\n",
      "23-06-2023  10:01             2,110 Untitled18.ipynb\n",
      "23-06-2023  11:30                72 Untitled19.ipynb\n",
      "22-05-2023  01:20            13,116 Untitled2.ipynb\n",
      "23-06-2023  12:52                72 Untitled20.ipynb\n",
      "23-06-2023  12:53                72 Untitled21.ipynb\n",
      "24-06-2023  09:42               589 Untitled22.ipynb\n",
      "26-06-2023  01:01                72 Untitled23.ipynb\n",
      "26-06-2023  08:09            11,392 Untitled24.ipynb\n",
      "26-06-2023  08:11                72 Untitled25.ipynb\n",
      "26-06-2023  15:17                72 Untitled26.ipynb\n",
      "26-06-2023  15:49             1,378 Untitled27.ipynb\n",
      "09-06-2023  20:17             8,831 Untitled3.ipynb\n",
      "25-05-2023  00:56                72 Untitled4.ipynb\n",
      "01-06-2023  23:10             3,273 Untitled5.ipynb\n",
      "09-06-2023  21:14       315,912,767 Untitled6.ipynb\n",
      "10-06-2023  14:21             2,753 Untitled7.ipynb\n",
      "11-06-2023  12:33             1,561 Untitled8.ipynb\n",
      "20-06-2023  00:42            22,094 Untitled9.ipynb\n",
      "22-05-2023  13:40    <DIR>          Videos\n",
      "21-05-2023  00:19             6,779 yash's first python code.ipynb\n",
      "              54 File(s)    316,424,287 bytes\n",
      "              20 Dir(s)  170,098,016,256 bytes free\n"
     ]
    }
   ],
   "source": [
    "ls"
   ]
  },
  {
   "cell_type": "code",
   "execution_count": 5,
   "id": "7283d066",
   "metadata": {},
   "outputs": [],
   "source": [
    "file0.write(\"This is my first write operation in the file\")## 44 is byte size of data passed in the file to write\n",
    "file0.close()"
   ]
  },
  {
   "cell_type": "code",
   "execution_count": 9,
   "id": "813d124d",
   "metadata": {},
   "outputs": [
    {
     "data": {
      "text/plain": [
       "459"
      ]
     },
     "execution_count": 9,
     "metadata": {},
     "output_type": "execute_result"
    }
   ],
   "source": [
    "file0.write(\"Method overriding is an ability of any object-oriented programming language that allows a subclass or child class to provide a specific implementation of a method that is already provided by one of its super-classes or parent classes. When a method in a subclass has the same name, same parameters or signature and same return type(or sub-type) as a method in its super-class, then the method in the subclass is said to override the method in the super-class.\")## 44 is byte size of data passed in the file to write\n"
   ]
  },
  {
   "cell_type": "code",
   "execution_count": 10,
   "id": "31f37a9b",
   "metadata": {},
   "outputs": [],
   "source": [
    "file0.close()"
   ]
  },
  {
   "cell_type": "code",
   "execution_count": 16,
   "id": "a38178a4",
   "metadata": {},
   "outputs": [],
   "source": [
    "file0 = open('test.txt','a')"
   ]
  },
  {
   "cell_type": "code",
   "execution_count": 17,
   "id": "d35cd462",
   "metadata": {},
   "outputs": [
    {
     "data": {
      "text/plain": [
       "280"
      ]
     },
     "execution_count": 17,
     "metadata": {},
     "output_type": "execute_result"
    }
   ],
   "source": [
    "file0.write('Data science is the study of data to extract meaningful insights for business. It is a multidisciplinary approach that combines principles and practices from the fields of mathematics, statistics, artificial intelligence, and computer engineering to analyze large amounts of data.')"
   ]
  },
  {
   "cell_type": "code",
   "execution_count": 18,
   "id": "d8347f0e",
   "metadata": {},
   "outputs": [],
   "source": [
    "file0.close()"
   ]
  },
  {
   "cell_type": "code",
   "execution_count": 19,
   "id": "70f9fd0d",
   "metadata": {},
   "outputs": [],
   "source": [
    "data = open('test.txt','r')"
   ]
  },
  {
   "cell_type": "code",
   "execution_count": 20,
   "id": "b16cc9c4",
   "metadata": {},
   "outputs": [
    {
     "data": {
      "text/plain": [
       "'Data science is the study of data to extract meaningful insights for business. It is a multidisciplinary approach that combines principles and practices from the fields of mathematics, statistics, artificial intelligence, and computer engineering to analyze large amounts of data.Data science is the study of data to extract meaningful insights for business. It is a multidisciplinary approach that combines principles and practices from the fields of mathematics, statistics, artificial intelligence, and computer engineering to analyze large amounts of data.'"
      ]
     },
     "execution_count": 20,
     "metadata": {},
     "output_type": "execute_result"
    }
   ],
   "source": [
    "data.read()"
   ]
  },
  {
   "cell_type": "code",
   "execution_count": 21,
   "id": "b297b0f5",
   "metadata": {},
   "outputs": [
    {
     "data": {
      "text/plain": [
       "''"
      ]
     },
     "execution_count": 21,
     "metadata": {},
     "output_type": "execute_result"
    }
   ],
   "source": [
    "data.read()"
   ]
  },
  {
   "cell_type": "code",
   "execution_count": 22,
   "id": "b9826c1b",
   "metadata": {},
   "outputs": [
    {
     "data": {
      "text/plain": [
       "0"
      ]
     },
     "execution_count": 22,
     "metadata": {},
     "output_type": "execute_result"
    }
   ],
   "source": [
    "data.seek(0)"
   ]
  },
  {
   "cell_type": "code",
   "execution_count": 23,
   "id": "7f23b41e",
   "metadata": {},
   "outputs": [
    {
     "data": {
      "text/plain": [
       "'Data science is the study of data to extract meaningful insights for business. It is a multidisciplinary approach that combines principles and practices from the fields of mathematics, statistics, artificial intelligence, and computer engineering to analyze large amounts of data.Data science is the study of data to extract meaningful insights for business. It is a multidisciplinary approach that combines principles and practices from the fields of mathematics, statistics, artificial intelligence, and computer engineering to analyze large amounts of data.'"
      ]
     },
     "execution_count": 23,
     "metadata": {},
     "output_type": "execute_result"
    }
   ],
   "source": [
    "data.read()"
   ]
  },
  {
   "cell_type": "code",
   "execution_count": 24,
   "id": "a0d31d43",
   "metadata": {},
   "outputs": [
    {
     "data": {
      "text/plain": [
       "4"
      ]
     },
     "execution_count": 24,
     "metadata": {},
     "output_type": "execute_result"
    }
   ],
   "source": [
    "data.seek(4)"
   ]
  },
  {
   "cell_type": "code",
   "execution_count": 25,
   "id": "507c7c98",
   "metadata": {},
   "outputs": [
    {
     "data": {
      "text/plain": [
       "' science is the study of data to extract meaningful insights for business. It is a multidisciplinary approach that combines principles and practices from the fields of mathematics, statistics, artificial intelligence, and computer engineering to analyze large amounts of data.Data science is the study of data to extract meaningful insights for business. It is a multidisciplinary approach that combines principles and practices from the fields of mathematics, statistics, artificial intelligence, and computer engineering to analyze large amounts of data.'"
      ]
     },
     "execution_count": 25,
     "metadata": {},
     "output_type": "execute_result"
    }
   ],
   "source": [
    "data.read()"
   ]
  },
  {
   "cell_type": "code",
   "execution_count": 26,
   "id": "d1f5f3fd",
   "metadata": {},
   "outputs": [
    {
     "data": {
      "text/plain": [
       "''"
      ]
     },
     "execution_count": 26,
     "metadata": {},
     "output_type": "execute_result"
    }
   ],
   "source": [
    "data.read()"
   ]
  },
  {
   "cell_type": "code",
   "execution_count": 32,
   "id": "accf543a",
   "metadata": {},
   "outputs": [],
   "source": [
    "data1 = open('test.txt','r')"
   ]
  },
  {
   "cell_type": "code",
   "execution_count": 33,
   "id": "08379967",
   "metadata": {},
   "outputs": [
    {
     "name": "stdout",
     "output_type": "stream",
     "text": [
      "Data science is the study of data to extract meaningful insights for business. It is a multidisciplinary approach that combines principles and practices from the fields of mathematics, statistics, artificial intelligence, and computer engineering to analyze large amounts of data.Data science is the study of data to extract meaningful insights for business. It is a multidisciplinary approach that combines principles and practices from the fields of mathematics, statistics, artificial intelligence, and computer engineering to analyze large amounts of data.\n"
     ]
    }
   ],
   "source": [
    "for i in data1 : \n",
    "    print(i)"
   ]
  },
  {
   "cell_type": "code",
   "execution_count": 37,
   "id": "98190e68",
   "metadata": {
    "scrolled": true
   },
   "outputs": [
    {
     "name": "stdout",
     "output_type": "stream",
     "text": [
      "Help on module ntpath:\n",
      "\n",
      "NAME\n",
      "    ntpath - Common pathname manipulations, WindowsNT/95 version.\n",
      "\n",
      "MODULE REFERENCE\n",
      "    https://docs.python.org/3.10/library/ntpath.html\n",
      "    \n",
      "    The following documentation is automatically generated from the Python\n",
      "    source files.  It may be incomplete, incorrect or include features that\n",
      "    are considered implementation detail and may vary between Python\n",
      "    implementations.  When in doubt, consult the module reference at the\n",
      "    location listed above.\n",
      "\n",
      "DESCRIPTION\n",
      "    Instead of importing this module directly, import os and refer to this\n",
      "    module as os.path.\n",
      "\n",
      "FUNCTIONS\n",
      "    abspath(path)\n",
      "        Return the absolute version of a path.\n",
      "    \n",
      "    basename(p)\n",
      "        Returns the final component of a pathname\n",
      "    \n",
      "    commonpath(paths)\n",
      "        Given a sequence of path names, returns the longest common sub-path.\n",
      "    \n",
      "    commonprefix(m)\n",
      "        Given a list of pathnames, returns the longest common leading component\n",
      "    \n",
      "    dirname(p)\n",
      "        Returns the directory component of a pathname\n",
      "    \n",
      "    exists(path)\n",
      "        Test whether a path exists.  Returns False for broken symbolic links\n",
      "    \n",
      "    expanduser(path)\n",
      "        Expand ~ and ~user constructs.\n",
      "        \n",
      "        If user or $HOME is unknown, do nothing.\n",
      "    \n",
      "    expandvars(path)\n",
      "        Expand shell variables of the forms $var, ${var} and %var%.\n",
      "        \n",
      "        Unknown variables are left unchanged.\n",
      "    \n",
      "    getatime(filename)\n",
      "        Return the last access time of a file, reported by os.stat().\n",
      "    \n",
      "    getctime(filename)\n",
      "        Return the metadata change time of a file, reported by os.stat().\n",
      "    \n",
      "    getmtime(filename)\n",
      "        Return the last modification time of a file, reported by os.stat().\n",
      "    \n",
      "    getsize(filename)\n",
      "        Return the size of a file, reported by os.stat().\n",
      "    \n",
      "    isabs(s)\n",
      "        Test whether a path is absolute\n",
      "    \n",
      "    isdir(s)\n",
      "        Return true if the pathname refers to an existing directory.\n",
      "    \n",
      "    isfile(path)\n",
      "        Test whether a path is a regular file\n",
      "    \n",
      "    islink(path)\n",
      "        Test whether a path is a symbolic link.\n",
      "        This will always return false for Windows prior to 6.0.\n",
      "    \n",
      "    ismount(path)\n",
      "        Test whether a path is a mount point (a drive root, the root of a\n",
      "        share, or a mounted volume)\n",
      "    \n",
      "    join(path, *paths)\n",
      "        # Join two (or more) paths.\n",
      "    \n",
      "    lexists(path)\n",
      "        Test whether a path exists.  Returns True for broken symbolic links\n",
      "    \n",
      "    normcase(s)\n",
      "        Normalize case of pathname.\n",
      "        \n",
      "        Makes all characters lowercase and all slashes into backslashes.\n",
      "    \n",
      "    normpath(path)\n",
      "        Normalize path, eliminating double slashes, etc.\n",
      "    \n",
      "    realpath(path, *, strict=False)\n",
      "    \n",
      "    relpath(path, start=None)\n",
      "        Return a relative version of a path\n",
      "    \n",
      "    samefile(f1, f2)\n",
      "        Test whether two pathnames reference the same actual file or directory\n",
      "        \n",
      "        This is determined by the device number and i-node number and\n",
      "        raises an exception if an os.stat() call on either pathname fails.\n",
      "    \n",
      "    sameopenfile(fp1, fp2)\n",
      "        Test whether two open file objects reference the same file\n",
      "    \n",
      "    samestat(s1, s2)\n",
      "        Test whether two stat buffers reference the same file\n",
      "    \n",
      "    split(p)\n",
      "        Split a pathname.\n",
      "        \n",
      "        Return tuple (head, tail) where tail is everything after the final slash.\n",
      "        Either part may be empty.\n",
      "    \n",
      "    splitdrive(p)\n",
      "        Split a pathname into drive/UNC sharepoint and relative path specifiers.\n",
      "        Returns a 2-tuple (drive_or_unc, path); either part may be empty.\n",
      "        \n",
      "        If you assign\n",
      "            result = splitdrive(p)\n",
      "        It is always true that:\n",
      "            result[0] + result[1] == p\n",
      "        \n",
      "        If the path contained a drive letter, drive_or_unc will contain everything\n",
      "        up to and including the colon.  e.g. splitdrive(\"c:/dir\") returns (\"c:\", \"/dir\")\n",
      "        \n",
      "        If the path contained a UNC path, the drive_or_unc will contain the host name\n",
      "        and share up to but not including the fourth directory separator character.\n",
      "        e.g. splitdrive(\"//host/computer/dir\") returns (\"//host/computer\", \"/dir\")\n",
      "        \n",
      "        Paths cannot contain both a drive letter and a UNC path.\n",
      "    \n",
      "    splitext(p)\n",
      "        Split the extension from a pathname.\n",
      "        \n",
      "        Extension is everything from the last dot to the end, ignoring\n",
      "        leading dots.  Returns \"(root, ext)\"; ext may be empty.\n",
      "\n",
      "DATA\n",
      "    __all__ = ['normcase', 'isabs', 'join', 'splitdrive', 'split', 'splite...\n",
      "    altsep = '/'\n",
      "    curdir = '.'\n",
      "    defpath = r'.;C:\\bin'\n",
      "    devnull = 'nul'\n",
      "    extsep = '.'\n",
      "    pardir = '..'\n",
      "    pathsep = ';'\n",
      "    sep = r'\\'\n",
      "    supports_unicode_filenames = True\n",
      "\n",
      "FILE\n",
      "    c:\\anaconda\\lib\\ntpath.py\n",
      "\n",
      "\n"
     ]
    }
   ],
   "source": [
    "help(os.path)"
   ]
  },
  {
   "cell_type": "code",
   "execution_count": 34,
   "id": "b3a26d28",
   "metadata": {},
   "outputs": [],
   "source": [
    "import os"
   ]
  },
  {
   "cell_type": "code",
   "execution_count": 38,
   "id": "ea351416",
   "metadata": {},
   "outputs": [
    {
     "data": {
      "text/plain": [
       "560"
      ]
     },
     "execution_count": 38,
     "metadata": {},
     "output_type": "execute_result"
    }
   ],
   "source": [
    "os.path.getsize('test.txt')"
   ]
  },
  {
   "cell_type": "code",
   "execution_count": 39,
   "id": "45b36af4",
   "metadata": {},
   "outputs": [
    {
     "data": {
      "text/plain": [
       "'new_text.txt'"
      ]
     },
     "execution_count": 39,
     "metadata": {},
     "output_type": "execute_result"
    }
   ],
   "source": [
    "# To create a new file\n",
    "import shutil\n",
    "shutil.copy('test.txt','new_text.txt')"
   ]
  },
  {
   "cell_type": "code",
   "execution_count": 40,
   "id": "15d556a3",
   "metadata": {},
   "outputs": [],
   "source": [
    "os.remove('new_text.txt')"
   ]
  },
  {
   "cell_type": "code",
   "execution_count": 41,
   "id": "ef615a46",
   "metadata": {
    "scrolled": true
   },
   "outputs": [
    {
     "name": "stdout",
     "output_type": "stream",
     "text": [
      "Data science is the study of data to extract meaningful insights for business. It is a multidisciplinary approach that combines principles and practices from the fields of mathematics, statistics, artificial intelligence, and computer engineering to analyze large amounts of data.Data science is the study of data to extract meaningful insights for business. It is a multidisciplinary approach that combines principles and practices from the fields of mathematics, statistics, artificial intelligence, and computer engineering to analyze large amounts of data.\n"
     ]
    }
   ],
   "source": [
    "with open('test.txt','r') as file1:\n",
    "    print(file1.read())"
   ]
  },
  {
   "cell_type": "code",
   "execution_count": 44,
   "id": "47f53525",
   "metadata": {},
   "outputs": [],
   "source": [
    "file1.close()"
   ]
  },
  {
   "cell_type": "code",
   "execution_count": 47,
   "id": "acddace9",
   "metadata": {},
   "outputs": [
    {
     "ename": "PermissionError",
     "evalue": "[WinError 32] The process cannot access the file because it is being used by another process: 'test.txt' -> 'test11.txt'",
     "output_type": "error",
     "traceback": [
      "\u001b[1;31m---------------------------------------------------------------------------\u001b[0m",
      "\u001b[1;31mPermissionError\u001b[0m                           Traceback (most recent call last)",
      "Cell \u001b[1;32mIn[47], line 1\u001b[0m\n\u001b[1;32m----> 1\u001b[0m \u001b[43mos\u001b[49m\u001b[38;5;241;43m.\u001b[39;49m\u001b[43mrename\u001b[49m\u001b[43m(\u001b[49m\u001b[38;5;124;43m'\u001b[39;49m\u001b[38;5;124;43mtest.txt\u001b[39;49m\u001b[38;5;124;43m'\u001b[39;49m\u001b[43m,\u001b[49m\u001b[38;5;124;43m'\u001b[39;49m\u001b[38;5;124;43mtest11.txt\u001b[39;49m\u001b[38;5;124;43m'\u001b[39;49m\u001b[43m)\u001b[49m\n",
      "\u001b[1;31mPermissionError\u001b[0m: [WinError 32] The process cannot access the file because it is being used by another process: 'test.txt' -> 'test11.txt'"
     ]
    }
   ],
   "source": [
    "os.rename('test.txt','test11.txt')"
   ]
  },
  {
   "cell_type": "code",
   "execution_count": null,
   "id": "d31b6dd0",
   "metadata": {},
   "outputs": [],
   "source": []
  }
 ],
 "metadata": {
  "kernelspec": {
   "display_name": "Python 3 (ipykernel)",
   "language": "python",
   "name": "python3"
  },
  "language_info": {
   "codemirror_mode": {
    "name": "ipython",
    "version": 3
   },
   "file_extension": ".py",
   "mimetype": "text/x-python",
   "name": "python",
   "nbconvert_exporter": "python",
   "pygments_lexer": "ipython3",
   "version": "3.10.9"
  }
 },
 "nbformat": 4,
 "nbformat_minor": 5
}
