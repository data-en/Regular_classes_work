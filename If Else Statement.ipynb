{
 "cells": [
  {
   "cell_type": "code",
   "execution_count": 1,
   "id": "6a2ea1b1",
   "metadata": {},
   "outputs": [],
   "source": [
    "# If Statement"
   ]
  },
  {
   "cell_type": "code",
   "execution_count": 9,
   "id": "185e9263",
   "metadata": {},
   "outputs": [],
   "source": [
    "# Suedo Code : If(condition){\n",
    "#Statements to be executed...\n",
    "#}\n",
    "#else{\n",
    " #   Statements to be executed\n",
    "#}"
   ]
  },
  {
   "cell_type": "code",
   "execution_count": 10,
   "id": "c88565b6",
   "metadata": {},
   "outputs": [],
   "source": [
    "a = 10 \n",
    "b = 20"
   ]
  },
  {
   "cell_type": "code",
   "execution_count": 11,
   "id": "8e4ff43a",
   "metadata": {},
   "outputs": [
    {
     "name": "stdout",
     "output_type": "stream",
     "text": [
      "B is greater than A\n"
     ]
    }
   ],
   "source": [
    "if b>a :\n",
    "    print(\"B is greater than A\")"
   ]
  },
  {
   "cell_type": "code",
   "execution_count": 12,
   "id": "7ac7b6d1",
   "metadata": {},
   "outputs": [],
   "source": [
    "# After If condition in 2nd line we have to give spave(Indentation)"
   ]
  },
  {
   "cell_type": "code",
   "execution_count": 16,
   "id": "29c34459",
   "metadata": {},
   "outputs": [
    {
     "name": "stdout",
     "output_type": "stream",
     "text": [
      "B is greater than A\n"
     ]
    }
   ],
   "source": [
    "if a>b :\n",
    "    print(\"A is greater than B\")\n",
    "else: \n",
    "        print(\"B is greater than A\")"
   ]
  },
  {
   "cell_type": "code",
   "execution_count": 17,
   "id": "27ca9130",
   "metadata": {},
   "outputs": [],
   "source": [
    "a = 10\n",
    "b = 20\n",
    "c = 30"
   ]
  },
  {
   "cell_type": "code",
   "execution_count": 19,
   "id": "2ee78908",
   "metadata": {},
   "outputs": [
    {
     "name": "stdout",
     "output_type": "stream",
     "text": [
      "C is the Greatest\n"
     ]
    }
   ],
   "source": [
    "if (a>b) & (a>c) :\n",
    "    print(\"A is the Greatest\")\n",
    "elif (b>a) & (b>c) :\n",
    "    print(\"B is the Greatest\")\n",
    "else :\n",
    "    print(\"C is the Greatest\")"
   ]
  },
  {
   "cell_type": "code",
   "execution_count": 1,
   "id": "56419270",
   "metadata": {},
   "outputs": [],
   "source": [
    "# tuple"
   ]
  },
  {
   "cell_type": "code",
   "execution_count": 2,
   "id": "b50fb02b",
   "metadata": {},
   "outputs": [
    {
     "name": "stdout",
     "output_type": "stream",
     "text": [
      "----------------------------------------\n",
      "           Area of triangle             \n",
      "----------------------------------------\n",
      "Enter breadth of Triangle : 4\n",
      "Press 4 to Continue\n",
      "Enter height of Triangle : 5\n",
      "Area of triangle having braedth 4.0 & height 5.0 is 10.0\n"
     ]
    }
   ],
   "source": [
    "print(\"----------------------------------------\")\n",
    "print(\"           Area of triangle             \")\n",
    "print(\"----------------------------------------\")\n",
    "b = float(input(\"Enter breadth of Triangle : \"))\n",
    "input(\"Press 4 to Continue\")\n",
    "h = float(input(\"Enter height of Triangle : \"))\n",
    "Area = 1/2* b * h\n",
    "print(\"Area of triangle having braedth\", b, \"& height\", h, \"is\", Area)"
   ]
  },
  {
   "cell_type": "code",
   "execution_count": 17,
   "id": "40362730",
   "metadata": {},
   "outputs": [
    {
     "name": "stdout",
     "output_type": "stream",
     "text": [
      "Enter radius of circle : 897564\n",
      "Area of Circle is :  2529650361061.44\n",
      "Circumference of Circle :  5636701.92\n",
      "Area is greatest\n"
     ]
    }
   ],
   "source": [
    "#Define Pi\n",
    "pi = 3.14\n",
    "#user Input\n",
    "r = float(input(\"Enter radius of circle : \"))\n",
    "#Formula\n",
    "Area = pi * r**2\n",
    "Circumference = 2 * pi * r\n",
    "print(\"Area of Circle is : \", Area)\n",
    "print(\"Circumference of Circle : \", Circumference)\n",
    "if Area > Circumference : \n",
    "    print(\"Area is greatest\")\n",
    "elif Circumference > Area :\n",
    "    print(\"Circumference is greatest\")\n",
    "else : \n",
    "    print(\"Both are equal\")\n",
    "    "
   ]
  },
  {
   "cell_type": "code",
   "execution_count": null,
   "id": "bedc503d",
   "metadata": {},
   "outputs": [],
   "source": []
  }
 ],
 "metadata": {
  "kernelspec": {
   "display_name": "Python 3 (ipykernel)",
   "language": "python",
   "name": "python3"
  },
  "language_info": {
   "codemirror_mode": {
    "name": "ipython",
    "version": 3
   },
   "file_extension": ".py",
   "mimetype": "text/x-python",
   "name": "python",
   "nbconvert_exporter": "python",
   "pygments_lexer": "ipython3",
   "version": "3.10.9"
  }
 },
 "nbformat": 4,
 "nbformat_minor": 5
}
