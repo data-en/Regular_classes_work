{
 "cells": [
  {
   "cell_type": "code",
   "execution_count": 1,
   "id": "2ff9af9e",
   "metadata": {},
   "outputs": [
    {
     "name": "stdout",
     "output_type": "stream",
     "text": [
      "37\n"
     ]
    }
   ],
   "source": [
    "a = 37\n",
    "print(a)"
   ]
  },
  {
   "cell_type": "code",
   "execution_count": 2,
   "id": "a83e73f7",
   "metadata": {},
   "outputs": [
    {
     "name": "stdout",
     "output_type": "stream",
     "text": [
      "37\n"
     ]
    }
   ],
   "source": [
    "print(a)"
   ]
  },
  {
   "cell_type": "code",
   "execution_count": 5,
   "id": "d9acd847",
   "metadata": {},
   "outputs": [],
   "source": [
    "b = (\"This is spartaaa\")"
   ]
  },
  {
   "cell_type": "code",
   "execution_count": 6,
   "id": "e9c2fca1",
   "metadata": {},
   "outputs": [
    {
     "name": "stdout",
     "output_type": "stream",
     "text": [
      "This is spartaaa\n"
     ]
    }
   ],
   "source": [
    "print(b)"
   ]
  },
  {
   "cell_type": "code",
   "execution_count": 14,
   "id": "2ff629b7",
   "metadata": {},
   "outputs": [
    {
     "data": {
      "text/plain": [
       "'a'"
      ]
     },
     "execution_count": 14,
     "metadata": {},
     "output_type": "execute_result"
    }
   ],
   "source": [
    "# Extracting 1st character from string\n",
    "b[-1]"
   ]
  },
  {
   "cell_type": "code",
   "execution_count": 15,
   "id": "13b4bd44",
   "metadata": {},
   "outputs": [
    {
     "data": {
      "text/plain": [
       "'is spa'"
      ]
     },
     "execution_count": 15,
     "metadata": {},
     "output_type": "execute_result"
    }
   ],
   "source": [
    "# In Python last value is not inclusive, if u want to pick betwn 5th and 10th word, u can write like-\n",
    "b[5:11]"
   ]
  },
  {
   "cell_type": "code",
   "execution_count": 18,
   "id": "0940c559",
   "metadata": {},
   "outputs": [
    {
     "data": {
      "text/plain": [
       "'is spartaaa'"
      ]
     },
     "execution_count": 18,
     "metadata": {},
     "output_type": "execute_result"
    }
   ],
   "source": [
    "# If u want to write upto last, wrte like below-\n",
    "b[5:]"
   ]
  },
  {
   "cell_type": "code",
   "execution_count": 19,
   "id": "4dff2f59",
   "metadata": {},
   "outputs": [
    {
     "name": "stdout",
     "output_type": "stream",
     "text": [
      "16\n"
     ]
    }
   ],
   "source": [
    "# finding length of string\n",
    "print(len(b))"
   ]
  },
  {
   "cell_type": "code",
   "execution_count": 23,
   "id": "b6917058",
   "metadata": {},
   "outputs": [
    {
     "name": "stdout",
     "output_type": "stream",
     "text": [
      "this is spartaaa\n"
     ]
    }
   ],
   "source": [
    "# Converting string into lower case\n",
    "print(b.lower())"
   ]
  },
  {
   "cell_type": "code",
   "execution_count": 24,
   "id": "250310c9",
   "metadata": {},
   "outputs": [
    {
     "name": "stdout",
     "output_type": "stream",
     "text": [
      "THIS IS SPARTAAA\n"
     ]
    }
   ],
   "source": [
    "# converting string into upper case\n",
    "print(b.upper())"
   ]
  },
  {
   "cell_type": "code",
   "execution_count": 26,
   "id": "783662ed",
   "metadata": {},
   "outputs": [
    {
     "name": "stdout",
     "output_type": "stream",
     "text": [
      "Thns ns spartaaa\n"
     ]
    }
   ],
   "source": [
    "# Replacing a substring\n",
    "print(b.replace(\"i\",\"n\"))"
   ]
  },
  {
   "cell_type": "code",
   "execution_count": null,
   "id": "8bfdb274",
   "metadata": {},
   "outputs": [],
   "source": []
  }
 ],
 "metadata": {
  "kernelspec": {
   "display_name": "Python 3 (ipykernel)",
   "language": "python",
   "name": "python3"
  },
  "language_info": {
   "codemirror_mode": {
    "name": "ipython",
    "version": 3
   },
   "file_extension": ".py",
   "mimetype": "text/x-python",
   "name": "python",
   "nbconvert_exporter": "python",
   "pygments_lexer": "ipython3",
   "version": "3.10.9"
  }
 },
 "nbformat": 4,
 "nbformat_minor": 5
}
