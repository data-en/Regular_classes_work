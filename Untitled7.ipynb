{
 "cells": [
  {
   "cell_type": "code",
   "execution_count": 1,
   "id": "a815dbe5",
   "metadata": {},
   "outputs": [
    {
     "name": "stdout",
     "output_type": "stream",
     "text": [
      ">>>>>>>>>>>>>>>>>>>>>>>>>\n",
      "Welcome to Calculator!!!\n",
      "<<<<<<<<<<<<<<<<<<<<<<<<<\n",
      "Enter no 1 : 5\n",
      "Enter no 2 : 6\n",
      "\n",
      "1.'add'\n",
      "2. 'substract'\n",
      "3. 'multiply'\n",
      "4. 'divide'\n",
      "\n",
      "Select from above actions add\n",
      "11\n",
      "Addition of a & b is 11\n",
      "मेरे कैलकुलेटर का उपयोग करने के लिए धन्यवाद\n"
     ]
    }
   ],
   "source": [
    "def add (a,b) :\n",
    "  return(a+b)\n",
    "def substract (a,b) :\n",
    "  return (a-b) \n",
    "def multiply (a,b) :\n",
    "  return(a*b)\n",
    "def divide (a,b) :\n",
    "  return (a/b)     \n",
    "\n",
    "print(\">>>>>>>>>>>>>>>>>>>>>>>>>\")\n",
    "print(\"Welcome to Calculator!!!\")\n",
    "print(\"<<<<<<<<<<<<<<<<<<<<<<<<<\")\n",
    "\n",
    "a = int(input(\"Enter no 1 : \"))\n",
    "\n",
    "b = int(input(\"Enter no 2 : \"))\n",
    "\n",
    "print('''\n",
    "1.'add'\n",
    "2. 'substract'\n",
    "3. 'multiply'\n",
    "4. 'divide'\n",
    "''') \n",
    "\n",
    "choose = (input(\"Select from above actions \")) \n",
    "if choose == \"add\" :\n",
    "             print(add(a,b))\n",
    "             print(\"Addition of a & b\", \"is\", (a+b))\n",
    "elif choose == 'substract' :\n",
    "             print(substract(a,b))\n",
    "             print(\"Substarction of a & b \", 'is', (a-b))\n",
    "elif choose == \"multiply\" :\n",
    "             print(multiply(a,b))\n",
    "             print(\"Multiplication of a & b\", 'is', (a*b))\n",
    "elif choose == \"divide\" :\n",
    "             print(divide(a,b))\n",
    "             print(\"Division of a & b \", 'is', (a/b))\n",
    "else : print(\"This is not possible\")    \n",
    "\n",
    "print(\"मेरे कैलकुलेटर का उपयोग करने के लिए धन्यवाद\")"
   ]
  },
  {
   "cell_type": "code",
   "execution_count": null,
   "id": "7b36835f",
   "metadata": {},
   "outputs": [],
   "source": []
  }
 ],
 "metadata": {
  "kernelspec": {
   "display_name": "Python 3 (ipykernel)",
   "language": "python",
   "name": "python3"
  },
  "language_info": {
   "codemirror_mode": {
    "name": "ipython",
    "version": 3
   },
   "file_extension": ".py",
   "mimetype": "text/x-python",
   "name": "python",
   "nbconvert_exporter": "python",
   "pygments_lexer": "ipython3",
   "version": "3.10.9"
  }
 },
 "nbformat": 4,
 "nbformat_minor": 5
}
