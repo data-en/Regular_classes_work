{
 "cells": [
  {
   "cell_type": "code",
   "execution_count": 1,
   "id": "7ea590e1-e661-4b75-8d50-93edc66129b2",
   "metadata": {},
   "outputs": [
    {
     "ename": "ZeroDivisionError",
     "evalue": "division by zero",
     "output_type": "error",
     "traceback": [
      "\u001b[0;31m---------------------------------------------------------------------------\u001b[0m",
      "\u001b[0;31mZeroDivisionError\u001b[0m                         Traceback (most recent call last)",
      "Cell \u001b[0;32mIn[1], line 2\u001b[0m\n\u001b[1;32m      1\u001b[0m a \u001b[38;5;241m=\u001b[39m \u001b[38;5;241m20\u001b[39m\n\u001b[0;32m----> 2\u001b[0m \u001b[43ma\u001b[49m\u001b[38;5;241;43m/\u001b[39;49m\u001b[38;5;241;43m0\u001b[39;49m\n",
      "\u001b[0;31mZeroDivisionError\u001b[0m: division by zero"
     ]
    }
   ],
   "source": [
    "a = 20\n",
    "a/0"
   ]
  },
  {
   "cell_type": "code",
   "execution_count": null,
   "id": "93b142e0-ddb9-493b-84fa-4f743f691f30",
   "metadata": {},
   "outputs": [],
   "source": [
    "try:\n",
    "    f = open('test.txt','a')\n",
    "    f.write('This is my try block\\n')\n",
    "except Exception as e:\n",
    "    print(\"There is some issue in the above code\")\n",
    "else : \n",
    "    f.close()\n",
    "    print(\"This block will only execute when the try block is completely executed without any exception\")"
   ]
  },
  {
   "cell_type": "code",
   "execution_count": null,
   "id": "c1337a9f-e118-4920-b403-1f57b5bc2ab8",
   "metadata": {},
   "outputs": [],
   "source": [
    "try : \n",
    "    f = open('test1.txt','r')\n",
    "    f.read()\n",
    "except Exception as e:\n",
    "    print(\"There is some issue in the above code\")\n",
    "else : \n",
    "    f.close()\n",
    "    print(\"This block will only execute when the try block is completely executed without any exception\")\n"
   ]
  },
  {
   "cell_type": "code",
   "execution_count": null,
   "id": "c6f19831-8ae0-402d-8634-042dae8e272b",
   "metadata": {},
   "outputs": [],
   "source": [
    "try : \n",
    "    f = open('test1.txt','r')\n",
    "    f.read()\n",
    "except Exception as e:\n",
    "    print(\"There is some issue in the above code\")\n",
    "else : \n",
    "    f.close()\n",
    "    print(\"This block will only execute when the try block is completely executed without any exception\")\n",
    "finally:\n",
    "    print(\"I am finally block, I will always execute\")\n",
    "    "
   ]
  },
  {
   "cell_type": "markdown",
   "id": "be770507-3863-4e00-903a-1850ea1a6d60",
   "metadata": {},
   "source": [
    "# Custom Exception Handling"
   ]
  },
  {
   "cell_type": "code",
   "execution_count": null,
   "id": "9ec6b93a-e50b-4018-b1d8-addc94e9c87d",
   "metadata": {},
   "outputs": [],
   "source": [
    "age = int(input(\"Enter your age : \")) # If the age given is negative,the exception is occured according to me"
   ]
  },
  {
   "cell_type": "code",
   "execution_count": null,
   "id": "03e2af7d-376f-4a6e-8564-b9fcc29b39e9",
   "metadata": {},
   "outputs": [],
   "source": [
    "class validateAge(Exception):\n",
    "    def __init__(self,msg):\n",
    "        self.msg = msg"
   ]
  },
  {
   "cell_type": "code",
   "execution_count": null,
   "id": "6f7bf41f-18c2-4efa-9393-3023b5e94e0a",
   "metadata": {},
   "outputs": [],
   "source": [
    "def validate_age(age):\n",
    "    if age < 0:\n",
    "        raise validateAge('The age should be greater than Zero')\n",
    "    elif age >100:\n",
    "        raise validateAge(\"The age is too high\")\n",
    "    else : \n",
    "        print(\"The age is valid\")"
   ]
  },
  {
   "cell_type": "code",
   "execution_count": null,
   "id": "b6f7b713-eb5f-43d5-abbf-e8de7227cd11",
   "metadata": {},
   "outputs": [],
   "source": [
    "try : \n",
    "    age = int(input(\"Enter your age : \"))\n",
    "    validate_age(age)\n",
    "except validateAge as e:\n",
    "    print(e)"
   ]
  },
  {
   "cell_type": "code",
   "execution_count": null,
   "id": "8fdc0a42-6c66-408e-8d1a-97cdb8c7a1a6",
   "metadata": {},
   "outputs": [],
   "source": [
    "class validateNo(Exception):\n",
    "    def __init__(self,msg):\n",
    "        self.msg = msg"
   ]
  },
  {
   "cell_type": "code",
   "execution_count": null,
   "id": "067bf9ff-726b-4dd5-a6b9-dacedfd24f34",
   "metadata": {},
   "outputs": [],
   "source": [
    "def validate_number(num):\n",
    "    if num>0:\n",
    "        raise validateNo('The number is positive')\n",
    "    elif num==0:\n",
    "        raise validateNo('The number is equals to Zero')\n",
    "    else : \n",
    "        raise validateNo(\"The number is negative\")"
   ]
  },
  {
   "cell_type": "code",
   "execution_count": null,
   "id": "6103bfce-7842-4d08-9d81-7ec8ab6b8a84",
   "metadata": {},
   "outputs": [],
   "source": [
    "try : \n",
    "    num = int(input(\"Enter a number : \"))\n",
    "    validate_number(num)\n",
    "except validateNo as e:\n",
    "    print(e)"
   ]
  },
  {
   "cell_type": "code",
   "execution_count": null,
   "id": "7c49cae4-cb41-449b-b83b-154b97c49f40",
   "metadata": {},
   "outputs": [],
   "source": [
    "#### To check the alphabet is small or Capital\n",
    "class check_alphabet(Exception):\n",
    "    def __init__(self,msg):\n",
    "        self.msg = msg"
   ]
  },
  {
   "cell_type": "code",
   "execution_count": null,
   "id": "9344ebea-6abf-4150-b9b4-cc6eef3ee319",
   "metadata": {},
   "outputs": [],
   "source": [
    "def check_alpha(alphabet):\n",
    "    if alphabet == alphabet.lower():\n",
    "        raise check_alphabet(\"The alphabet is small alphabet\")\n",
    "    elif alphabet == alphabet.upper():\n",
    "        raise check_alphabet(\"The alphabet is Capital Alphabet\")\n",
    "    else : \n",
    "        raise check_alphabet(\"Invalid Input\")"
   ]
  },
  {
   "cell_type": "code",
   "execution_count": null,
   "id": "4f2d14e3-795a-4aa5-8e42-b88e8a3c8099",
   "metadata": {},
   "outputs": [],
   "source": [
    "try : \n",
    "    alpha = input(\"Enter a alphabet : \")\n",
    "    check_alpha(alpha)\n",
    "except check_alphabet as e:\n",
    "    print(e)"
   ]
  },
  {
   "cell_type": "markdown",
   "id": "257c5469-5b55-45fb-bab0-7f836638de06",
   "metadata": {},
   "source": [
    "# LIST OF GENERAL USE EXCEPTIONS"
   ]
  },
  {
   "cell_type": "code",
   "execution_count": null,
   "id": "763801cc-423d-4091-9cf5-73f6cd27a1bc",
   "metadata": {},
   "outputs": [],
   "source": [
    "try:\n",
    "    a = 10\n",
    "    a/0\n",
    "except Exception as e:\n",
    "    print(e)"
   ]
  },
  {
   "cell_type": "code",
   "execution_count": null,
   "id": "1734f85d-22ca-4289-bd61-69b1270c24a4",
   "metadata": {},
   "outputs": [],
   "source": [
    "try:\n",
    "    a = 10\n",
    "    a/0\n",
    "except ZeroDivisionError as e:\n",
    "    print(e)"
   ]
  },
  {
   "cell_type": "code",
   "execution_count": null,
   "id": "e8beb9a6-0c9a-4f41-ae4e-370f0fa42ca3",
   "metadata": {},
   "outputs": [],
   "source": [
    "int('sudh')"
   ]
  },
  {
   "cell_type": "code",
   "execution_count": null,
   "id": "04cc5d5b-88fe-4446-91cb-84a20a64baec",
   "metadata": {},
   "outputs": [],
   "source": [
    "try:\n",
    "    int('sudh')\n",
    "except (ValueError,TypeError) as e:\n",
    "    print(e)"
   ]
  },
  {
   "cell_type": "code",
   "execution_count": null,
   "id": "43f9f253-3d8e-4e41-ae82-22ba2e22114b",
   "metadata": {},
   "outputs": [],
   "source": [
    "'sudh' + 0"
   ]
  },
  {
   "cell_type": "code",
   "execution_count": null,
   "id": "47480dfd-c7d7-4eb0-99e2-c55893c8e68e",
   "metadata": {},
   "outputs": [],
   "source": [
    "try:\n",
    "    a = 'sudh' + 0\n",
    "    print(a)\n",
    "except TypeError as e:\n",
    "    print(e)\n",
    "    print(\"...........ERROR..................\")\n",
    "else: \n",
    "    print(\"The code written is correct\")\n",
    "finally: \n",
    "    print(\"Hello, I am finally block\")"
   ]
  },
  {
   "cell_type": "code",
   "execution_count": null,
   "id": "fac6b0e5-6599-48c2-9141-7769a84c1231",
   "metadata": {},
   "outputs": [],
   "source": [
    "try : \n",
    "    a = ab\n",
    "except : \n",
    "    print(\"This could cause an error\")"
   ]
  },
  {
   "cell_type": "code",
   "execution_count": null,
   "id": "a13f3fff-ecb3-40bf-85de-b925e7c67c25",
   "metadata": {},
   "outputs": [],
   "source": [
    "try : \n",
    "    import pwskills \n",
    "except ModuleNotFoundError as e:\n",
    "    print(e)"
   ]
  },
  {
   "cell_type": "code",
   "execution_count": null,
   "id": "a3b870a9-b3d2-4441-acba-4e680da676f8",
   "metadata": {},
   "outputs": [],
   "source": [
    "try : \n",
    "    import pwskills \n",
    "except (ImportError,ModuleNotFoundError) as e:\n",
    "    print(e)"
   ]
  },
  {
   "cell_type": "code",
   "execution_count": null,
   "id": "705cfbd9-8ea0-4725-af44-544db55752f7",
   "metadata": {},
   "outputs": [],
   "source": [
    "try : \n",
    "    import pwskills \n",
    "except ImportError as e:\n",
    "    print(e)"
   ]
  },
  {
   "cell_type": "code",
   "execution_count": null,
   "id": "29a39b43-97ec-4038-ba8f-a2b6be6e348a",
   "metadata": {},
   "outputs": [],
   "source": [
    "try :     \n",
    "    dict1 = {1 : [2,3,4,5],'key1' :'sudh'}\n",
    "    dict1['key10']\n",
    "except KeyError as e:\n",
    "    print(e)"
   ]
  },
  {
   "cell_type": "code",
   "execution_count": null,
   "id": "65c60af1-c829-42a9-9855-e08899fdc64c",
   "metadata": {},
   "outputs": [],
   "source": [
    "try:\n",
    "    'sudh'.test()\n",
    "except AttributeError as e: \n",
    "    print(e)"
   ]
  },
  {
   "cell_type": "code",
   "execution_count": null,
   "id": "f40facab-e05c-4c45-8c28-92d7ec9c59ab",
   "metadata": {},
   "outputs": [],
   "source": [
    "try  : \n",
    "    lst = [1,2,3,4,5,6,7,8,9,10]\n",
    "    lst[11]\n",
    "except IndexError as e : \n",
    "    print(e)"
   ]
  },
  {
   "cell_type": "code",
   "execution_count": null,
   "id": "421ab657-aded-46f9-a1ed-f46ff78826dd",
   "metadata": {},
   "outputs": [],
   "source": [
    "try : \n",
    "    print(b)\n",
    "except NameError as e : \n",
    "    print(e)"
   ]
  },
  {
   "cell_type": "code",
   "execution_count": null,
   "id": "6ba004bf-4c92-49fb-a7cf-1965e276b8f1",
   "metadata": {},
   "outputs": [],
   "source": [
    "try:\n",
    "    f1 = open('test2.txt','r')\n",
    "    f1.read()\n",
    "except FileNotFoundError as e:\n",
    "    print(e)"
   ]
  },
  {
   "cell_type": "code",
   "execution_count": null,
   "id": "4efd9c63-6f8e-4b77-802c-c346b10d6ad5",
   "metadata": {},
   "outputs": [],
   "source": [
    "try : \n",
    "    f1 = open('test.txt','r')\n",
    "    f.read()\n",
    "except Exception as e : \n",
    "    print('test',e)\n",
    "except NameError as e: \n",
    "    print(e)"
   ]
  },
  {
   "cell_type": "code",
   "execution_count": null,
   "id": "052e4241-a025-4ac1-bf15-ed598954b209",
   "metadata": {},
   "outputs": [],
   "source": [
    "def test(file):    \n",
    "    try : \n",
    "        f1 = open('test.txt','r')\n",
    "        f.read()\n",
    "    except Exception as e : \n",
    "        print('test',e)\n",
    "    except NameError as e: \n",
    "        print(e)"
   ]
  },
  {
   "cell_type": "code",
   "execution_count": null,
   "id": "20b6f1d4-2fe8-41bb-8713-21b3bf126e22",
   "metadata": {},
   "outputs": [],
   "source": [
    "test(f1)"
   ]
  },
  {
   "cell_type": "code",
   "execution_count": null,
   "id": "34a46e58-bebd-45d2-bfdc-980c1e2219d5",
   "metadata": {},
   "outputs": [],
   "source": [
    "## Custor Error handling\n",
    "class check_pass(Exception):\n",
    "    def __init__(self,msg):\n",
    "        self.msg = msg"
   ]
  },
  {
   "cell_type": "code",
   "execution_count": null,
   "id": "684b634f-e92c-472f-8816-c40da369a8cd",
   "metadata": {},
   "outputs": [],
   "source": [
    "def check_password(password):\n",
    "    if password == 'Manyog85':\n",
    "        raise check_pass('Password is correct')\n",
    "    else : \n",
    "        raise check_pass('Password is incorrect')"
   ]
  },
  {
   "cell_type": "code",
   "execution_count": null,
   "id": "293528ce-6027-4341-a9c8-3d31433960db",
   "metadata": {},
   "outputs": [],
   "source": [
    "try : \n",
    "    pwd = input(\"Enter your Password : \")\n",
    "    check_password(pwd)\n",
    "except check_pass as e :\n",
    "    print(e)"
   ]
  },
  {
   "cell_type": "markdown",
   "id": "8be6ec78-df17-4c38-95bc-93bc0a2c06c4",
   "metadata": {},
   "source": [
    "### BEST PRACTICE EXCEPTION HANDLING"
   ]
  },
  {
   "cell_type": "code",
   "execution_count": null,
   "id": "1d1d450b-ac1e-4ccf-a9af-09adbd80ecd8",
   "metadata": {},
   "outputs": [],
   "source": [
    "# USE ALWAYS A SPECIFIC EXCEPTION\n",
    "try :\n",
    "    a = 10\n",
    "    a/0\n",
    "except Exception as e : \n",
    "    print(e)"
   ]
  },
  {
   "cell_type": "code",
   "execution_count": null,
   "id": "5c97aebe-8637-40b0-9637-e3d2e93224ea",
   "metadata": {},
   "outputs": [],
   "source": [
    "try :\n",
    "    a = 10\n",
    "    a/0\n",
    "except ZeroDivisionError as e : \n",
    "    print(e)"
   ]
  },
  {
   "cell_type": "code",
   "execution_count": null,
   "id": "4c764973-4662-45b5-aff4-3341145b5446",
   "metadata": {},
   "outputs": [],
   "source": [
    "# print always a valid msg\n",
    "try :\n",
    "    a = 10\n",
    "    a/0\n",
    "except ZeroDivisionError as e : \n",
    "    print('This is my Zero Division Error : {} '.format(e))"
   ]
  },
  {
   "cell_type": "code",
   "execution_count": null,
   "id": "57251028-507f-4880-b047-c978eec67f20",
   "metadata": {},
   "outputs": [],
   "source": [
    "# Always try to log\n",
    "import logging \n",
    "logging.basicConfig(filename='error.log',level=logging.ERROR)\n",
    "try :\n",
    "    a = 10\n",
    "    a/0\n",
    "except ZeroDivisionError as e : \n",
    "    logging.error('This is my Zero Division Error : {} '.format(e))"
   ]
  },
  {
   "cell_type": "code",
   "execution_count": null,
   "id": "c0bd8cc7-4fba-464a-a0cf-592460e73d63",
   "metadata": {},
   "outputs": [],
   "source": [
    "# Always avoid to write a multiple exception handling \n",
    "try : \n",
    "    a = 10 \n",
    "    a/0\n",
    "except FileNotFoundError as e : \n",
    "    logging.error('This is my File Not Found Error : {} '.format(e))\n",
    "except AttributeError as e : \n",
    "    logging.error('This is my Attribute Error : {} '.format(e))\n",
    "except ZeroDivisionError as e : \n",
    "    logging.error('This is my Zero Division Error : {} '.format(e))"
   ]
  },
  {
   "cell_type": "code",
   "execution_count": null,
   "id": "a08a6d27-d5e1-43dc-8a7e-8e78a372da68",
   "metadata": {},
   "outputs": [],
   "source": [
    "# Prepare a proper documentation\n",
    "# Avoid inserting or creating such information that gives wrong information to user"
   ]
  },
  {
   "cell_type": "code",
   "execution_count": null,
   "id": "aeea61e5-dc17-4545-9660-1356efde3a3b",
   "metadata": {},
   "outputs": [],
   "source": [
    "# Clean up all the resources \n",
    "try :\n",
    "    with open('test.txt','w') as f:\n",
    "        f.write(\"Write operation\")\n",
    "except FileNotFoundError as e : \n",
    "    logging.error('This is my File Not Found Error : {}'.format(e))\n",
    "finally : \n",
    "    f.close()"
   ]
  },
  {
   "cell_type": "markdown",
   "id": "2f7050a9-d5fb-4fff-b1d1-d6ba0cdee691",
   "metadata": {},
   "source": [
    "# Multithreading"
   ]
  },
  {
   "cell_type": "code",
   "execution_count": null,
   "id": "cf9dcb0e-6fe3-4573-b008-048a86599ce2",
   "metadata": {},
   "outputs": [],
   "source": [
    "import threading "
   ]
  },
  {
   "cell_type": "code",
   "execution_count": null,
   "id": "43864183-5f0b-4dc6-9a00-0c2b3bc3335c",
   "metadata": {},
   "outputs": [],
   "source": [
    "def test(id):\n",
    "    print(\"This is my test id : %d\" %id)"
   ]
  },
  {
   "cell_type": "code",
   "execution_count": null,
   "id": "61714dba-820d-44de-8833-931f529990af",
   "metadata": {},
   "outputs": [],
   "source": [
    "test(34)"
   ]
  },
  {
   "cell_type": "code",
   "execution_count": null,
   "id": "faf18b50-785d-4a53-8105-815fc711bc02",
   "metadata": {},
   "outputs": [],
   "source": [
    "test(6)"
   ]
  },
  {
   "cell_type": "code",
   "execution_count": null,
   "id": "23801368-6ebd-4278-ab73-00a5749eb024",
   "metadata": {},
   "outputs": [],
   "source": [
    "test(7)"
   ]
  },
  {
   "cell_type": "code",
   "execution_count": null,
   "id": "a81e70f9-a782-4fcb-899c-7c59d4b5b2ee",
   "metadata": {},
   "outputs": [],
   "source": [
    "thread = [threading.Thread(target=test,args =(i,)) for i in [34,6,7]]"
   ]
  },
  {
   "cell_type": "code",
   "execution_count": null,
   "id": "0f39fd1a-aa71-46ce-960f-ac3afd5480f4",
   "metadata": {},
   "outputs": [],
   "source": [
    "thread"
   ]
  },
  {
   "cell_type": "code",
   "execution_count": null,
   "id": "c966dec8-a9c6-485a-b6be-eee4c19351c4",
   "metadata": {},
   "outputs": [],
   "source": [
    "for t in thread:\n",
    "    t.start()"
   ]
  },
  {
   "cell_type": "code",
   "execution_count": null,
   "id": "40a9f4c2-a6f8-4317-b1a9-47fd59357b12",
   "metadata": {},
   "outputs": [],
   "source": [
    "def test1(num):\n",
    "    sq = num**2\n",
    "    print(sq)"
   ]
  },
  {
   "cell_type": "code",
   "execution_count": null,
   "id": "896bcec6-7fb0-43ca-b71f-9bab15a5d1af",
   "metadata": {},
   "outputs": [],
   "source": [
    "test1(3)"
   ]
  },
  {
   "cell_type": "code",
   "execution_count": null,
   "id": "823c7ef0-b04b-40af-b9f7-061488fb75a0",
   "metadata": {},
   "outputs": [],
   "source": [
    "thread1 = [threading.Thread(target=test1,args=(i,)) for i in [4,8,12,16,20]]"
   ]
  },
  {
   "cell_type": "code",
   "execution_count": null,
   "id": "43e18753-c19b-44f4-b0fc-0139ad2e5a1a",
   "metadata": {},
   "outputs": [],
   "source": [
    "thread1"
   ]
  },
  {
   "cell_type": "code",
   "execution_count": null,
   "id": "84bf15cb-5c3e-4bb0-980b-65680469c30e",
   "metadata": {},
   "outputs": [],
   "source": [
    "for t1 in thread1:\n",
    "    t1.start()"
   ]
  },
  {
   "cell_type": "markdown",
   "id": "34810ed6-4dc3-453a-90d6-e57ef45efbc8",
   "metadata": {},
   "source": [
    "> Thread can only be started once : Runtime error"
   ]
  },
  {
   "cell_type": "code",
   "execution_count": null,
   "id": "b892d4c6-30ff-484a-b405-9b00de326e09",
   "metadata": {},
   "outputs": [],
   "source": [
    "import urllib.request\n",
    "def file_download(url,filename):\n",
    "    urllib.request.urlretrieve(url,filename)"
   ]
  },
  {
   "cell_type": "code",
   "execution_count": null,
   "id": "c6c41121-a518-41c0-a2bf-ff43dc4c480c",
   "metadata": {},
   "outputs": [],
   "source": [
    "file_download('https://raw.githubusercontent.com/itsfoss/text-files/master/agatha.txt','test1.txt')"
   ]
  },
  {
   "cell_type": "code",
   "execution_count": null,
   "id": "6ea92f1c-6297-44fc-917d-47e7cbbf8dbf",
   "metadata": {},
   "outputs": [],
   "source": [
    "url_list = ['https://raw.githubusercontent.com/itsfoss/text-files/master/agatha.txt','https://raw.githubusercontent.com/itsfoss/text-files/master/sherlock.txt','https://raw.githubusercontent.com/itsfoss/text-files/master/sample_log_file.txt']"
   ]
  },
  {
   "cell_type": "code",
   "execution_count": null,
   "id": "0d9428df-6e70-4ae9-88d4-daa1ed343909",
   "metadata": {},
   "outputs": [],
   "source": [
    "url_list"
   ]
  },
  {
   "cell_type": "code",
   "execution_count": null,
   "id": "6af89bff-6e1b-4fbd-9cec-b0a53991b39b",
   "metadata": {},
   "outputs": [],
   "source": [
    "len(url_list)"
   ]
  },
  {
   "cell_type": "code",
   "execution_count": null,
   "id": "42d8b12e-a5eb-4086-b327-e54663aa8521",
   "metadata": {},
   "outputs": [],
   "source": [
    "file_list = ['data1.txt','data2.txt','data3.txt']"
   ]
  },
  {
   "cell_type": "code",
   "execution_count": null,
   "id": "f8a7300d-7f61-437e-be61-4ece923e212a",
   "metadata": {},
   "outputs": [],
   "source": [
    "file_list"
   ]
  },
  {
   "cell_type": "code",
   "execution_count": null,
   "id": "a2d99b0d-d061-440e-a1f6-25b1b9774da5",
   "metadata": {},
   "outputs": [],
   "source": [
    "thread2 = [threading.Thread(target=file_download,args=(url_list[i],file_list[i])) for i in range(len(url_list))]"
   ]
  },
  {
   "cell_type": "code",
   "execution_count": null,
   "id": "06b2f3e4-142e-4fb8-b10d-83c7c0a9f8cd",
   "metadata": {},
   "outputs": [],
   "source": [
    "thread2 "
   ]
  },
  {
   "cell_type": "code",
   "execution_count": null,
   "id": "518a24bb-f4c2-46a7-aab4-2b31b44e7d02",
   "metadata": {},
   "outputs": [],
   "source": [
    "for t2 in thread2:\n",
    "    t2.start()"
   ]
  },
  {
   "cell_type": "code",
   "execution_count": null,
   "id": "d4dc8d95-c7ed-4572-a78a-8850aeb6e07c",
   "metadata": {},
   "outputs": [],
   "source": [
    "thread2"
   ]
  },
  {
   "cell_type": "code",
   "execution_count": null,
   "id": "d5572df4-2b73-43cf-acdb-a23c36d6d077",
   "metadata": {},
   "outputs": [],
   "source": [
    "import time\n",
    "def test2(x):\n",
    "    for i in range(x):\n",
    "        print('test1 print the value of x : %d and print the value of i : %d' %(x,i))\n",
    "        time.sleep(1)"
   ]
  },
  {
   "cell_type": "code",
   "execution_count": null,
   "id": "9294e4b0-d10e-4e6b-a978-92f1712ae3f4",
   "metadata": {},
   "outputs": [],
   "source": [
    "test2(20)"
   ]
  },
  {
   "cell_type": "code",
   "execution_count": null,
   "id": "a45a1ea2-a03a-4d7b-b668-7af47acf798e",
   "metadata": {},
   "outputs": [],
   "source": [
    "import time\n",
    "def test2(x):\n",
    "    for i in range(10):\n",
    "        print('test1 print the value of x : %d and print the value of i : %d' %(x,i))\n",
    "        time.sleep(1)"
   ]
  },
  {
   "cell_type": "code",
   "execution_count": null,
   "id": "c0bff680-85ae-48d0-a394-33734f7cc004",
   "metadata": {},
   "outputs": [],
   "source": [
    "thread_time = [threading.Thread(target=test2,args=(i,)) for i in [25,50,75,100]]"
   ]
  },
  {
   "cell_type": "code",
   "execution_count": null,
   "id": "94f63f71-caed-4e95-93e2-a462c9bc30d0",
   "metadata": {},
   "outputs": [],
   "source": [
    "thread_time"
   ]
  },
  {
   "cell_type": "code",
   "execution_count": null,
   "id": "c2c0385e-f8eb-4946-899b-19da6012d461",
   "metadata": {},
   "outputs": [],
   "source": [
    "for tt in thread_time:\n",
    "    tt.start()"
   ]
  },
  {
   "cell_type": "code",
   "execution_count": null,
   "id": "15c51046-ceb4-4115-8aca-4cb3aa5bd28b",
   "metadata": {},
   "outputs": [],
   "source": [
    "import time\n",
    "def test2(x):\n",
    "    for i in range(10):\n",
    "        print('test1 print the value of x : %d and print the value of i : %d' %(x,i))\n",
    "        #time.sleep(1)"
   ]
  },
  {
   "cell_type": "code",
   "execution_count": null,
   "id": "1f705dea-9290-4c18-aafe-e6e745d08f98",
   "metadata": {},
   "outputs": [],
   "source": [
    "thread3 = [threading.Thread(target=test2,args=(i,)) for i in [100,75,50,25]]"
   ]
  },
  {
   "cell_type": "code",
   "execution_count": null,
   "id": "939925f4-daa2-4679-810b-6e3eec40e547",
   "metadata": {},
   "outputs": [],
   "source": [
    "for t3 in thread3:\n",
    "    t3.start()"
   ]
  },
  {
   "cell_type": "code",
   "execution_count": null,
   "id": "72e0c44a-bd72-4ebc-aebe-df03cd140e35",
   "metadata": {},
   "outputs": [],
   "source": [
    "import time\n",
    "def test2(x):\n",
    "    for i in range(x-1,-1,-1):\n",
    "        print('test1 print the value of x : %d and print the value of i : %d' %(x,i))\n",
    "        time.sleep(1)"
   ]
  },
  {
   "cell_type": "code",
   "execution_count": null,
   "id": "b37ff0ec-4956-4fc4-abc3-ba3c48873aa2",
   "metadata": {},
   "outputs": [],
   "source": [
    "test2(10)"
   ]
  },
  {
   "cell_type": "code",
   "execution_count": null,
   "id": "6bc37492-cdf8-4151-8cb7-05ec26f8c566",
   "metadata": {},
   "outputs": [],
   "source": [
    "import time\n",
    "def test2(x):\n",
    "    for i in range(x-1,-1,-1):\n",
    "        print('test1 print the value of x : %d and print the value of i : %d' %(x,i))\n",
    "        #time.sleep(1)"
   ]
  },
  {
   "cell_type": "code",
   "execution_count": null,
   "id": "0b13965f-a8e7-4151-88a4-490d52807983",
   "metadata": {},
   "outputs": [],
   "source": [
    "thread4 = [threading.Thread(target=test2,args=(i,)) for i in [100,75,50,25]]"
   ]
  },
  {
   "cell_type": "code",
   "execution_count": null,
   "id": "ba973e27-23d4-4aa8-89d3-51d8732424a5",
   "metadata": {},
   "outputs": [],
   "source": [
    "for t4 in thread4:\n",
    "    t4.start()"
   ]
  },
  {
   "cell_type": "code",
   "execution_count": null,
   "id": "31d538fd-37fa-4514-9b42-cf51f4506ca9",
   "metadata": {},
   "outputs": [],
   "source": [
    "shared_var = 0\n",
    "lock_var = threading.Lock()\n",
    "def test3(x):\n",
    "    global shared_var\n",
    "    with lock_var:\n",
    "        shared_var += 1\n",
    "        print(\"value of x : {} and value of shared variable : {}\".format(x,shared_var))\n",
    "        time.sleep(1)\n",
    "        \n",
    "thread3 = [threading.Thread(target=test3,args=(i,)) for i in [1,2,3,4,5,6]]"
   ]
  },
  {
   "cell_type": "code",
   "execution_count": null,
   "id": "2d7e2c20-5514-464d-9002-4495d8d844ea",
   "metadata": {},
   "outputs": [],
   "source": [
    "for t3 in thread3:\n",
    "    t3.start()"
   ]
  },
  {
   "cell_type": "code",
   "execution_count": null,
   "id": "1dae7a76-a39c-467d-8e97-cdd4d812ea86",
   "metadata": {},
   "outputs": [],
   "source": [
    "test3(1)"
   ]
  },
  {
   "cell_type": "code",
   "execution_count": null,
   "id": "444d5259-f672-4828-b46d-2c07a8883536",
   "metadata": {},
   "outputs": [],
   "source": [
    "test3(12)"
   ]
  },
  {
   "cell_type": "code",
   "execution_count": null,
   "id": "b00d8d00-e298-46ee-ac8b-eb80f47358a8",
   "metadata": {},
   "outputs": [],
   "source": [
    "test3(3)"
   ]
  },
  {
   "cell_type": "markdown",
   "id": "d4a62051-2d73-4aae-b591-5c5c32015425",
   "metadata": {},
   "source": [
    "# MUlTIPROCESSING"
   ]
  },
  {
   "cell_type": "code",
   "execution_count": null,
   "id": "108d7721-394f-4344-a4ec-ba44d9fc694e",
   "metadata": {},
   "outputs": [],
   "source": [
    "import multiprocessing"
   ]
  },
  {
   "cell_type": "code",
   "execution_count": null,
   "id": "b660cae4-793d-44eb-9f98-34827347a685",
   "metadata": {},
   "outputs": [],
   "source": [
    "def test():\n",
    "    print(\"This is my multiprocessing program\")\n",
    "if __name__ == '__main__':\n",
    "    m = multiprocessing.Process(target=test)\n",
    "    print(\"This is my main program\")\n",
    "    m.start() # Starts the child program\n",
    "    m.join() # Waits for the child program to execute completely"
   ]
  },
  {
   "cell_type": "code",
   "execution_count": null,
   "id": "5bfdbbf0-4f8f-4f4e-9efe-3b70ce02b618",
   "metadata": {},
   "outputs": [],
   "source": [
    "test()"
   ]
  },
  {
   "cell_type": "code",
   "execution_count": null,
   "id": "0f126b5f-b7e5-4bab-853c-d46b99660cf8",
   "metadata": {},
   "outputs": [],
   "source": [
    "def add_10(num):\n",
    "    return num+10\n",
    "if __name__ == '__main__':\n",
    "    with multiprocessing.Pool(processes=5) as pool:\n",
    "        output = pool.map(add_10,[2,3,4,67,8,86,5,4,51,16,15,13])\n",
    "        print(output)"
   ]
  },
  {
   "cell_type": "code",
   "execution_count": null,
   "id": "fca1ed40-2974-4c63-86e2-5bf11c9a7e47",
   "metadata": {},
   "outputs": [],
   "source": [
    "pool.close()"
   ]
  },
  {
   "cell_type": "code",
   "execution_count": null,
   "id": "8a335af1-2ea8-4ec6-827b-2618dac29638",
   "metadata": {},
   "outputs": [],
   "source": [
    "from math import pi\n",
    "def area_of_circle(r):\n",
    "    area_of_circle = pi*r**2\n",
    "    print(\"Area of Circle : {}\\n\".format(area_of_circle))\n",
    "          \n",
    "if __name__ == '__main__':\n",
    "    with multiprocessing.Pool(processes=5) as pool1:\n",
    "          output1 = pool1.map(area_of_circle,[1,2,3,4,5,6,7,8,9,10])\n",
    "          \n",
    "\n",
    "        "
   ]
  },
  {
   "cell_type": "code",
   "execution_count": null,
   "id": "e42c1b12-357c-463a-b384-3c26bb21b3e6",
   "metadata": {},
   "outputs": [],
   "source": [
    "import threading \n",
    "from math import pi\n",
    "def area_of_circle(r):\n",
    "    area_of_circle = pi*r**2\n",
    "    print(\"Area of Circle : {}\\n\".format(area_of_circle))\n",
    "    \n",
    "thread = [threading.Thread(target=area_of_circle,args=(i,)) for i in [1,2,3,4,5,6,7,8,9,10]]\n",
    "for t in thread:\n",
    "    t.start()"
   ]
  },
  {
   "cell_type": "markdown",
   "id": "e3eb3f28-fe75-4592-b236-06680f14c12e",
   "metadata": {},
   "source": [
    "> Multiprocessing forms multiple processes which divides the given data itself among them and perform operations.\n",
    "\n",
    "> It decreases the execution time and incerases the time complexity"
   ]
  },
  {
   "cell_type": "markdown",
   "id": "9ebb1614-b3a8-4229-991c-17d8b509caaf",
   "metadata": {},
   "source": [
    "> Queue : e.g. --> Train tickets"
   ]
  },
  {
   "cell_type": "code",
   "execution_count": null,
   "id": "1a58bfb6-a5f0-4502-8312-8de1647f489b",
   "metadata": {},
   "outputs": [],
   "source": [
    "import multiprocessing\n",
    "\n",
    "def producer(q):\n",
    "    for i in ['sudh','kumar','pwskills','krish','naik']:\n",
    "        q.put(i)\n",
    "        \n",
    "def consumer(q):\n",
    "    while True : \n",
    "        item = q.get()\n",
    "        if item is None:\n",
    "            break\n",
    "        print(item)\n",
    "            \n",
    "            \n",
    "if __name__ == '__main__':\n",
    "    queue = multiprocessing.Queue()\n",
    "    m1 = multiprocessing.Process(target=producer,args=(queue,))\n",
    "    m2 = multiprocessing.Process(target=consumer,args=(queue,))\n",
    "    m1.start()\n",
    "    m2.start()\n",
    "    queue.put('abcd')\n",
    "    m1.join()\n",
    "    m2.join()\n",
    "        \n",
    "        "
   ]
  },
  {
   "cell_type": "code",
   "execution_count": null,
   "id": "edceaf3e-6b56-4260-8e06-440ac21197e2",
   "metadata": {},
   "outputs": [],
   "source": [
    "import multiprocessing\n",
    "\n",
    "def square(index,value):\n",
    "    value[index] = value[index]**2\n",
    "    \n",
    "if __name__ == '__main__':\n",
    "    arr = multiprocessing.Array('i',[1,2,3,4,5,6,7,8,9,10])\n",
    "    process = []\n",
    "    for i in range(10):\n",
    "        m = multiprocessing.Process(target=square,args=(i,arr))\n",
    "        process.append(m)\n",
    "        m.start()\n",
    "    for m in process:\n",
    "        m.join()\n",
    "    print(list(arr))"
   ]
  },
  {
   "cell_type": "markdown",
   "id": "b06d6f07-9251-4b47-8f7e-780c16d2a9af",
   "metadata": {},
   "source": [
    "## Pipelining"
   ]
  },
  {
   "cell_type": "code",
   "execution_count": null,
   "id": "15310a40-00c3-4941-86f1-ed15834a5a39",
   "metadata": {},
   "outputs": [],
   "source": [
    "import multiprocessing\n",
    "\n",
    "def sender(conn, msg):\n",
    "    for i in msg:\n",
    "        conn.send(i)\n",
    "    conn.close()\n",
    "\n",
    "def receive(conn):\n",
    "    while True:\n",
    "        try:\n",
    "            msg = conn.recv()\n",
    "            print(msg)  # Print the received message\n",
    "        except Exception as e:\n",
    "            print(e)\n",
    "            break\n",
    "\n",
    "if __name__ == '__main__':\n",
    "    msg1 = ['Currently, I am doing a course in pwskills', 'pwskills is a large network that connects students',\n",
    "            'pw==physics wallah', 'Sudhanshu Kumar and Krish Naik are the mentors in DSM class']\n",
    "    parent_conn, child_conn = multiprocessing.Pipe()\n",
    "    m1 = multiprocessing.Process(target=sender, args=(child_conn, msg1))\n",
    "    m2 = multiprocessing.Process(target=receive, args=(parent_conn,))\n",
    "    m1.start()\n",
    "    m2.start()\n",
    "    m1.join()\n",
    "    child_conn.close()\n",
    "    m2.join()\n",
    "    parent_conn.close()"
   ]
  },
  {
   "cell_type": "code",
   "execution_count": null,
   "id": "4b65bb63-34a8-4a06-883a-b9bc7b4fae10",
   "metadata": {},
   "outputs": [],
   "source": [
    "import multiprocessing \n",
    "def send(q):\n",
    "    for i in [1,2,3,4,5,6,7,8,9,10]:\n",
    "        q.put(i)\n",
    "def receive(q):\n",
    "    while True : \n",
    "        item = q.get()\n",
    "        item = item**2\n",
    "        if item is None : \n",
    "            break\n",
    "print(list(item))\n",
    "        \n",
    "if __name__ == '__main__':\n",
    "    queue = multiprocessing.Queue()\n",
    "    m1 = multiprocessing.Process(target = send,args = (queue,))\n",
    "    m2 = multiprocessing.Process(target=receive,args=(queue,))\n",
    "    m1.start()\n",
    "    m2.start()\n",
    "    queue.put(13)\n",
    "    m1.join()\n",
    "    m2.join()\n",
    "    "
   ]
  },
  {
   "cell_type": "code",
   "execution_count": null,
   "id": "4c4c14e8-e669-4c23-8a8e-08267168292b",
   "metadata": {},
   "outputs": [
    {
     "name": "stdout",
     "output_type": "stream",
     "text": [
      "1\n",
      "4\n",
      "9\n",
      "16\n",
      "25\n",
      "36\n",
      "49\n",
      "64\n",
      "81\n",
      "100\n",
      "169\n"
     ]
    }
   ],
   "source": [
    "import multiprocessing \n",
    "def send(q):\n",
    "    for i in [1,2,3,4,5,6,7,8,9,10]:\n",
    "        q.put(i)\n",
    "def receive(q):\n",
    "    while True : \n",
    "        items = []\n",
    "        item = q.get()\n",
    "        item = item**2\n",
    "        if item is None : \n",
    "            break\n",
    "        print(item)\n",
    "\n",
    "        \n",
    "if __name__ == '__main__':\n",
    "    queue = multiprocessing.Queue()\n",
    "    m1 = multiprocessing.Process(target = send,args = (queue,))\n",
    "    m2 = multiprocessing.Process(target=receive,args=(queue,))\n",
    "    m1.start()\n",
    "    m2.start()\n",
    "    queue.put(13)\n",
    "    m1.join()\n",
    "    m2.join()"
   ]
  },
  {
   "cell_type": "code",
   "execution_count": null,
   "id": "1fc40851-bd6a-4db9-83cd-aaefbf39661d",
   "metadata": {},
   "outputs": [],
   "source": [
    "import multiprocessing \n",
    "def send(q):\n",
    "    for i in [1,2,3,4,5,6,7,8,9,10]:\n",
    "        q.put(i)\n",
    "def receive(q):\n",
    "    while True : \n",
    "    \n",
    "        item = q.get()\n",
    "        item = item**2\n",
    "        if item is None : \n",
    "            break\n",
    "        print(item)\n",
    "\n",
    "        \n",
    "if __name__ == '__main__':\n",
    "    queue = multiprocessing.Queue()\n",
    "    m1 = multiprocessing.Process(target = send,args = (queue,))\n",
    "    m2 = multiprocessing.Process(target=receive,args=(queue,))\n",
    "    m1.start()\n",
    "    m2.start()\n",
    "    queue.put(13)\n",
    "    m1.join()\n",
    "    m2.join()\n",
    "    f\n",
    "        "
   ]
  },
  {
   "cell_type": "code",
   "execution_count": null,
   "id": "52851b0e-35c9-4ce4-b881-afb694d5e529",
   "metadata": {},
   "outputs": [],
   "source": []
  }
 ],
 "metadata": {
  "kernelspec": {
   "display_name": "Python 3 (ipykernel)",
   "language": "python",
   "name": "python3"
  },
  "language_info": {
   "codemirror_mode": {
    "name": "ipython",
    "version": 3
   },
   "file_extension": ".py",
   "mimetype": "text/x-python",
   "name": "python",
   "nbconvert_exporter": "python",
   "pygments_lexer": "ipython3",
   "version": "3.10.8"
  }
 },
 "nbformat": 4,
 "nbformat_minor": 5
}
