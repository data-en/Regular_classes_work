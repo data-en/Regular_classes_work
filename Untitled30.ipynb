{
 "cells": [
  {
   "cell_type": "code",
   "execution_count": 6,
   "id": "c9af2109",
   "metadata": {},
   "outputs": [
    {
     "name": "stdout",
     "output_type": "stream",
     "text": [
      "3\n",
      "yashswi\n",
      "98.99\n",
      "shivam\n",
      "87.90\n",
      "shreyash\n",
      "87.90\n",
      "shivam\n",
      "shreyash\n"
     ]
    }
   ],
   "source": [
    "dic = {}\n",
    "s = []\n",
    "for _ in range(int(input())):\n",
    "    name = input()\n",
    "    score = float(input())\n",
    "        \n",
    "    if score in dic:\n",
    "        dic[score].append(name)\n",
    "    else : \n",
    "        dic[score] = [name]\n",
    "    if score not in s:\n",
    "        s.append(score)\n",
    "            \n",
    "m = max(s)\n",
    "s.remove(m)\n",
    "m1=max(s)\n",
    "dic[m1].sort()\n",
    "for i in dic[m1]:\n",
    "    print(i)\n"
   ]
  },
  {
   "cell_type": "code",
   "execution_count": null,
   "id": "7050a08d",
   "metadata": {},
   "outputs": [],
   "source": []
  }
 ],
 "metadata": {
  "kernelspec": {
   "display_name": "Python 3 (ipykernel)",
   "language": "python",
   "name": "python3"
  },
  "language_info": {
   "codemirror_mode": {
    "name": "ipython",
    "version": 3
   },
   "file_extension": ".py",
   "mimetype": "text/x-python",
   "name": "python",
   "nbconvert_exporter": "python",
   "pygments_lexer": "ipython3",
   "version": "3.10.9"
  }
 },
 "nbformat": 4,
 "nbformat_minor": 5
}
