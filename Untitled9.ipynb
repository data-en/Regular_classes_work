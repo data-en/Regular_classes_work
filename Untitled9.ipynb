{
 "cells": [
  {
   "cell_type": "markdown",
   "id": "9d4ee2c5",
   "metadata": {},
   "source": [
    "# Day 2"
   ]
  },
  {
   "cell_type": "markdown",
   "id": "23a77915",
   "metadata": {},
   "source": [
    "## Strings and Methods, Expressions, Operators and Precedence "
   ]
  },
  {
   "cell_type": "markdown",
   "id": "959e3fa4",
   "metadata": {},
   "source": [
    "## Logical Operators \n",
    "1. and\n",
    "2. or\n",
    "3. not"
   ]
  },
  {
   "cell_type": "markdown",
   "id": "30e1e013",
   "metadata": {},
   "source": [
    "> It returns true or false according to given condition given "
   ]
  },
  {
   "cell_type": "markdown",
   "id": "7ce05335",
   "metadata": {},
   "source": [
    "### In the case of \"and'\n",
    "1. True and True    |True \n",
    "2. True and False   |False\n",
    "3. False and True   |False\n",
    "4. False and False  |False"
   ]
  },
  {
   "cell_type": "markdown",
   "id": "e2b7cbed",
   "metadata": {},
   "source": [
    "### In the case of \"or\"\n",
    "1. True and True    |True \n",
    "2. True and False   |True\n",
    "3. False and True   |True\n",
    "4. False and False  |False"
   ]
  },
  {
   "cell_type": "code",
   "execution_count": 2,
   "id": "05b3425f",
   "metadata": {},
   "outputs": [],
   "source": [
    "# In the case of \"not\" (vice versa)"
   ]
  },
  {
   "cell_type": "code",
   "execution_count": 3,
   "id": "58d73664",
   "metadata": {},
   "outputs": [
    {
     "data": {
      "text/plain": [
       "False"
      ]
     },
     "execution_count": 3,
     "metadata": {},
     "output_type": "execute_result"
    }
   ],
   "source": [
    "not True "
   ]
  },
  {
   "cell_type": "code",
   "execution_count": 4,
   "id": "eb676f8c",
   "metadata": {},
   "outputs": [
    {
     "data": {
      "text/plain": [
       "True"
      ]
     },
     "execution_count": 4,
     "metadata": {},
     "output_type": "execute_result"
    }
   ],
   "source": [
    "not False "
   ]
  },
  {
   "cell_type": "code",
   "execution_count": 5,
   "id": "2bb08f6a",
   "metadata": {},
   "outputs": [
    {
     "data": {
      "text/plain": [
       "True"
      ]
     },
     "execution_count": 5,
     "metadata": {},
     "output_type": "execute_result"
    }
   ],
   "source": [
    "bool(1)"
   ]
  },
  {
   "cell_type": "code",
   "execution_count": 6,
   "id": "285adf0c",
   "metadata": {},
   "outputs": [
    {
     "data": {
      "text/plain": [
       "True"
      ]
     },
     "execution_count": 6,
     "metadata": {},
     "output_type": "execute_result"
    }
   ],
   "source": [
    "not(int(bool(0)))"
   ]
  },
  {
   "cell_type": "code",
   "execution_count": 7,
   "id": "8e3b7f85",
   "metadata": {},
   "outputs": [
    {
     "data": {
      "text/plain": [
       "True"
      ]
     },
     "execution_count": 7,
     "metadata": {},
     "output_type": "execute_result"
    }
   ],
   "source": [
    "not(bool(0))"
   ]
  },
  {
   "cell_type": "code",
   "execution_count": 8,
   "id": "20bd7c45",
   "metadata": {},
   "outputs": [
    {
     "data": {
      "text/plain": [
       "True"
      ]
     },
     "execution_count": 8,
     "metadata": {},
     "output_type": "execute_result"
    }
   ],
   "source": [
    "not 0"
   ]
  },
  {
   "cell_type": "code",
   "execution_count": 9,
   "id": "41f04162",
   "metadata": {},
   "outputs": [
    {
     "data": {
      "text/plain": [
       "False"
      ]
     },
     "execution_count": 9,
     "metadata": {},
     "output_type": "execute_result"
    }
   ],
   "source": [
    "not 1"
   ]
  },
  {
   "cell_type": "code",
   "execution_count": 13,
   "id": "e2efe009",
   "metadata": {},
   "outputs": [
    {
     "name": "stdout",
     "output_type": "stream",
     "text": [
      "-----------------------------------\n",
      "Defined value of START = 1\n",
      "Defined value of STOP = 0\n",
      "\n",
      "-----------------------------------\n",
      "Defined value of START = 1\n",
      "Defined value of STOP = 0\n",
      "\n",
      "-----------------------------------\n",
      "Defined value of START = 1\n",
      "Defined value of STOP = 0\n",
      "\n",
      "-----------------------------------\n"
     ]
    }
   ],
   "source": [
    "START = 1\n",
    "STOP = 0\n",
    "\n",
    "# Print the actual values \n",
    "print(\"-----------------------------------\")\n",
    "print(f\"Defined value of START = {START}\")\n",
    "print(f\"Defined value of STOP = {STOP}\\n\")\n",
    "print(\"-----------------------------------\")\n",
    "\n",
    "# It can also be written as \n",
    "print(f\"Defined value of START = {START}\")\n",
    "print(f\"Defined value of STOP = {int(not(START))}\\n\")\n",
    "print(\"-----------------------------------\")\n",
    "\n",
    "# It can also be written as \n",
    "print(f\"Defined value of START = {int(not(STOP))}\")\n",
    "print(f\"Defined value of STOP = {STOP}\\n\")\n",
    "print(\"-----------------------------------\")"
   ]
  },
  {
   "cell_type": "code",
   "execution_count": 14,
   "id": "560be8f1",
   "metadata": {},
   "outputs": [],
   "source": [
    "lst1 = [1,2,3,4]\n",
    "lst2 = [1,2,3,4]"
   ]
  },
  {
   "cell_type": "code",
   "execution_count": 29,
   "id": "52cbe5d1",
   "metadata": {},
   "outputs": [
    {
     "data": {
      "text/plain": [
       "True"
      ]
     },
     "execution_count": 29,
     "metadata": {},
     "output_type": "execute_result"
    }
   ],
   "source": [
    "lst1 is not lst2"
   ]
  },
  {
   "cell_type": "code",
   "execution_count": 21,
   "id": "b940a87c",
   "metadata": {},
   "outputs": [],
   "source": [
    "# To check the memory address of above lists \n",
    "a = (lst1)\n"
   ]
  },
  {
   "cell_type": "code",
   "execution_count": 20,
   "id": "cfe93451",
   "metadata": {},
   "outputs": [],
   "source": [
    "b = id(lst2)"
   ]
  },
  {
   "cell_type": "code",
   "execution_count": 23,
   "id": "70dc582b",
   "metadata": {},
   "outputs": [
    {
     "name": "stdout",
     "output_type": "stream",
     "text": [
      "No\n"
     ]
    }
   ],
   "source": [
    "# The memory address will be inside in RAM \n",
    "if a == b:\n",
    "    print(\"Yes\")\n",
    "else : \n",
    "    print(\"No\")"
   ]
  },
  {
   "cell_type": "code",
   "execution_count": 24,
   "id": "5a63ba1a",
   "metadata": {},
   "outputs": [],
   "source": [
    "lsta = [1,2,3,4]\n",
    "lstb = lsta"
   ]
  },
  {
   "cell_type": "code",
   "execution_count": 25,
   "id": "75ffa23b",
   "metadata": {},
   "outputs": [
    {
     "data": {
      "text/plain": [
       "2193451655936"
      ]
     },
     "execution_count": 25,
     "metadata": {},
     "output_type": "execute_result"
    }
   ],
   "source": [
    "id(lsta)"
   ]
  },
  {
   "cell_type": "code",
   "execution_count": 26,
   "id": "ea07a04a",
   "metadata": {},
   "outputs": [
    {
     "data": {
      "text/plain": [
       "2193451655936"
      ]
     },
     "execution_count": 26,
     "metadata": {},
     "output_type": "execute_result"
    }
   ],
   "source": [
    "id(lstb)"
   ]
  },
  {
   "cell_type": "code",
   "execution_count": 27,
   "id": "051ba9cf",
   "metadata": {},
   "outputs": [
    {
     "data": {
      "text/plain": [
       "True"
      ]
     },
     "execution_count": 27,
     "metadata": {},
     "output_type": "execute_result"
    }
   ],
   "source": [
    "# \" is \" and \"is not\" are the operators which checks the memory address of both the variables is same or not \n",
    "lsta is lstb"
   ]
  },
  {
   "cell_type": "code",
   "execution_count": 28,
   "id": "0725e19a",
   "metadata": {},
   "outputs": [
    {
     "data": {
      "text/plain": [
       "1"
      ]
     },
     "execution_count": 28,
     "metadata": {},
     "output_type": "execute_result"
    }
   ],
   "source": [
    "int(lsta is lstb)"
   ]
  },
  {
   "cell_type": "markdown",
   "id": "07eb4857",
   "metadata": {},
   "source": [
    "## Arithmetic Operations \n",
    "|Operator|Meaning|\n",
    "|:-:|:-:|\n",
    "|**+**|Addition|\n",
    "|**-**|Subraction|\n",
    "|**\\***|Multiplication|\n",
    "|**/**|True Division|\n",
    "|**//**|Floor Division|\n",
    "|**%**|Modulo Operator|"
   ]
  },
  {
   "cell_type": "code",
   "execution_count": 30,
   "id": "2a6320ff",
   "metadata": {},
   "outputs": [],
   "source": [
    "a = 10\n",
    "b = 5"
   ]
  },
  {
   "cell_type": "code",
   "execution_count": 31,
   "id": "e0bf1c3e",
   "metadata": {},
   "outputs": [
    {
     "data": {
      "text/plain": [
       "15"
      ]
     },
     "execution_count": 31,
     "metadata": {},
     "output_type": "execute_result"
    }
   ],
   "source": [
    "a+b"
   ]
  },
  {
   "cell_type": "code",
   "execution_count": 32,
   "id": "1863be7d",
   "metadata": {},
   "outputs": [
    {
     "data": {
      "text/plain": [
       "5"
      ]
     },
     "execution_count": 32,
     "metadata": {},
     "output_type": "execute_result"
    }
   ],
   "source": [
    "a-b"
   ]
  },
  {
   "cell_type": "code",
   "execution_count": 33,
   "id": "fd97ec69",
   "metadata": {},
   "outputs": [
    {
     "data": {
      "text/plain": [
       "50"
      ]
     },
     "execution_count": 33,
     "metadata": {},
     "output_type": "execute_result"
    }
   ],
   "source": [
    "a*b"
   ]
  },
  {
   "cell_type": "code",
   "execution_count": 34,
   "id": "031ff0ae",
   "metadata": {},
   "outputs": [
    {
     "data": {
      "text/plain": [
       "2.0"
      ]
     },
     "execution_count": 34,
     "metadata": {},
     "output_type": "execute_result"
    }
   ],
   "source": [
    "a/b"
   ]
  },
  {
   "cell_type": "code",
   "execution_count": 35,
   "id": "ec1cadba",
   "metadata": {},
   "outputs": [
    {
     "data": {
      "text/plain": [
       "2"
      ]
     },
     "execution_count": 35,
     "metadata": {},
     "output_type": "execute_result"
    }
   ],
   "source": [
    "a//b"
   ]
  },
  {
   "cell_type": "code",
   "execution_count": 36,
   "id": "a5897543",
   "metadata": {},
   "outputs": [
    {
     "data": {
      "text/plain": [
       "0"
      ]
     },
     "execution_count": 36,
     "metadata": {},
     "output_type": "execute_result"
    }
   ],
   "source": [
    "a%b"
   ]
  },
  {
   "cell_type": "markdown",
   "id": "80a0bbed",
   "metadata": {},
   "source": [
    "### Bitwise Operators\n",
    "|Operation|Meaning|\n",
    "|:-:|:-:|\n",
    "| **∼** |bitwise complement (prefix unary operator)|\n",
    "| **&** |bitwise and|\n",
    "| **\\|** |bitwise or|\n",
    "| **^** |bitwise exclusive-or|\n",
    "| **<<** |shift bits left, filling in with zeros|\n",
    "| **>>** |shift bits right, filling in with sign bit|"
   ]
  },
  {
   "cell_type": "code",
   "execution_count": 38,
   "id": "8e5acb14",
   "metadata": {},
   "outputs": [
    {
     "data": {
      "text/plain": [
       "'0b1010'"
      ]
     },
     "execution_count": 38,
     "metadata": {},
     "output_type": "execute_result"
    }
   ],
   "source": [
    "var = 10 \n",
    "bin(var)"
   ]
  },
  {
   "cell_type": "code",
   "execution_count": 40,
   "id": "26b04416",
   "metadata": {},
   "outputs": [
    {
     "data": {
      "text/plain": [
       "-11"
      ]
     },
     "execution_count": 40,
     "metadata": {},
     "output_type": "execute_result"
    }
   ],
   "source": [
    "~(var)"
   ]
  },
  {
   "cell_type": "code",
   "execution_count": 41,
   "id": "d9029416",
   "metadata": {},
   "outputs": [],
   "source": [
    "str1 = \"PW Skills Data Science\""
   ]
  },
  {
   "cell_type": "code",
   "execution_count": 44,
   "id": "c2c35dec",
   "metadata": {},
   "outputs": [
    {
     "data": {
      "text/plain": [
       "'S'"
      ]
     },
     "execution_count": 44,
     "metadata": {},
     "output_type": "execute_result"
    }
   ],
   "source": [
    "str1[-7]"
   ]
  },
  {
   "cell_type": "code",
   "execution_count": 47,
   "id": "b45c38ec",
   "metadata": {},
   "outputs": [
    {
     "data": {
      "text/plain": [
       "'e'"
      ]
     },
     "execution_count": 47,
     "metadata": {},
     "output_type": "execute_result"
    }
   ],
   "source": [
    "str1[-1]"
   ]
  },
  {
   "cell_type": "code",
   "execution_count": 49,
   "id": "1c21b367",
   "metadata": {},
   "outputs": [
    {
     "data": {
      "text/plain": [
       "'e'"
      ]
     },
     "execution_count": 49,
     "metadata": {},
     "output_type": "execute_result"
    }
   ],
   "source": [
    "str1[-1:]"
   ]
  },
  {
   "cell_type": "code",
   "execution_count": 51,
   "id": "1ace1e23",
   "metadata": {},
   "outputs": [
    {
     "data": {
      "text/plain": [
       "'ce'"
      ]
     },
     "execution_count": 51,
     "metadata": {},
     "output_type": "execute_result"
    }
   ],
   "source": [
    "str1[-2:]"
   ]
  },
  {
   "cell_type": "code",
   "execution_count": 53,
   "id": "808b940b",
   "metadata": {},
   "outputs": [
    {
     "data": {
      "text/plain": [
       "'nce'"
      ]
     },
     "execution_count": 53,
     "metadata": {},
     "output_type": "execute_result"
    }
   ],
   "source": [
    "str1[-3:]"
   ]
  },
  {
   "cell_type": "code",
   "execution_count": 55,
   "id": "a8785489",
   "metadata": {},
   "outputs": [
    {
     "data": {
      "text/plain": [
       "'Science'"
      ]
     },
     "execution_count": 55,
     "metadata": {},
     "output_type": "execute_result"
    }
   ],
   "source": [
    "str1[-7:]"
   ]
  },
  {
   "cell_type": "code",
   "execution_count": 56,
   "id": "cfa8560f",
   "metadata": {},
   "outputs": [
    {
     "data": {
      "text/plain": [
       "'Scie'"
      ]
     },
     "execution_count": 56,
     "metadata": {},
     "output_type": "execute_result"
    }
   ],
   "source": [
    "str1[-7:-3]"
   ]
  },
  {
   "cell_type": "code",
   "execution_count": 57,
   "id": "6cc4c00a",
   "metadata": {},
   "outputs": [
    {
     "data": {
      "text/plain": [
       "''"
      ]
     },
     "execution_count": 57,
     "metadata": {},
     "output_type": "execute_result"
    }
   ],
   "source": [
    "str1[-7:5]"
   ]
  },
  {
   "cell_type": "code",
   "execution_count": 58,
   "id": "313feba6",
   "metadata": {},
   "outputs": [
    {
     "data": {
      "text/plain": [
       "''"
      ]
     },
     "execution_count": 58,
     "metadata": {},
     "output_type": "execute_result"
    }
   ],
   "source": [
    "str1[7:5]"
   ]
  },
  {
   "cell_type": "code",
   "execution_count": 59,
   "id": "5b22f7fd",
   "metadata": {},
   "outputs": [
    {
     "data": {
      "text/plain": [
       "'ta '"
      ]
     },
     "execution_count": 59,
     "metadata": {},
     "output_type": "execute_result"
    }
   ],
   "source": [
    "str1[-10:-7]"
   ]
  },
  {
   "cell_type": "code",
   "execution_count": 60,
   "id": "3de087ce",
   "metadata": {},
   "outputs": [
    {
     "data": {
      "text/plain": [
       "'PW Skills Data Science'"
      ]
     },
     "execution_count": 60,
     "metadata": {},
     "output_type": "execute_result"
    }
   ],
   "source": [
    "str1[:]"
   ]
  },
  {
   "cell_type": "code",
   "execution_count": 62,
   "id": "19018791",
   "metadata": {},
   "outputs": [
    {
     "data": {
      "text/plain": [
       "'ecneicS ataD sllikS WP'"
      ]
     },
     "execution_count": 62,
     "metadata": {},
     "output_type": "execute_result"
    }
   ],
   "source": [
    "str1[::-1]"
   ]
  },
  {
   "cell_type": "code",
   "execution_count": 63,
   "id": "80fb834b",
   "metadata": {},
   "outputs": [
    {
     "data": {
      "text/plain": [
       "'W Skills Data Scienc'"
      ]
     },
     "execution_count": 63,
     "metadata": {},
     "output_type": "execute_result"
    }
   ],
   "source": [
    "str1[1:-1]"
   ]
  },
  {
   "cell_type": "code",
   "execution_count": 65,
   "id": "32053642",
   "metadata": {},
   "outputs": [
    {
     "data": {
      "text/plain": [
       "'W Skills Data '"
      ]
     },
     "execution_count": 65,
     "metadata": {},
     "output_type": "execute_result"
    }
   ],
   "source": [
    "str1[1:-7]"
   ]
  },
  {
   "cell_type": "code",
   "execution_count": 67,
   "id": "ce30983c",
   "metadata": {},
   "outputs": [],
   "source": [
    "course_name = \"Data Science Masters 2.0\""
   ]
  },
  {
   "cell_type": "code",
   "execution_count": 68,
   "id": "854c29af",
   "metadata": {},
   "outputs": [
    {
     "name": "stdout",
     "output_type": "stream",
     "text": [
      "Data Science Masters 2.0\n"
     ]
    }
   ],
   "source": [
    "print(course_name)"
   ]
  },
  {
   "cell_type": "code",
   "execution_count": 69,
   "id": "26d2bd90",
   "metadata": {},
   "outputs": [
    {
     "data": {
      "text/plain": [
       "'Data Science Masters 2.0'"
      ]
     },
     "execution_count": 69,
     "metadata": {},
     "output_type": "execute_result"
    }
   ],
   "source": [
    "course_name"
   ]
  },
  {
   "cell_type": "code",
   "execution_count": 70,
   "id": "b5afbdee",
   "metadata": {},
   "outputs": [
    {
     "data": {
      "text/plain": [
       "1"
      ]
     },
     "execution_count": 70,
     "metadata": {},
     "output_type": "execute_result"
    }
   ],
   "source": [
    "course_name.count('D')"
   ]
  },
  {
   "cell_type": "code",
   "execution_count": 71,
   "id": "94c0913c",
   "metadata": {},
   "outputs": [
    {
     "data": {
      "text/plain": [
       "3"
      ]
     },
     "execution_count": 71,
     "metadata": {},
     "output_type": "execute_result"
    }
   ],
   "source": [
    "course_name.count('e')"
   ]
  },
  {
   "cell_type": "code",
   "execution_count": 72,
   "id": "8859fc9e",
   "metadata": {},
   "outputs": [
    {
     "data": {
      "text/plain": [
       "['Data Sci', 'nc', ' Mast', 'rs 2.0']"
      ]
     },
     "execution_count": 72,
     "metadata": {},
     "output_type": "execute_result"
    }
   ],
   "source": [
    "course_name.split('e')"
   ]
  },
  {
   "cell_type": "code",
   "execution_count": 73,
   "id": "81deaebf",
   "metadata": {},
   "outputs": [
    {
     "data": {
      "text/plain": [
       "('Data Sci', 'e', 'nce Masters 2.0')"
      ]
     },
     "execution_count": 73,
     "metadata": {},
     "output_type": "execute_result"
    }
   ],
   "source": [
    "# It breaks the given statement into three parts\n",
    "course_name.partition('e')"
   ]
  },
  {
   "cell_type": "code",
   "execution_count": 74,
   "id": "a009c83e",
   "metadata": {},
   "outputs": [
    {
     "data": {
      "text/plain": [
       "'DATA SCIENCE MASTERS 2.0'"
      ]
     },
     "execution_count": 74,
     "metadata": {},
     "output_type": "execute_result"
    }
   ],
   "source": [
    "# String upper and lower case\n",
    "course_name.upper()"
   ]
  },
  {
   "cell_type": "code",
   "execution_count": 75,
   "id": "18ace4aa",
   "metadata": {},
   "outputs": [
    {
     "data": {
      "text/plain": [
       "'data science masters 2.0'"
      ]
     },
     "execution_count": 75,
     "metadata": {},
     "output_type": "execute_result"
    }
   ],
   "source": [
    "course_name.lower()"
   ]
  },
  {
   "cell_type": "code",
   "execution_count": 76,
   "id": "73409ff8",
   "metadata": {},
   "outputs": [
    {
     "data": {
      "text/plain": [
       "'dATA sCIENCE mASTERS 2.0'"
      ]
     },
     "execution_count": 76,
     "metadata": {},
     "output_type": "execute_result"
    }
   ],
   "source": [
    "# It swaps the capital letter into small letter and vice versa\n",
    "course_name.swapcase()"
   ]
  },
  {
   "cell_type": "code",
   "execution_count": 77,
   "id": "2d6f958d",
   "metadata": {},
   "outputs": [
    {
     "data": {
      "text/plain": [
       "'Data Science Masters 2.0'"
      ]
     },
     "execution_count": 77,
     "metadata": {},
     "output_type": "execute_result"
    }
   ],
   "source": [
    "course_name.title()"
   ]
  },
  {
   "cell_type": "markdown",
   "id": "c4ec6f14",
   "metadata": {},
   "source": [
    ">Return a version of the string where each word is titlecased.\n",
    "\n",
    ">More specifically, words start with uppercased characters and all remaining\n",
    ">cased characters have lower case."
   ]
  },
  {
   "cell_type": "code",
   "execution_count": 79,
   "id": "5592b16f",
   "metadata": {},
   "outputs": [],
   "source": [
    "laptop_name = \"asus and HP\""
   ]
  },
  {
   "cell_type": "code",
   "execution_count": 80,
   "id": "7bd4c06a",
   "metadata": {},
   "outputs": [
    {
     "data": {
      "text/plain": [
       "'Asus And Hp'"
      ]
     },
     "execution_count": 80,
     "metadata": {},
     "output_type": "execute_result"
    }
   ],
   "source": [
    "laptop_name.title()"
   ]
  },
  {
   "cell_type": "code",
   "execution_count": 81,
   "id": "0d99cd32",
   "metadata": {},
   "outputs": [
    {
     "data": {
      "text/plain": [
       "'0.2 sretsaM ecneicS ataD'"
      ]
     },
     "execution_count": 81,
     "metadata": {},
     "output_type": "execute_result"
    }
   ],
   "source": [
    "course_name[::-1]"
   ]
  },
  {
   "cell_type": "code",
   "execution_count": 82,
   "id": "bb338aee",
   "metadata": {},
   "outputs": [
    {
     "data": {
      "text/plain": [
       "'02sesMeniSaa'"
      ]
     },
     "execution_count": 82,
     "metadata": {},
     "output_type": "execute_result"
    }
   ],
   "source": [
    "course_name[::-2]"
   ]
  },
  {
   "cell_type": "code",
   "execution_count": null,
   "id": "ca9fc1b6",
   "metadata": {},
   "outputs": [],
   "source": []
  }
 ],
 "metadata": {
  "kernelspec": {
   "display_name": "Python 3 (ipykernel)",
   "language": "python",
   "name": "python3"
  },
  "language_info": {
   "codemirror_mode": {
    "name": "ipython",
    "version": 3
   },
   "file_extension": ".py",
   "mimetype": "text/x-python",
   "name": "python",
   "nbconvert_exporter": "python",
   "pygments_lexer": "ipython3",
   "version": "3.10.9"
  }
 },
 "nbformat": 4,
 "nbformat_minor": 5
}
