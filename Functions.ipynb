{
 "cells": [
  {
   "cell_type": "markdown",
   "id": "1c76aadf",
   "metadata": {},
   "source": [
    "#  Functions"
   ]
  },
  {
   "cell_type": "code",
   "execution_count": 2,
   "id": "1fbd1d49",
   "metadata": {},
   "outputs": [],
   "source": [
    "def test():\n",
    "    pass"
   ]
  },
  {
   "cell_type": "markdown",
   "id": "792965a8",
   "metadata": {},
   "source": [
    "> The keyword cannot be a function name"
   ]
  },
  {
   "cell_type": "code",
   "execution_count": 3,
   "id": "629ca4c1",
   "metadata": {},
   "outputs": [],
   "source": [
    "def test1():\n",
    "    print(\"This is my very very first function\")"
   ]
  },
  {
   "cell_type": "code",
   "execution_count": 4,
   "id": "177963b5",
   "metadata": {},
   "outputs": [
    {
     "name": "stdout",
     "output_type": "stream",
     "text": [
      "This is my very very first function\n"
     ]
    }
   ],
   "source": [
    "test1()"
   ]
  },
  {
   "cell_type": "code",
   "execution_count": 6,
   "id": "be1b9645",
   "metadata": {},
   "outputs": [
    {
     "name": "stdout",
     "output_type": "stream",
     "text": [
      "This is my very very first function\n"
     ]
    },
    {
     "ename": "TypeError",
     "evalue": "unsupported operand type(s) for +: 'NoneType' and 'str'",
     "output_type": "error",
     "traceback": [
      "\u001b[1;31m---------------------------------------------------------------------------\u001b[0m",
      "\u001b[1;31mTypeError\u001b[0m                                 Traceback (most recent call last)",
      "Cell \u001b[1;32mIn[6], line 1\u001b[0m\n\u001b[1;32m----> 1\u001b[0m \u001b[43mtest1\u001b[49m\u001b[43m(\u001b[49m\u001b[43m)\u001b[49m\u001b[43m \u001b[49m\u001b[38;5;241;43m+\u001b[39;49m\u001b[43m \u001b[49m\u001b[38;5;124;43m'\u001b[39;49m\u001b[38;5;124;43msudh\u001b[39;49m\u001b[38;5;124;43m'\u001b[39;49m\n",
      "\u001b[1;31mTypeError\u001b[0m: unsupported operand type(s) for +: 'NoneType' and 'str'"
     ]
    }
   ],
   "source": [
    "test1() + 'sudh'"
   ]
  },
  {
   "cell_type": "code",
   "execution_count": 7,
   "id": "5aa48a66",
   "metadata": {},
   "outputs": [],
   "source": [
    "def test2():\n",
    "    return 'this is my first function with return'"
   ]
  },
  {
   "cell_type": "code",
   "execution_count": 8,
   "id": "5f32a486",
   "metadata": {},
   "outputs": [
    {
     "data": {
      "text/plain": [
       "'this is my first function with return'"
      ]
     },
     "execution_count": 8,
     "metadata": {},
     "output_type": "execute_result"
    }
   ],
   "source": [
    "test2()"
   ]
  },
  {
   "cell_type": "code",
   "execution_count": 10,
   "id": "a0ee924a",
   "metadata": {},
   "outputs": [
    {
     "data": {
      "text/plain": [
       "'this is my first function with return sudh'"
      ]
     },
     "execution_count": 10,
     "metadata": {},
     "output_type": "execute_result"
    }
   ],
   "source": [
    "test2()+' sudh'"
   ]
  },
  {
   "cell_type": "code",
   "execution_count": 11,
   "id": "98546729",
   "metadata": {},
   "outputs": [],
   "source": [
    "def test3():\n",
    "    return 1,4,'pwdkills',34.56"
   ]
  },
  {
   "cell_type": "code",
   "execution_count": 14,
   "id": "69f75437",
   "metadata": {},
   "outputs": [
    {
     "data": {
      "text/plain": [
       "function"
      ]
     },
     "execution_count": 14,
     "metadata": {},
     "output_type": "execute_result"
    }
   ],
   "source": [
    "type(test3)"
   ]
  },
  {
   "cell_type": "code",
   "execution_count": 15,
   "id": "8587270c",
   "metadata": {},
   "outputs": [],
   "source": [
    "a,b,c,d = 1,2,3,4"
   ]
  },
  {
   "cell_type": "code",
   "execution_count": 17,
   "id": "b4958584",
   "metadata": {},
   "outputs": [
    {
     "name": "stdout",
     "output_type": "stream",
     "text": [
      "1\n",
      "2\n",
      "3\n",
      "4\n"
     ]
    }
   ],
   "source": [
    "print(a)\n",
    "print(b)\n",
    "print(c)\n",
    "print(d)"
   ]
  },
  {
   "cell_type": "code",
   "execution_count": 12,
   "id": "0bf56d4a",
   "metadata": {},
   "outputs": [
    {
     "data": {
      "text/plain": [
       "(1, 4, 'pwdkills', 34.56)"
      ]
     },
     "execution_count": 12,
     "metadata": {},
     "output_type": "execute_result"
    }
   ],
   "source": [
    "test3()"
   ]
  },
  {
   "cell_type": "markdown",
   "id": "a3c9ed12",
   "metadata": {},
   "source": [
    "> Always the function returns using return statement, the tuple if there are multiple data present"
   ]
  },
  {
   "cell_type": "code",
   "execution_count": 19,
   "id": "d50bc04b",
   "metadata": {},
   "outputs": [
    {
     "data": {
      "text/plain": [
       "1"
      ]
     },
     "execution_count": 19,
     "metadata": {},
     "output_type": "execute_result"
    }
   ],
   "source": [
    "test3()[0]"
   ]
  },
  {
   "cell_type": "code",
   "execution_count": 21,
   "id": "2b0cff70",
   "metadata": {},
   "outputs": [],
   "source": [
    "a,b,c,d = test3()"
   ]
  },
  {
   "cell_type": "code",
   "execution_count": 22,
   "id": "e7dcaf7d",
   "metadata": {},
   "outputs": [
    {
     "name": "stdout",
     "output_type": "stream",
     "text": [
      "1 4 pwdkills 34.56\n"
     ]
    }
   ],
   "source": [
    "print(a,b,c,d)"
   ]
  },
  {
   "cell_type": "code",
   "execution_count": 23,
   "id": "b37260df",
   "metadata": {},
   "outputs": [],
   "source": [
    "def test4():\n",
    "    a = 3*4+5\n",
    "    return a"
   ]
  },
  {
   "cell_type": "code",
   "execution_count": 24,
   "id": "6ec8a46f",
   "metadata": {},
   "outputs": [
    {
     "data": {
      "text/plain": [
       "17"
      ]
     },
     "execution_count": 24,
     "metadata": {},
     "output_type": "execute_result"
    }
   ],
   "source": [
    "test4()"
   ]
  },
  {
   "cell_type": "code",
   "execution_count": 25,
   "id": "1087d4e9",
   "metadata": {},
   "outputs": [
    {
     "data": {
      "text/plain": [
       "int"
      ]
     },
     "execution_count": 25,
     "metadata": {},
     "output_type": "execute_result"
    }
   ],
   "source": [
    "type(test4())"
   ]
  },
  {
   "cell_type": "code",
   "execution_count": 26,
   "id": "472d4c98",
   "metadata": {},
   "outputs": [],
   "source": [
    "def test5(a,b):\n",
    "    c = a+b\n",
    "    return c"
   ]
  },
  {
   "cell_type": "code",
   "execution_count": 27,
   "id": "f67f2109",
   "metadata": {},
   "outputs": [
    {
     "data": {
      "text/plain": [
       "20"
      ]
     },
     "execution_count": 27,
     "metadata": {},
     "output_type": "execute_result"
    }
   ],
   "source": [
    "test5(12,8)"
   ]
  },
  {
   "cell_type": "code",
   "execution_count": 28,
   "id": "c0a1beca",
   "metadata": {},
   "outputs": [
    {
     "data": {
      "text/plain": [
       "'PWSkills'"
      ]
     },
     "execution_count": 28,
     "metadata": {},
     "output_type": "execute_result"
    }
   ],
   "source": [
    "test5('PW','Skills')"
   ]
  },
  {
   "cell_type": "code",
   "execution_count": 29,
   "id": "7335a35f",
   "metadata": {},
   "outputs": [
    {
     "data": {
      "text/plain": [
       "[1, 2, 3, 4, 5, 6, 7, 8]"
      ]
     },
     "execution_count": 29,
     "metadata": {},
     "output_type": "execute_result"
    }
   ],
   "source": [
    "test5([1,2,3,4],[5,6,7,8])"
   ]
  },
  {
   "cell_type": "code",
   "execution_count": 31,
   "id": "0bf18f8c",
   "metadata": {},
   "outputs": [
    {
     "data": {
      "text/plain": [
       "'pwskills'"
      ]
     },
     "execution_count": 31,
     "metadata": {},
     "output_type": "execute_result"
    }
   ],
   "source": [
    "test5(b = 'skills',a = 'pw')"
   ]
  },
  {
   "cell_type": "code",
   "execution_count": 32,
   "id": "f74f76c8",
   "metadata": {},
   "outputs": [],
   "source": [
    "l = [1,2,3,4,5,'sudh','pwskills',[1,2,3,44,45]]"
   ]
  },
  {
   "cell_type": "code",
   "execution_count": 35,
   "id": "9af3fd31",
   "metadata": {},
   "outputs": [],
   "source": [
    "# Create a function which will take list as an input and give me a final list with all the numeric values\n",
    "def num_lst(lst):\n",
    "    final_lst = []\n",
    "    for element in lst:\n",
    "        if type(element) == int or type(element) == float:\n",
    "            final_lst.append(element)\n",
    "    return final_lst"
   ]
  },
  {
   "cell_type": "code",
   "execution_count": 36,
   "id": "575294e5",
   "metadata": {},
   "outputs": [
    {
     "data": {
      "text/plain": [
       "[1, 2, 3, 4, 5]"
      ]
     },
     "execution_count": 36,
     "metadata": {},
     "output_type": "execute_result"
    }
   ],
   "source": [
    "num_lst(l)"
   ]
  },
  {
   "cell_type": "code",
   "execution_count": 13,
   "id": "4a2e32cc",
   "metadata": {},
   "outputs": [],
   "source": [
    "l = [1,2,3,4,5,'sudh','pwskills',[1,2,3,44,45],3.14,34.56]"
   ]
  },
  {
   "cell_type": "code",
   "execution_count": 14,
   "id": "7d67ea1b",
   "metadata": {},
   "outputs": [],
   "source": [
    "# Create a function which will take list as an input and give me a final list with all the numeric values"
   ]
  },
  {
   "cell_type": "code",
   "execution_count": 15,
   "id": "2c71c43c",
   "metadata": {},
   "outputs": [],
   "source": [
    "# Definition of function\n",
    "def num_lst(lst):\n",
    "    final_list = []\n",
    "    for element in lst:\n",
    "        if type(element) == int or type(element) == float:\n",
    "            final_list.append(element)\n",
    "    return final_list"
   ]
  },
  {
   "cell_type": "code",
   "execution_count": 16,
   "id": "61cd7108",
   "metadata": {},
   "outputs": [
    {
     "data": {
      "text/plain": [
       "[1, 2, 3, 4, 5, 3.14, 34.56]"
      ]
     },
     "execution_count": 16,
     "metadata": {},
     "output_type": "execute_result"
    }
   ],
   "source": [
    "num_lst(l)"
   ]
  },
  {
   "cell_type": "code",
   "execution_count": 27,
   "id": "f84e0148",
   "metadata": {},
   "outputs": [],
   "source": [
    "# Definition of function\n",
    "def num_lst(lst):\n",
    "    final_list = []\n",
    "    for element in lst:\n",
    "        if type(element) == list:\n",
    "            for sub_element in element:\n",
    "                if type(sub_element) == int or type(sub_element) == float:\n",
    "                    final_list.append(sub_element)\n",
    "        else : \n",
    "            if type(element) == int or type(element) == float:\n",
    "                final_list.append(element)\n",
    "    return final_list"
   ]
  },
  {
   "cell_type": "code",
   "execution_count": 28,
   "id": "1005b3b4",
   "metadata": {},
   "outputs": [
    {
     "data": {
      "text/plain": [
       "[1, 2, 3, 4, 5, 1, 2, 3, 44, 45, 3.14, 34.56]"
      ]
     },
     "execution_count": 28,
     "metadata": {},
     "output_type": "execute_result"
    }
   ],
   "source": [
    "num_lst(l)"
   ]
  },
  {
   "cell_type": "code",
   "execution_count": 31,
   "id": "6ad2ca94",
   "metadata": {},
   "outputs": [],
   "source": [
    "def test(a,b,c,d,e):\n",
    "    pass"
   ]
  },
  {
   "cell_type": "code",
   "execution_count": 32,
   "id": "6657cbab",
   "metadata": {},
   "outputs": [],
   "source": [
    "test(1,3,4,6,7)"
   ]
  },
  {
   "cell_type": "code",
   "execution_count": 33,
   "id": "54ca5ad9",
   "metadata": {},
   "outputs": [
    {
     "ename": "TypeError",
     "evalue": "test() takes 5 positional arguments but 7 were given",
     "output_type": "error",
     "traceback": [
      "\u001b[1;31m---------------------------------------------------------------------------\u001b[0m",
      "\u001b[1;31mTypeError\u001b[0m                                 Traceback (most recent call last)",
      "Cell \u001b[1;32mIn[33], line 1\u001b[0m\n\u001b[1;32m----> 1\u001b[0m \u001b[43mtest\u001b[49m\u001b[43m(\u001b[49m\u001b[38;5;241;43m1\u001b[39;49m\u001b[43m,\u001b[49m\u001b[38;5;241;43m2\u001b[39;49m\u001b[43m,\u001b[49m\u001b[38;5;241;43m3\u001b[39;49m\u001b[43m,\u001b[49m\u001b[38;5;241;43m4\u001b[39;49m\u001b[43m,\u001b[49m\u001b[38;5;241;43m5\u001b[39;49m\u001b[43m,\u001b[49m\u001b[38;5;241;43m6\u001b[39;49m\u001b[43m,\u001b[49m\u001b[38;5;241;43m7\u001b[39;49m\u001b[43m)\u001b[49m\n",
      "\u001b[1;31mTypeError\u001b[0m: test() takes 5 positional arguments but 7 were given"
     ]
    }
   ],
   "source": [
    "test(1,2,3,4,5,6,7)"
   ]
  },
  {
   "cell_type": "code",
   "execution_count": 34,
   "id": "9885f8dc",
   "metadata": {},
   "outputs": [],
   "source": [
    "def test1(*args):\n",
    "    return args"
   ]
  },
  {
   "cell_type": "code",
   "execution_count": 35,
   "id": "33596841",
   "metadata": {},
   "outputs": [
    {
     "data": {
      "text/plain": [
       "(2, 3, 4.5, 5, 6, 7, 8, 9, 23, 45)"
      ]
     },
     "execution_count": 35,
     "metadata": {},
     "output_type": "execute_result"
    }
   ],
   "source": [
    "test1(2,3,4.5,5,6,7,8,9,23,45)"
   ]
  },
  {
   "cell_type": "code",
   "execution_count": 36,
   "id": "1d997793",
   "metadata": {},
   "outputs": [
    {
     "data": {
      "text/plain": [
       "(2,)"
      ]
     },
     "execution_count": 36,
     "metadata": {},
     "output_type": "execute_result"
    }
   ],
   "source": [
    "test1(2)"
   ]
  },
  {
   "cell_type": "code",
   "execution_count": 37,
   "id": "acf92d0b",
   "metadata": {},
   "outputs": [
    {
     "data": {
      "text/plain": [
       "('pwskills',\n",
       " [1, 2, 3, 4, 5, 6],\n",
       " ('pw', 'skills'),\n",
       " 24.56,\n",
       " 45,\n",
       " 67,\n",
       " {'name': 'ABC'},\n",
       " {1, 2, 3, 4})"
      ]
     },
     "execution_count": 37,
     "metadata": {},
     "output_type": "execute_result"
    }
   ],
   "source": [
    "test1('pwskills',[1,2,3,4,5,6],('pw','skills'),24.56,45,67,{'name':'ABC'},{1,2,3,4})"
   ]
  },
  {
   "cell_type": "markdown",
   "id": "0a63a8ff",
   "metadata": {},
   "source": [
    "> Not compulsory to write *args, we can assign it any instead of \"args\""
   ]
  },
  {
   "cell_type": "code",
   "execution_count": 38,
   "id": "de9dc7fb",
   "metadata": {},
   "outputs": [],
   "source": [
    "def test2(*pwskills):\n",
    "    return pwskills"
   ]
  },
  {
   "cell_type": "code",
   "execution_count": 39,
   "id": "f94d1443",
   "metadata": {},
   "outputs": [
    {
     "data": {
      "text/plain": [
       "('pwskills', 2, 3, 4, 5, 6)"
      ]
     },
     "execution_count": 39,
     "metadata": {},
     "output_type": "execute_result"
    }
   ],
   "source": [
    "test2('pwskills',2,3,4,5,6)"
   ]
  },
  {
   "cell_type": "code",
   "execution_count": 40,
   "id": "02af167d",
   "metadata": {},
   "outputs": [],
   "source": [
    "def test3(*args,additional):\n",
    "    return args,additional"
   ]
  },
  {
   "cell_type": "code",
   "execution_count": 41,
   "id": "ab8d5e55",
   "metadata": {},
   "outputs": [
    {
     "ename": "TypeError",
     "evalue": "test3() missing 1 required keyword-only argument: 'additional'",
     "output_type": "error",
     "traceback": [
      "\u001b[1;31m---------------------------------------------------------------------------\u001b[0m",
      "\u001b[1;31mTypeError\u001b[0m                                 Traceback (most recent call last)",
      "Cell \u001b[1;32mIn[41], line 1\u001b[0m\n\u001b[1;32m----> 1\u001b[0m \u001b[43mtest3\u001b[49m\u001b[43m(\u001b[49m\u001b[38;5;241;43m1\u001b[39;49m\u001b[43m,\u001b[49m\u001b[38;5;241;43m2\u001b[39;49m\u001b[43m,\u001b[49m\u001b[38;5;241;43m3\u001b[39;49m\u001b[43m,\u001b[49m\u001b[38;5;241;43m4\u001b[39;49m\u001b[43m)\u001b[49m\n",
      "\u001b[1;31mTypeError\u001b[0m: test3() missing 1 required keyword-only argument: 'additional'"
     ]
    }
   ],
   "source": [
    "test3(1,2,3,4)"
   ]
  },
  {
   "cell_type": "code",
   "execution_count": 42,
   "id": "492e91a9",
   "metadata": {},
   "outputs": [
    {
     "data": {
      "text/plain": [
       "((1, 2, 3, 4), 'pwskills')"
      ]
     },
     "execution_count": 42,
     "metadata": {},
     "output_type": "execute_result"
    }
   ],
   "source": [
    "test3(1,2,3,4,additional = 'pwskills')"
   ]
  },
  {
   "cell_type": "code",
   "execution_count": 66,
   "id": "d6855970",
   "metadata": {},
   "outputs": [],
   "source": [
    "# Create a function that only will accept list\n",
    "def test6(*args):\n",
    "    lst = []\n",
    "    tup = []\n",
    "    dict1 = []\n",
    "    set1 = []\n",
    "    remained = []\n",
    "    for element in args:\n",
    "        if type(element) == list:\n",
    "            lst.append(element)\n",
    "        elif type(element) == tuple:\n",
    "            tup.append(element)\n",
    "        elif type(element) == dict:\n",
    "            dict1.append(element)\n",
    "        elif type(element) == set:\n",
    "            set1.append(element)\n",
    "        elif type(element) == int or type(element) == float or type(element) == str or type(element) == bool or type(element) == complex : \n",
    "            remained.append(element)\n",
    "    return lst,tup,dict1,set1,remained"
   ]
  },
  {
   "cell_type": "code",
   "execution_count": 67,
   "id": "9f8dc603",
   "metadata": {},
   "outputs": [
    {
     "data": {
      "text/plain": [
       "([[1, 2, 3, 4]],\n",
       " [(1, 2, 34, 4)],\n",
       " [{1: 'a', 2: 'b'}],\n",
       " [{1, 2, 3, 5}],\n",
       " ['a', 'b', 'pwskills', 22, 3, 4, 3.14, 6.67, True, (2+7j)])"
      ]
     },
     "execution_count": 67,
     "metadata": {},
     "output_type": "execute_result"
    }
   ],
   "source": [
    "test6('a','b','pwskills',[1,2,3,4],(1,2,34,4),{1,2,3,5},{1:'a',2:'b'},22,3,4,3.14,6.67,True,2+7j)"
   ]
  },
  {
   "cell_type": "code",
   "execution_count": 45,
   "id": "ccde6634",
   "metadata": {},
   "outputs": [],
   "source": [
    "def test4(**kwargs):\n",
    "    return kwargs"
   ]
  },
  {
   "cell_type": "code",
   "execution_count": 49,
   "id": "2fd6316f",
   "metadata": {},
   "outputs": [
    {
     "data": {
      "text/plain": [
       "{}"
      ]
     },
     "execution_count": 49,
     "metadata": {},
     "output_type": "execute_result"
    }
   ],
   "source": [
    "test4()"
   ]
  },
  {
   "cell_type": "code",
   "execution_count": 50,
   "id": "66d642b9",
   "metadata": {},
   "outputs": [
    {
     "data": {
      "text/plain": [
       "dict"
      ]
     },
     "execution_count": 50,
     "metadata": {},
     "output_type": "execute_result"
    }
   ],
   "source": [
    "type(test4())"
   ]
  },
  {
   "cell_type": "code",
   "execution_count": 51,
   "id": "263069d0",
   "metadata": {},
   "outputs": [
    {
     "data": {
      "text/plain": [
       "{'a': 1, 'b': 2, 'c': 3, 'd': 4}"
      ]
     },
     "execution_count": 51,
     "metadata": {},
     "output_type": "execute_result"
    }
   ],
   "source": [
    "test4(a=1,b=2,c=3,d=4)"
   ]
  },
  {
   "cell_type": "code",
   "execution_count": 53,
   "id": "02359bbd",
   "metadata": {},
   "outputs": [
    {
     "data": {
      "text/plain": [
       "{'a': 1,\n",
       " 'b': True,\n",
       " 'c': 3.14,\n",
       " 'd': 'pwskills',\n",
       " 'e': [1, 2, 3, 4, 55, 66],\n",
       " 'f': (1, 2, 3, 4, 5, 6),\n",
       " 'g': {1, 2, 3, 4, 55, 66},\n",
       " 'h': {1: 'a', 2: 'b'}}"
      ]
     },
     "execution_count": 53,
     "metadata": {},
     "output_type": "execute_result"
    }
   ],
   "source": [
    "test4(a=1,b=True,c=3.14,d='pwskills',e = [1,2,3,4,55,66],f= (1,2,3,4,5,6),g = {1,2,3,4,55,66},h = {1:'a',2:'b'})"
   ]
  },
  {
   "cell_type": "code",
   "execution_count": 68,
   "id": "75d2eb56",
   "metadata": {},
   "outputs": [],
   "source": [
    "# Extract list from **kwargs\n",
    "def test7(**kwargs):\n",
    "    for i in kwargs.keys():\n",
    "        if type(kwargs[i]) == list: \n",
    "            return i,kwargs[i]"
   ]
  },
  {
   "cell_type": "code",
   "execution_count": 70,
   "id": "25302dbd",
   "metadata": {},
   "outputs": [
    {
     "data": {
      "text/plain": [
       "('b', [2, 34, 56, 67])"
      ]
     },
     "execution_count": 70,
     "metadata": {},
     "output_type": "execute_result"
    }
   ],
   "source": [
    "test7(a=1,b=[2,34,56,67],c=(3,4,5,6),d = [1,2,3,4])"
   ]
  },
  {
   "cell_type": "code",
   "execution_count": 57,
   "id": "c5b85bbd",
   "metadata": {},
   "outputs": [],
   "source": [
    "def test5(*args,**kwargs):\n",
    "    return args,kwargs"
   ]
  },
  {
   "cell_type": "code",
   "execution_count": 59,
   "id": "57ca9bf5",
   "metadata": {},
   "outputs": [
    {
     "data": {
      "text/plain": [
       "((1, 2, 3, 4, 5, 6, 7, 8, 9, 10), {'a': 'pwskills', 'b': 3.14})"
      ]
     },
     "execution_count": 59,
     "metadata": {},
     "output_type": "execute_result"
    }
   ],
   "source": [
    "test5(1,2,3,4,5,6,7,8,9,10,a='pwskills',b=3.14)"
   ]
  },
  {
   "cell_type": "markdown",
   "id": "1d89b03f",
   "metadata": {},
   "source": [
    "## Generator Functions"
   ]
  },
  {
   "cell_type": "markdown",
   "id": "44b6887c",
   "metadata": {},
   "source": [
    "> e.g. range function --> range()"
   ]
  },
  {
   "cell_type": "code",
   "execution_count": 71,
   "id": "4f86ea05",
   "metadata": {},
   "outputs": [
    {
     "name": "stdout",
     "output_type": "stream",
     "text": [
      "0\n",
      "1\n",
      "2\n",
      "3\n",
      "4\n",
      "5\n",
      "6\n",
      "7\n",
      "8\n",
      "9\n"
     ]
    }
   ],
   "source": [
    "for i in range(10):\n",
    "    print(i)       # Only generate and give it to user, does not need to store the data "
   ]
  },
  {
   "cell_type": "markdown",
   "id": "9e0662bb",
   "metadata": {},
   "source": [
    "> range() is a generator function"
   ]
  },
  {
   "cell_type": "code",
   "execution_count": 74,
   "id": "74bcdc59",
   "metadata": {},
   "outputs": [],
   "source": [
    "list1 = [1,2,3,4,5,6,'pwskills','data science']"
   ]
  },
  {
   "cell_type": "code",
   "execution_count": 75,
   "id": "64e183c6",
   "metadata": {},
   "outputs": [],
   "source": [
    "def test1(n): \n",
    "    lst = []\n",
    "    for i in n : \n",
    "        if type(i) == str:\n",
    "            lst.append(i)\n",
    "    return lst\n",
    "    "
   ]
  },
  {
   "cell_type": "code",
   "execution_count": 77,
   "id": "061030c1",
   "metadata": {},
   "outputs": [
    {
     "data": {
      "text/plain": [
       "['pwskills', 'data science']"
      ]
     },
     "execution_count": 77,
     "metadata": {},
     "output_type": "execute_result"
    }
   ],
   "source": [
    "test1(list1)"
   ]
  },
  {
   "cell_type": "markdown",
   "id": "e465df7f",
   "metadata": {},
   "source": [
    "Fibonacci : \n",
    "> 0,1,1,2,3,5,8,13,21,34"
   ]
  },
  {
   "cell_type": "markdown",
   "id": "056ba7a7",
   "metadata": {},
   "source": [
    "1. a = 0 and b = 1\n",
    "2. a = 1 and b = 1\n",
    "3. a = 1 and b = 2\n",
    "4. a = 2 and b = 3\n",
    "> Fibonacci series till here is the value of a, so we have used the \"yield\" at \"a\" only --> 0,1,1,2"
   ]
  },
  {
   "cell_type": "code",
   "execution_count": 79,
   "id": "faa98124",
   "metadata": {},
   "outputs": [],
   "source": [
    "def fibonacci(n):\n",
    "    a,b = 0,1\n",
    "    for i in range(n):\n",
    "        yield a \n",
    "        a,b = b,a+b"
   ]
  },
  {
   "cell_type": "code",
   "execution_count": 80,
   "id": "1840eb26",
   "metadata": {},
   "outputs": [
    {
     "data": {
      "text/plain": [
       "<generator object fibonacci at 0x000001F4D9988580>"
      ]
     },
     "execution_count": 80,
     "metadata": {},
     "output_type": "execute_result"
    }
   ],
   "source": [
    "fibonacci(10)"
   ]
  },
  {
   "cell_type": "code",
   "execution_count": 81,
   "id": "5de1670c",
   "metadata": {},
   "outputs": [
    {
     "name": "stdout",
     "output_type": "stream",
     "text": [
      "0\n",
      "1\n",
      "1\n",
      "2\n",
      "3\n",
      "5\n",
      "8\n",
      "13\n",
      "21\n",
      "34\n"
     ]
    }
   ],
   "source": [
    "for i in fibonacci(10):\n",
    "    print(i)"
   ]
  },
  {
   "cell_type": "code",
   "execution_count": 83,
   "id": "bea91358",
   "metadata": {},
   "outputs": [
    {
     "name": "stdout",
     "output_type": "stream",
     "text": [
      "0 1 1 2 3 "
     ]
    }
   ],
   "source": [
    "for i in fibonacci(5):\n",
    "    print(i,end=\" \")"
   ]
  },
  {
   "cell_type": "markdown",
   "id": "af3df690",
   "metadata": {},
   "source": [
    "## Lambda Function"
   ]
  },
  {
   "cell_type": "code",
   "execution_count": 84,
   "id": "f86e08a3",
   "metadata": {},
   "outputs": [],
   "source": [
    "# Normal Function\n",
    "def test(n,p):\n",
    "    return n**p"
   ]
  },
  {
   "cell_type": "code",
   "execution_count": 85,
   "id": "3089cf59",
   "metadata": {},
   "outputs": [
    {
     "data": {
      "text/plain": [
       "15625"
      ]
     },
     "execution_count": 85,
     "metadata": {},
     "output_type": "execute_result"
    }
   ],
   "source": [
    "test(5,6)"
   ]
  },
  {
   "cell_type": "code",
   "execution_count": 86,
   "id": "d34b0dfe",
   "metadata": {},
   "outputs": [
    {
     "data": {
      "text/plain": [
       "81"
      ]
     },
     "execution_count": 86,
     "metadata": {},
     "output_type": "execute_result"
    }
   ],
   "source": [
    "test(9,2)"
   ]
  },
  {
   "cell_type": "markdown",
   "id": "e8cf52f8",
   "metadata": {},
   "source": [
    "#### Anonymous function or Lambda Function \n",
    "> Lambda is a one line function that is immediately invoked or stored in a variable"
   ]
  },
  {
   "cell_type": "code",
   "execution_count": 87,
   "id": "c1051a0e",
   "metadata": {},
   "outputs": [
    {
     "data": {
      "text/plain": [
       "<function __main__.<lambda>(n, p)>"
      ]
     },
     "execution_count": 87,
     "metadata": {},
     "output_type": "execute_result"
    }
   ],
   "source": [
    "lambda n,p : n**p"
   ]
  },
  {
   "cell_type": "code",
   "execution_count": 88,
   "id": "f9fc6397",
   "metadata": {},
   "outputs": [],
   "source": [
    "a = lambda n,p : n**p"
   ]
  },
  {
   "cell_type": "code",
   "execution_count": 89,
   "id": "9a9ceeb2",
   "metadata": {},
   "outputs": [
    {
     "data": {
      "text/plain": [
       "81"
      ]
     },
     "execution_count": 89,
     "metadata": {},
     "output_type": "execute_result"
    }
   ],
   "source": [
    "a(9,2)"
   ]
  },
  {
   "cell_type": "code",
   "execution_count": 90,
   "id": "4b9c5b81",
   "metadata": {},
   "outputs": [
    {
     "data": {
      "text/plain": [
       "15625"
      ]
     },
     "execution_count": 90,
     "metadata": {},
     "output_type": "execute_result"
    }
   ],
   "source": [
    "a(5,6)"
   ]
  },
  {
   "cell_type": "code",
   "execution_count": 91,
   "id": "2278b864",
   "metadata": {},
   "outputs": [],
   "source": [
    "add = lambda a,b : a+b"
   ]
  },
  {
   "cell_type": "code",
   "execution_count": 92,
   "id": "c0d1210b",
   "metadata": {},
   "outputs": [
    {
     "data": {
      "text/plain": [
       "401"
      ]
     },
     "execution_count": 92,
     "metadata": {},
     "output_type": "execute_result"
    }
   ],
   "source": [
    "add(345,56)"
   ]
  },
  {
   "cell_type": "code",
   "execution_count": 93,
   "id": "39fcf659",
   "metadata": {},
   "outputs": [],
   "source": [
    "c_to_f = lambda c : (9/5)*c+32 # Converting to temperature"
   ]
  },
  {
   "cell_type": "code",
   "execution_count": 94,
   "id": "bdeebfe2",
   "metadata": {},
   "outputs": [
    {
     "data": {
      "text/plain": [
       "89.6"
      ]
     },
     "execution_count": 94,
     "metadata": {},
     "output_type": "execute_result"
    }
   ],
   "source": [
    "c_to_f(32)"
   ]
  },
  {
   "cell_type": "code",
   "execution_count": 99,
   "id": "ce3aec1b",
   "metadata": {},
   "outputs": [
    {
     "data": {
      "text/plain": [
       "32.0"
      ]
     },
     "execution_count": 99,
     "metadata": {},
     "output_type": "execute_result"
    }
   ],
   "source": [
    "c_to_f(0)"
   ]
  },
  {
   "cell_type": "code",
   "execution_count": 100,
   "id": "9376e85a",
   "metadata": {},
   "outputs": [],
   "source": [
    "max_of_two = lambda x,y : x if x>y else y"
   ]
  },
  {
   "cell_type": "code",
   "execution_count": 101,
   "id": "b6d71fae",
   "metadata": {},
   "outputs": [
    {
     "data": {
      "text/plain": [
       "63"
      ]
     },
     "execution_count": 101,
     "metadata": {},
     "output_type": "execute_result"
    }
   ],
   "source": [
    "max_of_two(56,63)"
   ]
  },
  {
   "cell_type": "code",
   "execution_count": 103,
   "id": "ed017d4a",
   "metadata": {},
   "outputs": [],
   "source": [
    "s = 'pwskills'"
   ]
  },
  {
   "cell_type": "code",
   "execution_count": 104,
   "id": "1ca0f3be",
   "metadata": {},
   "outputs": [],
   "source": [
    "len_of_str = lambda s : len(s)"
   ]
  },
  {
   "cell_type": "code",
   "execution_count": 105,
   "id": "b1d33d3d",
   "metadata": {},
   "outputs": [
    {
     "data": {
      "text/plain": [
       "8"
      ]
     },
     "execution_count": 105,
     "metadata": {},
     "output_type": "execute_result"
    }
   ],
   "source": [
    "len_of_str(s)"
   ]
  },
  {
   "cell_type": "code",
   "execution_count": 106,
   "id": "0c1e6144",
   "metadata": {},
   "outputs": [],
   "source": [
    "uppercase = lambda s : s.upper()"
   ]
  },
  {
   "cell_type": "code",
   "execution_count": 107,
   "id": "0d978577",
   "metadata": {},
   "outputs": [
    {
     "data": {
      "text/plain": [
       "'PWSKILLS'"
      ]
     },
     "execution_count": 107,
     "metadata": {},
     "output_type": "execute_result"
    }
   ],
   "source": [
    "uppercase(s)"
   ]
  },
  {
   "cell_type": "markdown",
   "id": "48dfb8d1",
   "metadata": {},
   "source": [
    "## Map,Reduce and Filter Functions"
   ]
  },
  {
   "cell_type": "code",
   "execution_count": 113,
   "id": "ff949040",
   "metadata": {},
   "outputs": [],
   "source": [
    "lst = [1,2,3,4,5]"
   ]
  },
  {
   "cell_type": "code",
   "execution_count": 115,
   "id": "f93bd04c",
   "metadata": {},
   "outputs": [],
   "source": [
    "def test(lst):\n",
    "    l1 = []\n",
    "    for i in lst : \n",
    "        l1.append(i**2)\n",
    "    return l1"
   ]
  },
  {
   "cell_type": "code",
   "execution_count": 116,
   "id": "2ce05fe2",
   "metadata": {},
   "outputs": [
    {
     "data": {
      "text/plain": [
       "[1, 4, 9, 16, 25]"
      ]
     },
     "execution_count": 116,
     "metadata": {},
     "output_type": "execute_result"
    }
   ],
   "source": [
    "test(lst)"
   ]
  },
  {
   "cell_type": "code",
   "execution_count": 117,
   "id": "c8f64690",
   "metadata": {},
   "outputs": [],
   "source": [
    "def test1(lst):\n",
    "    l1 = []\n",
    "    for i in lst : \n",
    "        i = i**2\n",
    "        l1.append(i)\n",
    "    return l1"
   ]
  },
  {
   "cell_type": "code",
   "execution_count": 118,
   "id": "f5baff95",
   "metadata": {},
   "outputs": [
    {
     "data": {
      "text/plain": [
       "[1, 4, 9, 16, 25]"
      ]
     },
     "execution_count": 118,
     "metadata": {},
     "output_type": "execute_result"
    }
   ],
   "source": [
    "test1(lst)"
   ]
  },
  {
   "cell_type": "code",
   "execution_count": 119,
   "id": "3b356547",
   "metadata": {},
   "outputs": [
    {
     "data": {
      "text/plain": [
       "<map at 0x1f4d99c1c60>"
      ]
     },
     "execution_count": 119,
     "metadata": {},
     "output_type": "execute_result"
    }
   ],
   "source": [
    "map(i**2,lst)"
   ]
  },
  {
   "cell_type": "code",
   "execution_count": 120,
   "id": "485e2a0a",
   "metadata": {},
   "outputs": [],
   "source": [
    "a = map(i**2,lst)"
   ]
  },
  {
   "cell_type": "code",
   "execution_count": 121,
   "id": "6bf3cfe0",
   "metadata": {},
   "outputs": [
    {
     "name": "stdout",
     "output_type": "stream",
     "text": [
      "<map object at 0x000001F4D99C1120>\n"
     ]
    }
   ],
   "source": [
    "print(a)"
   ]
  },
  {
   "cell_type": "code",
   "execution_count": 122,
   "id": "3a77da4e",
   "metadata": {},
   "outputs": [],
   "source": [
    "def sq(x):\n",
    "    return x**2"
   ]
  },
  {
   "cell_type": "code",
   "execution_count": 123,
   "id": "97b7823f",
   "metadata": {},
   "outputs": [
    {
     "data": {
      "text/plain": [
       "<map at 0x1f4d99c1cf0>"
      ]
     },
     "execution_count": 123,
     "metadata": {},
     "output_type": "execute_result"
    }
   ],
   "source": [
    "map(sq,lst)"
   ]
  },
  {
   "cell_type": "code",
   "execution_count": 124,
   "id": "59cb9296",
   "metadata": {},
   "outputs": [
    {
     "data": {
      "text/plain": [
       "[1, 4, 9, 16, 25]"
      ]
     },
     "execution_count": 124,
     "metadata": {},
     "output_type": "execute_result"
    }
   ],
   "source": [
    "list(map(sq,lst))"
   ]
  },
  {
   "cell_type": "code",
   "execution_count": 125,
   "id": "e7c29c1b",
   "metadata": {},
   "outputs": [
    {
     "data": {
      "text/plain": [
       "[1, 4, 9, 16, 25]"
      ]
     },
     "execution_count": 125,
     "metadata": {},
     "output_type": "execute_result"
    }
   ],
   "source": [
    "# Another method\n",
    "list(map(lambda x : x**2,lst))"
   ]
  },
  {
   "cell_type": "code",
   "execution_count": 126,
   "id": "833b28c6",
   "metadata": {},
   "outputs": [
    {
     "data": {
      "text/plain": [
       "[11, 12, 13, 14, 15]"
      ]
     },
     "execution_count": 126,
     "metadata": {},
     "output_type": "execute_result"
    }
   ],
   "source": [
    "list(map(lambda x : x+10,lst))"
   ]
  },
  {
   "cell_type": "code",
   "execution_count": 127,
   "id": "fa59c416",
   "metadata": {},
   "outputs": [
    {
     "data": {
      "text/plain": [
       "['1', '2', '3', '4', '5']"
      ]
     },
     "execution_count": 127,
     "metadata": {},
     "output_type": "execute_result"
    }
   ],
   "source": [
    "list(map(lambda x : str(x),lst))"
   ]
  },
  {
   "cell_type": "code",
   "execution_count": 128,
   "id": "1a917cb9",
   "metadata": {},
   "outputs": [],
   "source": [
    "lst1 = [1,2,3,4,5]\n",
    "lst2 = [6,7,8,9,10]"
   ]
  },
  {
   "cell_type": "code",
   "execution_count": 129,
   "id": "c9662c10",
   "metadata": {},
   "outputs": [
    {
     "data": {
      "text/plain": [
       "[7, 9, 11, 13, 15]"
      ]
     },
     "execution_count": 129,
     "metadata": {},
     "output_type": "execute_result"
    }
   ],
   "source": [
    "# Add both lists index by index\n",
    "list(map(lambda x,y : x+y, lst1,lst2))"
   ]
  },
  {
   "cell_type": "code",
   "execution_count": 130,
   "id": "119693f3",
   "metadata": {},
   "outputs": [],
   "source": [
    "f = lambda x,y : x+y"
   ]
  },
  {
   "cell_type": "code",
   "execution_count": 131,
   "id": "0fbcad20",
   "metadata": {},
   "outputs": [
    {
     "data": {
      "text/plain": [
       "[7, 9, 11, 13, 15]"
      ]
     },
     "execution_count": 131,
     "metadata": {},
     "output_type": "execute_result"
    }
   ],
   "source": [
    "list(map(f,lst1,lst2))"
   ]
  },
  {
   "cell_type": "code",
   "execution_count": 132,
   "id": "12858095",
   "metadata": {},
   "outputs": [
    {
     "data": {
      "text/plain": [
       "['P', 'W', 'S', 'K', 'I', 'L', 'L', 'S']"
      ]
     },
     "execution_count": 132,
     "metadata": {},
     "output_type": "execute_result"
    }
   ],
   "source": [
    "s = 'pwskills'\n",
    "# Turn it in uppercase and return in the form of list\n",
    "list(map(lambda x : x.upper(),s))"
   ]
  },
  {
   "cell_type": "markdown",
   "id": "3c083b78",
   "metadata": {},
   "source": [
    "## REDUCE "
   ]
  },
  {
   "cell_type": "code",
   "execution_count": 133,
   "id": "c58bfa91",
   "metadata": {},
   "outputs": [],
   "source": [
    "from functools import reduce"
   ]
  },
  {
   "cell_type": "code",
   "execution_count": 134,
   "id": "1a399595",
   "metadata": {},
   "outputs": [
    {
     "data": {
      "text/plain": [
       "15"
      ]
     },
     "execution_count": 134,
     "metadata": {},
     "output_type": "execute_result"
    }
   ],
   "source": [
    "reduce(lambda x,y : x+y,lst) # lst = [1,2,3,4,5]"
   ]
  },
  {
   "cell_type": "code",
   "execution_count": 135,
   "id": "c6662467",
   "metadata": {},
   "outputs": [
    {
     "ename": "TypeError",
     "evalue": "<lambda>() takes 1 positional argument but 2 were given",
     "output_type": "error",
     "traceback": [
      "\u001b[1;31m---------------------------------------------------------------------------\u001b[0m",
      "\u001b[1;31mTypeError\u001b[0m                                 Traceback (most recent call last)",
      "Cell \u001b[1;32mIn[135], line 2\u001b[0m\n\u001b[0;32m      1\u001b[0m s \u001b[38;5;241m=\u001b[39m \u001b[38;5;124m'\u001b[39m\u001b[38;5;124mpwskills\u001b[39m\u001b[38;5;124m'\u001b[39m\n\u001b[1;32m----> 2\u001b[0m \u001b[43mreduce\u001b[49m\u001b[43m(\u001b[49m\u001b[38;5;28;43;01mlambda\u001b[39;49;00m\u001b[43m \u001b[49m\u001b[43mx\u001b[49m\u001b[43m \u001b[49m\u001b[43m:\u001b[49m\u001b[43m \u001b[49m\u001b[43mx\u001b[49m\u001b[38;5;241;43m.\u001b[39;49m\u001b[43mupper\u001b[49m\u001b[43m(\u001b[49m\u001b[43m)\u001b[49m\u001b[43m,\u001b[49m\u001b[43ms\u001b[49m\u001b[43m)\u001b[49m\n",
      "\u001b[1;31mTypeError\u001b[0m: <lambda>() takes 1 positional argument but 2 were given"
     ]
    }
   ],
   "source": [
    "s = 'pwskills'\n",
    "reduce(lambda x : x.upper() ,s)"
   ]
  },
  {
   "cell_type": "code",
   "execution_count": 136,
   "id": "8c52f38d",
   "metadata": {},
   "outputs": [],
   "source": [
    "def add(x,y):\n",
    "    return x+y"
   ]
  },
  {
   "cell_type": "code",
   "execution_count": 137,
   "id": "0f63b7fe",
   "metadata": {},
   "outputs": [
    {
     "data": {
      "text/plain": [
       "15"
      ]
     },
     "execution_count": 137,
     "metadata": {},
     "output_type": "execute_result"
    }
   ],
   "source": [
    "reduce(add,lst)"
   ]
  },
  {
   "cell_type": "code",
   "execution_count": 138,
   "id": "8fe7f891",
   "metadata": {},
   "outputs": [
    {
     "ename": "TypeError",
     "evalue": "<lambda>() missing 1 required positional argument: 'z'",
     "output_type": "error",
     "traceback": [
      "\u001b[1;31m---------------------------------------------------------------------------\u001b[0m",
      "\u001b[1;31mTypeError\u001b[0m                                 Traceback (most recent call last)",
      "Cell \u001b[1;32mIn[138], line 1\u001b[0m\n\u001b[1;32m----> 1\u001b[0m \u001b[43mreduce\u001b[49m\u001b[43m(\u001b[49m\u001b[38;5;28;43;01mlambda\u001b[39;49;00m\u001b[43m \u001b[49m\u001b[43mx\u001b[49m\u001b[43m,\u001b[49m\u001b[43my\u001b[49m\u001b[43m,\u001b[49m\u001b[43mz\u001b[49m\u001b[43m \u001b[49m\u001b[43m:\u001b[49m\u001b[43m \u001b[49m\u001b[43mx\u001b[49m\u001b[38;5;241;43m+\u001b[39;49m\u001b[43my\u001b[49m\u001b[38;5;241;43m+\u001b[39;49m\u001b[43mz\u001b[49m\u001b[43m,\u001b[49m\u001b[43mlst\u001b[49m\u001b[43m)\u001b[49m\n",
      "\u001b[1;31mTypeError\u001b[0m: <lambda>() missing 1 required positional argument: 'z'"
     ]
    }
   ],
   "source": [
    "reduce(lambda x,y,z : x+y+z,lst)"
   ]
  },
  {
   "cell_type": "code",
   "execution_count": 139,
   "id": "66044d56",
   "metadata": {},
   "outputs": [
    {
     "data": {
      "text/plain": [
       "15"
      ]
     },
     "execution_count": 139,
     "metadata": {},
     "output_type": "execute_result"
    }
   ],
   "source": [
    "reduce(lambda x,y : x+y,lst)"
   ]
  },
  {
   "cell_type": "code",
   "execution_count": 140,
   "id": "01df7356",
   "metadata": {},
   "outputs": [],
   "source": [
    "lst1 = [1,2,3,4,5,6]"
   ]
  },
  {
   "cell_type": "code",
   "execution_count": 143,
   "id": "bec86a4d",
   "metadata": {},
   "outputs": [
    {
     "ename": "TypeError",
     "evalue": "reduce() of empty iterable with no initial value",
     "output_type": "error",
     "traceback": [
      "\u001b[1;31m---------------------------------------------------------------------------\u001b[0m",
      "\u001b[1;31mTypeError\u001b[0m                                 Traceback (most recent call last)",
      "Cell \u001b[1;32mIn[143], line 1\u001b[0m\n\u001b[1;32m----> 1\u001b[0m \u001b[43mreduce\u001b[49m\u001b[43m(\u001b[49m\u001b[38;5;28;43;01mlambda\u001b[39;49;00m\u001b[43m \u001b[49m\u001b[43mx\u001b[49m\u001b[43m,\u001b[49m\u001b[43my\u001b[49m\u001b[43m \u001b[49m\u001b[43m:\u001b[49m\u001b[43m \u001b[49m\u001b[43mx\u001b[49m\u001b[38;5;241;43m+\u001b[39;49m\u001b[43my\u001b[49m\u001b[43m,\u001b[49m\u001b[43m[\u001b[49m\u001b[43m]\u001b[49m\u001b[43m)\u001b[49m\n",
      "\u001b[1;31mTypeError\u001b[0m: reduce() of empty iterable with no initial value"
     ]
    }
   ],
   "source": [
    "reduce(lambda x,y : x+y,[])"
   ]
  },
  {
   "cell_type": "code",
   "execution_count": 144,
   "id": "952fe2c2",
   "metadata": {},
   "outputs": [
    {
     "data": {
      "text/plain": [
       "1"
      ]
     },
     "execution_count": 144,
     "metadata": {},
     "output_type": "execute_result"
    }
   ],
   "source": [
    "reduce(lambda x,y : x+y, [1]) # This is an exceptional case"
   ]
  },
  {
   "cell_type": "code",
   "execution_count": 145,
   "id": "79d855b9",
   "metadata": {},
   "outputs": [
    {
     "data": {
      "text/plain": [
       "1"
      ]
     },
     "execution_count": 145,
     "metadata": {},
     "output_type": "execute_result"
    }
   ],
   "source": [
    "reduce(lambda x,y : x*y, [1])"
   ]
  },
  {
   "cell_type": "code",
   "execution_count": 147,
   "id": "ab186b56",
   "metadata": {},
   "outputs": [
    {
     "name": "stdout",
     "output_type": "stream",
     "text": [
      "[1, 2, 3, 4, 5]\n"
     ]
    }
   ],
   "source": [
    "print(lst) "
   ]
  },
  {
   "cell_type": "code",
   "execution_count": 148,
   "id": "d5ad799f",
   "metadata": {},
   "outputs": [
    {
     "data": {
      "text/plain": [
       "5"
      ]
     },
     "execution_count": 148,
     "metadata": {},
     "output_type": "execute_result"
    }
   ],
   "source": [
    "reduce(lambda x,y : x if x>y else y , lst)"
   ]
  },
  {
   "cell_type": "code",
   "execution_count": 149,
   "id": "22ff42af",
   "metadata": {},
   "outputs": [
    {
     "data": {
      "text/plain": [
       "1"
      ]
     },
     "execution_count": 149,
     "metadata": {},
     "output_type": "execute_result"
    }
   ],
   "source": [
    "reduce(lambda x,y : x if x<y else y , lst)"
   ]
  },
  {
   "cell_type": "markdown",
   "id": "e4fb162a",
   "metadata": {},
   "source": [
    "## Filter"
   ]
  },
  {
   "cell_type": "code",
   "execution_count": 150,
   "id": "5af7da2e",
   "metadata": {},
   "outputs": [
    {
     "name": "stdout",
     "output_type": "stream",
     "text": [
      "[1, 2, 3, 4, 5]\n"
     ]
    }
   ],
   "source": [
    "print(lst)"
   ]
  },
  {
   "cell_type": "code",
   "execution_count": 151,
   "id": "e85b9818",
   "metadata": {},
   "outputs": [
    {
     "data": {
      "text/plain": [
       "<filter at 0x1f4d99c3f10>"
      ]
     },
     "execution_count": 151,
     "metadata": {},
     "output_type": "execute_result"
    }
   ],
   "source": [
    "filter(lambda x : x%2==0,lst1)"
   ]
  },
  {
   "cell_type": "code",
   "execution_count": 153,
   "id": "1b3b7802",
   "metadata": {},
   "outputs": [
    {
     "data": {
      "text/plain": [
       "[2, 4, 6]"
      ]
     },
     "execution_count": 153,
     "metadata": {},
     "output_type": "execute_result"
    }
   ],
   "source": [
    "list(filter(lambda x : x%2==0,lst1))"
   ]
  },
  {
   "cell_type": "code",
   "execution_count": 154,
   "id": "c9472b4e",
   "metadata": {},
   "outputs": [
    {
     "data": {
      "text/plain": [
       "[1, 3, 5]"
      ]
     },
     "execution_count": 154,
     "metadata": {},
     "output_type": "execute_result"
    }
   ],
   "source": [
    "list(filter(lambda x : x%2!=0,lst1))"
   ]
  },
  {
   "cell_type": "code",
   "execution_count": 155,
   "id": "213524eb",
   "metadata": {},
   "outputs": [],
   "source": [
    "lst = [-2,2,3,-3]"
   ]
  },
  {
   "cell_type": "code",
   "execution_count": 157,
   "id": "7f959d36",
   "metadata": {},
   "outputs": [
    {
     "data": {
      "text/plain": [
       "[2, 3]"
      ]
     },
     "execution_count": 157,
     "metadata": {},
     "output_type": "execute_result"
    }
   ],
   "source": [
    "list(filter(lambda x : x>=0,lst))"
   ]
  },
  {
   "cell_type": "code",
   "execution_count": 158,
   "id": "29f439b2",
   "metadata": {},
   "outputs": [
    {
     "data": {
      "text/plain": [
       "[-2, -3]"
      ]
     },
     "execution_count": 158,
     "metadata": {},
     "output_type": "execute_result"
    }
   ],
   "source": [
    "list(filter(lambda x : x<0,lst))"
   ]
  },
  {
   "cell_type": "code",
   "execution_count": 159,
   "id": "002f0ece",
   "metadata": {},
   "outputs": [],
   "source": [
    "string = ['sudh','pwskills','kumar','bangalore','krish','naik']"
   ]
  },
  {
   "cell_type": "code",
   "execution_count": 160,
   "id": "75c755c5",
   "metadata": {},
   "outputs": [],
   "source": [
    "# Give a output string which contains the strings whose length is more than 6"
   ]
  },
  {
   "cell_type": "code",
   "execution_count": 161,
   "id": "7a5a646d",
   "metadata": {},
   "outputs": [
    {
     "data": {
      "text/plain": [
       "<filter at 0x1f4d99c1f60>"
      ]
     },
     "execution_count": 161,
     "metadata": {},
     "output_type": "execute_result"
    }
   ],
   "source": [
    "filter(lambda x : len(x) >= 6,string)"
   ]
  },
  {
   "cell_type": "code",
   "execution_count": 162,
   "id": "618dfc68",
   "metadata": {},
   "outputs": [
    {
     "data": {
      "text/plain": [
       "['pwskills', 'bangalore']"
      ]
     },
     "execution_count": 162,
     "metadata": {},
     "output_type": "execute_result"
    }
   ],
   "source": [
    "list(filter(lambda x : len(x)>=6,string))"
   ]
  },
  {
   "cell_type": "code",
   "execution_count": 166,
   "id": "4f1321ca",
   "metadata": {},
   "outputs": [
    {
     "data": {
      "text/plain": [
       "['sudh', 'kumar', 'krish', 'naik']"
      ]
     },
     "execution_count": 166,
     "metadata": {},
     "output_type": "execute_result"
    }
   ],
   "source": [
    "list(filter(lambda x : len(x)<=6,string))"
   ]
  },
  {
   "cell_type": "code",
   "execution_count": 168,
   "id": "d66b0e39",
   "metadata": {},
   "outputs": [
    {
     "data": {
      "text/plain": [
       "[-1, 4, 6, 1]"
      ]
     },
     "execution_count": 168,
     "metadata": {},
     "output_type": "execute_result"
    }
   ],
   "source": [
    "list(map(lambda x,y : x+y,lst,lst1))"
   ]
  },
  {
   "cell_type": "code",
   "execution_count": 169,
   "id": "4858d4b6",
   "metadata": {},
   "outputs": [
    {
     "data": {
      "text/plain": [
       "0"
      ]
     },
     "execution_count": 169,
     "metadata": {},
     "output_type": "execute_result"
    }
   ],
   "source": [
    "reduce(lambda x,y:x+y,lst)"
   ]
  },
  {
   "cell_type": "code",
   "execution_count": 171,
   "id": "a06fd8d3",
   "metadata": {},
   "outputs": [
    {
     "data": {
      "text/plain": [
       "[-2, 2]"
      ]
     },
     "execution_count": 171,
     "metadata": {},
     "output_type": "execute_result"
    }
   ],
   "source": [
    "list(filter(lambda x : x%2==0,lst))"
   ]
  },
  {
   "cell_type": "markdown",
   "id": "f9b06f9e",
   "metadata": {},
   "source": [
    "# SUMMARY"
   ]
  },
  {
   "cell_type": "markdown",
   "id": "bd640b00",
   "metadata": {},
   "source": [
    "1. Normal Functions with different situations \n",
    "    1. without argument without return\n",
    "    2. without argument with return \n",
    "    3. with argument without return\n",
    "    4. with argument with return \n",
    "    \n",
    "2. Generator functions --> make a user defined function that can be used with only for loop and is very very similar to \"range()\" function --> It generates the output for every element and returns it immediately\n",
    "\n",
    "3. Lambda function --> It is also called as anonymous function.Lambda function is a one-line function that is immediately invoked or stored in a variable and the syntax is as follow\n",
    "> variable_name = lambda parameter:operation you want to perform,iterables\n",
    "\n",
    "4. Map,Reduce and Filter Function --> \n",
    "    1. Map --> list(map(function_name,literals)) --> e.g. list(map(lambda x,y: x+y,lst1,lst2))\n",
    "    2. Reduce --> reduce(function_name,literals) --> e.g. reduce(lambda x,y : x+y,lst)\n",
    "    3. Filter --> list(filter(function_name,literals)) --> e.g. list(filter(lambda x:x>=0,lst))\n"
   ]
  }
 ],
 "metadata": {
  "kernelspec": {
   "display_name": "Python 3 (ipykernel)",
   "language": "python",
   "name": "python3"
  },
  "language_info": {
   "codemirror_mode": {
    "name": "ipython",
    "version": 3
   },
   "file_extension": ".py",
   "mimetype": "text/x-python",
   "name": "python",
   "nbconvert_exporter": "python",
   "pygments_lexer": "ipython3",
   "version": "3.10.9"
  }
 },
 "nbformat": 4,
 "nbformat_minor": 5
}
