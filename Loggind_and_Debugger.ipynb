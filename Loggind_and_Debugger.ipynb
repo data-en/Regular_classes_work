{
 "cells": [
  {
   "cell_type": "code",
   "execution_count": 1,
   "id": "a2eab791-4780-4184-a017-df11bf966949",
   "metadata": {},
   "outputs": [],
   "source": [
    "import logging "
   ]
  },
  {
   "cell_type": "code",
   "execution_count": 2,
   "id": "3443d4b2-a347-43b2-a34b-4ef9eb09c2a4",
   "metadata": {},
   "outputs": [],
   "source": [
    "logging.basicConfig(filename='test1.log',level=logging.DEBUG,format='%(asctime)s %(message)s')"
   ]
  },
  {
   "cell_type": "code",
   "execution_count": 3,
   "id": "a9ae3180-bf34-453f-9a77-7b2bf8041603",
   "metadata": {},
   "outputs": [],
   "source": [
    "logging.info('This is my info log')"
   ]
  },
  {
   "cell_type": "code",
   "execution_count": 4,
   "id": "f9ae09aa-11b3-480e-88c4-66768c2c9f7e",
   "metadata": {},
   "outputs": [],
   "source": [
    "logging.debug('This is my debug log')\n",
    "logging.warning('This is my warning log')\n",
    "logging.error('This is my error log')"
   ]
  },
  {
   "cell_type": "code",
   "execution_count": 5,
   "id": "8f2b19b5-4677-460c-a4d6-3a30f1271b47",
   "metadata": {},
   "outputs": [],
   "source": [
    "logging.shutdown()"
   ]
  },
  {
   "cell_type": "code",
   "execution_count": 6,
   "id": "15dd9e7a-4aa8-48fb-9911-db7d2d356913",
   "metadata": {},
   "outputs": [],
   "source": [
    "logging.basicConfig(filename='test2.log',level=logging.DEBUG,format='%(asctime)s %(name)s %(levelname)s %(message)s')"
   ]
  },
  {
   "cell_type": "code",
   "execution_count": 7,
   "id": "e8095b34-e6f0-401f-a7ed-2af142deb327",
   "metadata": {},
   "outputs": [],
   "source": [
    "logging.info('This is my logging info')"
   ]
  },
  {
   "cell_type": "code",
   "execution_count": 8,
   "id": "e503f8ed-7300-41d9-8308-eb00a9cf0508",
   "metadata": {},
   "outputs": [],
   "source": [
    "logging.debug('This is my debug log')"
   ]
  },
  {
   "cell_type": "code",
   "execution_count": 9,
   "id": "4c870d28-0335-40e1-b9b7-eda1bbbd4080",
   "metadata": {},
   "outputs": [],
   "source": [
    "logging.warning('This is my warning log')"
   ]
  },
  {
   "cell_type": "code",
   "execution_count": 10,
   "id": "aac8428c-c30c-4d36-a8dd-17e9e43d2457",
   "metadata": {},
   "outputs": [],
   "source": [
    "logging.error('This is my error log')"
   ]
  },
  {
   "cell_type": "code",
   "execution_count": 11,
   "id": "884ea0b7-7625-40a6-bc7c-029a9012ac26",
   "metadata": {},
   "outputs": [],
   "source": [
    "lst = [1,2,3,4,[4,5,6],'sudh','kumar']"
   ]
  },
  {
   "cell_type": "code",
   "execution_count": 12,
   "id": "a6507d85-0c54-4641-8e03-abba4db92406",
   "metadata": {},
   "outputs": [],
   "source": [
    "lst_int = []\n",
    "lst_str = []"
   ]
  },
  {
   "cell_type": "code",
   "execution_count": 14,
   "id": "b512a81f-61bd-4aa9-b368-9b4b3ea9d8d7",
   "metadata": {},
   "outputs": [
    {
     "ename": "NameError",
     "evalue": "name 'i' is not defined",
     "output_type": "error",
     "traceback": [
      "\u001b[0;31m---------------------------------------------------------------------------\u001b[0m",
      "\u001b[0;31mNameError\u001b[0m                                 Traceback (most recent call last)",
      "Cell \u001b[0;32mIn[14], line 2\u001b[0m\n\u001b[1;32m      1\u001b[0m logging\u001b[38;5;241m.\u001b[39minfo(\u001b[38;5;124m'\u001b[39m\u001b[38;5;124mThis is my start of the program with the firset for loop \u001b[39m\u001b[38;5;132;01m{}\u001b[39;00m\u001b[38;5;124m'\u001b[39m\u001b[38;5;241m.\u001b[39mformat(lst))\n\u001b[0;32m----> 2\u001b[0m logging\u001b[38;5;241m.\u001b[39minfo(\u001b[38;5;124m'\u001b[39m\u001b[38;5;124mThis is the value of i I am logging in : \u001b[39m\u001b[38;5;132;01m{}\u001b[39;00m\u001b[38;5;124m'\u001b[39m\u001b[38;5;241m.\u001b[39mformat(\u001b[43mi\u001b[49m))\n\u001b[1;32m      3\u001b[0m \u001b[38;5;28;01mfor\u001b[39;00m i \u001b[38;5;129;01min\u001b[39;00m lst:\n\u001b[1;32m      4\u001b[0m     \u001b[38;5;28;01mif\u001b[39;00m \u001b[38;5;28mtype\u001b[39m(i)\u001b[38;5;241m==\u001b[39m\u001b[38;5;28mlist\u001b[39m:\n",
      "\u001b[0;31mNameError\u001b[0m: name 'i' is not defined"
     ]
    }
   ],
   "source": [
    "logging.info('This is my start of the program with the firset for loop {}'.format(lst))\n",
    "logging.info('This is the value of i I am logging in : {}'.format(i))\n",
    "for i in lst:\n",
    "    if type(i)==list:\n",
    "        for j in i:\n",
    "            #logging.info('logging my j {}'.format(j))\n",
    "            if type(j)==int:\n",
    "                lst_int.append(j)\n",
    "            else : \n",
    "                if type(j)==str:\n",
    "                    lst_str.append(j)\n",
    "    elif type(i)==int:\n",
    "        lst_int.append(i)\n",
    "        \n",
    "    elif type(i)==str:\n",
    "        lst_str.append(i)\n",
    "        \n",
    "    logging.info('This is my final result with all integers {lint} and with all strings {lstr}'.format(lint=lst_int,lstr=lst_str))"
   ]
  },
  {
   "cell_type": "code",
   "execution_count": null,
   "id": "d4a23c02-5c2f-4c5e-873f-8934243199af",
   "metadata": {},
   "outputs": [],
   "source": [
    "lst_int"
   ]
  },
  {
   "cell_type": "code",
   "execution_count": null,
   "id": "5a28cd4b-3fb2-41f3-b1fb-4ba081158677",
   "metadata": {},
   "outputs": [],
   "source": [
    "lst_str"
   ]
  }
 ],
 "metadata": {
  "kernelspec": {
   "display_name": "Python 3 (ipykernel)",
   "language": "python",
   "name": "python3"
  },
  "language_info": {
   "codemirror_mode": {
    "name": "ipython",
    "version": 3
   },
   "file_extension": ".py",
   "mimetype": "text/x-python",
   "name": "python",
   "nbconvert_exporter": "python",
   "pygments_lexer": "ipython3",
   "version": "3.10.8"
  }
 },
 "nbformat": 4,
 "nbformat_minor": 5
}
