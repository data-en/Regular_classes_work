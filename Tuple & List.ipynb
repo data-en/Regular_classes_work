{
 "cells": [
  {
   "cell_type": "code",
   "execution_count": 13,
   "id": "e66a9aa1",
   "metadata": {},
   "outputs": [
    {
     "name": "stdout",
     "output_type": "stream",
     "text": [
      "(1, 'a', True)\n"
     ]
    }
   ],
   "source": [
    "# Data structures in Python\n",
    "# Tuples\n",
    "# It is containing diff types of elemets, like Integer, string 7 logical as below\n",
    "# tuples are immutable\n",
    "Tup1 = 1,\"a\",True\n",
    "print(Tup1)"
   ]
  },
  {
   "cell_type": "code",
   "execution_count": 8,
   "id": "dc54e128",
   "metadata": {},
   "outputs": [],
   "source": [
    "tup2 = (1, 3.14, True, \"Yash\", (5-7j))"
   ]
  },
  {
   "cell_type": "code",
   "execution_count": 11,
   "id": "a84821d1",
   "metadata": {},
   "outputs": [
    {
     "name": "stdout",
     "output_type": "stream",
     "text": [
      "(1, 3.14, True, 'Yash', (5-7j))\n"
     ]
    }
   ],
   "source": [
    "# there are 5 elememts below.\n",
    "print(tup2)"
   ]
  },
  {
   "cell_type": "code",
   "execution_count": 12,
   "id": "842ca80b",
   "metadata": {},
   "outputs": [
    {
     "data": {
      "text/plain": [
       "tuple"
      ]
     },
     "execution_count": 12,
     "metadata": {},
     "output_type": "execute_result"
    }
   ],
   "source": [
    "type(tup2)"
   ]
  },
  {
   "cell_type": "code",
   "execution_count": 15,
   "id": "f8249e62",
   "metadata": {},
   "outputs": [
    {
     "data": {
      "text/plain": [
       "tuple"
      ]
     },
     "execution_count": 15,
     "metadata": {},
     "output_type": "execute_result"
    }
   ],
   "source": [
    "type(Tup1)"
   ]
  },
  {
   "cell_type": "code",
   "execution_count": 16,
   "id": "32e1f756",
   "metadata": {},
   "outputs": [
    {
     "name": "stdout",
     "output_type": "stream",
     "text": [
      "1\n"
     ]
    }
   ],
   "source": [
    "print(tup2[0])"
   ]
  },
  {
   "cell_type": "code",
   "execution_count": 18,
   "id": "5819d133",
   "metadata": {},
   "outputs": [
    {
     "name": "stdout",
     "output_type": "stream",
     "text": [
      "(5-7j)\n"
     ]
    }
   ],
   "source": [
    "print(tup2[-1])"
   ]
  },
  {
   "cell_type": "code",
   "execution_count": 19,
   "id": "49751f1f",
   "metadata": {},
   "outputs": [
    {
     "name": "stdout",
     "output_type": "stream",
     "text": [
      "(3.14, True, 'Yash')\n"
     ]
    }
   ],
   "source": [
    "print(tup2[1:4])"
   ]
  },
  {
   "cell_type": "code",
   "execution_count": 22,
   "id": "b5ba15c3",
   "metadata": {},
   "outputs": [
    {
     "data": {
      "text/plain": [
       "5"
      ]
     },
     "execution_count": 22,
     "metadata": {},
     "output_type": "execute_result"
    }
   ],
   "source": [
    "len(tup2)"
   ]
  },
  {
   "cell_type": "code",
   "execution_count": 28,
   "id": "2905c237",
   "metadata": {},
   "outputs": [],
   "source": [
    "Tup1 = (1,2,3)\n",
    "tup2 = (4,5,6)"
   ]
  },
  {
   "cell_type": "code",
   "execution_count": 33,
   "id": "ef272f61",
   "metadata": {},
   "outputs": [
    {
     "name": "stdout",
     "output_type": "stream",
     "text": [
      "(1, 2, 3) (4, 5, 6)\n"
     ]
    }
   ],
   "source": [
    "print(Tup1, tup2)"
   ]
  },
  {
   "cell_type": "code",
   "execution_count": 29,
   "id": "c32239c2",
   "metadata": {},
   "outputs": [
    {
     "data": {
      "text/plain": [
       "(1, 2, 3, 4, 5, 6)"
      ]
     },
     "execution_count": 29,
     "metadata": {},
     "output_type": "execute_result"
    }
   ],
   "source": [
    "# Concatenating tuples\n",
    "Tup1+tup2"
   ]
  },
  {
   "cell_type": "code",
   "execution_count": 30,
   "id": "517fea15",
   "metadata": {},
   "outputs": [
    {
     "data": {
      "text/plain": [
       "3"
      ]
     },
     "execution_count": 30,
     "metadata": {},
     "output_type": "execute_result"
    }
   ],
   "source": [
    "len(Tup1)"
   ]
  },
  {
   "cell_type": "code",
   "execution_count": 32,
   "id": "d5b7df46",
   "metadata": {},
   "outputs": [
    {
     "data": {
      "text/plain": [
       "3"
      ]
     },
     "execution_count": 32,
     "metadata": {},
     "output_type": "execute_result"
    }
   ],
   "source": [
    "len(tup2)"
   ]
  },
  {
   "cell_type": "code",
   "execution_count": 34,
   "id": "d56c16a0",
   "metadata": {},
   "outputs": [
    {
     "name": "stdout",
     "output_type": "stream",
     "text": [
      "(4, 5, 6, 1, 2, 3)\n"
     ]
    }
   ],
   "source": [
    "print(tup2 + Tup1)"
   ]
  },
  {
   "cell_type": "code",
   "execution_count": 36,
   "id": "5cda10c8",
   "metadata": {},
   "outputs": [],
   "source": [
    "# repeating tuple elements\n",
    "y = (\"Spartaa\", 300)"
   ]
  },
  {
   "cell_type": "code",
   "execution_count": 38,
   "id": "dba2e2a7",
   "metadata": {},
   "outputs": [
    {
     "name": "stdout",
     "output_type": "stream",
     "text": [
      "('Spartaa', 300, 'Spartaa', 300, 'Spartaa', 300, 'Spartaa', 300, 'Spartaa', 300)\n"
     ]
    }
   ],
   "source": [
    "print(y*5)"
   ]
  },
  {
   "cell_type": "code",
   "execution_count": 39,
   "id": "ce5db6e5",
   "metadata": {},
   "outputs": [
    {
     "name": "stdout",
     "output_type": "stream",
     "text": [
      "('Spartaa', 300, 'Spartaa', 300, 'Spartaa', 300, 1, 2, 3, 4, 5, 6)\n"
     ]
    }
   ],
   "source": [
    "print(y*3 + Tup1 + tup2)"
   ]
  },
  {
   "cell_type": "code",
   "execution_count": 44,
   "id": "ef1bdc9e",
   "metadata": {},
   "outputs": [
    {
     "name": "stdout",
     "output_type": "stream",
     "text": [
      "(1, 2, 3, 4, 5, 6, 7, 8, 9)\n"
     ]
    }
   ],
   "source": [
    "z = (1,2,3,4,5,6,7,8,9)\n",
    "print(z)"
   ]
  },
  {
   "cell_type": "code",
   "execution_count": 42,
   "id": "50170d92",
   "metadata": {},
   "outputs": [
    {
     "name": "stdout",
     "output_type": "stream",
     "text": [
      "1\n"
     ]
    }
   ],
   "source": [
    "# Minimum value\n",
    "print(min(z))"
   ]
  },
  {
   "cell_type": "code",
   "execution_count": 43,
   "id": "4f431497",
   "metadata": {},
   "outputs": [
    {
     "name": "stdout",
     "output_type": "stream",
     "text": [
      "9\n"
     ]
    }
   ],
   "source": [
    "# Maximum value\n",
    "print(max(z))"
   ]
  },
  {
   "cell_type": "code",
   "execution_count": 45,
   "id": "19c33603",
   "metadata": {},
   "outputs": [],
   "source": [
    "# List in Python\n",
    "l1 = [1, \"Sparta\", 3.14, True]"
   ]
  },
  {
   "cell_type": "code",
   "execution_count": 46,
   "id": "309aca65",
   "metadata": {},
   "outputs": [
    {
     "name": "stdout",
     "output_type": "stream",
     "text": [
      "[1, 'Sparta', 3.14, True]\n"
     ]
    }
   ],
   "source": [
    "print(l1)"
   ]
  },
  {
   "cell_type": "code",
   "execution_count": 47,
   "id": "13337fcd",
   "metadata": {},
   "outputs": [
    {
     "data": {
      "text/plain": [
       "list"
      ]
     },
     "execution_count": 47,
     "metadata": {},
     "output_type": "execute_result"
    }
   ],
   "source": [
    "type(l1)"
   ]
  },
  {
   "cell_type": "code",
   "execution_count": 48,
   "id": "8634fb48",
   "metadata": {},
   "outputs": [
    {
     "name": "stdout",
     "output_type": "stream",
     "text": [
      "Sparta\n"
     ]
    }
   ],
   "source": [
    "print(l1[1])"
   ]
  },
  {
   "cell_type": "code",
   "execution_count": 76,
   "id": "4a953720",
   "metadata": {},
   "outputs": [
    {
     "name": "stdout",
     "output_type": "stream",
     "text": [
      "[1, 'a', 2, 'b', 3, 'c']\n"
     ]
    }
   ],
   "source": [
    "# As List in Python is Mutable, we can change the elements in List\n",
    "l2 = [1, \"a\" ,2, \"b\", 3, \"c\"]\n",
    "print(l2)"
   ]
  },
  {
   "cell_type": "code",
   "execution_count": 77,
   "id": "4bbb9bda",
   "metadata": {},
   "outputs": [],
   "source": [
    "#Changing a element at 0th index\n",
    "l2[0]= 100"
   ]
  },
  {
   "cell_type": "code",
   "execution_count": 78,
   "id": "c70530de",
   "metadata": {},
   "outputs": [
    {
     "name": "stdout",
     "output_type": "stream",
     "text": [
      "[100, 'a', 2, 'b', 3, 'c']\n"
     ]
    }
   ],
   "source": [
    "print(l2)"
   ]
  },
  {
   "cell_type": "code",
   "execution_count": 85,
   "id": "8ac8b482",
   "metadata": {},
   "outputs": [],
   "source": [
    "# Appending a new Element, how much time u run this program it will append same no of time\n",
    "l2.append(\"Sparta\")"
   ]
  },
  {
   "cell_type": "code",
   "execution_count": 86,
   "id": "912a4d26",
   "metadata": {},
   "outputs": [
    {
     "name": "stdout",
     "output_type": "stream",
     "text": [
      "[100, 'a', 2, 'b', 3, 'c', 'Sparta', 'Sparta', 'Sparta', 'Sparta']\n"
     ]
    }
   ],
   "source": [
    "print(l2)"
   ]
  },
  {
   "cell_type": "code",
   "execution_count": 92,
   "id": "0938b365",
   "metadata": {},
   "outputs": [
    {
     "data": {
      "text/plain": [
       "'Sparta'"
      ]
     },
     "execution_count": 92,
     "metadata": {},
     "output_type": "execute_result"
    }
   ],
   "source": [
    "#Popping the last element\n",
    "l2.pop()"
   ]
  },
  {
   "cell_type": "code",
   "execution_count": 93,
   "id": "50b5cf3e",
   "metadata": {},
   "outputs": [
    {
     "name": "stdout",
     "output_type": "stream",
     "text": [
      "[100, 'a', 2, 'b', 3, 'c']\n"
     ]
    }
   ],
   "source": [
    "# How many time u run the code for list, that same no of time it will apply the function\n",
    "print(l2)"
   ]
  },
  {
   "cell_type": "code",
   "execution_count": 97,
   "id": "18e80d99",
   "metadata": {},
   "outputs": [],
   "source": [
    "# reverse function\n",
    "l2.reverse()"
   ]
  },
  {
   "cell_type": "code",
   "execution_count": 98,
   "id": "992cc9db",
   "metadata": {},
   "outputs": [
    {
     "name": "stdout",
     "output_type": "stream",
     "text": [
      "['c', 3, 'b', 2, 'a', 100]\n"
     ]
    }
   ],
   "source": [
    "print(l2)"
   ]
  },
  {
   "cell_type": "code",
   "execution_count": 99,
   "id": "5738ecbc",
   "metadata": {},
   "outputs": [],
   "source": [
    "# Inserting element at a specified Index\n",
    "l2.insert(2,'Yash')"
   ]
  },
  {
   "cell_type": "code",
   "execution_count": 100,
   "id": "64393d38",
   "metadata": {},
   "outputs": [
    {
     "name": "stdout",
     "output_type": "stream",
     "text": [
      "['c', 3, 'Yash', 'b', 2, 'a', 100]\n"
     ]
    }
   ],
   "source": [
    "print(l2)"
   ]
  },
  {
   "cell_type": "code",
   "execution_count": 122,
   "id": "beeac33b",
   "metadata": {},
   "outputs": [],
   "source": [
    "l4 = ['yash', 'diksha', 'yashswi', 'sanskar', 'gudhi']\n",
    "(l4.sort())"
   ]
  },
  {
   "cell_type": "code",
   "execution_count": 123,
   "id": "abbfbcfd",
   "metadata": {},
   "outputs": [
    {
     "name": "stdout",
     "output_type": "stream",
     "text": [
      "['diksha', 'gudhi', 'sanskar', 'yash', 'yashswi']\n"
     ]
    }
   ],
   "source": [
    "print(l4)"
   ]
  },
  {
   "cell_type": "code",
   "execution_count": 113,
   "id": "53ad590b",
   "metadata": {},
   "outputs": [
    {
     "name": "stdout",
     "output_type": "stream",
     "text": [
      "['a', 'f', 'd', 'z', 'n']\n"
     ]
    }
   ],
   "source": [
    "l3 = [\"a\", \"f\", \"d\", \"z\", \"n\"]\n",
    "print(l3)"
   ]
  },
  {
   "cell_type": "code",
   "execution_count": 118,
   "id": "37f43c9e",
   "metadata": {},
   "outputs": [],
   "source": [
    "l3.sort()"
   ]
  },
  {
   "cell_type": "code",
   "execution_count": 119,
   "id": "3aec9dc9",
   "metadata": {},
   "outputs": [
    {
     "name": "stdout",
     "output_type": "stream",
     "text": [
      "['a', 'd', 'f', 'n', 'z']\n"
     ]
    }
   ],
   "source": [
    "print(l3)"
   ]
  },
  {
   "cell_type": "code",
   "execution_count": 124,
   "id": "2310e489",
   "metadata": {},
   "outputs": [
    {
     "name": "stdout",
     "output_type": "stream",
     "text": [
      "[1, 2, 3, 4, 5, 6]\n"
     ]
    }
   ],
   "source": [
    "# Concatenating Lists\n",
    "l1 = [1,2,3]\n",
    "l2 = [4,5,6]\n",
    "print(l1+l2)"
   ]
  },
  {
   "cell_type": "code",
   "execution_count": 125,
   "id": "39093f0f",
   "metadata": {},
   "outputs": [
    {
     "data": {
      "text/plain": [
       "[1, 2, 3, 1, 2, 3, 1, 2, 3]"
      ]
     },
     "execution_count": 125,
     "metadata": {},
     "output_type": "execute_result"
    }
   ],
   "source": [
    "# repeating elements\n",
    "l1*3"
   ]
  },
  {
   "cell_type": "code",
   "execution_count": null,
   "id": "33b1c3c4",
   "metadata": {},
   "outputs": [],
   "source": []
  }
 ],
 "metadata": {
  "kernelspec": {
   "display_name": "Python 3 (ipykernel)",
   "language": "python",
   "name": "python3"
  },
  "language_info": {
   "codemirror_mode": {
    "name": "ipython",
    "version": 3
   },
   "file_extension": ".py",
   "mimetype": "text/x-python",
   "name": "python",
   "nbconvert_exporter": "python",
   "pygments_lexer": "ipython3",
   "version": "3.10.9"
  }
 },
 "nbformat": 4,
 "nbformat_minor": 5
}
