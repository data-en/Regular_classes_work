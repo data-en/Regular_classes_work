{
 "cells": [
  {
   "cell_type": "code",
   "execution_count": 1,
   "id": "969c5976",
   "metadata": {},
   "outputs": [
    {
     "name": "stdout",
     "output_type": "stream",
     "text": [
      "{'Apple': 100, 'banana': 50, 'Tomato': 20}\n"
     ]
    }
   ],
   "source": [
    "# Dictionary in Python\n",
    "# Dictionary is unordered collection of key value pairs enclosed with {}\n",
    "#Dictionary is mutable\n",
    "\n",
    "d1 = {\"Apple\" : 100, \"banana\" : 50, \"Tomato\" : 20}\n",
    "print(d1)"
   ]
  },
  {
   "cell_type": "code",
   "execution_count": 2,
   "id": "c3aa7527",
   "metadata": {},
   "outputs": [
    {
     "data": {
      "text/plain": [
       "dict"
      ]
     },
     "execution_count": 2,
     "metadata": {},
     "output_type": "execute_result"
    }
   ],
   "source": [
    "type(d1)"
   ]
  },
  {
   "cell_type": "code",
   "execution_count": 3,
   "id": "c4c74991",
   "metadata": {},
   "outputs": [],
   "source": [
    "# above key is eg banana and value is 50."
   ]
  },
  {
   "cell_type": "code",
   "execution_count": 4,
   "id": "2318d40e",
   "metadata": {},
   "outputs": [],
   "source": [
    "# Extracting keys"
   ]
  },
  {
   "cell_type": "code",
   "execution_count": 5,
   "id": "eb783e92",
   "metadata": {},
   "outputs": [
    {
     "data": {
      "text/plain": [
       "dict_keys(['Apple', 'banana', 'Tomato'])"
      ]
     },
     "execution_count": 5,
     "metadata": {},
     "output_type": "execute_result"
    }
   ],
   "source": [
    "d1.keys()"
   ]
  },
  {
   "cell_type": "code",
   "execution_count": 6,
   "id": "b2e865f5",
   "metadata": {},
   "outputs": [],
   "source": [
    "# Extracting Values"
   ]
  },
  {
   "cell_type": "code",
   "execution_count": 7,
   "id": "21cc0848",
   "metadata": {},
   "outputs": [
    {
     "data": {
      "text/plain": [
       "dict_values([100, 50, 20])"
      ]
     },
     "execution_count": 7,
     "metadata": {},
     "output_type": "execute_result"
    }
   ],
   "source": [
    "d1.values()"
   ]
  },
  {
   "cell_type": "code",
   "execution_count": 11,
   "id": "58fecb94",
   "metadata": {},
   "outputs": [],
   "source": [
    "# Modifying a Dictionary\n",
    "# Adding a new element"
   ]
  },
  {
   "cell_type": "code",
   "execution_count": 9,
   "id": "85fc1c5f",
   "metadata": {},
   "outputs": [],
   "source": [
    "d1[\"Mango\"] = 300"
   ]
  },
  {
   "cell_type": "code",
   "execution_count": 10,
   "id": "8e30ef5f",
   "metadata": {},
   "outputs": [
    {
     "name": "stdout",
     "output_type": "stream",
     "text": [
      "{'Apple': 100, 'banana': 50, 'Tomato': 20, 'Mango': 300}\n"
     ]
    }
   ],
   "source": [
    "print(d1)"
   ]
  },
  {
   "cell_type": "code",
   "execution_count": 12,
   "id": "8f738d61",
   "metadata": {},
   "outputs": [],
   "source": [
    "# Changing an existing element"
   ]
  },
  {
   "cell_type": "code",
   "execution_count": 14,
   "id": "965ab3a6",
   "metadata": {},
   "outputs": [],
   "source": [
    "d1[\"Apple\"] = 200"
   ]
  },
  {
   "cell_type": "code",
   "execution_count": 15,
   "id": "7d81160c",
   "metadata": {},
   "outputs": [
    {
     "name": "stdout",
     "output_type": "stream",
     "text": [
      "{'Apple': 200, 'banana': 50, 'Tomato': 20, 'Mango': 300}\n"
     ]
    }
   ],
   "source": [
    "print(d1)"
   ]
  },
  {
   "cell_type": "code",
   "execution_count": 16,
   "id": "c6e1f3ce",
   "metadata": {},
   "outputs": [],
   "source": [
    "# Dictionary functions"
   ]
  },
  {
   "cell_type": "code",
   "execution_count": 17,
   "id": "5346c76e",
   "metadata": {},
   "outputs": [],
   "source": [
    "# Update one dictionary's elements with another"
   ]
  },
  {
   "cell_type": "code",
   "execution_count": 18,
   "id": "cb0081a3",
   "metadata": {},
   "outputs": [],
   "source": [
    "d2 = {'Apple' : 200, 'Banana' : 50, 'Cabbage' : 20}\n",
    "d3 = {'Guava' : 50, 'Pomegranate' : 150, 'Mango' : 250}"
   ]
  },
  {
   "cell_type": "code",
   "execution_count": 19,
   "id": "ce9811e2",
   "metadata": {},
   "outputs": [],
   "source": [
    "d2.update(d3)"
   ]
  },
  {
   "cell_type": "code",
   "execution_count": 20,
   "id": "2d0f4cef",
   "metadata": {},
   "outputs": [
    {
     "name": "stdout",
     "output_type": "stream",
     "text": [
      "{'Apple': 200, 'Banana': 50, 'Cabbage': 20, 'Guava': 50, 'Pomegranate': 150, 'Mango': 250}\n"
     ]
    }
   ],
   "source": [
    "print(d2)"
   ]
  },
  {
   "cell_type": "code",
   "execution_count": 21,
   "id": "3bd4cabb",
   "metadata": {},
   "outputs": [],
   "source": [
    "d3.update(d2)"
   ]
  },
  {
   "cell_type": "code",
   "execution_count": 22,
   "id": "d2a8a2e1",
   "metadata": {},
   "outputs": [
    {
     "name": "stdout",
     "output_type": "stream",
     "text": [
      "{'Guava': 50, 'Pomegranate': 150, 'Mango': 250, 'Apple': 200, 'Banana': 50, 'Cabbage': 20}\n"
     ]
    }
   ],
   "source": [
    "print(d3)"
   ]
  },
  {
   "cell_type": "code",
   "execution_count": 23,
   "id": "6b538fc2",
   "metadata": {},
   "outputs": [],
   "source": [
    "d2.update(d3)"
   ]
  },
  {
   "cell_type": "code",
   "execution_count": 25,
   "id": "59fe60cf",
   "metadata": {},
   "outputs": [
    {
     "name": "stdout",
     "output_type": "stream",
     "text": [
      "{'Apple': 200, 'Banana': 50, 'Cabbage': 20, 'Guava': 50, 'Pomegranate': 150, 'Mango': 250}\n"
     ]
    }
   ],
   "source": [
    "print(d2)"
   ]
  },
  {
   "cell_type": "code",
   "execution_count": 29,
   "id": "b0544e9e",
   "metadata": {},
   "outputs": [
    {
     "name": "stdout",
     "output_type": "stream",
     "text": [
      "{'Guava': 50, 'Pomegranate': 150, 'Mango': 250, 'Apple': 200, 'Banana': 50, 'Cabbage': 20}\n"
     ]
    }
   ],
   "source": [
    "print(d3)"
   ]
  },
  {
   "cell_type": "code",
   "execution_count": 30,
   "id": "7a3bfd2e",
   "metadata": {},
   "outputs": [
    {
     "data": {
      "text/plain": [
       "50"
      ]
     },
     "execution_count": 30,
     "metadata": {},
     "output_type": "execute_result"
    }
   ],
   "source": [
    "d3.pop('Guava')"
   ]
  },
  {
   "cell_type": "code",
   "execution_count": 31,
   "id": "c5ed6328",
   "metadata": {},
   "outputs": [
    {
     "data": {
      "text/plain": [
       "{'Pomegranate': 150, 'Mango': 250, 'Apple': 200, 'Banana': 50, 'Cabbage': 20}"
      ]
     },
     "execution_count": 31,
     "metadata": {},
     "output_type": "execute_result"
    }
   ],
   "source": [
    "d3"
   ]
  },
  {
   "cell_type": "code",
   "execution_count": 5,
   "id": "6499a605",
   "metadata": {},
   "outputs": [
    {
     "name": "stdout",
     "output_type": "stream",
     "text": [
      "-----------------------------\n",
      "Welcome to SI & CI Calculator\n",
      "-----------------------------\n",
      "1. Simple Interest\n",
      "2. Compound Interest\n",
      "Enter your choice between 1, 2 2\n",
      "pricipal 10000\n",
      "year 3\n",
      "ROI9\n",
      "Total Interest =  2950.2900000000027\n",
      "Total amount you will pay after 3 years is 12950.290000000003\n",
      "If you are investing money with Simple Interest you will get 2700.0\n",
      "Therefore difference is 250.2900000000027\n"
     ]
    }
   ],
   "source": [
    "print(\"-----------------------------\")\n",
    "print('Welcome to SI & CI Calculator')\n",
    "print(\"-----------------------------\")\n",
    "print('''1. Simple Interest\n",
    "2. Compound Interest''')\n",
    "choose = int(input(\"Enter your choice between 1, 2 \"))\n",
    "p = int(input(\"pricipal \"))\n",
    "n = int(input(\"year \"))\n",
    "r = int(input(\"ROI\"))\n",
    "if choose == 1:\n",
    "  SIFormula = (p*n*r)/100\n",
    "  print(\"Total Intrest =\",SIFormula)\n",
    "  print(\"Total Amount you will pay after\", n, \"years is\",p+SIFormula)\n",
    "elif choose == 2:\n",
    "  CI = p*(1+r/100)**n\n",
    "  SI = (p*n*r)/100\n",
    "  print(\"Total Interest = \",CI-p)\n",
    "  print(\"Total amount you will pay after\", n,\"years is\",CI)\n",
    "  print(\"If you are investing money with Simple Interest you will get\", SI)\n",
    "  print(\"Therefore difference is\",CI-(p+SI) )"
   ]
  },
  {
   "cell_type": "code",
   "execution_count": null,
   "id": "30e57749",
   "metadata": {},
   "outputs": [],
   "source": []
  }
 ],
 "metadata": {
  "kernelspec": {
   "display_name": "Python 3 (ipykernel)",
   "language": "python",
   "name": "python3"
  },
  "language_info": {
   "codemirror_mode": {
    "name": "ipython",
    "version": 3
   },
   "file_extension": ".py",
   "mimetype": "text/x-python",
   "name": "python",
   "nbconvert_exporter": "python",
   "pygments_lexer": "ipython3",
   "version": "3.10.9"
  }
 },
 "nbformat": 4,
 "nbformat_minor": 5
}
