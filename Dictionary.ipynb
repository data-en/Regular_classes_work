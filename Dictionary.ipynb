{
 "cells": [
  {
   "cell_type": "markdown",
   "id": "48a10700",
   "metadata": {},
   "source": [
    "# Dictionary"
   ]
  },
  {
   "cell_type": "code",
   "execution_count": 1,
   "id": "79f0cac1",
   "metadata": {},
   "outputs": [
    {
     "data": {
      "text/plain": [
       "dict"
      ]
     },
     "execution_count": 1,
     "metadata": {},
     "output_type": "execute_result"
    }
   ],
   "source": [
    "type({})"
   ]
  },
  {
   "cell_type": "code",
   "execution_count": 2,
   "id": "a4f210d3",
   "metadata": {},
   "outputs": [
    {
     "name": "stdout",
     "output_type": "stream",
     "text": [
      "{'name': 'ABC', 'age': 20, 'Marital Status': 'Unmarried'}\n"
     ]
    }
   ],
   "source": [
    "dict1 = {'name':'ABC','age':20,'Marital Status': 'Unmarried'}\n",
    "print(dict1)"
   ]
  },
  {
   "cell_type": "markdown",
   "id": "28b00fab",
   "metadata": {},
   "source": [
    "> collection of key-value pairs enclosed in curly bracket"
   ]
  },
  {
   "cell_type": "code",
   "execution_count": 3,
   "id": "1a890e5c",
   "metadata": {},
   "outputs": [],
   "source": [
    "dict2 = {'age' : 20,'age':21}"
   ]
  },
  {
   "cell_type": "code",
   "execution_count": 5,
   "id": "4d05075b",
   "metadata": {},
   "outputs": [
    {
     "name": "stdout",
     "output_type": "stream",
     "text": [
      "{'age': 21}\n"
     ]
    }
   ],
   "source": [
    "print(dict2) # If the same keys are present, automatically hte key has been updated with the next value and it will give output the next value"
   ]
  },
  {
   "cell_type": "markdown",
   "id": "4e518a0d",
   "metadata": {},
   "source": [
    "> Key can be int,float,string,boolean value but it can't be a special symbol"
   ]
  },
  {
   "cell_type": "markdown",
   "id": "b8355c4c",
   "metadata": {},
   "source": [
    "> List,set,dict cannot be taken as key but the tuple can because list,set and dictionary are unhashable type of object i.e. the compiler is not able to create an hash object of it"
   ]
  },
  {
   "cell_type": "code",
   "execution_count": 6,
   "id": "fe6aa18e",
   "metadata": {},
   "outputs": [
    {
     "name": "stdout",
     "output_type": "stream",
     "text": [
      "{'course_names': ['C', 'C++', 'Java', 'Python']}\n"
     ]
    }
   ],
   "source": [
    "d1 = {'course_names':['C','C++','Java','Python']}\n",
    "print(d1)"
   ]
  },
  {
   "cell_type": "markdown",
   "id": "a94ebf92",
   "metadata": {},
   "source": [
    "> The value could be any data structure like list,tuple,set and also dictionary"
   ]
  },
  {
   "cell_type": "code",
   "execution_count": 22,
   "id": "0d09efc3",
   "metadata": {},
   "outputs": [
    {
     "name": "stdout",
     "output_type": "stream",
     "text": [
      "{'personal_details': {'name': 'ABC', 'age': 22, 'Undergraduate': 'No'}}\n"
     ]
    }
   ],
   "source": [
    "d2 = {'personal_details': {'name': 'ABC','age': 22,'Undergraduate': 'No'}} # Nested dictionary\n",
    "print(d2)"
   ]
  },
  {
   "cell_type": "code",
   "execution_count": 12,
   "id": "94126464",
   "metadata": {},
   "outputs": [],
   "source": [
    "d2['age'] = [1,2,3,4,5,6,7,8,9,10]"
   ]
  },
  {
   "cell_type": "code",
   "execution_count": 13,
   "id": "566e03d0",
   "metadata": {},
   "outputs": [
    {
     "name": "stdout",
     "output_type": "stream",
     "text": [
      "{'personal_details': {'name': 'ABC', 'age': 22, 'Undergraduate': 'No'}, 'age': [1, 2, 3, 4, 5, 6, 7, 8, 9, 10]}\n"
     ]
    }
   ],
   "source": [
    "print(d2)"
   ]
  },
  {
   "cell_type": "code",
   "execution_count": 14,
   "id": "e959f407",
   "metadata": {},
   "outputs": [
    {
     "data": {
      "text/plain": [
       "[1, 2, 3, 4, 5, 6, 7, 8, 9, 10]"
      ]
     },
     "execution_count": 14,
     "metadata": {},
     "output_type": "execute_result"
    }
   ],
   "source": [
    "d2['age'] # Similar to indexing "
   ]
  },
  {
   "cell_type": "code",
   "execution_count": 15,
   "id": "00b3f3a2",
   "metadata": {},
   "outputs": [],
   "source": [
    "d2['age'] = 100"
   ]
  },
  {
   "cell_type": "code",
   "execution_count": 16,
   "id": "5155a383",
   "metadata": {},
   "outputs": [
    {
     "name": "stdout",
     "output_type": "stream",
     "text": [
      "{'personal_details': {'name': 'ABC', 'age': 22, 'Undergraduate': 'No'}, 'age': 100}\n"
     ]
    }
   ],
   "source": [
    "print(d2)"
   ]
  },
  {
   "cell_type": "code",
   "execution_count": 18,
   "id": "2a631ec1",
   "metadata": {},
   "outputs": [],
   "source": [
    "d2['personal_details'] = 'Data Science Masters 2.0'"
   ]
  },
  {
   "cell_type": "code",
   "execution_count": 19,
   "id": "8739fa72",
   "metadata": {},
   "outputs": [
    {
     "name": "stdout",
     "output_type": "stream",
     "text": [
      "{'personal_details': 'Data Science Masters 2.0', 'age': 100}\n"
     ]
    }
   ],
   "source": [
    "print(d2)"
   ]
  },
  {
   "cell_type": "code",
   "execution_count": 20,
   "id": "08a84107",
   "metadata": {},
   "outputs": [
    {
     "data": {
      "text/plain": [
       "'DATA SCIENCE MASTERS 2.0'"
      ]
     },
     "execution_count": 20,
     "metadata": {},
     "output_type": "execute_result"
    }
   ],
   "source": [
    "d2['personal_details'].upper()"
   ]
  },
  {
   "cell_type": "code",
   "execution_count": 21,
   "id": "878e1ef8",
   "metadata": {},
   "outputs": [
    {
     "data": {
      "text/plain": [
       "{'personal_details': 'Data Science Masters 2.0', 'age': 100}"
      ]
     },
     "execution_count": 21,
     "metadata": {},
     "output_type": "execute_result"
    }
   ],
   "source": [
    "d2"
   ]
  },
  {
   "cell_type": "code",
   "execution_count": 23,
   "id": "9283a78f",
   "metadata": {},
   "outputs": [
    {
     "data": {
      "text/plain": [
       "'ABC'"
      ]
     },
     "execution_count": 23,
     "metadata": {},
     "output_type": "execute_result"
    }
   ],
   "source": [
    "d2['personal_details']['name']"
   ]
  },
  {
   "cell_type": "code",
   "execution_count": 24,
   "id": "44563276",
   "metadata": {},
   "outputs": [],
   "source": [
    "del d2['personal_details']['age']"
   ]
  },
  {
   "cell_type": "code",
   "execution_count": 25,
   "id": "e14633dc",
   "metadata": {},
   "outputs": [
    {
     "name": "stdout",
     "output_type": "stream",
     "text": [
      "{'personal_details': {'name': 'ABC', 'Undergraduate': 'No'}}\n"
     ]
    }
   ],
   "source": [
    "print(d2)"
   ]
  },
  {
   "cell_type": "code",
   "execution_count": 26,
   "id": "d4c88068",
   "metadata": {},
   "outputs": [
    {
     "data": {
      "text/plain": [
       "1"
      ]
     },
     "execution_count": 26,
     "metadata": {},
     "output_type": "execute_result"
    }
   ],
   "source": [
    "len(d2)"
   ]
  },
  {
   "cell_type": "code",
   "execution_count": 27,
   "id": "f5b326b1",
   "metadata": {},
   "outputs": [],
   "source": [
    "d2.get('name')"
   ]
  },
  {
   "cell_type": "code",
   "execution_count": 28,
   "id": "4d93b22c",
   "metadata": {},
   "outputs": [
    {
     "name": "stdout",
     "output_type": "stream",
     "text": [
      "{'personal_details': {'name': 'ABC', 'Undergraduate': 'No'}}\n"
     ]
    }
   ],
   "source": [
    "print(d2)"
   ]
  },
  {
   "cell_type": "code",
   "execution_count": 31,
   "id": "37cca615",
   "metadata": {},
   "outputs": [
    {
     "data": {
      "text/plain": [
       "{'name': 'ABC', 'Undergraduate': 'No'}"
      ]
     },
     "execution_count": 31,
     "metadata": {},
     "output_type": "execute_result"
    }
   ],
   "source": [
    "d2.get('personal_details')"
   ]
  },
  {
   "cell_type": "markdown",
   "id": "d99db89f",
   "metadata": {},
   "source": [
    "> get will never give you an error, althought the key is not present in that particular dictionary, it returns None but it will throw an error. So, we can say that the use of get function is more preferred rathaer than using direct method such as dict1['key']"
   ]
  },
  {
   "cell_type": "code",
   "execution_count": 32,
   "id": "5b485dea",
   "metadata": {},
   "outputs": [
    {
     "data": {
      "text/plain": [
       "dict_keys(['personal_details'])"
      ]
     },
     "execution_count": 32,
     "metadata": {},
     "output_type": "execute_result"
    }
   ],
   "source": [
    "d2.keys()"
   ]
  },
  {
   "cell_type": "code",
   "execution_count": 33,
   "id": "353ef1b2",
   "metadata": {},
   "outputs": [
    {
     "name": "stdout",
     "output_type": "stream",
     "text": [
      "dict_keys(['personal_details'])\n"
     ]
    }
   ],
   "source": [
    "print(d2.keys())"
   ]
  },
  {
   "cell_type": "code",
   "execution_count": 34,
   "id": "6567de39",
   "metadata": {},
   "outputs": [
    {
     "data": {
      "text/plain": [
       "dict_values([{'name': 'ABC', 'Undergraduate': 'No'}])"
      ]
     },
     "execution_count": 34,
     "metadata": {},
     "output_type": "execute_result"
    }
   ],
   "source": [
    "d2.values()"
   ]
  },
  {
   "cell_type": "code",
   "execution_count": 35,
   "id": "b32a8f60",
   "metadata": {},
   "outputs": [
    {
     "data": {
      "text/plain": [
       "[{'name': 'ABC', 'Undergraduate': 'No'}]"
      ]
     },
     "execution_count": 35,
     "metadata": {},
     "output_type": "execute_result"
    }
   ],
   "source": [
    "list(d2.values())"
   ]
  },
  {
   "cell_type": "code",
   "execution_count": 36,
   "id": "27fd39d8",
   "metadata": {},
   "outputs": [
    {
     "data": {
      "text/plain": [
       "dict_items([('personal_details', {'name': 'ABC', 'Undergraduate': 'No'})])"
      ]
     },
     "execution_count": 36,
     "metadata": {},
     "output_type": "execute_result"
    }
   ],
   "source": [
    "d2.items()"
   ]
  },
  {
   "cell_type": "code",
   "execution_count": 37,
   "id": "e633cf15",
   "metadata": {},
   "outputs": [],
   "source": [
    "d2 = {'course_name':'Data Science Masters 2.0','start_month':\"June\",'start_yr':2023}"
   ]
  },
  {
   "cell_type": "code",
   "execution_count": 38,
   "id": "2252c40a",
   "metadata": {},
   "outputs": [
    {
     "name": "stdout",
     "output_type": "stream",
     "text": [
      "{'course_name': 'Data Science Masters 2.0', 'start_month': 'June', 'start_yr': 2023}\n"
     ]
    }
   ],
   "source": [
    "print(d2)"
   ]
  },
  {
   "cell_type": "code",
   "execution_count": 39,
   "id": "23bfa064",
   "metadata": {},
   "outputs": [
    {
     "name": "stdout",
     "output_type": "stream",
     "text": [
      "dict_keys(['course_name', 'start_month', 'start_yr'])\n"
     ]
    }
   ],
   "source": [
    "print(d2.keys())"
   ]
  },
  {
   "cell_type": "code",
   "execution_count": 40,
   "id": "314fbe68",
   "metadata": {},
   "outputs": [
    {
     "data": {
      "text/plain": [
       "['course_name', 'start_month', 'start_yr']"
      ]
     },
     "execution_count": 40,
     "metadata": {},
     "output_type": "execute_result"
    }
   ],
   "source": [
    "list(d2.keys())"
   ]
  },
  {
   "cell_type": "code",
   "execution_count": 41,
   "id": "136418fd",
   "metadata": {},
   "outputs": [
    {
     "ename": "ValueError",
     "evalue": "dictionary update sequence element #0 has length 11; 2 is required",
     "output_type": "error",
     "traceback": [
      "\u001b[1;31m---------------------------------------------------------------------------\u001b[0m",
      "\u001b[1;31mValueError\u001b[0m                                Traceback (most recent call last)",
      "Cell \u001b[1;32mIn[41], line 1\u001b[0m\n\u001b[1;32m----> 1\u001b[0m \u001b[38;5;28;43mdict\u001b[39;49m\u001b[43m(\u001b[49m\u001b[43md2\u001b[49m\u001b[38;5;241;43m.\u001b[39;49m\u001b[43mkeys\u001b[49m\u001b[43m(\u001b[49m\u001b[43m)\u001b[49m\u001b[43m)\u001b[49m\n",
      "\u001b[1;31mValueError\u001b[0m: dictionary update sequence element #0 has length 11; 2 is required"
     ]
    }
   ],
   "source": [
    "dict(d2.keys())"
   ]
  },
  {
   "cell_type": "code",
   "execution_count": 42,
   "id": "f529af69",
   "metadata": {},
   "outputs": [
    {
     "name": "stdout",
     "output_type": "stream",
     "text": [
      "dict_values(['Data Science Masters 2.0', 'June', 2023])\n"
     ]
    }
   ],
   "source": [
    "print(d2.values())"
   ]
  },
  {
   "cell_type": "code",
   "execution_count": 43,
   "id": "3e1f8fea",
   "metadata": {},
   "outputs": [
    {
     "name": "stdout",
     "output_type": "stream",
     "text": [
      "dict_items([('course_name', 'Data Science Masters 2.0'), ('start_month', 'June'), ('start_yr', 2023)])\n"
     ]
    }
   ],
   "source": [
    "print(d2.items())"
   ]
  },
  {
   "cell_type": "markdown",
   "id": "419d7fc2",
   "metadata": {},
   "source": [
    "1. deep copy (with '.copy()')\n",
    "2. shallow copy"
   ]
  },
  {
   "cell_type": "code",
   "execution_count": 45,
   "id": "b4e41e60",
   "metadata": {},
   "outputs": [
    {
     "data": {
      "text/plain": [
       "2023"
      ]
     },
     "execution_count": 45,
     "metadata": {},
     "output_type": "execute_result"
    }
   ],
   "source": [
    "d2.pop('start_yr') # in-place operation"
   ]
  },
  {
   "cell_type": "code",
   "execution_count": 46,
   "id": "1d007e62",
   "metadata": {},
   "outputs": [
    {
     "name": "stdout",
     "output_type": "stream",
     "text": [
      "{'course_name': 'Data Science Masters 2.0', 'start_month': 'June'}\n"
     ]
    }
   ],
   "source": [
    "print(d2)"
   ]
  },
  {
   "cell_type": "code",
   "execution_count": 48,
   "id": "b77caef5",
   "metadata": {},
   "outputs": [
    {
     "data": {
      "text/plain": [
       "{1: ('a', 'b', 'c'), 2: ('a', 'b', 'c'), 3: ('a', 'b', 'c')}"
      ]
     },
     "execution_count": 48,
     "metadata": {},
     "output_type": "execute_result"
    }
   ],
   "source": [
    "dict1.fromkeys((1,2,3),('a','b','c'))"
   ]
  },
  {
   "cell_type": "code",
   "execution_count": 49,
   "id": "73be6900",
   "metadata": {},
   "outputs": [],
   "source": [
    "d19 = {'key1': 'value1','key2': 'value2'}\n",
    "d20 = {'key3': 'value3','key4': 'value4'}"
   ]
  },
  {
   "cell_type": "code",
   "execution_count": 50,
   "id": "0449fcb7",
   "metadata": {},
   "outputs": [
    {
     "name": "stdout",
     "output_type": "stream",
     "text": [
      "({'key1': 'value1', 'key2': 'value2'}, {'key3': 'value3', 'key4': 'value4'})\n"
     ]
    }
   ],
   "source": [
    "# Dictionaries inside a tuple is possible \n",
    "print((d19,d20))"
   ]
  },
  {
   "cell_type": "code",
   "execution_count": 51,
   "id": "85fbf8d2",
   "metadata": {},
   "outputs": [
    {
     "name": "stdout",
     "output_type": "stream",
     "text": [
      "[{'key1': 'value1', 'key2': 'value2'}, {'key3': 'value3', 'key4': 'value4'}]\n"
     ]
    }
   ],
   "source": [
    "# Dictionaries inside a list is possible\n",
    "print([d19,d20])"
   ]
  },
  {
   "cell_type": "code",
   "execution_count": 54,
   "id": "7ca9bb6e",
   "metadata": {},
   "outputs": [
    {
     "name": "stdout",
     "output_type": "stream",
     "text": [
      "Hello World\n"
     ]
    }
   ],
   "source": [
    "print('Hello World')"
   ]
  },
  {
   "cell_type": "code",
   "execution_count": 55,
   "id": "de47df9a",
   "metadata": {},
   "outputs": [],
   "source": [
    "d19.update(d20) # in-place"
   ]
  },
  {
   "cell_type": "code",
   "execution_count": 56,
   "id": "4cbe9304",
   "metadata": {},
   "outputs": [
    {
     "name": "stdout",
     "output_type": "stream",
     "text": [
      "{'key1': 'value1', 'key2': 'value2', 'key3': 'value3', 'key4': 'value4'}\n"
     ]
    }
   ],
   "source": [
    "print(d19)"
   ]
  },
  {
   "cell_type": "code",
   "execution_count": 60,
   "id": "782246a5",
   "metadata": {},
   "outputs": [
    {
     "data": {
      "text/plain": [
       "'value3'"
      ]
     },
     "execution_count": 60,
     "metadata": {},
     "output_type": "execute_result"
    }
   ],
   "source": [
    "d19.setdefault('key3')"
   ]
  },
  {
   "cell_type": "code",
   "execution_count": 61,
   "id": "1d29b25d",
   "metadata": {},
   "outputs": [
    {
     "name": "stdout",
     "output_type": "stream",
     "text": [
      "{'key1': 'value1', 'key2': 'value2', 'key3': 'value3', 'key4': 'value4'}\n"
     ]
    }
   ],
   "source": [
    "print(d19)"
   ]
  },
  {
   "cell_type": "markdown",
   "id": "c7212936",
   "metadata": {},
   "source": [
    "### Dictionary Comprehension"
   ]
  },
  {
   "cell_type": "code",
   "execution_count": 64,
   "id": "014559aa",
   "metadata": {},
   "outputs": [
    {
     "data": {
      "text/plain": [
       "{1: 1, 2: 4, 3: 9, 4: 16, 5: 25, 6: 36, 7: 49, 8: 64, 9: 81, 10: 100}"
      ]
     },
     "execution_count": 64,
     "metadata": {},
     "output_type": "execute_result"
    }
   ],
   "source": [
    "{i : i**2 for i in range(1,11)}"
   ]
  },
  {
   "cell_type": "code",
   "execution_count": 63,
   "id": "dd1ac26d",
   "metadata": {},
   "outputs": [
    {
     "data": {
      "text/plain": [
       "[1, 2, 3, 4, 5, 6, 7, 8, 9, 10]"
      ]
     },
     "execution_count": 63,
     "metadata": {},
     "output_type": "execute_result"
    }
   ],
   "source": [
    "list(range(1,11))"
   ]
  },
  {
   "cell_type": "code",
   "execution_count": 71,
   "id": "c2810c38",
   "metadata": {},
   "outputs": [
    {
     "data": {
      "text/plain": [
       "{1: 1,\n",
       " 2: 8,\n",
       " 3: 27,\n",
       " 4: 64,\n",
       " 5: 125,\n",
       " 6: 216,\n",
       " 7: 343,\n",
       " 8: 512,\n",
       " 9: 729,\n",
       " 10: 1000,\n",
       " 11: 1331,\n",
       " 12: 1728,\n",
       " 13: 2197,\n",
       " 14: 2744,\n",
       " 15: 3375,\n",
       " 16: 4096,\n",
       " 17: 4913,\n",
       " 18: 5832,\n",
       " 19: 6859,\n",
       " 20: 8000}"
      ]
     },
     "execution_count": 71,
     "metadata": {},
     "output_type": "execute_result"
    }
   ],
   "source": [
    "{i : i**3 for i in range(1,21)}"
   ]
  },
  {
   "cell_type": "code",
   "execution_count": 76,
   "id": "909bc79a",
   "metadata": {},
   "outputs": [],
   "source": [
    "import math\n",
    "d21 = {i : math.log10(i) for i in range(1,11)}"
   ]
  },
  {
   "cell_type": "code",
   "execution_count": 75,
   "id": "9e7d6bcc",
   "metadata": {},
   "outputs": [
    {
     "name": "stdout",
     "output_type": "stream",
     "text": [
      "Enter a number to get its equivalent logarithmic value : 2\n"
     ]
    },
    {
     "data": {
      "text/plain": [
       "0.3010299956639812"
      ]
     },
     "execution_count": 75,
     "metadata": {},
     "output_type": "execute_result"
    }
   ],
   "source": [
    "import math \n",
    "\n",
    "def log_value():\n",
    "    num = int(input(\"Enter a number to get its equivalent logarithmic value : \"))\n",
    "    log_num = math.log10(num)\n",
    "    return log_num\n",
    "log_value()"
   ]
  },
  {
   "cell_type": "code",
   "execution_count": 77,
   "id": "fd81262e",
   "metadata": {},
   "outputs": [
    {
     "name": "stdout",
     "output_type": "stream",
     "text": [
      "{1: 0.0, 2: 0.3010299956639812, 3: 0.47712125471966244, 4: 0.6020599913279624, 5: 0.6989700043360189, 6: 0.7781512503836436, 7: 0.8450980400142568, 8: 0.9030899869919435, 9: 0.9542425094393249, 10: 1.0}\n"
     ]
    }
   ],
   "source": [
    "print(d21)"
   ]
  },
  {
   "cell_type": "code",
   "execution_count": 78,
   "id": "dc1ad2b5",
   "metadata": {},
   "outputs": [
    {
     "data": {
      "text/plain": [
       "True"
      ]
     },
     "execution_count": 78,
     "metadata": {},
     "output_type": "execute_result"
    }
   ],
   "source": [
    "1 in d21"
   ]
  },
  {
   "cell_type": "code",
   "execution_count": 79,
   "id": "02cd42ab",
   "metadata": {},
   "outputs": [
    {
     "data": {
      "text/plain": [
       "dict_keys([1, 2, 3, 4, 5, 6, 7, 8, 9, 10])"
      ]
     },
     "execution_count": 79,
     "metadata": {},
     "output_type": "execute_result"
    }
   ],
   "source": [
    "d21.keys()"
   ]
  },
  {
   "cell_type": "code",
   "execution_count": 81,
   "id": "616fbe8e",
   "metadata": {},
   "outputs": [
    {
     "name": "stdout",
     "output_type": "stream",
     "text": [
      "Value of even key 2 is 0.3010299956639812\n",
      "Value of even key 4 is 0.6020599913279624\n",
      "Value of even key 6 is 0.7781512503836436\n",
      "Value of even key 8 is 0.9030899869919435\n",
      "Value of even key 10 is 1.0\n"
     ]
    }
   ],
   "source": [
    "for i in d21.keys():\n",
    "    if i%2==0:\n",
    "        print('Value of even key {} is {}'.format(i,d21[i]))"
   ]
  },
  {
   "cell_type": "code",
   "execution_count": 82,
   "id": "d313a9bd",
   "metadata": {},
   "outputs": [
    {
     "data": {
      "text/plain": [
       "dict_items([(1, 0.0), (2, 0.3010299956639812), (3, 0.47712125471966244), (4, 0.6020599913279624), (5, 0.6989700043360189), (6, 0.7781512503836436), (7, 0.8450980400142568), (8, 0.9030899869919435), (9, 0.9542425094393249), (10, 1.0)])"
      ]
     },
     "execution_count": 82,
     "metadata": {},
     "output_type": "execute_result"
    }
   ],
   "source": [
    "d21.items()"
   ]
  }
 ],
 "metadata": {
  "kernelspec": {
   "display_name": "Python 3 (ipykernel)",
   "language": "python",
   "name": "python3"
  },
  "language_info": {
   "codemirror_mode": {
    "name": "ipython",
    "version": 3
   },
   "file_extension": ".py",
   "mimetype": "text/x-python",
   "name": "python",
   "nbconvert_exporter": "python",
   "pygments_lexer": "ipython3",
   "version": "3.10.9"
  }
 },
 "nbformat": 4,
 "nbformat_minor": 5
}
