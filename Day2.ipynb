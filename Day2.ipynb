{
 "cells": [
  {
   "cell_type": "markdown",
   "id": "ad6805e6",
   "metadata": {},
   "source": [
    "# Day 2"
   ]
  },
  {
   "cell_type": "markdown",
   "id": "237b9430",
   "metadata": {},
   "source": [
    "## Strings and Methods, Expressions, Operators and Precedence "
   ]
  },
  {
   "cell_type": "markdown",
   "id": "964205e2",
   "metadata": {},
   "source": [
    "## Logical Operators \n",
    "1. and\n",
    "2. or\n",
    "3. not"
   ]
  },
  {
   "cell_type": "markdown",
   "id": "71594174",
   "metadata": {},
   "source": [
    "> It returns true or false according to given condition given "
   ]
  },
  {
   "cell_type": "markdown",
   "id": "0132b62f",
   "metadata": {},
   "source": [
    "### In the case of \"and'\n",
    "1. True and True    |True \n",
    "2. True and False   |False\n",
    "3. False and True   |False\n",
    "4. False and False  |False"
   ]
  },
  {
   "cell_type": "markdown",
   "id": "790678c2",
   "metadata": {},
   "source": [
    "### In the case of \"or\"\n",
    "1. True and True    |True \n",
    "2. True and False   |True\n",
    "3. False and True   |True\n",
    "4. False and False  |False"
   ]
  },
  {
   "cell_type": "code",
   "execution_count": 2,
   "id": "08393c10",
   "metadata": {},
   "outputs": [],
   "source": [
    "# In the case of \"not\" (vice versa)"
   ]
  },
  {
   "cell_type": "code",
   "execution_count": 3,
   "id": "6fd15a41",
   "metadata": {},
   "outputs": [
    {
     "data": {
      "text/plain": [
       "False"
      ]
     },
     "execution_count": 3,
     "metadata": {},
     "output_type": "execute_result"
    }
   ],
   "source": [
    "not True "
   ]
  },
  {
   "cell_type": "code",
   "execution_count": 4,
   "id": "135157c9",
   "metadata": {},
   "outputs": [
    {
     "data": {
      "text/plain": [
       "True"
      ]
     },
     "execution_count": 4,
     "metadata": {},
     "output_type": "execute_result"
    }
   ],
   "source": [
    "not False "
   ]
  },
  {
   "cell_type": "code",
   "execution_count": 5,
   "id": "7a9bcc83",
   "metadata": {},
   "outputs": [
    {
     "data": {
      "text/plain": [
       "True"
      ]
     },
     "execution_count": 5,
     "metadata": {},
     "output_type": "execute_result"
    }
   ],
   "source": [
    "bool(1)"
   ]
  },
  {
   "cell_type": "code",
   "execution_count": 6,
   "id": "86500514",
   "metadata": {},
   "outputs": [
    {
     "data": {
      "text/plain": [
       "True"
      ]
     },
     "execution_count": 6,
     "metadata": {},
     "output_type": "execute_result"
    }
   ],
   "source": [
    "not(int(bool(0)))"
   ]
  },
  {
   "cell_type": "code",
   "execution_count": 7,
   "id": "9ff6f585",
   "metadata": {},
   "outputs": [
    {
     "data": {
      "text/plain": [
       "True"
      ]
     },
     "execution_count": 7,
     "metadata": {},
     "output_type": "execute_result"
    }
   ],
   "source": [
    "not(bool(0))"
   ]
  },
  {
   "cell_type": "code",
   "execution_count": 8,
   "id": "636d4923",
   "metadata": {},
   "outputs": [
    {
     "data": {
      "text/plain": [
       "True"
      ]
     },
     "execution_count": 8,
     "metadata": {},
     "output_type": "execute_result"
    }
   ],
   "source": [
    "not 0"
   ]
  },
  {
   "cell_type": "code",
   "execution_count": 9,
   "id": "ffe59246",
   "metadata": {},
   "outputs": [
    {
     "data": {
      "text/plain": [
       "False"
      ]
     },
     "execution_count": 9,
     "metadata": {},
     "output_type": "execute_result"
    }
   ],
   "source": [
    "not 1"
   ]
  },
  {
   "cell_type": "code",
   "execution_count": 13,
   "id": "65d4408b",
   "metadata": {},
   "outputs": [
    {
     "name": "stdout",
     "output_type": "stream",
     "text": [
      "-----------------------------------\n",
      "Defined value of START = 1\n",
      "Defined value of STOP = 0\n",
      "\n",
      "-----------------------------------\n",
      "Defined value of START = 1\n",
      "Defined value of STOP = 0\n",
      "\n",
      "-----------------------------------\n",
      "Defined value of START = 1\n",
      "Defined value of STOP = 0\n",
      "\n",
      "-----------------------------------\n"
     ]
    }
   ],
   "source": [
    "START = 1\n",
    "STOP = 0\n",
    "\n",
    "# Print the actual values \n",
    "print(\"-----------------------------------\")\n",
    "print(f\"Defined value of START = {START}\")\n",
    "print(f\"Defined value of STOP = {STOP}\\n\")\n",
    "print(\"-----------------------------------\")\n",
    "\n",
    "# It can also be written as \n",
    "print(f\"Defined value of START = {START}\")\n",
    "print(f\"Defined value of STOP = {int(not(START))}\\n\")\n",
    "print(\"-----------------------------------\")\n",
    "\n",
    "# It can also be written as \n",
    "print(f\"Defined value of START = {int(not(STOP))}\")\n",
    "print(f\"Defined value of STOP = {STOP}\\n\")\n",
    "print(\"-----------------------------------\")"
   ]
  },
  {
   "cell_type": "code",
   "execution_count": 14,
   "id": "ad297b35",
   "metadata": {},
   "outputs": [],
   "source": [
    "lst1 = [1,2,3,4]\n",
    "lst2 = [1,2,3,4]"
   ]
  },
  {
   "cell_type": "code",
   "execution_count": 29,
   "id": "11af0288",
   "metadata": {},
   "outputs": [
    {
     "data": {
      "text/plain": [
       "True"
      ]
     },
     "execution_count": 29,
     "metadata": {},
     "output_type": "execute_result"
    }
   ],
   "source": [
    "lst1 is not lst2"
   ]
  },
  {
   "cell_type": "code",
   "execution_count": 21,
   "id": "8e3a40be",
   "metadata": {},
   "outputs": [],
   "source": [
    "# To check the memory address of above lists \n",
    "a = (lst1)\n"
   ]
  },
  {
   "cell_type": "code",
   "execution_count": 20,
   "id": "5e56af09",
   "metadata": {},
   "outputs": [],
   "source": [
    "b = id(lst2)"
   ]
  },
  {
   "cell_type": "code",
   "execution_count": 23,
   "id": "ce200878",
   "metadata": {},
   "outputs": [
    {
     "name": "stdout",
     "output_type": "stream",
     "text": [
      "No\n"
     ]
    }
   ],
   "source": [
    "# The memory address will be inside in RAM \n",
    "if a == b:\n",
    "    print(\"Yes\")\n",
    "else : \n",
    "    print(\"No\")"
   ]
  },
  {
   "cell_type": "code",
   "execution_count": 24,
   "id": "1a838236",
   "metadata": {},
   "outputs": [],
   "source": [
    "lsta = [1,2,3,4]\n",
    "lstb = lsta"
   ]
  },
  {
   "cell_type": "code",
   "execution_count": 25,
   "id": "6a29ce0d",
   "metadata": {},
   "outputs": [
    {
     "data": {
      "text/plain": [
       "2193451655936"
      ]
     },
     "execution_count": 25,
     "metadata": {},
     "output_type": "execute_result"
    }
   ],
   "source": [
    "id(lsta)"
   ]
  },
  {
   "cell_type": "code",
   "execution_count": 26,
   "id": "5a08a079",
   "metadata": {},
   "outputs": [
    {
     "data": {
      "text/plain": [
       "2193451655936"
      ]
     },
     "execution_count": 26,
     "metadata": {},
     "output_type": "execute_result"
    }
   ],
   "source": [
    "id(lstb)"
   ]
  },
  {
   "cell_type": "code",
   "execution_count": 27,
   "id": "9eef6455",
   "metadata": {},
   "outputs": [
    {
     "data": {
      "text/plain": [
       "True"
      ]
     },
     "execution_count": 27,
     "metadata": {},
     "output_type": "execute_result"
    }
   ],
   "source": [
    "# \" is \" and \"is not\" are the operators which checks the memory address of both the variables is same or not \n",
    "lsta is lstb"
   ]
  },
  {
   "cell_type": "code",
   "execution_count": 28,
   "id": "de4035ab",
   "metadata": {},
   "outputs": [
    {
     "data": {
      "text/plain": [
       "1"
      ]
     },
     "execution_count": 28,
     "metadata": {},
     "output_type": "execute_result"
    }
   ],
   "source": [
    "int(lsta is lstb)"
   ]
  },
  {
   "cell_type": "markdown",
   "id": "f3bc20bd",
   "metadata": {},
   "source": [
    "## Arithmetic Operations \n",
    "|Operator|Meaning|\n",
    "|:-:|:-:|\n",
    "|**+**|Addition|\n",
    "|**-**|Subraction|\n",
    "|**\\***|Multiplication|\n",
    "|**/**|True Division|\n",
    "|**//**|Floor Division|\n",
    "|**%**|Modulo Operator|"
   ]
  },
  {
   "cell_type": "code",
   "execution_count": 30,
   "id": "ce6a8b4d",
   "metadata": {},
   "outputs": [],
   "source": [
    "a = 10\n",
    "b = 5"
   ]
  },
  {
   "cell_type": "code",
   "execution_count": 31,
   "id": "4cb49df0",
   "metadata": {},
   "outputs": [
    {
     "data": {
      "text/plain": [
       "15"
      ]
     },
     "execution_count": 31,
     "metadata": {},
     "output_type": "execute_result"
    }
   ],
   "source": [
    "a+b"
   ]
  },
  {
   "cell_type": "code",
   "execution_count": 32,
   "id": "63ffd5de",
   "metadata": {},
   "outputs": [
    {
     "data": {
      "text/plain": [
       "5"
      ]
     },
     "execution_count": 32,
     "metadata": {},
     "output_type": "execute_result"
    }
   ],
   "source": [
    "a-b"
   ]
  },
  {
   "cell_type": "code",
   "execution_count": 33,
   "id": "a8a9845b",
   "metadata": {},
   "outputs": [
    {
     "data": {
      "text/plain": [
       "50"
      ]
     },
     "execution_count": 33,
     "metadata": {},
     "output_type": "execute_result"
    }
   ],
   "source": [
    "a*b"
   ]
  },
  {
   "cell_type": "code",
   "execution_count": 34,
   "id": "89cc1fc4",
   "metadata": {},
   "outputs": [
    {
     "data": {
      "text/plain": [
       "2.0"
      ]
     },
     "execution_count": 34,
     "metadata": {},
     "output_type": "execute_result"
    }
   ],
   "source": [
    "a/b"
   ]
  },
  {
   "cell_type": "code",
   "execution_count": 35,
   "id": "9c09daa9",
   "metadata": {},
   "outputs": [
    {
     "data": {
      "text/plain": [
       "2"
      ]
     },
     "execution_count": 35,
     "metadata": {},
     "output_type": "execute_result"
    }
   ],
   "source": [
    "a//b"
   ]
  },
  {
   "cell_type": "code",
   "execution_count": 36,
   "id": "c05d617f",
   "metadata": {},
   "outputs": [
    {
     "data": {
      "text/plain": [
       "0"
      ]
     },
     "execution_count": 36,
     "metadata": {},
     "output_type": "execute_result"
    }
   ],
   "source": [
    "a%b"
   ]
  },
  {
   "cell_type": "markdown",
   "id": "dc8d02e8",
   "metadata": {},
   "source": [
    "### Bitwise Operators\n",
    "|Operation|Meaning|\n",
    "|:-:|:-:|\n",
    "| **∼** |bitwise complement (prefix unary operator)|\n",
    "| **&** |bitwise and|\n",
    "| **\\|** |bitwise or|\n",
    "| **^** |bitwise exclusive-or|\n",
    "| **<<** |shift bits left, filling in with zeros|\n",
    "| **>>** |shift bits right, filling in with sign bit|"
   ]
  },
  {
   "cell_type": "code",
   "execution_count": 38,
   "id": "aafe0c2b",
   "metadata": {},
   "outputs": [
    {
     "data": {
      "text/plain": [
       "'0b1010'"
      ]
     },
     "execution_count": 38,
     "metadata": {},
     "output_type": "execute_result"
    }
   ],
   "source": [
    "var = 10 \n",
    "bin(var)"
   ]
  },
  {
   "cell_type": "code",
   "execution_count": 40,
   "id": "d1c996e7",
   "metadata": {},
   "outputs": [
    {
     "data": {
      "text/plain": [
       "-11"
      ]
     },
     "execution_count": 40,
     "metadata": {},
     "output_type": "execute_result"
    }
   ],
   "source": [
    "~(var)"
   ]
  },
  {
   "cell_type": "code",
   "execution_count": 41,
   "id": "2668ffe8",
   "metadata": {},
   "outputs": [],
   "source": [
    "str1 = \"PW Skills Data Science\""
   ]
  },
  {
   "cell_type": "code",
   "execution_count": 44,
   "id": "3394b8b0",
   "metadata": {},
   "outputs": [
    {
     "data": {
      "text/plain": [
       "'S'"
      ]
     },
     "execution_count": 44,
     "metadata": {},
     "output_type": "execute_result"
    }
   ],
   "source": [
    "str1[-7]"
   ]
  },
  {
   "cell_type": "code",
   "execution_count": 47,
   "id": "344ba8ef",
   "metadata": {},
   "outputs": [
    {
     "data": {
      "text/plain": [
       "'e'"
      ]
     },
     "execution_count": 47,
     "metadata": {},
     "output_type": "execute_result"
    }
   ],
   "source": [
    "str1[-1]"
   ]
  },
  {
   "cell_type": "code",
   "execution_count": 49,
   "id": "426c0988",
   "metadata": {},
   "outputs": [
    {
     "data": {
      "text/plain": [
       "'e'"
      ]
     },
     "execution_count": 49,
     "metadata": {},
     "output_type": "execute_result"
    }
   ],
   "source": [
    "str1[-1:]"
   ]
  },
  {
   "cell_type": "code",
   "execution_count": 51,
   "id": "bf48fef0",
   "metadata": {},
   "outputs": [
    {
     "data": {
      "text/plain": [
       "'ce'"
      ]
     },
     "execution_count": 51,
     "metadata": {},
     "output_type": "execute_result"
    }
   ],
   "source": [
    "str1[-2:]"
   ]
  },
  {
   "cell_type": "code",
   "execution_count": 53,
   "id": "5226128f",
   "metadata": {},
   "outputs": [
    {
     "data": {
      "text/plain": [
       "'nce'"
      ]
     },
     "execution_count": 53,
     "metadata": {},
     "output_type": "execute_result"
    }
   ],
   "source": [
    "str1[-3:]"
   ]
  },
  {
   "cell_type": "code",
   "execution_count": 55,
   "id": "45b8b09a",
   "metadata": {},
   "outputs": [
    {
     "data": {
      "text/plain": [
       "'Science'"
      ]
     },
     "execution_count": 55,
     "metadata": {},
     "output_type": "execute_result"
    }
   ],
   "source": [
    "str1[-7:]"
   ]
  },
  {
   "cell_type": "code",
   "execution_count": 56,
   "id": "2c47b154",
   "metadata": {},
   "outputs": [
    {
     "data": {
      "text/plain": [
       "'Scie'"
      ]
     },
     "execution_count": 56,
     "metadata": {},
     "output_type": "execute_result"
    }
   ],
   "source": [
    "str1[-7:-3]"
   ]
  },
  {
   "cell_type": "code",
   "execution_count": 57,
   "id": "bb9ebdec",
   "metadata": {},
   "outputs": [
    {
     "data": {
      "text/plain": [
       "''"
      ]
     },
     "execution_count": 57,
     "metadata": {},
     "output_type": "execute_result"
    }
   ],
   "source": [
    "str1[-7:5]"
   ]
  },
  {
   "cell_type": "code",
   "execution_count": 58,
   "id": "c771a539",
   "metadata": {},
   "outputs": [
    {
     "data": {
      "text/plain": [
       "''"
      ]
     },
     "execution_count": 58,
     "metadata": {},
     "output_type": "execute_result"
    }
   ],
   "source": [
    "str1[7:5]"
   ]
  },
  {
   "cell_type": "code",
   "execution_count": 59,
   "id": "b4b91436",
   "metadata": {},
   "outputs": [
    {
     "data": {
      "text/plain": [
       "'ta '"
      ]
     },
     "execution_count": 59,
     "metadata": {},
     "output_type": "execute_result"
    }
   ],
   "source": [
    "str1[-10:-7]"
   ]
  },
  {
   "cell_type": "code",
   "execution_count": 60,
   "id": "3c130926",
   "metadata": {},
   "outputs": [
    {
     "data": {
      "text/plain": [
       "'PW Skills Data Science'"
      ]
     },
     "execution_count": 60,
     "metadata": {},
     "output_type": "execute_result"
    }
   ],
   "source": [
    "str1[:]"
   ]
  },
  {
   "cell_type": "code",
   "execution_count": 62,
   "id": "ce50f2e5",
   "metadata": {},
   "outputs": [
    {
     "data": {
      "text/plain": [
       "'ecneicS ataD sllikS WP'"
      ]
     },
     "execution_count": 62,
     "metadata": {},
     "output_type": "execute_result"
    }
   ],
   "source": [
    "str1[::-1]"
   ]
  },
  {
   "cell_type": "code",
   "execution_count": 63,
   "id": "766893ad",
   "metadata": {},
   "outputs": [
    {
     "data": {
      "text/plain": [
       "'W Skills Data Scienc'"
      ]
     },
     "execution_count": 63,
     "metadata": {},
     "output_type": "execute_result"
    }
   ],
   "source": [
    "str1[1:-1]"
   ]
  },
  {
   "cell_type": "code",
   "execution_count": 65,
   "id": "51b177e1",
   "metadata": {},
   "outputs": [
    {
     "data": {
      "text/plain": [
       "'W Skills Data '"
      ]
     },
     "execution_count": 65,
     "metadata": {},
     "output_type": "execute_result"
    }
   ],
   "source": [
    "str1[1:-7]"
   ]
  },
  {
   "cell_type": "code",
   "execution_count": 67,
   "id": "8e7d6b6c",
   "metadata": {},
   "outputs": [],
   "source": [
    "course_name = \"Data Science Masters 2.0\""
   ]
  },
  {
   "cell_type": "code",
   "execution_count": 68,
   "id": "f781c559",
   "metadata": {},
   "outputs": [
    {
     "name": "stdout",
     "output_type": "stream",
     "text": [
      "Data Science Masters 2.0\n"
     ]
    }
   ],
   "source": [
    "print(course_name)"
   ]
  },
  {
   "cell_type": "code",
   "execution_count": 69,
   "id": "ced5edd8",
   "metadata": {},
   "outputs": [
    {
     "data": {
      "text/plain": [
       "'Data Science Masters 2.0'"
      ]
     },
     "execution_count": 69,
     "metadata": {},
     "output_type": "execute_result"
    }
   ],
   "source": [
    "course_name"
   ]
  },
  {
   "cell_type": "code",
   "execution_count": 70,
   "id": "1a458780",
   "metadata": {},
   "outputs": [
    {
     "data": {
      "text/plain": [
       "1"
      ]
     },
     "execution_count": 70,
     "metadata": {},
     "output_type": "execute_result"
    }
   ],
   "source": [
    "course_name.count('D')"
   ]
  },
  {
   "cell_type": "code",
   "execution_count": 71,
   "id": "835ee850",
   "metadata": {},
   "outputs": [
    {
     "data": {
      "text/plain": [
       "3"
      ]
     },
     "execution_count": 71,
     "metadata": {},
     "output_type": "execute_result"
    }
   ],
   "source": [
    "course_name.count('e')"
   ]
  },
  {
   "cell_type": "code",
   "execution_count": 72,
   "id": "68f133fc",
   "metadata": {},
   "outputs": [
    {
     "data": {
      "text/plain": [
       "['Data Sci', 'nc', ' Mast', 'rs 2.0']"
      ]
     },
     "execution_count": 72,
     "metadata": {},
     "output_type": "execute_result"
    }
   ],
   "source": [
    "course_name.split('e')"
   ]
  },
  {
   "cell_type": "code",
   "execution_count": 73,
   "id": "41f57973",
   "metadata": {},
   "outputs": [
    {
     "data": {
      "text/plain": [
       "('Data Sci', 'e', 'nce Masters 2.0')"
      ]
     },
     "execution_count": 73,
     "metadata": {},
     "output_type": "execute_result"
    }
   ],
   "source": [
    "# It breaks the given statement into three parts\n",
    "course_name.partition('e')"
   ]
  },
  {
   "cell_type": "code",
   "execution_count": 74,
   "id": "bb16adb1",
   "metadata": {},
   "outputs": [
    {
     "data": {
      "text/plain": [
       "'DATA SCIENCE MASTERS 2.0'"
      ]
     },
     "execution_count": 74,
     "metadata": {},
     "output_type": "execute_result"
    }
   ],
   "source": [
    "# String upper and lower case\n",
    "course_name.upper()"
   ]
  },
  {
   "cell_type": "code",
   "execution_count": 75,
   "id": "da314a6a",
   "metadata": {},
   "outputs": [
    {
     "data": {
      "text/plain": [
       "'data science masters 2.0'"
      ]
     },
     "execution_count": 75,
     "metadata": {},
     "output_type": "execute_result"
    }
   ],
   "source": [
    "course_name.lower()"
   ]
  },
  {
   "cell_type": "code",
   "execution_count": 76,
   "id": "b0d63156",
   "metadata": {},
   "outputs": [
    {
     "data": {
      "text/plain": [
       "'dATA sCIENCE mASTERS 2.0'"
      ]
     },
     "execution_count": 76,
     "metadata": {},
     "output_type": "execute_result"
    }
   ],
   "source": [
    "# It swaps the capital letter into small letter and vice versa\n",
    "course_name.swapcase()"
   ]
  },
  {
   "cell_type": "code",
   "execution_count": 77,
   "id": "4d14fba0",
   "metadata": {},
   "outputs": [
    {
     "data": {
      "text/plain": [
       "'Data Science Masters 2.0'"
      ]
     },
     "execution_count": 77,
     "metadata": {},
     "output_type": "execute_result"
    }
   ],
   "source": [
    "course_name.title()"
   ]
  },
  {
   "cell_type": "markdown",
   "id": "65cd706f",
   "metadata": {},
   "source": [
    ">Return a version of the string where each word is titlecased.\n",
    "\n",
    ">More specifically, words start with uppercased characters and all remaining\n",
    ">cased characters have lower case."
   ]
  },
  {
   "cell_type": "code",
   "execution_count": 79,
   "id": "66e61751",
   "metadata": {},
   "outputs": [],
   "source": [
    "laptop_name = \"asus and HP\""
   ]
  },
  {
   "cell_type": "code",
   "execution_count": 80,
   "id": "7896355a",
   "metadata": {},
   "outputs": [
    {
     "data": {
      "text/plain": [
       "'Asus And Hp'"
      ]
     },
     "execution_count": 80,
     "metadata": {},
     "output_type": "execute_result"
    }
   ],
   "source": [
    "laptop_name.title()"
   ]
  },
  {
   "cell_type": "code",
   "execution_count": 81,
   "id": "16a6f16b",
   "metadata": {},
   "outputs": [
    {
     "data": {
      "text/plain": [
       "'0.2 sretsaM ecneicS ataD'"
      ]
     },
     "execution_count": 81,
     "metadata": {},
     "output_type": "execute_result"
    }
   ],
   "source": [
    "course_name[::-1]"
   ]
  },
  {
   "cell_type": "code",
   "execution_count": 82,
   "id": "88be1b4e",
   "metadata": {},
   "outputs": [
    {
     "data": {
      "text/plain": [
       "'02sesMeniSaa'"
      ]
     },
     "execution_count": 82,
     "metadata": {},
     "output_type": "execute_result"
    }
   ],
   "source": [
    "course_name[::-2]"
   ]
  },
  {
   "cell_type": "code",
   "execution_count": null,
   "id": "879e84f7",
   "metadata": {},
   "outputs": [],
   "source": []
  }
 ],
 "metadata": {
  "kernelspec": {
   "display_name": "Python 3 (ipykernel)",
   "language": "python",
   "name": "python3"
  },
  "language_info": {
   "codemirror_mode": {
    "name": "ipython",
    "version": 3
   },
   "file_extension": ".py",
   "mimetype": "text/x-python",
   "name": "python",
   "nbconvert_exporter": "python",
   "pygments_lexer": "ipython3",
   "version": "3.10.9"
  }
 },
 "nbformat": 4,
 "nbformat_minor": 5
}
