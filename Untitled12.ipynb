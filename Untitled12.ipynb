{
 "cells": [
  {
   "cell_type": "markdown",
   "id": "b7b3a980",
   "metadata": {},
   "source": [
    "# Sets"
   ]
  },
  {
   "cell_type": "markdown",
   "id": "c5bebd68",
   "metadata": {},
   "source": [
    "> Set is an unordered collection enclosed in curly brackets"
   ]
  },
  {
   "cell_type": "code",
   "execution_count": 2,
   "id": "3f46b523",
   "metadata": {},
   "outputs": [
    {
     "data": {
      "text/plain": [
       "list"
      ]
     },
     "execution_count": 2,
     "metadata": {},
     "output_type": "execute_result"
    }
   ],
   "source": [
    "type([])"
   ]
  },
  {
   "cell_type": "code",
   "execution_count": 3,
   "id": "b9b7c3e0",
   "metadata": {},
   "outputs": [
    {
     "data": {
      "text/plain": [
       "tuple"
      ]
     },
     "execution_count": 3,
     "metadata": {},
     "output_type": "execute_result"
    }
   ],
   "source": [
    "type(())"
   ]
  },
  {
   "cell_type": "code",
   "execution_count": 4,
   "id": "191040ee",
   "metadata": {},
   "outputs": [
    {
     "data": {
      "text/plain": [
       "dict"
      ]
     },
     "execution_count": 4,
     "metadata": {},
     "output_type": "execute_result"
    }
   ],
   "source": [
    "type({})"
   ]
  },
  {
   "cell_type": "code",
   "execution_count": 5,
   "id": "ac28e884",
   "metadata": {},
   "outputs": [],
   "source": [
    "set1 = {1,2,3,4,5,6,6,6,7,7,7,77,89,67,44,99,99}"
   ]
  },
  {
   "cell_type": "code",
   "execution_count": 6,
   "id": "20394591",
   "metadata": {},
   "outputs": [
    {
     "name": "stdout",
     "output_type": "stream",
     "text": [
      "{1, 2, 3, 4, 5, 6, 7, 67, 99, 44, 77, 89}\n"
     ]
    }
   ],
   "source": [
    "print(set1)"
   ]
  },
  {
   "cell_type": "markdown",
   "id": "df3f96ab",
   "metadata": {},
   "source": [
    "> Set does not allow duplicates"
   ]
  },
  {
   "cell_type": "code",
   "execution_count": 7,
   "id": "9adef780",
   "metadata": {},
   "outputs": [
    {
     "ename": "TypeError",
     "evalue": "unhashable type: 'list'",
     "output_type": "error",
     "traceback": [
      "\u001b[1;31m---------------------------------------------------------------------------\u001b[0m",
      "\u001b[1;31mTypeError\u001b[0m                                 Traceback (most recent call last)",
      "Cell \u001b[1;32mIn[7], line 1\u001b[0m\n\u001b[1;32m----> 1\u001b[0m set2 \u001b[38;5;241m=\u001b[39m {\u001b[38;5;241m1\u001b[39m,\u001b[38;5;241m2\u001b[39m,\u001b[38;5;241m3\u001b[39m,\u001b[38;5;241m4\u001b[39m,\u001b[38;5;241m5\u001b[39m,\u001b[38;5;241m6\u001b[39m,\u001b[38;5;241m6\u001b[39m,\u001b[38;5;241m6\u001b[39m,\u001b[38;5;241m7\u001b[39m,\u001b[38;5;241m7\u001b[39m,\u001b[38;5;241m7\u001b[39m,\u001b[38;5;241m77\u001b[39m,\u001b[38;5;241m89\u001b[39m,\u001b[38;5;241m67\u001b[39m,\u001b[38;5;241m44\u001b[39m,\u001b[38;5;241m99\u001b[39m,\u001b[38;5;241m99\u001b[39m,[\u001b[38;5;241m2\u001b[39m,\u001b[38;5;241m2\u001b[39m,\u001b[38;5;241m3\u001b[39m,\u001b[38;5;241m4\u001b[39m]}\n",
      "\u001b[1;31mTypeError\u001b[0m: unhashable type: 'list'"
     ]
    }
   ],
   "source": [
    "set2 = {1,2,3,4,5,6,6,6,7,7,7,77,89,67,44,99,99,[2,2,3,4]}"
   ]
  },
  {
   "cell_type": "markdown",
   "id": "fc337ba4",
   "metadata": {},
   "source": [
    "> Set is an unhashable type of object"
   ]
  },
  {
   "cell_type": "code",
   "execution_count": 8,
   "id": "264f1bf4",
   "metadata": {},
   "outputs": [],
   "source": [
    "set3 = {1,2,3,4,5,6,6,6,7,7,7,77,89,67,44,99,99,(2,3,4,5,6,7,8,9,10)}"
   ]
  },
  {
   "cell_type": "code",
   "execution_count": 9,
   "id": "24d24b8c",
   "metadata": {},
   "outputs": [
    {
     "name": "stdout",
     "output_type": "stream",
     "text": [
      "{1, 2, 3, 4, 5, 6, 7, 67, 99, 44, 77, (2, 3, 4, 5, 6, 7, 8, 9, 10), 89}\n"
     ]
    }
   ],
   "source": [
    "print(set3)"
   ]
  },
  {
   "cell_type": "code",
   "execution_count": 13,
   "id": "ef1616c9",
   "metadata": {},
   "outputs": [],
   "source": [
    "str1 = 'Adipurush : The Movie'"
   ]
  },
  {
   "cell_type": "code",
   "execution_count": 14,
   "id": "79e65986",
   "metadata": {},
   "outputs": [
    {
     "name": "stdout",
     "output_type": "stream",
     "text": [
      "Adipurush : The Movie\n"
     ]
    }
   ],
   "source": [
    "print(str1)"
   ]
  },
  {
   "cell_type": "code",
   "execution_count": 19,
   "id": "b07ed81c",
   "metadata": {},
   "outputs": [],
   "source": [
    "str1 = str1.replace('A','a').replace('T','t')"
   ]
  },
  {
   "cell_type": "markdown",
   "id": "039834a9",
   "metadata": {},
   "source": [
    ">replace('old','new') is not an in-place operation, it means that until we assign the changes to that original string, the original string remains as it is "
   ]
  },
  {
   "cell_type": "code",
   "execution_count": 18,
   "id": "a88daf46",
   "metadata": {},
   "outputs": [
    {
     "data": {
      "text/plain": [
       "'adipurush : the Movie'"
      ]
     },
     "execution_count": 18,
     "metadata": {},
     "output_type": "execute_result"
    }
   ],
   "source": [
    "str1"
   ]
  },
  {
   "cell_type": "code",
   "execution_count": 20,
   "id": "c5469953",
   "metadata": {},
   "outputs": [
    {
     "name": "stdout",
     "output_type": "stream",
     "text": [
      "{1, 2, 3, 4, 5, 6, 7, 67, 99, 44, 77, 89}\n"
     ]
    }
   ],
   "source": [
    "print(set1)"
   ]
  },
  {
   "cell_type": "code",
   "execution_count": 22,
   "id": "8784ad72",
   "metadata": {},
   "outputs": [
    {
     "ename": "TypeError",
     "evalue": "'set' object is not subscriptable",
     "output_type": "error",
     "traceback": [
      "\u001b[1;31m---------------------------------------------------------------------------\u001b[0m",
      "\u001b[1;31mTypeError\u001b[0m                                 Traceback (most recent call last)",
      "Cell \u001b[1;32mIn[22], line 1\u001b[0m\n\u001b[1;32m----> 1\u001b[0m \u001b[43mset1\u001b[49m\u001b[43m[\u001b[49m\u001b[38;5;241;43m7\u001b[39;49m\u001b[43m]\u001b[49m\n",
      "\u001b[1;31mTypeError\u001b[0m: 'set' object is not subscriptable"
     ]
    }
   ],
   "source": [
    "set1[7]"
   ]
  },
  {
   "cell_type": "code",
   "execution_count": 24,
   "id": "b094b21c",
   "metadata": {},
   "outputs": [
    {
     "name": "stdout",
     "output_type": "stream",
     "text": [
      "1 2 3 4 5 6 7 67 99 44 77 89 "
     ]
    }
   ],
   "source": [
    "for i in set1:\n",
    "    print(i,end = \" \")"
   ]
  },
  {
   "cell_type": "code",
   "execution_count": 25,
   "id": "b5d2dd52",
   "metadata": {},
   "outputs": [
    {
     "data": {
      "text/plain": [
       "[1, 2, 3, 4, 5, 6, 7, 67, 99, 44, 77, 89]"
      ]
     },
     "execution_count": 25,
     "metadata": {},
     "output_type": "execute_result"
    }
   ],
   "source": [
    "[i for i in set1]"
   ]
  },
  {
   "cell_type": "markdown",
   "id": "1a0b8d1c",
   "metadata": {},
   "source": [
    "> If we use list comprehension, the output will always be in the form of list"
   ]
  },
  {
   "cell_type": "code",
   "execution_count": 26,
   "id": "5ed56034",
   "metadata": {},
   "outputs": [
    {
     "data": {
      "text/plain": [
       "list"
      ]
     },
     "execution_count": 26,
     "metadata": {},
     "output_type": "execute_result"
    }
   ],
   "source": [
    "type([i for i in set1])"
   ]
  },
  {
   "cell_type": "code",
   "execution_count": 27,
   "id": "3013c80d",
   "metadata": {},
   "outputs": [],
   "source": [
    "set1.add(34)"
   ]
  },
  {
   "cell_type": "code",
   "execution_count": 28,
   "id": "c8301ab0",
   "metadata": {},
   "outputs": [
    {
     "name": "stdout",
     "output_type": "stream",
     "text": [
      "{1, 2, 3, 4, 5, 6, 7, 67, 99, 34, 44, 77, 89}\n"
     ]
    }
   ],
   "source": [
    "print(set1)"
   ]
  },
  {
   "cell_type": "markdown",
   "id": "e43c370c",
   "metadata": {},
   "source": [
    "> If we add an element in a set using \"add\" attribute and if the element is already present in a set, then the element we have added will not be added to the set,because duplicaiton is not allowed in set"
   ]
  },
  {
   "cell_type": "code",
   "execution_count": 29,
   "id": "4910e8eb",
   "metadata": {},
   "outputs": [],
   "source": [
    "set1.clear() # Remove all the elements in a set"
   ]
  },
  {
   "cell_type": "code",
   "execution_count": 30,
   "id": "6e13375b",
   "metadata": {},
   "outputs": [
    {
     "name": "stdout",
     "output_type": "stream",
     "text": [
      "set()\n"
     ]
    }
   ],
   "source": [
    "print(set1)"
   ]
  },
  {
   "cell_type": "code",
   "execution_count": 31,
   "id": "4b789356",
   "metadata": {},
   "outputs": [
    {
     "name": "stdout",
     "output_type": "stream",
     "text": [
      "{1, 2, 3, 4, 5, 6, 7, 67, 99, 44, 77, 89}\n"
     ]
    }
   ],
   "source": [
    "set1 = {1,2,3,4,5,6,6,6,7,7,7,77,89,67,44,99,99}\n",
    "print(set1)"
   ]
  },
  {
   "cell_type": "code",
   "execution_count": 32,
   "id": "7babad09",
   "metadata": {},
   "outputs": [
    {
     "data": {
      "text/plain": [
       "{1, 2, 3, 4, 5, 6, 7, 44, 67, 77, 89, 99}"
      ]
     },
     "execution_count": 32,
     "metadata": {},
     "output_type": "execute_result"
    }
   ],
   "source": [
    "set1.copy()"
   ]
  },
  {
   "cell_type": "code",
   "execution_count": 33,
   "id": "62260e96",
   "metadata": {},
   "outputs": [
    {
     "name": "stdout",
     "output_type": "stream",
     "text": [
      "{1, 2, 3, 4, 5, 6, 7, 67, 99, 44, 77, 89}\n"
     ]
    }
   ],
   "source": [
    "set2 = set1.copy() # It stores a shallow copy of a set\n",
    "print(set2)"
   ]
  },
  {
   "cell_type": "code",
   "execution_count": 36,
   "id": "9da353a3",
   "metadata": {},
   "outputs": [],
   "source": [
    "set1.add(49)"
   ]
  },
  {
   "cell_type": "code",
   "execution_count": 37,
   "id": "54850a8a",
   "metadata": {},
   "outputs": [
    {
     "name": "stdout",
     "output_type": "stream",
     "text": [
      "{1, 2, 3, 4, 5, 6, 7, 67, 99, 44, 77, 49, 89}\n"
     ]
    }
   ],
   "source": [
    "print(set1)"
   ]
  },
  {
   "cell_type": "code",
   "execution_count": 38,
   "id": "be1efddb",
   "metadata": {},
   "outputs": [
    {
     "name": "stdout",
     "output_type": "stream",
     "text": [
      "{1, 2, 3, 4, 5, 6, 7, 67, 99, 44, 77, 89}\n"
     ]
    }
   ],
   "source": [
    "print(set2)"
   ]
  },
  {
   "cell_type": "code",
   "execution_count": 41,
   "id": "365ada26",
   "metadata": {},
   "outputs": [
    {
     "data": {
      "text/plain": [
       "{49}"
      ]
     },
     "execution_count": 41,
     "metadata": {},
     "output_type": "execute_result"
    }
   ],
   "source": [
    "set1.difference(set2) # Returns disjoint set or more precisely the element which is not in set1 or in the set specified before (.)"
   ]
  },
  {
   "cell_type": "code",
   "execution_count": 44,
   "id": "c369ebc8",
   "metadata": {},
   "outputs": [],
   "source": [
    "set2.difference_update(set1)"
   ]
  },
  {
   "cell_type": "code",
   "execution_count": 46,
   "id": "88ae932b",
   "metadata": {},
   "outputs": [
    {
     "data": {
      "text/plain": [
       "{49}"
      ]
     },
     "execution_count": 46,
     "metadata": {},
     "output_type": "execute_result"
    }
   ],
   "source": [
    "set1"
   ]
  },
  {
   "cell_type": "code",
   "execution_count": 48,
   "id": "599bac96",
   "metadata": {},
   "outputs": [
    {
     "data": {
      "text/plain": [
       "12"
      ]
     },
     "execution_count": 48,
     "metadata": {},
     "output_type": "execute_result"
    }
   ],
   "source": [
    "len(set2)"
   ]
  },
  {
   "cell_type": "code",
   "execution_count": 49,
   "id": "5aed63f4",
   "metadata": {},
   "outputs": [
    {
     "data": {
      "text/plain": [
       "1"
      ]
     },
     "execution_count": 49,
     "metadata": {},
     "output_type": "execute_result"
    }
   ],
   "source": [
    "set2.pop()"
   ]
  },
  {
   "cell_type": "markdown",
   "id": "77012353",
   "metadata": {},
   "source": [
    "> Set pops the elements from lower to higher or from left to right unlike others"
   ]
  },
  {
   "cell_type": "code",
   "execution_count": 50,
   "id": "ede4024d",
   "metadata": {},
   "outputs": [
    {
     "data": {
      "text/plain": [
       "49"
      ]
     },
     "execution_count": 50,
     "metadata": {},
     "output_type": "execute_result"
    }
   ],
   "source": [
    "set1.pop()"
   ]
  },
  {
   "cell_type": "code",
   "execution_count": 51,
   "id": "55d6e0c1",
   "metadata": {},
   "outputs": [
    {
     "ename": "KeyError",
     "evalue": "'pop from an empty set'",
     "output_type": "error",
     "traceback": [
      "\u001b[1;31m---------------------------------------------------------------------------\u001b[0m",
      "\u001b[1;31mKeyError\u001b[0m                                  Traceback (most recent call last)",
      "Cell \u001b[1;32mIn[51], line 1\u001b[0m\n\u001b[1;32m----> 1\u001b[0m \u001b[43mset1\u001b[49m\u001b[38;5;241;43m.\u001b[39;49m\u001b[43mpop\u001b[49m\u001b[43m(\u001b[49m\u001b[43m)\u001b[49m\n",
      "\u001b[1;31mKeyError\u001b[0m: 'pop from an empty set'"
     ]
    }
   ],
   "source": [
    "set1.pop()"
   ]
  },
  {
   "cell_type": "code",
   "execution_count": 52,
   "id": "8352bbd9",
   "metadata": {},
   "outputs": [
    {
     "name": "stdout",
     "output_type": "stream",
     "text": [
      "{2, 3, 4, 5, 6, 7, 67, 99, 44, 77, 89}\n"
     ]
    }
   ],
   "source": [
    "print(set2)"
   ]
  }
 ],
 "metadata": {
  "kernelspec": {
   "display_name": "Python 3 (ipykernel)",
   "language": "python",
   "name": "python3"
  },
  "language_info": {
   "codemirror_mode": {
    "name": "ipython",
    "version": 3
   },
   "file_extension": ".py",
   "mimetype": "text/x-python",
   "name": "python",
   "nbconvert_exporter": "python",
   "pygments_lexer": "ipython3",
   "version": "3.10.9"
  }
 },
 "nbformat": 4,
 "nbformat_minor": 5
}
