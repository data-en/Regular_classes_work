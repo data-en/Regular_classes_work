{
 "cells": [
  {
   "cell_type": "code",
   "execution_count": 13,
   "id": "a38a37b1-e116-400c-94d4-9f22f08f0a5b",
   "metadata": {},
   "outputs": [],
   "source": [
    "import requests\n",
    "from bs4 import BeautifulSoup as bs\n",
    "from urllib.request import urlopen\n",
    "import logging"
   ]
  },
  {
   "cell_type": "code",
   "execution_count": 14,
   "id": "be14ef05-c667-4aff-847f-cd2f12f7098a",
   "metadata": {},
   "outputs": [],
   "source": [
    "flipkart_url = \"https://www.flipkart.com/search?q=\" + 'tv'\n"
   ]
  },
  {
   "cell_type": "code",
   "execution_count": 15,
   "id": "8efa34eb-6388-4caf-8d70-347a3e601ab3",
   "metadata": {},
   "outputs": [
    {
     "data": {
      "text/plain": [
       "'https://www.flipkart.com/search?q=tv'"
      ]
     },
     "execution_count": 15,
     "metadata": {},
     "output_type": "execute_result"
    }
   ],
   "source": [
    "flipkart_url"
   ]
  },
  {
   "cell_type": "code",
   "execution_count": 16,
   "id": "e10740bb-bab3-4deb-baa0-01c064f26cc9",
   "metadata": {},
   "outputs": [],
   "source": [
    "urlclient = urlopen(flipkart_url)"
   ]
  },
  {
   "cell_type": "code",
   "execution_count": 17,
   "id": "b434cbda-091a-403c-976e-ec152eb24afe",
   "metadata": {},
   "outputs": [],
   "source": [
    "flipkart_page = urlclient.read() # reads all the html code"
   ]
  },
  {
   "cell_type": "code",
   "execution_count": 18,
   "id": "6bdf6af2-55da-462a-a386-edd30cbd0da7",
   "metadata": {},
   "outputs": [],
   "source": [
    "flipkart_html = bs(flipkart_page,'html.parser') # In flipkart_html my dumped data is stored"
   ]
  },
  {
   "cell_type": "code",
   "execution_count": 19,
   "id": "bdc0ac60-47b7-42f1-8639-c2699fe280d1",
   "metadata": {},
   "outputs": [
    {
     "data": {
      "text/plain": [
       "'https://www.flipkart.com/dyanora-60-cm-24-inch-hd-ready-led-tv-noise-reduction-cinema-zoom-powerful-audio-box-speakers/p/itmbb88d38107ee7?pid=TVSG4YVQY4ZYQZWY&lid=LSTTVSG4YVQY4ZYQZWYTZLXFE&marketplace=FLIPKART&q=tv&store=ckf%2Fczl&srno=s_1_1&otracker=search&fm=organic&iid=en_K4wJgCXDRPqfPImbT-rjUhzSN6VYBkj29MV-MhYCnF6E1pBiLL5uw0m9EG97kHEDeQG1W9kZXb0DPhZlEr2TbQ%3D%3D&ppt=sp&ppn=sp&ssid=8aiuttpwog0000001688469337670&qH=c9a1fdac6e082dd8'"
      ]
     },
     "execution_count": 19,
     "metadata": {},
     "output_type": "execute_result"
    }
   ],
   "source": [
    "\"https://www.flipkart.com\"+\"/dyanora-60-cm-24-inch-hd-ready-led-tv-noise-reduction-cinema-zoom-powerful-audio-box-speakers/p/itmbb88d38107ee7?pid=TVSG4YVQY4ZYQZWY&lid=LSTTVSG4YVQY4ZYQZWYTZLXFE&marketplace=FLIPKART&q=tv&store=ckf%2Fczl&srno=s_1_1&otracker=search&fm=organic&iid=en_K4wJgCXDRPqfPImbT-rjUhzSN6VYBkj29MV-MhYCnF6E1pBiLL5uw0m9EG97kHEDeQG1W9kZXb0DPhZlEr2TbQ%3D%3D&ppt=sp&ppn=sp&ssid=8aiuttpwog0000001688469337670&qH=c9a1fdac6e082dd8\""
   ]
  },
  {
   "cell_type": "code",
   "execution_count": 36,
   "id": "945461e9-04d5-4369-846a-54b36248e338",
   "metadata": {},
   "outputs": [],
   "source": [
    "bigbox = flipkart_html.find_all('div',{'class':\"_1AtVbE col-12-12\"})"
   ]
  },
  {
   "cell_type": "code",
   "execution_count": 37,
   "id": "c00c8104-01c3-4d56-904e-c6ad2a50b4f3",
   "metadata": {},
   "outputs": [
    {
     "data": {
      "text/plain": [
       "30"
      ]
     },
     "execution_count": 37,
     "metadata": {},
     "output_type": "execute_result"
    }
   ],
   "source": [
    "len(bigbox)"
   ]
  },
  {
   "cell_type": "code",
   "execution_count": 38,
   "id": "4de20849-5f4c-416c-9b50-61c30bf012c7",
   "metadata": {},
   "outputs": [],
   "source": [
    "del bigbox[0:3]"
   ]
  },
  {
   "cell_type": "code",
   "execution_count": 75,
   "id": "a5b120cd-bb49-4818-9871-9403c1dd5e5b",
   "metadata": {},
   "outputs": [],
   "source": [
    "product_link = 'https://www.flipkart.com'+bigbox[9].div.div.div.a['href']"
   ]
  },
  {
   "cell_type": "code",
   "execution_count": 76,
   "id": "81483a6a-4135-49e9-8354-ade030dad396",
   "metadata": {},
   "outputs": [
    {
     "name": "stdout",
     "output_type": "stream",
     "text": [
      "https://www.flipkart.com/kodak-164-cm-65-inch-ultra-hd-4k-led-smart-google-tv-dolby-atmos-vision/p/itm614da9d802ded?pid=TVSGMXD2S9EYASHA&lid=LSTTVSGMXD2S9EYASHA5WAF2O&marketplace=FLIPKART&q=tv&store=ckf%2Fczl&srno=s_1_2&otracker=search&fm=organic&iid=en_ftHRlvIBfpK0rXu1vsbzja_DbjO_hhFFabGxPuq4w_VBZYIKyi_vev3QSv9Ms_CMEXwgtaQciUyZ1v2kklUSlg%3D%3D&ppt=None&ppn=None&ssid=z0iqa3l7680000001688492116854&qH=c9a1fdac6e082dd8\n",
      "https://www.flipkart.com/lg-80-cm-32-inch-hd-ready-led-smart-webos-tv/p/itm6207e6d122567?pid=TVSFTW4CSRW8PGDQ&lid=LSTTVSFTW4CSRW8PGDQSZQIO6&marketplace=FLIPKART&q=tv&store=ckf%2Fczl&spotlightTagId=FkPickId_ckf%2Fczl&srno=s_1_3&otracker=search&fm=organic&iid=2a99a210-7140-42ce-b5e2-bd61ace5ad56.TVSFTW4CSRW8PGDQ.SEARCH&ppt=None&ppn=None&ssid=z0iqa3l7680000001688492116854&qH=c9a1fdac6e082dd8\n",
      "https://www.flipkart.com/infinix-y1-80-cm-32-inch-hd-ready-led-smart-linux-tv-wall-mount/p/itme5476ca89d1b0?pid=TVSGFGF34GMTB9KF&lid=LSTTVSGFGF34GMTB9KFNOEUDG&marketplace=FLIPKART&q=tv&store=ckf%2Fczl&spotlightTagId=BestsellerId_ckf%2Fczl&srno=s_1_4&otracker=search&fm=organic&iid=2a99a210-7140-42ce-b5e2-bd61ace5ad56.TVSGFGF34GMTB9KF.SEARCH&ppt=None&ppn=None&ssid=z0iqa3l7680000001688492116854&qH=c9a1fdac6e082dd8\n",
      "https://www.flipkart.com/iffalcon-tcl-80-04-cm-32-inch-hd-ready-led-smart-android-tv-bezel-less-design-24w-speaker/p/itm82d22461c3761?pid=TVSGKNZGHCZRNEDW&lid=LSTTVSGKNZGHCZRNEDWPKDF2X&marketplace=FLIPKART&q=tv&store=ckf%2Fczl&srno=s_1_5&otracker=search&fm=organic&iid=2a99a210-7140-42ce-b5e2-bd61ace5ad56.TVSGKNZGHCZRNEDW.SEARCH&ppt=None&ppn=None&ssid=z0iqa3l7680000001688492116854&qH=c9a1fdac6e082dd8\n",
      "https://www.flipkart.com/realme-80-cm-32-inch-hd-ready-led-smart-android-tv/p/itm56d1cf16da75b?pid=TVSFRTJQTZVKTF6Y&lid=LSTTVSFRTJQTZVKTF6YTYQNP6&marketplace=FLIPKART&q=tv&store=ckf%2Fczl&srno=s_1_6&otracker=search&fm=organic&iid=2a99a210-7140-42ce-b5e2-bd61ace5ad56.TVSFRTJQTZVKTF6Y.SEARCH&ppt=None&ppn=None&ssid=z0iqa3l7680000001688492116854&qH=c9a1fdac6e082dd8\n",
      "https://www.flipkart.com/realme-108-cm-43-inch-full-hd-led-smart-android-tv-11-2022-model/p/itmef2cbebb563ff?pid=TVSGDC5CFDS55XDC&lid=LSTTVSGDC5CFDS55XDCP0DMJQ&marketplace=FLIPKART&q=tv&store=ckf%2Fczl&srno=s_1_7&otracker=search&fm=organic&iid=2a99a210-7140-42ce-b5e2-bd61ace5ad56.TVSGDC5CFDS55XDC.SEARCH&ppt=None&ppn=None&ssid=z0iqa3l7680000001688492116854&qH=c9a1fdac6e082dd8\n",
      "https://www.flipkart.com/beethosol-80-cm-32-inch-hd-ready-led-tv/p/itmbc44ca58989cf?pid=TVSGG79MDS8CXWGD&lid=LSTTVSGG79MDS8CXWGD8P6NUB&marketplace=FLIPKART&q=tv&store=ckf%2Fczl&srno=s_1_8&otracker=search&fm=organic&iid=en_ftHRlvIBfpK0rXu1vsbzja_DbjO_hhFFabGxPuq4w_Xl3SsQ-uMLOSWkT7yvF-4f1-By1ZDYjfVklU4uoKQ5nw%3D%3D&ppt=None&ppn=None&ssid=z0iqa3l7680000001688492116854&qH=c9a1fdac6e082dd8\n",
      "https://www.flipkart.com/samsung-80-cm-32-inch-hd-ready-led-smart-tizen-tv-bezel-free-design/p/itm3c07ddc2dd25d?pid=TVSGHY2UZA9YHWQN&lid=LSTTVSGHY2UZA9YHWQNCPAW6M&marketplace=FLIPKART&q=tv&store=ckf%2Fczl&spotlightTagId=BestsellerId_ckf%2Fczl&srno=s_1_9&otracker=search&fm=organic&iid=2a99a210-7140-42ce-b5e2-bd61ace5ad56.TVSGHY2UZA9YHWQN.SEARCH&ppt=None&ppn=None&ssid=z0iqa3l7680000001688492116854&qH=c9a1fdac6e082dd8\n",
      "https://www.flipkart.com/mi-5a-80-cm-32-inch-hd-ready-led-smart-android-tv-dolby-audio-2022-model/p/itm98501ffa297ba?pid=TVSGD5CS2SDUUZGN&lid=LSTTVSGD5CS2SDUUZGNPVJDFV&marketplace=FLIPKART&q=tv&store=ckf%2Fczl&spotlightTagId=BestsellerId_ckf%2Fczl&srno=s_1_10&otracker=search&fm=organic&iid=2a99a210-7140-42ce-b5e2-bd61ace5ad56.TVSGD5CS2SDUUZGN.SEARCH&ppt=None&ppn=None&ssid=z0iqa3l7680000001688492116854&qH=c9a1fdac6e082dd8\n",
      "https://www.flipkart.com/dyanora-60-cm-24-inch-hd-ready-led-tv-noise-reduction-cinema-zoom-powerful-audio-box-speakers/p/itmbb88d38107ee7?pid=TVSG4YVQY4ZYQZWY&lid=LSTTVSG4YVQY4ZYQZWYTZLXFE&marketplace=FLIPKART&q=tv&store=ckf%2Fczl&srno=s_1_11&otracker=search&fm=organic&iid=en_ftHRlvIBfpK0rXu1vsbzja_DbjO_hhFFabGxPuq4w_Wi7TcHYiJAW-oCF-fL4xyiP7N7xk5kbxTav62HVY6cyQ%3D%3D&ppt=None&ppn=None&ssid=z0iqa3l7680000001688492116854&qH=c9a1fdac6e082dd8\n",
      "https://www.flipkart.com/marq-flipkart-80-cm-32-inch-hd-ready-led-tv/p/itmf2fda41421021?pid=TVSGZGGPZ5JKMGYE&lid=LSTTVSGZGGPZ5JKMGYEJXZXXO&marketplace=FLIPKART&q=tv&store=ckf%2Fczl&srno=s_1_12&otracker=search&fm=organic&iid=en_ftHRlvIBfpK0rXu1vsbzja_DbjO_hhFFabGxPuq4w_UBzhGWsKwOfiObeLKQkWAMFLmCmsYGxXrERLGEvTaZXw%3D%3D&ppt=None&ppn=None&ssid=z0iqa3l7680000001688492116854&qH=c9a1fdac6e082dd8\n",
      "https://www.flipkart.com/oneplus-y1s-80-cm-32-inch-hd-ready-led-smart-android-tv-11-bezel-less-frame/p/itm0a39edd7df236?pid=TVSGAXEVXNG9YBUM&lid=LSTTVSGAXEVXNG9YBUMNFXTWO&marketplace=FLIPKART&q=tv&store=ckf%2Fczl&srno=s_1_13&otracker=search&fm=organic&iid=2a99a210-7140-42ce-b5e2-bd61ace5ad56.TVSGAXEVXNG9YBUM.SEARCH&ppt=None&ppn=None&ssid=z0iqa3l7680000001688492116854&qH=c9a1fdac6e082dd8\n",
      "https://www.flipkart.com/infinix-x3in-80-cm-32-cm-hd-ready-led-smart-android-tv/p/itmc3e5d996d0aa3?pid=TVSGZZY4MHBSP9VD&lid=LSTTVSGZZY4MHBSP9VDVQ1L7Z&marketplace=FLIPKART&q=tv&store=ckf%2Fczl&srno=s_1_14&otracker=search&fm=organic&iid=2a99a210-7140-42ce-b5e2-bd61ace5ad56.TVSGZZY4MHBSP9VD.SEARCH&ppt=None&ppn=None&ssid=z0iqa3l7680000001688492116854&qH=c9a1fdac6e082dd8\n",
      "https://www.flipkart.com/realme-108-cm-43-inch-ultra-hd-4k-led-smart-android-tv-handsfree-voice-search-dolby-vision-atmos/p/itm961db6696ab0a?pid=TVSG2B4AKVHCUJ8P&lid=LSTTVSG2B4AKVHCUJ8PS6UETB&marketplace=FLIPKART&q=tv&store=ckf%2Fczl&srno=s_1_15&otracker=search&fm=organic&iid=2a99a210-7140-42ce-b5e2-bd61ace5ad56.TVSG2B4AKVHCUJ8P.SEARCH&ppt=None&ppn=None&ssid=z0iqa3l7680000001688492116854&qH=c9a1fdac6e082dd8\n",
      "https://www.flipkart.com/thomson-alpha-80-cm-32-inch-hd-ready-led-smart-linux-tv-30-w-sound-output-bezel-less-design/p/itm0e90bcdadb9c9?pid=TVSGEMQV7R4CMTGA&lid=LSTTVSGEMQV7R4CMTGAODWDFI&marketplace=FLIPKART&q=tv&store=ckf%2Fczl&srno=s_1_16&otracker=search&fm=organic&iid=2a99a210-7140-42ce-b5e2-bd61ace5ad56.TVSGEMQV7R4CMTGA.SEARCH&ppt=None&ppn=None&ssid=z0iqa3l7680000001688492116854&qH=c9a1fdac6e082dd8\n",
      "https://www.flipkart.com/sansui-102-cm-40-inch-full-hd-led-smart-android-tv-11-dolby-audio-midnight-black/p/itmcd169ac4d36ef?pid=TVSFWFSHK5RJX6DZ&lid=LSTTVSFWFSHK5RJX6DZKUND73&marketplace=FLIPKART&q=tv&store=ckf%2Fczl&srno=s_1_17&otracker=search&fm=organic&iid=en_ftHRlvIBfpK0rXu1vsbzja_DbjO_hhFFabGxPuq4w_UeroszE-y35BTk6Gk4iBrJwn7mJpNuQ48E0wUIwRh56w%3D%3D&ppt=None&ppn=None&ssid=z0iqa3l7680000001688492116854&qH=c9a1fdac6e082dd8\n",
      "https://www.flipkart.com/dyanora-60-cm-24-inch-hd-ready-led-smart-android-based-tv-noise-reduction-9-0-powerful-audio-box-speakers/p/itm87c4cdcec7909?pid=TVSGFBDG37NBZQTA&lid=LSTTVSGFBDG37NBZQTABPFAWI&marketplace=FLIPKART&q=tv&store=ckf%2Fczl&srno=s_1_18&otracker=search&fm=organic&iid=en_ftHRlvIBfpK0rXu1vsbzja_DbjO_hhFFabGxPuq4w_W8mnr_fM4kLzrF8KokK2MFGLVObOSjQCPBC4ry_QCDjg%3D%3D&ppt=None&ppn=None&ssid=z0iqa3l7680000001688492116854&qH=c9a1fdac6e082dd8\n",
      "https://www.flipkart.com/tcl-80-04-cm-32-inch-hd-ready-led-smart-android-tv-bezel-less-extra-brightness/p/itm1f6df5a8ab267?pid=TVSGKNZGMFPRKQJZ&lid=LSTTVSGKNZGMFPRKQJZS5GUN6&marketplace=FLIPKART&q=tv&store=ckf%2Fczl&srno=s_1_19&otracker=search&fm=organic&iid=2a99a210-7140-42ce-b5e2-bd61ace5ad56.TVSGKNZGMFPRKQJZ.SEARCH&ppt=None&ppn=None&ssid=z0iqa3l7680000001688492116854&qH=c9a1fdac6e082dd8\n",
      "https://www.flipkart.com/realme-100-3-cm-40-inch-full-hd-led-smart-android-tv-11-2022-model/p/itmfbee9155488c1?pid=TVSGDC5CN7XP3KNE&lid=LSTTVSGDC5CN7XP3KNEIEAWVG&marketplace=FLIPKART&q=tv&store=ckf%2Fczl&srno=s_1_20&otracker=search&fm=organic&iid=2a99a210-7140-42ce-b5e2-bd61ace5ad56.TVSGDC5CN7XP3KNE.SEARCH&ppt=None&ppn=None&ssid=z0iqa3l7680000001688492116854&qH=c9a1fdac6e082dd8\n",
      "https://www.flipkart.com/beethosol-60-cm-24-inch-hd-ready-led-tv/p/itm90f7facf698f4?pid=TVSGG79MWCZAYABV&lid=LSTTVSGG79MWCZAYABVBIZVS1&marketplace=FLIPKART&q=tv&store=ckf%2Fczl&srno=s_1_21&otracker=search&fm=organic&iid=en_ftHRlvIBfpK0rXu1vsbzja_DbjO_hhFFabGxPuq4w_WhXxq37XYABCoejZZfCVamdc2oP4u-K50AU7XU-WDT3w%3D%3D&ppt=None&ppn=None&ssid=z0iqa3l7680000001688492116854&qH=c9a1fdac6e082dd8\n",
      "https://www.flipkart.com/xelectron-60-cm-24-inch-hd-ready-led-tv/p/itm823b3a1796b39?pid=TVSGZVG5GZTFFHMU&lid=LSTTVSGZVG5GZTFFHMUOKTFAM&marketplace=FLIPKART&q=tv&store=ckf%2Fczl&srno=s_1_22&otracker=search&fm=organic&iid=en_ftHRlvIBfpK0rXu1vsbzja_DbjO_hhFFabGxPuq4w_UGqH2dzKVVUADmyPMkrrjLtg30zq4JmmufmBFtbmxx4g%3D%3D&ppt=None&ppn=None&ssid=z0iqa3l7680000001688492116854&qH=c9a1fdac6e082dd8\n",
      "https://www.flipkart.com/lg-uq7500-108-cm-43-inch-ultra-hd-4k-led-smart-webos-tv-2022/p/itm39fd5782b27ed?pid=TVSGFGYS5TJRUJNV&lid=LSTTVSGFGYS5TJRUJNVLCTYNB&marketplace=FLIPKART&q=tv&store=ckf%2Fczl&srno=s_1_23&otracker=search&fm=organic&iid=2a99a210-7140-42ce-b5e2-bd61ace5ad56.TVSGFGYS5TJRUJNV.SEARCH&ppt=None&ppn=None&ssid=z0iqa3l7680000001688492116854&qH=c9a1fdac6e082dd8\n",
      "https://www.flipkart.com/oneplus-y1s-108-cm-43-inch-full-hd-led-smart-android-tv-11-bezel-less-frame/p/itm178846d2e1567?pid=TVSGAXEVSNT3HBQA&lid=LSTTVSGAXEVSNT3HBQADHUARX&marketplace=FLIPKART&q=tv&store=ckf%2Fczl&srno=s_1_24&otracker=search&fm=organic&iid=2a99a210-7140-42ce-b5e2-bd61ace5ad56.TVSGAXEVSNT3HBQA.SEARCH&ppt=None&ppn=None&ssid=z0iqa3l7680000001688492116854&qH=c9a1fdac6e082dd8\n"
     ]
    },
    {
     "ename": "AttributeError",
     "evalue": "'NoneType' object has no attribute 'a'",
     "output_type": "error",
     "traceback": [
      "\u001b[0;31m---------------------------------------------------------------------------\u001b[0m",
      "\u001b[0;31mAttributeError\u001b[0m                            Traceback (most recent call last)",
      "Cell \u001b[0;32mIn[76], line 2\u001b[0m\n\u001b[1;32m      1\u001b[0m \u001b[38;5;28;01mfor\u001b[39;00m i \u001b[38;5;129;01min\u001b[39;00m bigbox:\n\u001b[0;32m----> 2\u001b[0m     \u001b[38;5;28mprint\u001b[39m(\u001b[38;5;124m'\u001b[39m\u001b[38;5;124mhttps://www.flipkart.com\u001b[39m\u001b[38;5;124m'\u001b[39m\u001b[38;5;241m+\u001b[39m \u001b[43mi\u001b[49m\u001b[38;5;241;43m.\u001b[39;49m\u001b[43mdiv\u001b[49m\u001b[38;5;241;43m.\u001b[39;49m\u001b[43mdiv\u001b[49m\u001b[38;5;241;43m.\u001b[39;49m\u001b[43mdiv\u001b[49m\u001b[38;5;241;43m.\u001b[39;49m\u001b[43ma\u001b[49m[\u001b[38;5;124m'\u001b[39m\u001b[38;5;124mhref\u001b[39m\u001b[38;5;124m'\u001b[39m])\n",
      "\u001b[0;31mAttributeError\u001b[0m: 'NoneType' object has no attribute 'a'"
     ]
    }
   ],
   "source": [
    "for i in bigbox:\n",
    "    print('https://www.flipkart.com'+ i.div.div.div.a['href'])"
   ]
  },
  {
   "cell_type": "code",
   "execution_count": 77,
   "id": "f3567640-ab9f-4b18-acd0-438a2ba166eb",
   "metadata": {},
   "outputs": [
    {
     "data": {
      "text/plain": [
       "'https://www.flipkart.com/dyanora-60-cm-24-inch-hd-ready-led-tv-noise-reduction-cinema-zoom-powerful-audio-box-speakers/p/itmbb88d38107ee7?pid=TVSG4YVQY4ZYQZWY&lid=LSTTVSG4YVQY4ZYQZWYTZLXFE&marketplace=FLIPKART&q=tv&store=ckf%2Fczl&srno=s_1_11&otracker=search&fm=organic&iid=en_ftHRlvIBfpK0rXu1vsbzja_DbjO_hhFFabGxPuq4w_Wi7TcHYiJAW-oCF-fL4xyiP7N7xk5kbxTav62HVY6cyQ%3D%3D&ppt=None&ppn=None&ssid=z0iqa3l7680000001688492116854&qH=c9a1fdac6e082dd8'"
      ]
     },
     "execution_count": 77,
     "metadata": {},
     "output_type": "execute_result"
    }
   ],
   "source": [
    "product_link"
   ]
  },
  {
   "cell_type": "code",
   "execution_count": 79,
   "id": "e4d80e8e-3dc5-46bd-8aad-eb035f0c452a",
   "metadata": {},
   "outputs": [],
   "source": [
    "product_request = requests.get(product_link)"
   ]
  },
  {
   "cell_type": "code",
   "execution_count": 81,
   "id": "386cc5fe-c76e-4e0d-b06d-1db0a9658172",
   "metadata": {},
   "outputs": [],
   "source": [
    "product_html = bs(product_request.text,'html.parser')"
   ]
  },
  {
   "cell_type": "code",
   "execution_count": 83,
   "id": "b0a8b5b6-8c81-420c-9d7d-3c2687588642",
   "metadata": {},
   "outputs": [],
   "source": [
    "comment_box = product_html.find_all('div',{'class':\"_16PBlm\"})"
   ]
  },
  {
   "cell_type": "code",
   "execution_count": 98,
   "id": "a94bfafa-06fe-43d5-80a1-e9eea2af0e0a",
   "metadata": {},
   "outputs": [
    {
     "data": {
      "text/plain": [
       "'Ganesh Anandan Chettiyar'"
      ]
     },
     "execution_count": 98,
     "metadata": {},
     "output_type": "execute_result"
    }
   ],
   "source": [
    "comment_box[0].div.div.find_all('p',{'class' : '_2sc7ZR _2V5EHH'})[0].text"
   ]
  },
  {
   "cell_type": "code",
   "execution_count": 92,
   "id": "9c621f38-8223-4a9a-bb22-132371926b32",
   "metadata": {},
   "outputs": [
    {
     "data": {
      "text/plain": [
       "11"
      ]
     },
     "execution_count": 92,
     "metadata": {},
     "output_type": "execute_result"
    }
   ],
   "source": [
    "len(comment_box)"
   ]
  },
  {
   "cell_type": "code",
   "execution_count": 100,
   "id": "4f6f1a85-8e26-4e4c-b94e-2e30d1a5960e",
   "metadata": {},
   "outputs": [
    {
     "name": "stdout",
     "output_type": "stream",
     "text": [
      "Ganesh Anandan Chettiyar\n",
      "Flipkart Customer\n",
      "Flipkart Customer\n",
      "Meenakshi J\n",
      "Ganesh NV\n",
      "Sunil Kumar soni\n",
      "Tanmoy  Das\n",
      "Flipkart Customer\n",
      "Flipkart Customer\n",
      "Wasim Ansari\n"
     ]
    },
    {
     "ename": "AttributeError",
     "evalue": "'NoneType' object has no attribute 'div'",
     "output_type": "error",
     "traceback": [
      "\u001b[0;31m---------------------------------------------------------------------------\u001b[0m",
      "\u001b[0;31mAttributeError\u001b[0m                            Traceback (most recent call last)",
      "Cell \u001b[0;32mIn[100], line 2\u001b[0m\n\u001b[1;32m      1\u001b[0m \u001b[38;5;28;01mfor\u001b[39;00m i \u001b[38;5;129;01min\u001b[39;00m comment_box:\n\u001b[0;32m----> 2\u001b[0m     \u001b[38;5;28mprint\u001b[39m(\u001b[43mi\u001b[49m\u001b[38;5;241;43m.\u001b[39;49m\u001b[43mdiv\u001b[49m\u001b[38;5;241;43m.\u001b[39;49m\u001b[43mdiv\u001b[49m\u001b[38;5;241m.\u001b[39mfind_all(\u001b[38;5;124m'\u001b[39m\u001b[38;5;124mp\u001b[39m\u001b[38;5;124m'\u001b[39m,{\u001b[38;5;124m'\u001b[39m\u001b[38;5;124mclass\u001b[39m\u001b[38;5;124m'\u001b[39m : \u001b[38;5;124m'\u001b[39m\u001b[38;5;124m_2sc7ZR _2V5EHH\u001b[39m\u001b[38;5;124m'\u001b[39m})[\u001b[38;5;241m0\u001b[39m]\u001b[38;5;241m.\u001b[39mtext)\n",
      "\u001b[0;31mAttributeError\u001b[0m: 'NoneType' object has no attribute 'div'"
     ]
    }
   ],
   "source": [
    "for i in comment_box:\n",
    "    print(i.div.div.find_all('p',{'class' : '_2sc7ZR _2V5EHH'})[0].text)"
   ]
  },
  {
   "cell_type": "code",
   "execution_count": 114,
   "id": "d552a21d-99d0-496e-ad88-8d4e41312eef",
   "metadata": {},
   "outputs": [
    {
     "data": {
      "text/plain": [
       "'5'"
      ]
     },
     "execution_count": 114,
     "metadata": {},
     "output_type": "execute_result"
    }
   ],
   "source": [
    "comment_box[0].div.div.div.div.text"
   ]
  },
  {
   "cell_type": "code",
   "execution_count": 115,
   "id": "d43ffefe-48b5-4aed-a2e3-984fc14444b3",
   "metadata": {},
   "outputs": [
    {
     "name": "stdout",
     "output_type": "stream",
     "text": [
      "5\n",
      "5\n",
      "5\n",
      "4\n",
      "1\n",
      "5\n",
      "5\n",
      "5\n",
      "4\n",
      "3\n"
     ]
    },
    {
     "ename": "AttributeError",
     "evalue": "'NoneType' object has no attribute 'div'",
     "output_type": "error",
     "traceback": [
      "\u001b[0;31m---------------------------------------------------------------------------\u001b[0m",
      "\u001b[0;31mAttributeError\u001b[0m                            Traceback (most recent call last)",
      "Cell \u001b[0;32mIn[115], line 2\u001b[0m\n\u001b[1;32m      1\u001b[0m \u001b[38;5;28;01mfor\u001b[39;00m i \u001b[38;5;129;01min\u001b[39;00m comment_box:\n\u001b[0;32m----> 2\u001b[0m     \u001b[38;5;28mprint\u001b[39m(\u001b[43mi\u001b[49m\u001b[38;5;241;43m.\u001b[39;49m\u001b[43mdiv\u001b[49m\u001b[38;5;241;43m.\u001b[39;49m\u001b[43mdiv\u001b[49m\u001b[38;5;241m.\u001b[39mdiv\u001b[38;5;241m.\u001b[39mdiv\u001b[38;5;241m.\u001b[39mtext)\n",
      "\u001b[0;31mAttributeError\u001b[0m: 'NoneType' object has no attribute 'div'"
     ]
    }
   ],
   "source": [
    "for i in comment_box:\n",
    "    print(i.div.div.div.div.text)"
   ]
  },
  {
   "cell_type": "code",
   "execution_count": 122,
   "id": "8b1f5022-30ed-4071-ad69-ae213728cebb",
   "metadata": {},
   "outputs": [
    {
     "data": {
      "text/plain": [
       "'Mind-blowing purchase'"
      ]
     },
     "execution_count": 122,
     "metadata": {},
     "output_type": "execute_result"
    }
   ],
   "source": [
    "comment_box[0].div.div.div.find_all('p',{'class' : '_2-N8zT'})[0].text"
   ]
  },
  {
   "cell_type": "code",
   "execution_count": 123,
   "id": "2e66c588-e675-46f6-aad2-e410f4beebb7",
   "metadata": {},
   "outputs": [
    {
     "name": "stdout",
     "output_type": "stream",
     "text": [
      "Mind-blowing purchase\n",
      "Must buy!\n",
      "Great product\n",
      "Delightful\n",
      "Simply awesome\n",
      "Wonderful\n",
      "Mind-blowing purchase\n",
      "Terrific\n",
      "Delightful\n",
      "Decent product\n"
     ]
    },
    {
     "ename": "AttributeError",
     "evalue": "'NoneType' object has no attribute 'div'",
     "output_type": "error",
     "traceback": [
      "\u001b[0;31m---------------------------------------------------------------------------\u001b[0m",
      "\u001b[0;31mAttributeError\u001b[0m                            Traceback (most recent call last)",
      "Cell \u001b[0;32mIn[123], line 2\u001b[0m\n\u001b[1;32m      1\u001b[0m \u001b[38;5;28;01mfor\u001b[39;00m i \u001b[38;5;129;01min\u001b[39;00m comment_box:\n\u001b[0;32m----> 2\u001b[0m     \u001b[38;5;28mprint\u001b[39m(\u001b[43mi\u001b[49m\u001b[38;5;241;43m.\u001b[39;49m\u001b[43mdiv\u001b[49m\u001b[38;5;241;43m.\u001b[39;49m\u001b[43mdiv\u001b[49m\u001b[38;5;241m.\u001b[39mdiv\u001b[38;5;241m.\u001b[39mfind_all(\u001b[38;5;124m'\u001b[39m\u001b[38;5;124mp\u001b[39m\u001b[38;5;124m'\u001b[39m,{\u001b[38;5;124m'\u001b[39m\u001b[38;5;124mclass\u001b[39m\u001b[38;5;124m'\u001b[39m : \u001b[38;5;124m'\u001b[39m\u001b[38;5;124m_2-N8zT\u001b[39m\u001b[38;5;124m'\u001b[39m})[\u001b[38;5;241m0\u001b[39m]\u001b[38;5;241m.\u001b[39mtext)\n",
      "\u001b[0;31mAttributeError\u001b[0m: 'NoneType' object has no attribute 'div'"
     ]
    }
   ],
   "source": [
    "for i in comment_box:\n",
    "    print(i.div.div.div.find_all('p',{'class' : '_2-N8zT'})[0].text)"
   ]
  },
  {
   "cell_type": "code",
   "execution_count": 137,
   "id": "77c0d7fe-3bb1-4477-9b9b-c8ea6668b32d",
   "metadata": {},
   "outputs": [
    {
     "data": {
      "text/plain": [
       "'Worth for money. Reasonable price for smart tv picture quality very goodREAD MORE'"
      ]
     },
     "execution_count": 137,
     "metadata": {},
     "output_type": "execute_result"
    }
   ],
   "source": [
    "comment_box[0].div.div.find_all('div',{'class':\"\"})[0].text"
   ]
  },
  {
   "cell_type": "code",
   "execution_count": 138,
   "id": "b3d939e7-f2bb-4c42-be8f-04558be9ce8b",
   "metadata": {},
   "outputs": [
    {
     "name": "stdout",
     "output_type": "stream",
     "text": [
      "Worth for money. Reasonable price for smart tv picture quality very goodREAD MORE\n",
      "T. V is Good👍 and Great i suggest everyone to buy this masterpiece sound quality is like stereoThanks developer for❤ making this great 👏😊 innovationREAD MORE\n",
      "Thank you so much online Flipkart for your gift in my birthday date. I'm so happy for this product thank you dyanora  company 💖READ MORE\n",
      "Product is nice in this price, wall mount stand wasn't available in the TV 📺 case... On the hole good enough... Thank you flipkart 😂😂😂READ MORE\n",
      "The installation was very professional. Jeeves have been doing a very great job by having a set of well trained professionals. This is my third experience with Jeeves.Mr Imtiyaz was very professional and completed the work in a very smooth and hassle free manner.Thanks to Mr Imtiyaz and team Jeeves!READ MORE\n",
      "Picture quality and sound quality very goodREAD MORE\n",
      "Value for moneyREAD MORE\n",
      "Nice 👍🙂 tvREAD MORE\n",
      "Very good product I like itREAD MORE\n",
      "Nice Product 👍READ MORE\n"
     ]
    },
    {
     "ename": "AttributeError",
     "evalue": "'NoneType' object has no attribute 'div'",
     "output_type": "error",
     "traceback": [
      "\u001b[0;31m---------------------------------------------------------------------------\u001b[0m",
      "\u001b[0;31mAttributeError\u001b[0m                            Traceback (most recent call last)",
      "Cell \u001b[0;32mIn[138], line 2\u001b[0m\n\u001b[1;32m      1\u001b[0m \u001b[38;5;28;01mfor\u001b[39;00m i \u001b[38;5;129;01min\u001b[39;00m comment_box:\n\u001b[0;32m----> 2\u001b[0m     \u001b[38;5;28mprint\u001b[39m(\u001b[43mi\u001b[49m\u001b[38;5;241;43m.\u001b[39;49m\u001b[43mdiv\u001b[49m\u001b[38;5;241;43m.\u001b[39;49m\u001b[43mdiv\u001b[49m\u001b[38;5;241m.\u001b[39mfind_all(\u001b[38;5;124m'\u001b[39m\u001b[38;5;124mdiv\u001b[39m\u001b[38;5;124m'\u001b[39m,{\u001b[38;5;124m'\u001b[39m\u001b[38;5;124mclass\u001b[39m\u001b[38;5;124m'\u001b[39m:\u001b[38;5;124m\"\u001b[39m\u001b[38;5;124m\"\u001b[39m})[\u001b[38;5;241m0\u001b[39m]\u001b[38;5;241m.\u001b[39mtext)\n",
      "\u001b[0;31mAttributeError\u001b[0m: 'NoneType' object has no attribute 'div'"
     ]
    }
   ],
   "source": [
    "for i in comment_box:\n",
    "    print(i.div.div.find_all('div',{'class':\"\"})[0].text)"
   ]
  },
  {
   "cell_type": "code",
   "execution_count": 143,
   "id": "70ae49c3-3388-44d5-a032-a11602810e63",
   "metadata": {},
   "outputs": [
    {
     "data": {
      "text/plain": [
       "'11 months ago'"
      ]
     },
     "execution_count": 143,
     "metadata": {},
     "output_type": "execute_result"
    }
   ],
   "source": [
    "comment_box[0].div.div.find_all('p',{'class':'_2sc7ZR'})[1].text"
   ]
  },
  {
   "cell_type": "code",
   "execution_count": 144,
   "id": "68027227-f4f6-4a77-9c22-b4b72b086956",
   "metadata": {},
   "outputs": [
    {
     "name": "stdout",
     "output_type": "stream",
     "text": [
      "11 months ago\n",
      "11 months ago\n",
      "6 months ago\n",
      "4 months ago\n",
      "3 months ago\n",
      "10 months ago\n",
      "8 months ago\n",
      "3 months ago\n",
      "8 months ago\n",
      "9 months ago\n"
     ]
    },
    {
     "ename": "AttributeError",
     "evalue": "'NoneType' object has no attribute 'div'",
     "output_type": "error",
     "traceback": [
      "\u001b[0;31m---------------------------------------------------------------------------\u001b[0m",
      "\u001b[0;31mAttributeError\u001b[0m                            Traceback (most recent call last)",
      "Cell \u001b[0;32mIn[144], line 2\u001b[0m\n\u001b[1;32m      1\u001b[0m \u001b[38;5;28;01mfor\u001b[39;00m i \u001b[38;5;129;01min\u001b[39;00m comment_box:\n\u001b[0;32m----> 2\u001b[0m     \u001b[38;5;28mprint\u001b[39m(\u001b[43mi\u001b[49m\u001b[38;5;241;43m.\u001b[39;49m\u001b[43mdiv\u001b[49m\u001b[38;5;241;43m.\u001b[39;49m\u001b[43mdiv\u001b[49m\u001b[38;5;241m.\u001b[39mfind_all(\u001b[38;5;124m'\u001b[39m\u001b[38;5;124mp\u001b[39m\u001b[38;5;124m'\u001b[39m,{\u001b[38;5;124m'\u001b[39m\u001b[38;5;124mclass\u001b[39m\u001b[38;5;124m'\u001b[39m:\u001b[38;5;124m'\u001b[39m\u001b[38;5;124m_2sc7ZR\u001b[39m\u001b[38;5;124m'\u001b[39m})[\u001b[38;5;241m1\u001b[39m]\u001b[38;5;241m.\u001b[39mtext)\n",
      "\u001b[0;31mAttributeError\u001b[0m: 'NoneType' object has no attribute 'div'"
     ]
    }
   ],
   "source": [
    "for i in comment_box:\n",
    "    print(i.div.div.find_all('p',{'class':'_2sc7ZR'})[1].text)"
   ]
  },
  {
   "cell_type": "code",
   "execution_count": 164,
   "id": "51068b9c-29fc-414a-ab65-dc56f35a5c3b",
   "metadata": {},
   "outputs": [],
   "source": [
    "comment_box[0].div.div.div.div.div"
   ]
  },
  {
   "cell_type": "code",
   "execution_count": null,
   "id": "5010d233-97a5-427d-bb08-81000566bd4f",
   "metadata": {},
   "outputs": [],
   "source": []
  }
 ],
 "metadata": {
  "kernelspec": {
   "display_name": "Python 3 (ipykernel)",
   "language": "python",
   "name": "python3"
  },
  "language_info": {
   "codemirror_mode": {
    "name": "ipython",
    "version": 3
   },
   "file_extension": ".py",
   "mimetype": "text/x-python",
   "name": "python",
   "nbconvert_exporter": "python",
   "pygments_lexer": "ipython3",
   "version": "3.10.8"
  }
 },
 "nbformat": 4,
 "nbformat_minor": 5
}
