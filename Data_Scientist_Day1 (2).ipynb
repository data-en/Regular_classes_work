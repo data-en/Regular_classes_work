{
 "cells": [
  {
   "cell_type": "markdown",
   "metadata": {
    "colab_type": "text",
    "id": "view-in-github"
   },
   "source": [
    "<a href=\"https://colab.research.google.com/github/data-en/Data_Science_Masters_2.0/blob/main/Data_Scientist_Day1.ipynb\" target=\"_parent\"><img src=\"https://colab.research.google.com/assets/colab-badge.svg\" alt=\"Open In Colab\"/></a>"
   ]
  },
  {
   "cell_type": "markdown",
   "metadata": {
    "id": "ZR9tTqbFfc3G"
   },
   "source": [
    "# Use of Print Statement"
   ]
  },
  {
   "cell_type": "code",
   "execution_count": null,
   "metadata": {
    "id": "INs7EY1Ud5iG"
   },
   "outputs": [],
   "source": [
    "name = \"Yashswi Gandhak\"\n",
    "age = 20"
   ]
  },
  {
   "cell_type": "code",
   "execution_count": null,
   "metadata": {
    "colab": {
     "base_uri": "https://localhost:8080/"
    },
    "id": "QNW-9Jz5eCkl",
    "outputId": "357af94f-818e-413a-d89c-9ad9f6b34c6c"
   },
   "outputs": [
    {
     "name": "stdout",
     "output_type": "stream",
     "text": [
      "My name is  Yashswi Gandhak and My age is  20\n"
     ]
    }
   ],
   "source": [
    "# Simple print() statement\n",
    "print(\"My name is \",name, \"and My age is \",age)"
   ]
  },
  {
   "cell_type": "code",
   "execution_count": null,
   "metadata": {
    "colab": {
     "base_uri": "https://localhost:8080/"
    },
    "id": "pid3W4gxeQkR",
    "outputId": "98356dec-8b10-428c-ec0b-057bae4f119d"
   },
   "outputs": [
    {
     "name": "stdout",
     "output_type": "stream",
     "text": [
      "My name is Yashswi Gandhak and My age is 20 \n"
     ]
    }
   ],
   "source": [
    "# Formatted string\n",
    "print(f\"My name is {name} and My age is {age} \")"
   ]
  },
  {
   "cell_type": "code",
   "execution_count": null,
   "metadata": {
    "colab": {
     "base_uri": "https://localhost:8080/"
    },
    "id": "n5dNP4tzeoM3",
    "outputId": "48a08e5a-6dc7-4a9d-d801-8f464c114f74"
   },
   "outputs": [
    {
     "name": "stdout",
     "output_type": "stream",
     "text": [
      "My name is Yashswi Gandhak and My age is 20 \n"
     ]
    }
   ],
   "source": [
    "# Use of format method\n",
    "print(\"My name is {} and My age is {} \".format(name,age))"
   ]
  },
  {
   "cell_type": "code",
   "execution_count": null,
   "metadata": {
    "colab": {
     "base_uri": "https://localhost:8080/"
    },
    "id": "OCLHcRUefAoH",
    "outputId": "5ba3064a-cf31-4f32-a582-297284052045"
   },
   "outputs": [
    {
     "name": "stdout",
     "output_type": "stream",
     "text": [
      "My name is Yashswi Gandhak and My age is 20 \n"
     ]
    }
   ],
   "source": [
    "# Use of format method\n",
    "print(\"My name is {my_name} and My age is {my_age} \".format(my_age=age,my_name =name))"
   ]
  },
  {
   "cell_type": "code",
   "execution_count": null,
   "metadata": {
    "colab": {
     "base_uri": "https://localhost:8080/"
    },
    "id": "WfOkh1kpfFVK",
    "outputId": "eae020f6-cc3a-4467-80e0-920e3c0c007d"
   },
   "outputs": [
    {
     "name": "stdout",
     "output_type": "stream",
     "text": [
      "Enter your age : 20\n",
      "You are young blood\n"
     ]
    }
   ],
   "source": [
    "age = int(input(\"Enter your age : \"))\n",
    "if age >= 18 and age <= 45:\n",
    "  print(\"You are young blood\")"
   ]
  },
  {
   "cell_type": "code",
   "execution_count": null,
   "metadata": {
    "colab": {
     "base_uri": "https://localhost:8080/"
    },
    "id": "PeaggA65TR-q",
    "outputId": "78f701de-f5f4-455e-987e-1bd7cbda9e97"
   },
   "outputs": [
    {
     "name": "stdout",
     "output_type": "stream",
     "text": [
      "Enter your age : 23\n",
      "You are young blood because your age is 23\n"
     ]
    }
   ],
   "source": [
    "age = int(input(\"Enter your age : \"))\n",
    "if age >= 18 and age <= 45:\n",
    "  print(\"You are young blood because your age is {}\".format(age))\n",
    "else :\n",
    "  print(\"Thanks for your help, we will let you know\")"
   ]
  },
  {
   "cell_type": "code",
   "execution_count": null,
   "metadata": {
    "colab": {
     "base_uri": "https://localhost:8080/"
    },
    "id": "wT9b8knKU8lB",
    "outputId": "4376d0e6-b7fb-48e7-decf-8798f1d5780b"
   },
   "outputs": [
    {
     "name": "stdout",
     "output_type": "stream",
     "text": [
      "Enter the product price : 1200\n",
      "You will get 10% discount and the discounted price is 1080.0\n"
     ]
    }
   ],
   "source": [
    "print(\"-----------------------------------------\")\n",
    "print(\"Welcome to billing counter\")\n",
    "print(\"-----------------------------------------\")\n",
    "price = int(input(\"Enter the product price : \"))\n",
    "if price > 1000:\n",
    "  discounted1 = price - (price*(20/100))\n",
    "  print(\"Wohoo ! You got 20% discount and the discounted price is {}\".format(discounted1))\n",
    "  print(\"Congradulations \")\n",
    "else :\n",
    "  discounted2 = price - (price*(30/100))\n",
    "  print(\"Wohoo! You got 30% discount and the discounted price is {}\".format(discounted2))"
   ]
  },
  {
   "cell_type": "code",
   "execution_count": null,
   "metadata": {
    "colab": {
     "base_uri": "https://localhost:8080/"
    },
    "id": "QATkSH1CWzca",
    "outputId": "c2b2c3ca-4e1c-472f-e164-c5507b356c57"
   },
   "outputs": [
    {
     "name": "stdout",
     "output_type": "stream",
     "text": [
      "List of product prices range and their discounts : \n",
      "{'>3000': '30 %\\n', '>2000 and <=3000': '20 %\\n', '>1000 and <=2000': '10%\\n'}\n",
      "Enter the price of product you chose : 2500\n",
      "Discounted price at 20 % of discount is 2000.0\n"
     ]
    }
   ],
   "source": [
    "print(\"List of product prices range and their discounts : \")\n",
    "print({'>3000': '30 %\\n',\n",
    "       '>2000 and <=3000': '20 %\\n',\n",
    "       '>1000 and <=2000': '10%\\n'})\n",
    "product_price = int(input(\"Enter the price of product you chose : \"))\n",
    "if product_price > 3000:\n",
    "  if product_price == 3999 :\n",
    "    print(\"Congratulations! You get a Goa Trip\")\n",
    "  print(\"Discounted price at 30% of discount is {}\".format(product_price*0.7))\n",
    "elif product_price >2000 and product_price <= 3000:\n",
    "  if product_price == 2999:\n",
    "    print(\"Congratulations! You get an additional surprise gift\")\n",
    "  print(\"Discounted price at 20 % of discount is {}\".format(product_price*0.8))\n",
    "elif product_price > 1000 and product_price <= 2000:\n",
    "  print(\"Discounted price at 10 % of discount is {}\".format(product_price*0.9))\n",
    "else :\n",
    "  print(\"Sorry ! Chosen product price is too low , we can not apply any discount on it. Please choose another product from above given range of prices.\")"
   ]
  },
  {
   "cell_type": "markdown",
   "metadata": {
    "id": "0SXgDYaY5wHQ"
   },
   "source": [
    "# Loops\n",
    "\n",
    "\n",
    "```\n",
    "1. While loop\n",
    "2. For loop\n",
    "3. Nested loops\n",
    "```\n",
    "\n"
   ]
  },
  {
   "cell_type": "markdown",
   "metadata": {
    "id": "dHXvwSyuGIjJ"
   },
   "source": [
    "# While loop\n",
    "\n",
    "> continuous iteration and the control will throw out of a loop once the condition becomes false, and it goes to the else block if included, otherwise when the condition is true it executes repeatedly.Indented block\n",
    "\n"
   ]
  },
  {
   "cell_type": "code",
   "execution_count": null,
   "metadata": {
    "colab": {
     "base_uri": "https://localhost:8080/"
    },
    "id": "5WsrkGxpw1SX",
    "outputId": "45d374e6-3da6-47c0-c3ea-272558d97e69"
   },
   "outputs": [
    {
     "name": "stdout",
     "output_type": "stream",
     "text": [
      "22\n",
      "23\n",
      "24\n",
      "25\n",
      "26\n",
      "27\n",
      "28\n",
      "29\n",
      "30\n",
      "31\n",
      "32\n",
      "33\n",
      "34\n",
      "35\n",
      "36\n",
      "37\n",
      "38\n",
      "39\n",
      "40\n",
      "41\n",
      "42\n",
      "43\n",
      "44\n",
      "45\n",
      "46\n",
      "47\n",
      "48\n",
      "49\n",
      "50\n",
      "51\n",
      "52\n",
      "53\n",
      "54\n",
      "55\n",
      "56\n",
      "57\n",
      "58\n",
      "59\n",
      "60\n",
      "61\n",
      "It's time for retirement because you have reached a limit of 61 as per the government rules\n"
     ]
    }
   ],
   "source": [
    "# While loop or While else loop\n",
    "joining_age = 21\n",
    "while joining_age <=60:\n",
    "  joining_age = joining_age + 1\n",
    "  print(joining_age)\n",
    "print(f\"It's time for retirement because you have reached a limit of {joining_age} as per the government rules\")\n"
   ]
  },
  {
   "cell_type": "code",
   "execution_count": null,
   "metadata": {
    "colab": {
     "base_uri": "https://localhost:8080/"
    },
    "id": "ArcS7mS_w1O9",
    "outputId": "056faf39-c239-4a00-9155-ae0dc6bd5099"
   },
   "outputs": [
    {
     "name": "stdout",
     "output_type": "stream",
     "text": [
      "It's time for retirement because you have reached a limit of 21 as per the government rules\n"
     ]
    }
   ],
   "source": [
    "# While loop or While else loop\n",
    "joining_age = 21\n",
    "while joining_age == 60:\n",
    "  joining_age = joining_age + 1\n",
    "  print(joining_age)\n",
    "else :\n",
    "  print(f\"It's time for retirement because you have reached a limit of {joining_age} as per the government rules\")\n"
   ]
  },
  {
   "cell_type": "markdown",
   "metadata": {
    "id": "MoPOG8BK67QN"
   },
   "source": [
    "# Observations :\n",
    "1. while loop when we use <= or only < or > or >= it iterates till the condition becomes false\n",
    "2. In while loop when we use == it checks for that particular condition like in\n",
    "above code it checks for the joining age == 60 or not\n",
    "3. In while loop we have to increment the value of that particular variable\n",
    "4. Else loop has also been used if the condition in while loop becomes false"
   ]
  },
  {
   "cell_type": "code",
   "execution_count": null,
   "metadata": {
    "colab": {
     "base_uri": "https://localhost:8080/"
    },
    "id": "g2ffMY6G66Jr",
    "outputId": "271744bc-e71e-4704-9e98-f0b246fda957"
   },
   "outputs": [
    {
     "name": "stdout",
     "output_type": "stream",
     "text": [
      "1000\n",
      "900\n",
      "800\n",
      "700\n",
      "600\n",
      "500\n",
      "400\n",
      "300\n",
      "200\n",
      "100\n",
      "Paisa Bharo Bank Walo\n"
     ]
    }
   ],
   "source": [
    "# ATM Machine with 1000 Rs.\n",
    "total_amount = 1000\n",
    "while total_amount != 0:\n",
    "  print(total_amount)\n",
    "  total_amount = total_amount - 100\n",
    "else :\n",
    "  print(\"Paisa Bharo Bank Walo\")"
   ]
  },
  {
   "cell_type": "code",
   "execution_count": null,
   "metadata": {
    "colab": {
     "base_uri": "https://localhost:8080/"
    },
    "id": "sDgzCOeZw1Jd",
    "outputId": "29467b72-e2b6-42d5-c2d4-c77ee38ec0cb"
   },
   "outputs": [
    {
     "name": "stdout",
     "output_type": "stream",
     "text": [
      "Enter a number to create a math table till 10 : 12\n",
      "12\n",
      "1212\n",
      "121212\n",
      "12121212\n",
      "1212121212\n",
      "121212121212\n",
      "12121212121212\n",
      "1212121212121212\n",
      "121212121212121212\n",
      "12121212121212121212\n"
     ]
    }
   ],
   "source": [
    "value = input(\"Enter a number to create a math table till 10 : \")\n",
    "i = 1\n",
    "while i<= 10 :\n",
    "  print(value*i)\n",
    "  i = i+1"
   ]
  },
  {
   "cell_type": "markdown",
   "metadata": {
    "id": "uK1lC6J6Fek5"
   },
   "source": [
    "\n",
    "\n",
    "> This repeated 12 comes because we have taken 'value' input as a string and it prints the value repeatedly and in below example we have taken a user input as integer so it creates a math table from 1 to 10\n",
    "\n",
    "\n",
    "\n",
    "\n"
   ]
  },
  {
   "cell_type": "code",
   "execution_count": null,
   "metadata": {
    "colab": {
     "base_uri": "https://localhost:8080/"
    },
    "id": "Js-SNV58E4N1",
    "outputId": "bf655dd0-57b6-4931-cad7-bf7f4c8d288d"
   },
   "outputs": [
    {
     "name": "stdout",
     "output_type": "stream",
     "text": [
      "Enter a number to create a math table till 10 : 12\n",
      "12\n",
      "24\n",
      "36\n",
      "48\n",
      "60\n",
      "72\n",
      "84\n",
      "96\n",
      "108\n",
      "120\n"
     ]
    }
   ],
   "source": [
    "value = int(input(\"Enter a number to create a math table till 10 : \"))\n",
    "i = 1\n",
    "while i<= 10 :\n",
    "  print(value*i)\n",
    "  i = i+1"
   ]
  },
  {
   "cell_type": "markdown",
   "metadata": {
    "id": "nukNnEF_Gyek"
   },
   "source": [
    "# For loop"
   ]
  },
  {
   "cell_type": "code",
   "execution_count": null,
   "metadata": {
    "id": "zqTIg6CuE4KK"
   },
   "outputs": [],
   "source": [
    "lst = [\"Yashswi\",10,9.25,9,85,'Topper','University Topper']"
   ]
  },
  {
   "cell_type": "code",
   "execution_count": null,
   "metadata": {
    "colab": {
     "base_uri": "https://localhost:8080/"
    },
    "id": "mbwN6d8ZE4HN",
    "outputId": "420d8846-fcbe-40c2-8858-eea84e7e7039"
   },
   "outputs": [
    {
     "name": "stdout",
     "output_type": "stream",
     "text": [
      "['Yashswi', 10, 9.25, 9, 85, 'Topper', 'University Topper']\n"
     ]
    }
   ],
   "source": [
    "print(lst)"
   ]
  },
  {
   "cell_type": "code",
   "execution_count": null,
   "metadata": {
    "colab": {
     "base_uri": "https://localhost:8080/"
    },
    "id": "DeyBs352E4Dw",
    "outputId": "0d9056b3-b19c-45d0-cdfd-fccd6ff5dd96"
   },
   "outputs": [
    {
     "data": {
      "text/plain": [
       "list"
      ]
     },
     "execution_count": 10,
     "metadata": {},
     "output_type": "execute_result"
    }
   ],
   "source": [
    "type(lst)"
   ]
  },
  {
   "cell_type": "code",
   "execution_count": null,
   "metadata": {
    "colab": {
     "base_uri": "https://localhost:8080/"
    },
    "id": "se6_CgY5E33T",
    "outputId": "0d960f39-e82a-45d9-9905-cc960bd6a13b"
   },
   "outputs": [
    {
     "name": "stdout",
     "output_type": "stream",
     "text": [
      "Yashswi\n",
      "10\n",
      "9.25\n",
      "9\n",
      "85\n",
      "Topper\n",
      "University Topper\n"
     ]
    }
   ],
   "source": [
    "for item in lst :\n",
    "  print(item)"
   ]
  },
  {
   "cell_type": "code",
   "execution_count": null,
   "metadata": {
    "colab": {
     "base_uri": "https://localhost:8080/"
    },
    "id": "Sp0U9SkNE30_",
    "outputId": "5fd6d4f7-2b6c-4d19-a028-03f530eb58bf"
   },
   "outputs": [
    {
     "name": "stdout",
     "output_type": "stream",
     "text": [
      "Yashswi\n"
     ]
    }
   ],
   "source": [
    "# Indexing\n",
    "print(lst[0])"
   ]
  },
  {
   "cell_type": "code",
   "execution_count": null,
   "metadata": {
    "colab": {
     "base_uri": "https://localhost:8080/"
    },
    "id": "0A6DnLsyE3yH",
    "outputId": "c8d0ac3a-2b93-4a26-cf4a-057adb78d100"
   },
   "outputs": [
    {
     "name": "stdout",
     "output_type": "stream",
     "text": [
      "Y a s h s w i "
     ]
    }
   ],
   "source": [
    "name = \"Yashswi\"\n",
    "for each_letter in name :\n",
    "  print(each_letter,end = \" \")"
   ]
  },
  {
   "cell_type": "markdown",
   "metadata": {
    "id": "7dm9sVD7Jjhs"
   },
   "source": [
    "> List and String both are the collection of characters or the elements and we can use indexing there\n"
   ]
  },
  {
   "cell_type": "code",
   "execution_count": null,
   "metadata": {
    "colab": {
     "base_uri": "https://localhost:8080/"
    },
    "id": "7tWAxSfkw1GW",
    "outputId": "02608544-7b2d-4880-c2d4-6691aa173631"
   },
   "outputs": [
    {
     "name": "stdout",
     "output_type": "stream",
     "text": [
      "1 2 3 4 5 6 7 8 9 10 "
     ]
    }
   ],
   "source": [
    "# Range Function\n",
    "for i in range(1,11):\n",
    "  print(i,end = \" \") # Here, end and stop bit and step are optional"
   ]
  },
  {
   "cell_type": "markdown",
   "metadata": {
    "id": "oMou9VxuLhUB"
   },
   "source": [
    "# Nested loops"
   ]
  },
  {
   "cell_type": "code",
   "execution_count": null,
   "metadata": {
    "colab": {
     "base_uri": "https://localhost:8080/"
    },
    "id": "YbsHsPF3w1DU",
    "outputId": "ac822abb-6a43-48ca-fab6-d41c131c5c3a"
   },
   "outputs": [
    {
     "name": "stdout",
     "output_type": "stream",
     "text": [
      "*\n",
      "**\n",
      "***\n",
      "****\n",
      "*****\n"
     ]
    }
   ],
   "source": [
    "n = 5\n",
    "for i in range(0,n):\n",
    "  for j in range(0,i+1):\n",
    "    print(\"*\",end = \"\")\n",
    "  print(\"\\r\")\n"
   ]
  },
  {
   "cell_type": "code",
   "execution_count": null,
   "metadata": {
    "colab": {
     "base_uri": "https://localhost:8080/"
    },
    "id": "pbg3ezREL6Dw",
    "outputId": "bd207bb7-86e5-424d-f2b8-9d34683ad43c"
   },
   "outputs": [
    {
     "name": "stdout",
     "output_type": "stream",
     "text": [
      "*\n",
      "\n",
      "**\n",
      "\n",
      "***\n",
      "\n",
      "****\n",
      "\n",
      "*****\n",
      "\n"
     ]
    }
   ],
   "source": [
    "n = 5\n",
    "for i in range(0,n):\n",
    "  for j in range(0,i+1):\n",
    "    print(\"*\",end = \"\")\n",
    "  print(\"\\n\")\n",
    "  # New line is occuring because we used here \\n\n"
   ]
  },
  {
   "cell_type": "code",
   "execution_count": null,
   "metadata": {
    "colab": {
     "base_uri": "https://localhost:8080/"
    },
    "id": "BZlYeNcZMQM-",
    "outputId": "5989d1cb-bba2-4e0b-b2bb-ef1c5b3e0037"
   },
   "outputs": [
    {
     "name": "stdout",
     "output_type": "stream",
     "text": [
      " \n",
      " \n",
      " \n",
      " \n",
      "*\n",
      "**\n",
      "***\n",
      "****\n",
      "*****\n"
     ]
    }
   ],
   "source": [
    "n = 5\n",
    "k = n-1\n",
    "for i in range(0,n):\n",
    "  for j in range(0,k):\n",
    "    print(\" \")\n",
    "    k = k-1\n",
    "  for l in range(0,i+1):\n",
    "    print(\"*\",end = \"\")\n",
    "  print('\\r')"
   ]
  },
  {
   "cell_type": "code",
   "execution_count": null,
   "metadata": {
    "id": "UXxeyBPmMr_M"
   },
   "outputs": [],
   "source": []
  }
 ],
 "metadata": {
  "colab": {
   "authorship_tag": "ABX9TyMDLBgHIKtYP2ebDdgjML5G",
   "include_colab_link": true,
   "provenance": []
  },
  "kernelspec": {
   "display_name": "Python 3 (ipykernel)",
   "language": "python",
   "name": "python3"
  },
  "language_info": {
   "codemirror_mode": {
    "name": "ipython",
    "version": 3
   },
   "file_extension": ".py",
   "mimetype": "text/x-python",
   "name": "python",
   "nbconvert_exporter": "python",
   "pygments_lexer": "ipython3",
   "version": "3.10.8"
  }
 },
 "nbformat": 4,
 "nbformat_minor": 4
}
