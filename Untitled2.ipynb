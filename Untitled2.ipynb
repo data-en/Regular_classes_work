{
 "cells": [
  {
   "cell_type": "code",
   "execution_count": 13,
   "id": "a20581de",
   "metadata": {},
   "outputs": [
    {
     "name": "stdout",
     "output_type": "stream",
     "text": [
      "(1, 'a', True)\n"
     ]
    }
   ],
   "source": [
    "# Data structures in Python\n",
    "# Tuples\n",
    "# It is containing diff types of elemets, like Integer, string 7 logical as below\n",
    "# tuples are immutable\n",
    "Tup1 = 1,\"a\",True\n",
    "print(Tup1)"
   ]
  },
  {
   "cell_type": "code",
   "execution_count": 8,
   "id": "a13d0e1b",
   "metadata": {},
   "outputs": [],
   "source": [
    "tup2 = (1, 3.14, True, \"Yash\", (5-7j))"
   ]
  },
  {
   "cell_type": "code",
   "execution_count": 11,
   "id": "e1c034ce",
   "metadata": {},
   "outputs": [
    {
     "name": "stdout",
     "output_type": "stream",
     "text": [
      "(1, 3.14, True, 'Yash', (5-7j))\n"
     ]
    }
   ],
   "source": [
    "# there are 5 elememts below.\n",
    "print(tup2)"
   ]
  },
  {
   "cell_type": "code",
   "execution_count": 12,
   "id": "6aa0a6e7",
   "metadata": {},
   "outputs": [
    {
     "data": {
      "text/plain": [
       "tuple"
      ]
     },
     "execution_count": 12,
     "metadata": {},
     "output_type": "execute_result"
    }
   ],
   "source": [
    "type(tup2)"
   ]
  },
  {
   "cell_type": "code",
   "execution_count": 15,
   "id": "a085f8dc",
   "metadata": {},
   "outputs": [
    {
     "data": {
      "text/plain": [
       "tuple"
      ]
     },
     "execution_count": 15,
     "metadata": {},
     "output_type": "execute_result"
    }
   ],
   "source": [
    "type(Tup1)"
   ]
  },
  {
   "cell_type": "code",
   "execution_count": 16,
   "id": "1ac9c960",
   "metadata": {},
   "outputs": [
    {
     "name": "stdout",
     "output_type": "stream",
     "text": [
      "1\n"
     ]
    }
   ],
   "source": [
    "print(tup2[0])"
   ]
  },
  {
   "cell_type": "code",
   "execution_count": 18,
   "id": "f1f30836",
   "metadata": {},
   "outputs": [
    {
     "name": "stdout",
     "output_type": "stream",
     "text": [
      "(5-7j)\n"
     ]
    }
   ],
   "source": [
    "print(tup2[-1])"
   ]
  },
  {
   "cell_type": "code",
   "execution_count": 19,
   "id": "eb6a40b4",
   "metadata": {},
   "outputs": [
    {
     "name": "stdout",
     "output_type": "stream",
     "text": [
      "(3.14, True, 'Yash')\n"
     ]
    }
   ],
   "source": [
    "print(tup2[1:4])"
   ]
  },
  {
   "cell_type": "code",
   "execution_count": 22,
   "id": "974eb383",
   "metadata": {},
   "outputs": [
    {
     "data": {
      "text/plain": [
       "5"
      ]
     },
     "execution_count": 22,
     "metadata": {},
     "output_type": "execute_result"
    }
   ],
   "source": [
    "len(tup2)"
   ]
  },
  {
   "cell_type": "code",
   "execution_count": 28,
   "id": "7638a585",
   "metadata": {},
   "outputs": [],
   "source": [
    "Tup1 = (1,2,3)\n",
    "tup2 = (4,5,6)"
   ]
  },
  {
   "cell_type": "code",
   "execution_count": 33,
   "id": "9d46f876",
   "metadata": {},
   "outputs": [
    {
     "name": "stdout",
     "output_type": "stream",
     "text": [
      "(1, 2, 3) (4, 5, 6)\n"
     ]
    }
   ],
   "source": [
    "print(Tup1, tup2)"
   ]
  },
  {
   "cell_type": "code",
   "execution_count": 29,
   "id": "73dc2e89",
   "metadata": {},
   "outputs": [
    {
     "data": {
      "text/plain": [
       "(1, 2, 3, 4, 5, 6)"
      ]
     },
     "execution_count": 29,
     "metadata": {},
     "output_type": "execute_result"
    }
   ],
   "source": [
    "# Concatenating tuples\n",
    "Tup1+tup2"
   ]
  },
  {
   "cell_type": "code",
   "execution_count": 30,
   "id": "beeb607e",
   "metadata": {},
   "outputs": [
    {
     "data": {
      "text/plain": [
       "3"
      ]
     },
     "execution_count": 30,
     "metadata": {},
     "output_type": "execute_result"
    }
   ],
   "source": [
    "len(Tup1)"
   ]
  },
  {
   "cell_type": "code",
   "execution_count": 32,
   "id": "6291ac86",
   "metadata": {},
   "outputs": [
    {
     "data": {
      "text/plain": [
       "3"
      ]
     },
     "execution_count": 32,
     "metadata": {},
     "output_type": "execute_result"
    }
   ],
   "source": [
    "len(tup2)"
   ]
  },
  {
   "cell_type": "code",
   "execution_count": 34,
   "id": "588da181",
   "metadata": {},
   "outputs": [
    {
     "name": "stdout",
     "output_type": "stream",
     "text": [
      "(4, 5, 6, 1, 2, 3)\n"
     ]
    }
   ],
   "source": [
    "print(tup2 + Tup1)"
   ]
  },
  {
   "cell_type": "code",
   "execution_count": 36,
   "id": "b4ea3a82",
   "metadata": {},
   "outputs": [],
   "source": [
    "# repeating tuple elements\n",
    "y = (\"Spartaa\", 300)"
   ]
  },
  {
   "cell_type": "code",
   "execution_count": 38,
   "id": "06b7df8e",
   "metadata": {},
   "outputs": [
    {
     "name": "stdout",
     "output_type": "stream",
     "text": [
      "('Spartaa', 300, 'Spartaa', 300, 'Spartaa', 300, 'Spartaa', 300, 'Spartaa', 300)\n"
     ]
    }
   ],
   "source": [
    "print(y*5)"
   ]
  },
  {
   "cell_type": "code",
   "execution_count": 39,
   "id": "36131e9f",
   "metadata": {},
   "outputs": [
    {
     "name": "stdout",
     "output_type": "stream",
     "text": [
      "('Spartaa', 300, 'Spartaa', 300, 'Spartaa', 300, 1, 2, 3, 4, 5, 6)\n"
     ]
    }
   ],
   "source": [
    "print(y*3 + Tup1 + tup2)"
   ]
  },
  {
   "cell_type": "code",
   "execution_count": 44,
   "id": "dc287d27",
   "metadata": {},
   "outputs": [
    {
     "name": "stdout",
     "output_type": "stream",
     "text": [
      "(1, 2, 3, 4, 5, 6, 7, 8, 9)\n"
     ]
    }
   ],
   "source": [
    "z = (1,2,3,4,5,6,7,8,9)\n",
    "print(z)"
   ]
  },
  {
   "cell_type": "code",
   "execution_count": 42,
   "id": "c8933ff6",
   "metadata": {},
   "outputs": [
    {
     "name": "stdout",
     "output_type": "stream",
     "text": [
      "1\n"
     ]
    }
   ],
   "source": [
    "# Minimum value\n",
    "print(min(z))"
   ]
  },
  {
   "cell_type": "code",
   "execution_count": 43,
   "id": "d0daa133",
   "metadata": {},
   "outputs": [
    {
     "name": "stdout",
     "output_type": "stream",
     "text": [
      "9\n"
     ]
    }
   ],
   "source": [
    "# Maximum value\n",
    "print(max(z))"
   ]
  },
  {
   "cell_type": "code",
   "execution_count": 45,
   "id": "f0f94eb9",
   "metadata": {},
   "outputs": [],
   "source": [
    "# List in Python\n",
    "l1 = [1, \"Sparta\", 3.14, True]"
   ]
  },
  {
   "cell_type": "code",
   "execution_count": 46,
   "id": "f6c317fd",
   "metadata": {},
   "outputs": [
    {
     "name": "stdout",
     "output_type": "stream",
     "text": [
      "[1, 'Sparta', 3.14, True]\n"
     ]
    }
   ],
   "source": [
    "print(l1)"
   ]
  },
  {
   "cell_type": "code",
   "execution_count": 47,
   "id": "f0e0cee2",
   "metadata": {},
   "outputs": [
    {
     "data": {
      "text/plain": [
       "list"
      ]
     },
     "execution_count": 47,
     "metadata": {},
     "output_type": "execute_result"
    }
   ],
   "source": [
    "type(l1)"
   ]
  },
  {
   "cell_type": "code",
   "execution_count": 48,
   "id": "3c46a467",
   "metadata": {},
   "outputs": [
    {
     "name": "stdout",
     "output_type": "stream",
     "text": [
      "Sparta\n"
     ]
    }
   ],
   "source": [
    "print(l1[1])"
   ]
  },
  {
   "cell_type": "code",
   "execution_count": 76,
   "id": "1c14fbcf",
   "metadata": {},
   "outputs": [
    {
     "name": "stdout",
     "output_type": "stream",
     "text": [
      "[1, 'a', 2, 'b', 3, 'c']\n"
     ]
    }
   ],
   "source": [
    "# As List in Python is Mutable, we can change the elements in List\n",
    "l2 = [1, \"a\" ,2, \"b\", 3, \"c\"]\n",
    "print(l2)"
   ]
  },
  {
   "cell_type": "code",
   "execution_count": 77,
   "id": "1dbfaf52",
   "metadata": {},
   "outputs": [],
   "source": [
    "#Changing a element at 0th index\n",
    "l2[0]= 100"
   ]
  },
  {
   "cell_type": "code",
   "execution_count": 78,
   "id": "2f749ba6",
   "metadata": {},
   "outputs": [
    {
     "name": "stdout",
     "output_type": "stream",
     "text": [
      "[100, 'a', 2, 'b', 3, 'c']\n"
     ]
    }
   ],
   "source": [
    "print(l2)"
   ]
  },
  {
   "cell_type": "code",
   "execution_count": 85,
   "id": "fdcddc63",
   "metadata": {},
   "outputs": [],
   "source": [
    "# Appending a new Element, how much time u run this program it will append same no of time\n",
    "l2.append(\"Sparta\")"
   ]
  },
  {
   "cell_type": "code",
   "execution_count": 86,
   "id": "d698085d",
   "metadata": {},
   "outputs": [
    {
     "name": "stdout",
     "output_type": "stream",
     "text": [
      "[100, 'a', 2, 'b', 3, 'c', 'Sparta', 'Sparta', 'Sparta', 'Sparta']\n"
     ]
    }
   ],
   "source": [
    "print(l2)"
   ]
  },
  {
   "cell_type": "code",
   "execution_count": 92,
   "id": "da0131d4",
   "metadata": {},
   "outputs": [
    {
     "data": {
      "text/plain": [
       "'Sparta'"
      ]
     },
     "execution_count": 92,
     "metadata": {},
     "output_type": "execute_result"
    }
   ],
   "source": [
    "#Popping the last element\n",
    "l2.pop()"
   ]
  },
  {
   "cell_type": "code",
   "execution_count": 93,
   "id": "18ac388c",
   "metadata": {},
   "outputs": [
    {
     "name": "stdout",
     "output_type": "stream",
     "text": [
      "[100, 'a', 2, 'b', 3, 'c']\n"
     ]
    }
   ],
   "source": [
    "# How many time u run the code for list, that same no of time it will apply the function\n",
    "print(l2)"
   ]
  },
  {
   "cell_type": "code",
   "execution_count": 97,
   "id": "770ed9f5",
   "metadata": {},
   "outputs": [],
   "source": [
    "# reverse function\n",
    "l2.reverse()"
   ]
  },
  {
   "cell_type": "code",
   "execution_count": 98,
   "id": "c4c45be1",
   "metadata": {},
   "outputs": [
    {
     "name": "stdout",
     "output_type": "stream",
     "text": [
      "['c', 3, 'b', 2, 'a', 100]\n"
     ]
    }
   ],
   "source": [
    "print(l2)"
   ]
  },
  {
   "cell_type": "code",
   "execution_count": 99,
   "id": "a8407117",
   "metadata": {},
   "outputs": [],
   "source": [
    "# Inserting element at a specified Index\n",
    "l2.insert(2,'Yash')"
   ]
  },
  {
   "cell_type": "code",
   "execution_count": 100,
   "id": "8ccd290f",
   "metadata": {},
   "outputs": [
    {
     "name": "stdout",
     "output_type": "stream",
     "text": [
      "['c', 3, 'Yash', 'b', 2, 'a', 100]\n"
     ]
    }
   ],
   "source": [
    "print(l2)"
   ]
  },
  {
   "cell_type": "code",
   "execution_count": 122,
   "id": "66dca1fb",
   "metadata": {},
   "outputs": [],
   "source": [
    "l4 = ['yash', 'diksha', 'yashswi', 'sanskar', 'gudhi']\n",
    "(l4.sort())"
   ]
  },
  {
   "cell_type": "code",
   "execution_count": 123,
   "id": "3e8c49b5",
   "metadata": {},
   "outputs": [
    {
     "name": "stdout",
     "output_type": "stream",
     "text": [
      "['diksha', 'gudhi', 'sanskar', 'yash', 'yashswi']\n"
     ]
    }
   ],
   "source": [
    "print(l4)"
   ]
  },
  {
   "cell_type": "code",
   "execution_count": 113,
   "id": "743ef8da",
   "metadata": {},
   "outputs": [
    {
     "name": "stdout",
     "output_type": "stream",
     "text": [
      "['a', 'f', 'd', 'z', 'n']\n"
     ]
    }
   ],
   "source": [
    "l3 = [\"a\", \"f\", \"d\", \"z\", \"n\"]\n",
    "print(l3)"
   ]
  },
  {
   "cell_type": "code",
   "execution_count": 118,
   "id": "e2e84bd5",
   "metadata": {},
   "outputs": [],
   "source": [
    "l3.sort()"
   ]
  },
  {
   "cell_type": "code",
   "execution_count": 119,
   "id": "34338bef",
   "metadata": {},
   "outputs": [
    {
     "name": "stdout",
     "output_type": "stream",
     "text": [
      "['a', 'd', 'f', 'n', 'z']\n"
     ]
    }
   ],
   "source": [
    "print(l3)"
   ]
  },
  {
   "cell_type": "code",
   "execution_count": 124,
   "id": "643e7dc8",
   "metadata": {},
   "outputs": [
    {
     "name": "stdout",
     "output_type": "stream",
     "text": [
      "[1, 2, 3, 4, 5, 6]\n"
     ]
    }
   ],
   "source": [
    "# Concatenating Lists\n",
    "l1 = [1,2,3]\n",
    "l2 = [4,5,6]\n",
    "print(l1+l2)"
   ]
  },
  {
   "cell_type": "code",
   "execution_count": 125,
   "id": "9e1727ac",
   "metadata": {},
   "outputs": [
    {
     "data": {
      "text/plain": [
       "[1, 2, 3, 1, 2, 3, 1, 2, 3]"
      ]
     },
     "execution_count": 125,
     "metadata": {},
     "output_type": "execute_result"
    }
   ],
   "source": [
    "# repeating elements\n",
    "l1*3"
   ]
  },
  {
   "cell_type": "code",
   "execution_count": null,
   "id": "21a583b6",
   "metadata": {},
   "outputs": [],
   "source": []
  }
 ],
 "metadata": {
  "kernelspec": {
   "display_name": "Python 3 (ipykernel)",
   "language": "python",
   "name": "python3"
  },
  "language_info": {
   "codemirror_mode": {
    "name": "ipython",
    "version": 3
   },
   "file_extension": ".py",
   "mimetype": "text/x-python",
   "name": "python",
   "nbconvert_exporter": "python",
   "pygments_lexer": "ipython3",
   "version": "3.10.9"
  }
 },
 "nbformat": 4,
 "nbformat_minor": 5
}
