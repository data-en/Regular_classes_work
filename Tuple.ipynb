{
 "cells": [
  {
   "cell_type": "markdown",
   "id": "f5bfb2fc",
   "metadata": {},
   "source": [
    "# Day 4"
   ]
  },
  {
   "cell_type": "markdown",
   "id": "c5320db7",
   "metadata": {},
   "source": [
    "## Tuple"
   ]
  },
  {
   "cell_type": "code",
   "execution_count": 2,
   "id": "7ccf26d2",
   "metadata": {},
   "outputs": [
    {
     "data": {
      "text/plain": [
       "tuple"
      ]
     },
     "execution_count": 2,
     "metadata": {},
     "output_type": "execute_result"
    }
   ],
   "source": [
    "type(())"
   ]
  },
  {
   "cell_type": "code",
   "execution_count": 3,
   "id": "682a4c92",
   "metadata": {},
   "outputs": [],
   "source": [
    "tup1 = (1,2,3,4,45,45,45,(45+7j),'sudh',True)"
   ]
  },
  {
   "cell_type": "code",
   "execution_count": 4,
   "id": "f9dd5d51",
   "metadata": {},
   "outputs": [
    {
     "data": {
      "text/plain": [
       "(1, 2, 3, 4, 45, 45, 45, (45+7j), 'sudh', True)"
      ]
     },
     "execution_count": 4,
     "metadata": {},
     "output_type": "execute_result"
    }
   ],
   "source": [
    "tup1"
   ]
  },
  {
   "cell_type": "code",
   "execution_count": 5,
   "id": "aae5dd3f",
   "metadata": {},
   "outputs": [
    {
     "data": {
      "text/plain": [
       "tuple"
      ]
     },
     "execution_count": 5,
     "metadata": {},
     "output_type": "execute_result"
    }
   ],
   "source": [
    "type(tup1)"
   ]
  },
  {
   "cell_type": "code",
   "execution_count": 7,
   "id": "6840bc74",
   "metadata": {},
   "outputs": [
    {
     "data": {
      "text/plain": [
       "(True, 'sudh', (45+7j), 45, 45, 45, 4, 3, 2, 1)"
      ]
     },
     "execution_count": 7,
     "metadata": {},
     "output_type": "execute_result"
    }
   ],
   "source": [
    "tup1[::-1] # Try tup1 = tup1[::-1] to store it permanently till we change"
   ]
  },
  {
   "cell_type": "code",
   "execution_count": 8,
   "id": "50498980",
   "metadata": {},
   "outputs": [
    {
     "data": {
      "text/plain": [
       "3"
      ]
     },
     "execution_count": 8,
     "metadata": {},
     "output_type": "execute_result"
    }
   ],
   "source": [
    "tup1.count(45)"
   ]
  },
  {
   "cell_type": "code",
   "execution_count": 9,
   "id": "74805c30",
   "metadata": {},
   "outputs": [
    {
     "data": {
      "text/plain": [
       "7"
      ]
     },
     "execution_count": 9,
     "metadata": {},
     "output_type": "execute_result"
    }
   ],
   "source": [
    "tup1.index((45+7j))"
   ]
  },
  {
   "cell_type": "code",
   "execution_count": 12,
   "id": "e5464d90",
   "metadata": {},
   "outputs": [
    {
     "data": {
      "text/plain": [
       "2"
      ]
     },
     "execution_count": 12,
     "metadata": {},
     "output_type": "execute_result"
    }
   ],
   "source": [
    "tup1.count(True) #(True,1) in tup1 is also same for tup1.count(1)"
   ]
  },
  {
   "cell_type": "markdown",
   "id": "068e21ed",
   "metadata": {},
   "source": [
    "> Tuple object does not support item assignment "
   ]
  },
  {
   "cell_type": "markdown",
   "id": "87c67f74",
   "metadata": {},
   "source": [
    "> Tuple is a immutable entity"
   ]
  },
  {
   "cell_type": "code",
   "execution_count": 14,
   "id": "c859e614",
   "metadata": {},
   "outputs": [
    {
     "name": "stdout",
     "output_type": "stream",
     "text": [
      "1 <class 'int'>\n",
      "2 <class 'int'>\n",
      "3 <class 'int'>\n",
      "4 <class 'int'>\n",
      "45 <class 'int'>\n",
      "45 <class 'int'>\n",
      "45 <class 'int'>\n",
      "(45+7j) <class 'complex'>\n",
      "sudh <class 'str'>\n",
      "True <class 'bool'>\n"
     ]
    }
   ],
   "source": [
    "for i in tup1:\n",
    "    print(i,type(i))"
   ]
  },
  {
   "cell_type": "code",
   "execution_count": 15,
   "id": "80a1e911",
   "metadata": {},
   "outputs": [],
   "source": [
    "t2 = (1,2,3,4)"
   ]
  },
  {
   "cell_type": "code",
   "execution_count": 16,
   "id": "660ebf95",
   "metadata": {},
   "outputs": [
    {
     "data": {
      "text/plain": [
       "(1, 2, 3, 4, 1, 2, 3, 4, 1, 2, 3, 4)"
      ]
     },
     "execution_count": 16,
     "metadata": {},
     "output_type": "execute_result"
    }
   ],
   "source": [
    "t2*3"
   ]
  },
  {
   "cell_type": "code",
   "execution_count": 17,
   "id": "abd29ac9",
   "metadata": {},
   "outputs": [
    {
     "data": {
      "text/plain": [
       "4"
      ]
     },
     "execution_count": 17,
     "metadata": {},
     "output_type": "execute_result"
    }
   ],
   "source": [
    "max(t2)"
   ]
  },
  {
   "cell_type": "code",
   "execution_count": 18,
   "id": "46dab847",
   "metadata": {},
   "outputs": [
    {
     "data": {
      "text/plain": [
       "1"
      ]
     },
     "execution_count": 18,
     "metadata": {},
     "output_type": "execute_result"
    }
   ],
   "source": [
    "min(t2)"
   ]
  },
  {
   "cell_type": "code",
   "execution_count": 20,
   "id": "f7b850cf",
   "metadata": {},
   "outputs": [
    {
     "data": {
      "text/plain": [
       "(1, 2, 3, 4, 1, 2, 3, 4)"
      ]
     },
     "execution_count": 20,
     "metadata": {},
     "output_type": "execute_result"
    }
   ],
   "source": [
    "t2 + t2"
   ]
  },
  {
   "cell_type": "code",
   "execution_count": 24,
   "id": "8e9eaf95",
   "metadata": {},
   "outputs": [
    {
     "name": "stdout",
     "output_type": "stream",
     "text": [
      "(1, 2, 3, 4, 45, 45, 45, (45+7j), 'sudh', True, 1, 2, 3, 4, 45, 45, 45, (45+7j), 'sudh', True)\n",
      "(1, 2, 3, 4, 45, 45, 45, (45+7j), 'sudh', True, 1, 2, 3, 4, 45, 45, 45, (45+7j), 'sudh', True)\n"
     ]
    }
   ],
   "source": [
    "print(tup1*2)\n",
    "print(tup1+tup1)"
   ]
  },
  {
   "cell_type": "code",
   "execution_count": 25,
   "id": "bcdc0068",
   "metadata": {},
   "outputs": [],
   "source": [
    "t1 = (1,2,3,4)\n",
    "t2 = (5,6,7,8)"
   ]
  },
  {
   "cell_type": "code",
   "execution_count": 26,
   "id": "b8a0debf",
   "metadata": {},
   "outputs": [],
   "source": [
    "t3 = (t1,t2)"
   ]
  },
  {
   "cell_type": "code",
   "execution_count": 27,
   "id": "699e8a0b",
   "metadata": {},
   "outputs": [
    {
     "name": "stdout",
     "output_type": "stream",
     "text": [
      "((1, 2, 3, 4), (5, 6, 7, 8))\n"
     ]
    }
   ],
   "source": [
    "print(t3)"
   ]
  },
  {
   "cell_type": "code",
   "execution_count": 28,
   "id": "19f8d8b9",
   "metadata": {},
   "outputs": [],
   "source": [
    "t4 = ((1,2,3,4),[5,6,7,8])"
   ]
  },
  {
   "cell_type": "code",
   "execution_count": 29,
   "id": "7f724046",
   "metadata": {},
   "outputs": [
    {
     "name": "stdout",
     "output_type": "stream",
     "text": [
      "((1, 2, 3, 4), [5, 6, 7, 8])\n"
     ]
    }
   ],
   "source": [
    "print(t4)"
   ]
  },
  {
   "cell_type": "code",
   "execution_count": 31,
   "id": "1ecd7d33",
   "metadata": {},
   "outputs": [],
   "source": [
    "# To delete this tuple \n",
    "del t4"
   ]
  },
  {
   "cell_type": "code",
   "execution_count": 33,
   "id": "4a7ce727",
   "metadata": {},
   "outputs": [
    {
     "data": {
      "text/plain": [
       "2"
      ]
     },
     "execution_count": 33,
     "metadata": {},
     "output_type": "execute_result"
    }
   ],
   "source": [
    "len(t3)"
   ]
  },
  {
   "cell_type": "code",
   "execution_count": 34,
   "id": "c0c1e010",
   "metadata": {},
   "outputs": [
    {
     "data": {
      "text/plain": [
       "4"
      ]
     },
     "execution_count": 34,
     "metadata": {},
     "output_type": "execute_result"
    }
   ],
   "source": [
    "len(t1)"
   ]
  },
  {
   "cell_type": "code",
   "execution_count": 35,
   "id": "b8beda5e",
   "metadata": {},
   "outputs": [
    {
     "name": "stdout",
     "output_type": "stream",
     "text": [
      "Available\n"
     ]
    }
   ],
   "source": [
    "if 'sudh' in tup1:\n",
    "    print(\"Available\")\n",
    "else : \n",
    "    print(\"Not Available\")"
   ]
  },
  {
   "cell_type": "code",
   "execution_count": null,
   "id": "dd8a97eb",
   "metadata": {},
   "outputs": [],
   "source": []
  }
 ],
 "metadata": {
  "kernelspec": {
   "display_name": "Python 3 (ipykernel)",
   "language": "python",
   "name": "python3"
  },
  "language_info": {
   "codemirror_mode": {
    "name": "ipython",
    "version": 3
   },
   "file_extension": ".py",
   "mimetype": "text/x-python",
   "name": "python",
   "nbconvert_exporter": "python",
   "pygments_lexer": "ipython3",
   "version": "3.10.9"
  }
 },
 "nbformat": 4,
 "nbformat_minor": 5
}
