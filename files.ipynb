{
 "cells": [
  {
   "cell_type": "markdown",
   "id": "3d4eaa09",
   "metadata": {},
   "source": [
    "# READING AND WRITING FILES"
   ]
  },
  {
   "cell_type": "code",
   "execution_count": 1,
   "id": "a2ecb612",
   "metadata": {},
   "outputs": [],
   "source": [
    "data = {'course_name':'Data Science Masters 2.0',\n",
    "        'course_price ':3500,\n",
    "        'course_batch_no ':2,\n",
    "        'topics_covered' : ['Data Science','Big Data','Data Analytics','Power BI']\n",
    "        }"
   ]
  },
  {
   "cell_type": "code",
   "execution_count": 2,
   "id": "17158578",
   "metadata": {},
   "outputs": [],
   "source": [
    "import json"
   ]
  },
  {
   "cell_type": "code",
   "execution_count": 4,
   "id": "abcf82bb",
   "metadata": {},
   "outputs": [],
   "source": [
    "with open('test.json','w') as f1 : \n",
    "    json.dump(data,f1)"
   ]
  },
  {
   "cell_type": "code",
   "execution_count": 5,
   "id": "b72972c7",
   "metadata": {},
   "outputs": [
    {
     "data": {
      "text/plain": [
       "'C:\\\\Users\\\\yashg'"
      ]
     },
     "execution_count": 5,
     "metadata": {},
     "output_type": "execute_result"
    }
   ],
   "source": [
    "pwd"
   ]
  },
  {
   "cell_type": "code",
   "execution_count": 7,
   "id": "1f4bc5f4",
   "metadata": {},
   "outputs": [],
   "source": [
    "with open('test.json','r') as f1 : \n",
    "    data1 = json.load(f1)"
   ]
  },
  {
   "cell_type": "code",
   "execution_count": 8,
   "id": "8980f3b6",
   "metadata": {},
   "outputs": [
    {
     "data": {
      "text/plain": [
       "{'course_name': 'Data Science Masters 2.0',\n",
       " 'course_price ': 3500,\n",
       " 'course_batch_no ': 2,\n",
       " 'topics_covered': ['Data Science', 'Big Data', 'Data Analytics', 'Power BI']}"
      ]
     },
     "execution_count": 8,
     "metadata": {},
     "output_type": "execute_result"
    }
   ],
   "source": [
    "data1"
   ]
  },
  {
   "cell_type": "code",
   "execution_count": 9,
   "id": "031aff55",
   "metadata": {},
   "outputs": [
    {
     "data": {
      "text/plain": [
       "['Data Science', 'Big Data', 'Data Analytics', 'Power BI']"
      ]
     },
     "execution_count": 9,
     "metadata": {},
     "output_type": "execute_result"
    }
   ],
   "source": [
    "data1['topics_covered']"
   ]
  },
  {
   "cell_type": "code",
   "execution_count": 10,
   "id": "413cfd35",
   "metadata": {},
   "outputs": [
    {
     "data": {
      "text/plain": [
       "'Big Data'"
      ]
     },
     "execution_count": 10,
     "metadata": {},
     "output_type": "execute_result"
    }
   ],
   "source": [
    "data1['topics_covered'][1]"
   ]
  },
  {
   "cell_type": "code",
   "execution_count": 18,
   "id": "aabaef3c",
   "metadata": {},
   "outputs": [],
   "source": [
    "data1 = [['name','email_id','mob_no'],\n",
    "         ['Sudh','sudh@gmail.com',7748589599],\n",
    "         ['Krish','krish@gmail.com']]"
   ]
  },
  {
   "cell_type": "code",
   "execution_count": 12,
   "id": "0928826c",
   "metadata": {},
   "outputs": [],
   "source": [
    "import csv"
   ]
  },
  {
   "cell_type": "code",
   "execution_count": 19,
   "id": "fd0103c0",
   "metadata": {},
   "outputs": [],
   "source": [
    "with open('test2.csv','w') as file1 : \n",
    "    w = csv.writer(file1)\n",
    "    for i in data1:\n",
    "        w.writerow(i)"
   ]
  },
  {
   "cell_type": "code",
   "execution_count": 20,
   "id": "ca2549f0",
   "metadata": {},
   "outputs": [
    {
     "name": "stdout",
     "output_type": "stream",
     "text": [
      "['name', 'email_id', 'mob_no']\n",
      "[]\n",
      "['Sudh', 'sudh@gmail.com', '7748589599']\n",
      "[]\n",
      "['Krish', 'krish@gmail.com']\n",
      "[]\n"
     ]
    }
   ],
   "source": [
    "with open('test2.csv','r') as file1:\n",
    "    read = csv.reader(file1)\n",
    "    for i in read:\n",
    "        print(i)"
   ]
  },
  {
   "cell_type": "code",
   "execution_count": 22,
   "id": "a4e0eb6a",
   "metadata": {},
   "outputs": [],
   "source": [
    "with open('test4.bin','wb') as f1:\n",
    "    f1.write(b\"x01\\x02\\x03\")"
   ]
  },
  {
   "cell_type": "code",
   "execution_count": 24,
   "id": "5b44a49b",
   "metadata": {},
   "outputs": [
    {
     "name": "stdout",
     "output_type": "stream",
     "text": [
      "b'x01\\x02\\x03'\n"
     ]
    }
   ],
   "source": [
    "with open('test4.bin','rb') as f1:\n",
    "    print(f1.read())"
   ]
  },
  {
   "cell_type": "markdown",
   "id": "10641579",
   "metadata": {},
   "source": [
    "## Buffered Read and Write"
   ]
  },
  {
   "cell_type": "markdown",
   "id": "dea03d2a",
   "metadata": {},
   "source": [
    "> It is used for large data"
   ]
  },
  {
   "cell_type": "code",
   "execution_count": 25,
   "id": "6a760da9",
   "metadata": {},
   "outputs": [],
   "source": [
    "import io"
   ]
  },
  {
   "cell_type": "code",
   "execution_count": 26,
   "id": "c626ddef",
   "metadata": {},
   "outputs": [],
   "source": [
    "with open('test.txt','wb') as f:\n",
    "    file = io.BufferedWriter(f)\n",
    "    file.write(b\"This is my first Buffer Writing line \\n\")\n",
    "    file.write(b\"This is my second line that I am trying to write as a buffer data\")\n",
    "    file.flush()"
   ]
  },
  {
   "cell_type": "code",
   "execution_count": 27,
   "id": "40def88c",
   "metadata": {},
   "outputs": [],
   "source": [
    "with open('test.txt','wb') as f:\n",
    "    file = io.BufferedWriter(f)\n",
    "    file.write(b\"Data Science Masters course is highly curated and uniquely designed according to the latest industry standards. This program instills students the skills essential to knowledge discovery efforts to identify standard, novel, and truly differentiated solutions and decision-making, including skills in managing, querying, analyzing, visualizing, and extracting meaning from extremely large data sets. This trending program provides students with the statistical, mathematical and computational skills needed to meet the large-scale data science challenges of today's professional world. You will learn all the stack required to work in data science industry including cloud infrastructure and real-time industry projects. This course will be taught in Hindi language.\\n\")\n",
    "    file.write(b\"This is my second line that I am trying to write as a buffer data\")\n",
    "    file.flush()"
   ]
  },
  {
   "cell_type": "markdown",
   "id": "f3ff5d35",
   "metadata": {},
   "source": [
    "> Buffered Writer writes the data in small small chunks and chunk size is by default given as 8192, but we can change as per our requirement."
   ]
  },
  {
   "cell_type": "markdown",
   "id": "fe7a626f",
   "metadata": {},
   "source": [
    "#### Read Operation"
   ]
  },
  {
   "cell_type": "code",
   "execution_count": 29,
   "id": "463487ad",
   "metadata": {},
   "outputs": [
    {
     "name": "stdout",
     "output_type": "stream",
     "text": [
      "b\"Data Science Masters course is highly curated and uniquely designed according to the latest industry standards. This program instills students the skills essential to knowledge discovery efforts to identify standard, novel, and truly differentiated solutions and decision-making, including skills in managing, querying, analyzing, visualizing, and extracting meaning from extremely large data sets. This trending program provides students with the statistical, mathematical and computational skills needed to meet the large-scale data science challenges of today's professional world. You will learn all the stack required to work in data science industry including cloud infrastructure and real-time industry projects. This course will be taught in Hindi language.\\nThis is my second line that I am trying to write as a buffer data\"\n"
     ]
    }
   ],
   "source": [
    "with open('test.txt','rb') as f:\n",
    "    file = io.BufferedReader(f)\n",
    "    print(file.read())"
   ]
  },
  {
   "cell_type": "code",
   "execution_count": 30,
   "id": "1d66cfdd",
   "metadata": {},
   "outputs": [
    {
     "name": "stdout",
     "output_type": "stream",
     "text": [
      "b'Data Science Masters course is highly curated and uniquely designed according to the latest industry'\n"
     ]
    }
   ],
   "source": [
    "with open('test.txt','rb') as f:\n",
    "    file = io.BufferedReader(f)\n",
    "    data = file.read(100) #size\n",
    "    print(data)"
   ]
  },
  {
   "cell_type": "markdown",
   "id": "6144b04d",
   "metadata": {},
   "source": [
    "## Logging and Debugger"
   ]
  },
  {
   "cell_type": "code",
   "execution_count": 31,
   "id": "7ed1bdaf",
   "metadata": {},
   "outputs": [
    {
     "name": "stdout",
     "output_type": "stream",
     "text": [
      "Hello World\n"
     ]
    }
   ],
   "source": [
    "print(\"Hello World\")"
   ]
  },
  {
   "cell_type": "markdown",
   "id": "720421df",
   "metadata": {},
   "source": [
    "> Print stores the data temporarily but we need a method that will store my data for long time (logging method)"
   ]
  },
  {
   "cell_type": "code",
   "execution_count": 32,
   "id": "652ac771",
   "metadata": {},
   "outputs": [],
   "source": [
    "import logging"
   ]
  },
  {
   "cell_type": "code",
   "execution_count": 33,
   "id": "478c2446",
   "metadata": {},
   "outputs": [],
   "source": [
    "logging.basicConfig(filename = 'test.log',level=logging.INFO)"
   ]
  },
  {
   "cell_type": "code",
   "execution_count": 34,
   "id": "7f1c2d34",
   "metadata": {},
   "outputs": [
    {
     "data": {
      "text/plain": [
       "'C:\\\\Users\\\\yashg'"
      ]
     },
     "execution_count": 34,
     "metadata": {},
     "output_type": "execute_result"
    }
   ],
   "source": [
    "pwd"
   ]
  },
  {
   "cell_type": "code",
   "execution_count": 35,
   "id": "9b86d787",
   "metadata": {},
   "outputs": [],
   "source": [
    "logging.info(\"This is my line of execution with logging method\")"
   ]
  },
  {
   "cell_type": "code",
   "execution_count": 36,
   "id": "a5205e2a",
   "metadata": {},
   "outputs": [],
   "source": [
    "logging.error(\"This is my error\")\n",
    "logging.critical(\"This is my critical\")"
   ]
  },
  {
   "cell_type": "markdown",
   "id": "f12e84ad",
   "metadata": {},
   "source": [
    "LABELS\n",
    "1. NOSET\n",
    "2. DEBUG\n",
    "3. INFO\n",
    "4. WARNING \n",
    "5. ERROR \n",
    "6. CRITICAL"
   ]
  },
  {
   "cell_type": "code",
   "execution_count": 37,
   "id": "33f31700",
   "metadata": {},
   "outputs": [],
   "source": [
    "logging.warning('This is my warning label')"
   ]
  },
  {
   "cell_type": "code",
   "execution_count": 38,
   "id": "aaee4c8f",
   "metadata": {},
   "outputs": [],
   "source": [
    "logging.debug('This is my info related to debug')"
   ]
  },
  {
   "cell_type": "markdown",
   "id": "0b023e54",
   "metadata": {},
   "source": [
    ">The debug is not shown in the file when we are opening file, the reason is that we have declared a level as logging.INFO, so it only provides access to the levels below INFO,the levels above INFO are executed but not shown in the file."
   ]
  },
  {
   "cell_type": "code",
   "execution_count": 39,
   "id": "582b8a23",
   "metadata": {},
   "outputs": [
    {
     "ename": "AttributeError",
     "evalue": "module 'logging' has no attribute 'noset'",
     "output_type": "error",
     "traceback": [
      "\u001b[1;31m---------------------------------------------------------------------------\u001b[0m",
      "\u001b[1;31mAttributeError\u001b[0m                            Traceback (most recent call last)",
      "Cell \u001b[1;32mIn[39], line 1\u001b[0m\n\u001b[1;32m----> 1\u001b[0m \u001b[43mlogging\u001b[49m\u001b[38;5;241;43m.\u001b[39;49m\u001b[43mnoset\u001b[49m(\u001b[38;5;124m\"\u001b[39m\u001b[38;5;124mThis is my noset related log\u001b[39m\u001b[38;5;124m\"\u001b[39m)\n",
      "\u001b[1;31mAttributeError\u001b[0m: module 'logging' has no attribute 'noset'"
     ]
    }
   ],
   "source": [
    "logging.noset(\"This is my noset related log\")"
   ]
  },
  {
   "cell_type": "code",
   "execution_count": 64,
   "id": "e9685cc6",
   "metadata": {},
   "outputs": [],
   "source": [
    "logging.shutdown()"
   ]
  },
  {
   "cell_type": "code",
   "execution_count": 65,
   "id": "f3a24543",
   "metadata": {},
   "outputs": [],
   "source": [
    "logging.basicConfig(filename='test1.log',level=logging.DEBUG,format='%(asctime)s %(message)s')"
   ]
  },
  {
   "cell_type": "code",
   "execution_count": 67,
   "id": "448a70cc",
   "metadata": {},
   "outputs": [],
   "source": [
    "logging.info('This is my info log')"
   ]
  },
  {
   "cell_type": "code",
   "execution_count": null,
   "id": "d7cfe31a",
   "metadata": {},
   "outputs": [],
   "source": []
  }
 ],
 "metadata": {
  "kernelspec": {
   "display_name": "Python 3 (ipykernel)",
   "language": "python",
   "name": "python3"
  },
  "language_info": {
   "codemirror_mode": {
    "name": "ipython",
    "version": 3
   },
   "file_extension": ".py",
   "mimetype": "text/x-python",
   "name": "python",
   "nbconvert_exporter": "python",
   "pygments_lexer": "ipython3",
   "version": "3.10.9"
  }
 },
 "nbformat": 4,
 "nbformat_minor": 5
}
